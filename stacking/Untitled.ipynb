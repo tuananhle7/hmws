{
 "cells": [
  {
   "cell_type": "code",
   "execution_count": 395,
   "metadata": {},
   "outputs": [],
   "source": [
    "import torch\n",
    "import pyro\n",
    "import matplotlib.pyplot as plt\n",
    "import util\n",
    "\n",
    "device = \"cuda\" if torch.cuda.is_available() else \"cpu\""
   ]
  },
  {
   "cell_type": "markdown",
   "metadata": {},
   "source": [
    "# Generative model with true primitives"
   ]
  },
  {
   "cell_type": "markdown",
   "metadata": {},
   "source": [
    "## Primitives "
   ]
  },
  {
   "cell_type": "code",
   "execution_count": 294,
   "metadata": {},
   "outputs": [],
   "source": [
    "class Square:\n",
    "    def __init__(self, name, color, size):\n",
    "        self.name = name\n",
    "        self.color = color\n",
    "        self.size = size\n",
    "    \n",
    "    def __repr__(self):\n",
    "        return f\"{self.name}(color={self.color.tolist()}, size={self.size.item():.1f})\""
   ]
  },
  {
   "cell_type": "code",
   "execution_count": 295,
   "metadata": {},
   "outputs": [],
   "source": [
    "# primitives = [\n",
    "#     Square(\"A\", torch.tensor([1.0, 0.0, 0.0], device=device), torch.tensor(0.1, device=device)),\n",
    "#     Square(\"B\", torch.tensor([0.0, 1.0, 0.0], device=device), torch.tensor(0.2, device=device)),\n",
    "#     Square(\"C\", torch.tensor([0.0, 0.0, 1.0], device=device), torch.tensor(0.3, device=device))\n",
    "# ]\n",
    "# num_primitives = len(primitives)"
   ]
  },
  {
   "cell_type": "markdown",
   "metadata": {},
   "source": [
    "## Sample the stacking program"
   ]
  },
  {
   "cell_type": "code",
   "execution_count": 4,
   "metadata": {},
   "outputs": [],
   "source": [
    "def sample_stacking_program(num_primitives, device):\n",
    "    # Init\n",
    "    stacking_program = []\n",
    "    num_sampled_primitives = 0\n",
    "\n",
    "    # Sample first primitive\n",
    "    primitive_id_logits = torch.ones((num_primitives,), device=device)\n",
    "    primitive_id = pyro.sample(f\"primitive_id_{num_sampled_primitives}\",\n",
    "                               pyro.distributions.Categorical(logits=primitive_id_logits))\n",
    "    num_sampled_primitives += 1\n",
    "    stacking_program.append([primitive_id])\n",
    "\n",
    "    # Sample the rest\n",
    "    end_program = False\n",
    "    while not end_program:\n",
    "        # Sample an action for the next primitive\n",
    "        # Action 0:     put to the left of existing stack\n",
    "        # Action 1:     put on existing stack 1\n",
    "        # ...\n",
    "        # Action N:     put on existing stack N\n",
    "        # Action N + 1: put to the right of existing stack\n",
    "        # Action N + 2: end program\n",
    "        num_actions = len(stacking_program) + 3\n",
    "        action_id_logits = torch.ones((num_actions,), device=device)\n",
    "        action_id = pyro.sample(f\"action_id_{num_sampled_primitives}\",\n",
    "                                pyro.distributions.Categorical(logits=action_id_logits))\n",
    "\n",
    "        if action_id == len(stacking_program) + 2:\n",
    "            # End program\n",
    "            end_program = True\n",
    "            break\n",
    "        else:\n",
    "            # Sample primitive\n",
    "            primitive_id_logits = torch.ones((num_primitives,), device=device)\n",
    "            primitive_id = pyro.sample(f\"primitive_id_{num_sampled_primitives}\",\n",
    "                                       pyro.distributions.Categorical(logits=primitive_id_logits))\n",
    "            num_sampled_primitives += 1\n",
    "\n",
    "            # Add to the stacking program based on previous action\n",
    "            if action_id == 0:\n",
    "                stacking_program.insert(0, [primitive_id])\n",
    "            elif action_id == len(stacking_program) + 1:\n",
    "                stacking_program.append([primitive_id])\n",
    "            else:\n",
    "                stacking_program[action_id - 1].append(primitive_id)\n",
    "\n",
    "    return stacking_program\n",
    "\n",
    "\n",
    "def stacking_program_to_str(stacking_program, primitives):\n",
    "    primitive_stacks = []\n",
    "    for stack in stacking_program:\n",
    "        primitive_stack = []\n",
    "        for primitive_id in stack:\n",
    "            primitive_stack.append(primitives[primitive_id].name)\n",
    "        primitive_stacks.append(primitive_stack)\n",
    "    return primitive_stacks"
   ]
  },
  {
   "cell_type": "code",
   "execution_count": 5,
   "metadata": {},
   "outputs": [],
   "source": [
    "# stacking_program = sample_stacking_program(num_primitives, device)\n",
    "# stacking_program"
   ]
  },
  {
   "cell_type": "markdown",
   "metadata": {},
   "source": [
    "## Sample continuous locations"
   ]
  },
  {
   "cell_type": "code",
   "execution_count": 6,
   "metadata": {},
   "outputs": [],
   "source": [
    "def sample_raw_locations(stacking_program):\n",
    "    uniform_dist = pyro.distributions.Uniform(0, 1)\n",
    "    raw_locations = []\n",
    "    for stack_id, stack in enumerate(stacking_program):\n",
    "        primitive_raw_locations = []\n",
    "        for primitive_id, primitive in enumerate(stack):\n",
    "            primitive_raw_locations.append(pyro.sample(f\"stack_{stack_id}_primitive_{primitive_id}_raw_loc\",\n",
    "                                                       uniform_dist))\n",
    "        raw_locations.append(primitive_raw_locations)\n",
    "    return raw_locations"
   ]
  },
  {
   "cell_type": "code",
   "execution_count": 7,
   "metadata": {},
   "outputs": [],
   "source": [
    "# raw_locations = sample_raw_locations(stacking_program)\n",
    "# raw_locations"
   ]
  },
  {
   "cell_type": "markdown",
   "metadata": {},
   "source": [
    "## Render stacks"
   ]
  },
  {
   "cell_type": "markdown",
   "metadata": {},
   "source": [
    "### Convert from raw locations to actual locations"
   ]
  },
  {
   "cell_type": "code",
   "execution_count": 8,
   "metadata": {},
   "outputs": [],
   "source": [
    "def convert_raw_locations(raw_locations, stacking_program, primitives):\n",
    "    # Extract stack widths\n",
    "    stack_widths = []\n",
    "    for stack_id, stack in enumerate(stacking_program):\n",
    "        bottom_primitive_id = stack[0]\n",
    "        bottom_primitive = primitives[bottom_primitive_id]\n",
    "        stack_widths.append(bottom_primitive.size)\n",
    "\n",
    "    # Compute right limits\n",
    "    right_limits = [1.0]\n",
    "    for stack_width in reversed(stack_widths[1:]):\n",
    "        right_limits.insert(0, right_limits[0] - stack_width)\n",
    "\n",
    "    # Check whether limits are ok\n",
    "    if stack_widths[0] > right_limits[0]:\n",
    "        print(\"error\")\n",
    "    else:\n",
    "        print(\"ok\")\n",
    "\n",
    "    # Compute bottom locations\n",
    "    y = torch.tensor(-1., device=device)\n",
    "    current_x = -1.0\n",
    "    locations = []\n",
    "    for stack_id, (stack, primitive_raw_locations, right_limit) in enumerate(\n",
    "        zip(stacking_program, raw_locations, right_limits)\n",
    "    ):\n",
    "        # Bottom primitive\n",
    "        bottom_primitive_id = stack[0]\n",
    "        bottom_primitive = primitives[bottom_primitive_id]\n",
    "        bottom_primitive_raw_location = primitive_raw_locations[0]\n",
    "\n",
    "        min_x = current_x\n",
    "        max_x = right_limit - bottom_primitive.size\n",
    "        x = bottom_primitive_raw_location * (max_x - min_x) + min_x\n",
    "        current_x = x + bottom_primitive.size\n",
    "        locations.append([torch.stack([x, y])])\n",
    "\n",
    "\n",
    "    # Compute the locations of the rest of the primitives\n",
    "    for stack_id, (stack, primitive_raw_locations) in enumerate(zip(stacking_program, raw_locations)):\n",
    "        for primitive_order, primitive_id in enumerate(stack):\n",
    "            if primitive_order != 0:\n",
    "                size_bottom = primitives[stack[primitive_order - 1]].size\n",
    "                size = primitives[primitive_id].size\n",
    "                primitive_raw_location = primitive_raw_locations[primitive_order]\n",
    "                x_bottom, y_bottom = locations[stack_id][-1]\n",
    "                y = y_bottom + size_bottom\n",
    "                min_x = x_bottom\n",
    "                max_x = x_bottom + size_bottom / 2\n",
    "                x = primitive_raw_location * (max_x - min_x) + min_x\n",
    "                locations[stack_id].append(torch.stack([x, y]))\n",
    "\n",
    "    return locations"
   ]
  },
  {
   "cell_type": "code",
   "execution_count": 9,
   "metadata": {},
   "outputs": [],
   "source": [
    "# locations = convert_raw_locations(raw_locations, stacking_program, primitives)"
   ]
  },
  {
   "cell_type": "markdown",
   "metadata": {},
   "source": [
    "### Render primitives"
   ]
  },
  {
   "cell_type": "code",
   "execution_count": 10,
   "metadata": {},
   "outputs": [],
   "source": [
    "def get_canvas_xy(num_rows, num_cols, device):\n",
    "    \"\"\"Create xy points on the canvas\n",
    "\n",
    "    Args\n",
    "        num_rows (int)\n",
    "        num_cols (int)\n",
    "\n",
    "    Returns\n",
    "        canvas_x [num_rows, num_cols]\n",
    "        canvas_y [num_rows, num_cols]\n",
    "    \"\"\"\n",
    "\n",
    "    x_range = torch.linspace(-1, 1, steps=num_cols, device=device)\n",
    "    y_range = torch.linspace(-1, 1, steps=num_rows, device=device).flip(dims=[0])\n",
    "    # [num_cols, num_rows]\n",
    "    canvas_x, canvas_y = torch.meshgrid(x_range, y_range)\n",
    "    # [num_rows, num_cols]\n",
    "    canvas_x, canvas_y = canvas_x.T, canvas_y.T\n",
    "\n",
    "    return canvas_x, canvas_y\n",
    "\n",
    "\n",
    "def render_square(square, location, canvas):\n",
    "    \"\"\"Draws a square on a canvas whose xy limits are [-1, 1].\n",
    "\n",
    "    Args\n",
    "        square\n",
    "        location [2]\n",
    "        canvas [num_channels, num_rows, num_cols]\n",
    "\n",
    "    Returns\n",
    "        new_canvas [num_channels, num_rows, num_cols]\n",
    "    \"\"\"\n",
    "    # Extract\n",
    "    # []\n",
    "    min_x, min_y = location\n",
    "    max_x = min_x + square.size\n",
    "    max_y = min_y + square.size\n",
    "    num_rows, num_cols = canvas.shape[-2:]\n",
    "    device = location.device\n",
    "\n",
    "    # Canvas xy\n",
    "    # [num_rows, num_cols]\n",
    "    canvas_x, canvas_y = get_canvas_xy(num_rows, num_cols, device)\n",
    "\n",
    "    # Draw on canvas\n",
    "    new_canvas = canvas.clone()\n",
    "    for channel_id in range(num_channels):\n",
    "        new_canvas[\n",
    "            channel_id,\n",
    "            (canvas_x >= min_x) & (canvas_x <= max_x) & (canvas_y >= min_y) & (canvas_y <= max_y)\n",
    "        ] -= (1 - square.color[channel_id])\n",
    "    new_canvas = new_canvas.clamp(0, 1)\n",
    "\n",
    "    return new_canvas\n",
    "\n",
    "\n",
    "def init_canvas(device, num_channels=3, num_rows=256, num_cols=256):\n",
    "     return torch.ones((num_channels, num_rows, num_cols), device=device)\n",
    "\n",
    "\n",
    "def render(primitives, stacking_program, raw_locations, num_channels=3, num_rows=256, num_cols=256):\n",
    "    # Convert\n",
    "    locations = convert_raw_locations(raw_locations, stacking_program, primitives)\n",
    "\n",
    "    # Render\n",
    "    canvas = init_canvas(device, num_channels, num_rows, num_cols)\n",
    "    for stack_id, stack in enumerate(stacking_program):\n",
    "        for primitive_order, primitive_id in enumerate(stack):\n",
    "            primitive = primitives[primitive_id]\n",
    "            location = locations[stack_id][primitive_order]\n",
    "            canvas = render_square(primitive, location, canvas)\n",
    "\n",
    "    return canvas"
   ]
  },
  {
   "cell_type": "code",
   "execution_count": 11,
   "metadata": {},
   "outputs": [],
   "source": [
    "# num_channels, num_rows, num_cols = 3, 256, 256\n",
    "# canvas = torch.ones((num_channels, num_rows, num_cols), device=device)\n",
    "\n",
    "# for stack_id, stack in enumerate(stacking_program):\n",
    "#     for primitive_order, primitive_id in enumerate(stack):\n",
    "#         primitive = primitives[primitive_id]\n",
    "#         location = locations[stack_id][primitive_order]\n",
    "#         canvas = render_square(primitive, location, canvas)\n",
    "\n",
    "# plt.imshow(canvas.cpu().permute(1, 2, 0))"
   ]
  },
  {
   "cell_type": "markdown",
   "metadata": {},
   "source": [
    "## All in one"
   ]
  },
  {
   "cell_type": "code",
   "execution_count": 12,
   "metadata": {},
   "outputs": [
    {
     "name": "stdout",
     "output_type": "stream",
     "text": [
      "ok\n"
     ]
    },
    {
     "data": {
      "text/plain": [
       "[['C']]"
      ]
     },
     "execution_count": 12,
     "metadata": {},
     "output_type": "execute_result"
    },
    {
     "data": {
      "image/png": "[encoded data removed]",
      "text/plain": [
       "<Figure size 432x288 with 1 Axes>"
      ]
     },
     "metadata": {
      "needs_background": "light"
     },
     "output_type": "display_data"
    }
   ],
   "source": [
    "# Define params\n",
    "primitives = [\n",
    "    Square(\"A\", torch.tensor([1.0, 0.0, 0.0], device=device), torch.tensor(0.1, device=device)),\n",
    "    Square(\"B\", torch.tensor([0.0, 1.0, 0.0], device=device), torch.tensor(0.2, device=device)),\n",
    "    Square(\"C\", torch.tensor([0.0, 0.0, 1.0], device=device), torch.tensor(0.3, device=device))\n",
    "]\n",
    "num_primitives = len(primitives)\n",
    "num_channels, num_rows, num_cols = 3, 256, 256\n",
    "\n",
    "# Sample\n",
    "stacking_program = sample_stacking_program(num_primitives, device)\n",
    "raw_locations = sample_raw_locations(stacking_program)\n",
    "\n",
    "# Render\n",
    "img = render(primitives, stacking_program, raw_locations)\n",
    "\n",
    "# Plot\n",
    "plt.imshow(img.cpu().permute(1, 2, 0))\n",
    "stacking_program_to_str(stacking_program, primitives)"
   ]
  },
  {
   "cell_type": "markdown",
   "metadata": {},
   "source": [
    "# Learneable square"
   ]
  },
  {
   "cell_type": "code",
   "execution_count": 13,
   "metadata": {},
   "outputs": [],
   "source": [
    "import torch.nn as nn"
   ]
  },
  {
   "cell_type": "code",
   "execution_count": 198,
   "metadata": {},
   "outputs": [],
   "source": [
    "class LearnableSquare(nn.Module):\n",
    "    def __init__(self, name):\n",
    "        super().__init__()\n",
    "        self.name = name\n",
    "        self.raw_color = nn.Parameter(torch.randn((3,)))\n",
    "        self.raw_size = nn.Parameter(torch.randn(()))\n",
    "    \n",
    "    @property\n",
    "    def device(self):\n",
    "        return self.raw_size.device\n",
    "\n",
    "    @property\n",
    "    def size(self):\n",
    "        min_size = 0.01\n",
    "        max_size = 1.0\n",
    "        return self.raw_size.sigmoid() * (max_size - min_size) + min_size\n",
    "    \n",
    "    @property\n",
    "    def color(self):\n",
    "        return self.raw_color.sigmoid()\n",
    "    \n",
    "    def __repr__(self):\n",
    "        return f\"{self.name}(color={self.color.tolist()}, size={self.size.item():.1f})\""
   ]
  },
  {
   "cell_type": "markdown",
   "metadata": {},
   "source": [
    "## Make an actual square we want to fit"
   ]
  },
  {
   "cell_type": "code",
   "execution_count": 199,
   "metadata": {},
   "outputs": [
    {
     "data": {
      "text/plain": [
       "<matplotlib.image.AxesImage at 0x2b7f657b4b10>"
      ]
     },
     "execution_count": 199,
     "metadata": {},
     "output_type": "execute_result"
    },
    {
     "data": {
      "image/png": "[encoded data removed]",
      "text/plain": [
       "<Figure size 432x288 with 1 Axes>"
      ]
     },
     "metadata": {
      "needs_background": "light"
     },
     "output_type": "display_data"
    }
   ],
   "source": [
    "true_square = Square(\"A\", torch.tensor([0.9, 0.2, 0.3], device=device), torch.tensor(0.3, device=device))\n",
    "true_location = torch.tensor([0.5, 0.5], device=device)\n",
    "img = render_square(true_square, true_location, init_canvas(device))\n",
    "plt.imshow(img.cpu().permute(1, 2, 0))"
   ]
  },
  {
   "cell_type": "markdown",
   "metadata": {},
   "source": [
    "## Soft rasterizer"
   ]
  },
  {
   "cell_type": "code",
   "execution_count": 266,
   "metadata": {},
   "outputs": [],
   "source": [
    "import torch.nn.functional as F\n",
    "\n",
    "\n",
    "def get_min_edge_distance(square, location, point):\n",
    "    \"\"\"Computes shortest distance from a point to the square edge.\n",
    "    Negative if it's inside the square.\n",
    "    Positive if it's outside the square.\n",
    "    \n",
    "    Args\n",
    "        square\n",
    "        location [2]\n",
    "        point [*shape, 2]\n",
    "    \n",
    "    Returns [*shape]\n",
    "    \"\"\"\n",
    "    # Extract\n",
    "    device = location.device\n",
    "    # []\n",
    "    min_x, min_y = location\n",
    "    max_x = min_x + square.size\n",
    "    max_y = min_y + square.size\n",
    "    shape = point.shape[:-1]\n",
    "    # [*shape]\n",
    "    x, y = point[..., 0], point[..., 1]\n",
    "    \n",
    "    # Determine which area the point is in\n",
    "    # [*shape]\n",
    "    # --High level areas\n",
    "    up = (y >= max_y)\n",
    "    middle = (y >= min_y) & (y < max_y)\n",
    "    bottom = (y < min_y)\n",
    "    left = (x < min_x)\n",
    "    center = (x >= min_x) & (x < max_x)\n",
    "    right = (x >= max_x)\n",
    "    \n",
    "    # --Use high level areas to define smaller sectors which we're going to work with\n",
    "    area_1 = left & up\n",
    "    area_2 = center & up\n",
    "    area_3 = right & up\n",
    "    area_4 = left & middle\n",
    "    area_5 = center & middle\n",
    "    area_6 = right & middle\n",
    "    area_7 = left & bottom\n",
    "    area_8 = center & bottom\n",
    "    area_9 = right & bottom\n",
    "\n",
    "    # Compute min distances\n",
    "    # --Init the results\n",
    "    # [*shape]\n",
    "    min_edge_distance = torch.zeros_like(x)\n",
    "\n",
    "    # --Compute distances for points in the corners (areas 1, 3, 7, 9)\n",
    "    min_edge_distance[area_1] = torch.sqrt((x - min_x)**2 + (y - max_y)**2)[area_1]\n",
    "    min_edge_distance[area_3] = torch.sqrt((x - max_x)**2 + (y - max_y)**2)[area_3]\n",
    "    min_edge_distance[area_7] = torch.sqrt((x - min_x)**2 + (y - min_y)**2)[area_7]\n",
    "    min_edge_distance[area_9] = torch.sqrt((x - max_x)**2 + (y - min_y)**2)[area_9]\n",
    "\n",
    "    # --Compute distances for points in the outside strips (areas 2, 4, 6, 8)\n",
    "    min_edge_distance[area_2] = (y - max_y)[area_2]\n",
    "    min_edge_distance[area_4] = (min_x - x)[area_4]\n",
    "    min_edge_distance[area_6] = (x - max_x)[area_6]\n",
    "    min_edge_distance[area_8] = (min_y - y)[area_8]\n",
    "\n",
    "    # --Compute distances for points inside the square\n",
    "    min_edge_distance[area_5] = -torch.min(torch.stack([y - min_y, max_y - y, x - min_x, max_x - x]), dim=0)[0][area_5]\n",
    "    \n",
    "    return min_edge_distance\n",
    "\n",
    "\n",
    "def get_render_log_prob(min_edge_distance, blur=1e-4):\n",
    "    \"\"\"\n",
    "    Returns the (log) probability map used for soft rasterization as specified by\n",
    "    equation (1) of\n",
    "    https://openaccess.thecvf.com/content_ICCV_2019/papers/Liu_Soft_Rasterizer_A_Differentiable_Renderer_for_Image-Based_3D_Reasoning_ICCV_2019_paper.pdf\n",
    "    \n",
    "    Also visualized here https://www.desmos.com/calculator/5z95dy2mny\n",
    "    \n",
    "    Args\n",
    "        min_edge_distance [*shape]\n",
    "        blur [] (default 1e-4): this is the σ in equation (1)\n",
    "    \n",
    "    Returns [*shape]\n",
    "    \"\"\"\n",
    "    return F.logsigmoid(-torch.sign(min_edge_distance) * min_edge_distance**2 / blur)\n",
    "\n",
    "\n",
    "def soft_render_square(square, location, background, background_depth=-1e-3, color_sharpness=1e-4, blur=1e-4):\n",
    "    \"\"\"Draws a square on a canvas whose xy limits are [-1, 1].\n",
    "    \n",
    "    Follows equations (2) and (3) in\n",
    "    https://openaccess.thecvf.com/content_ICCV_2019/papers/Liu_Soft_Rasterizer_A_Differentiable_Renderer_for_Image-Based_3D_Reasoning_ICCV_2019_paper.pdf\n",
    "\n",
    "    Args\n",
    "        square\n",
    "        location [2]\n",
    "        background [num_channels, num_rows, num_cols] -- this is the background color C_b in equation (2)\n",
    "        background_weight [] (default 1.): ϵ in equation (3)\n",
    "        color_sharpness [] (default 1e-4): γ in equation (3)\n",
    "        blur [] (default 1e-4): this is the σ in equation (1)\n",
    "\n",
    "    Returns\n",
    "        new_canvas [num_channels, num_rows, num_cols]\n",
    "    \"\"\"\n",
    "    # Canvas xy\n",
    "    # [num_rows, num_cols]\n",
    "    canvas_x, canvas_y = get_canvas_xy(num_rows, num_cols, device)\n",
    "    canvas_xy = torch.stack([canvas_x, canvas_y], dim=-1)\n",
    "\n",
    "    # Get render log prob\n",
    "    # --Foreground object (treat depth z = -1) [num_rows, num_cols]\n",
    "    depth = 0\n",
    "    square_render_log_prob = (\n",
    "        get_render_log_prob(get_min_edge_distance(square, location, canvas_xy), blur=blur) +\n",
    "        depth / color_sharpness\n",
    "    )\n",
    "    # --Background [num_rows, num_cols]\n",
    "    background_render_log_prob = torch.ones_like(square_render_log_prob) * background_depth / color_sharpness\n",
    "\n",
    "    # Compute color weight (equation (3))\n",
    "    # [num_rows, num_cols]\n",
    "    square_weight, background_weight = F.softmax(\n",
    "        torch.stack([square_render_log_prob, background_render_log_prob]), dim=0\n",
    "    )\n",
    "\n",
    "    return square_weight[None] * square.color[:, None, None] + background_weight[None] * background"
   ]
  },
  {
   "cell_type": "code",
   "execution_count": 282,
   "metadata": {},
   "outputs": [
    {
     "data": {
      "text/plain": [
       "<matplotlib.image.AxesImage at 0x2b7f60cc2310>"
      ]
     },
     "execution_count": 282,
     "metadata": {},
     "output_type": "execute_result"
    },
    {
     "data": {
      "image/png": "[encoded data removed]",
      "text/plain": [
       "<Figure size 432x288 with 1 Axes>"
      ]
     },
     "metadata": {
      "needs_background": "light"
     },
     "output_type": "display_data"
    }
   ],
   "source": [
    "img = soft_render_square(true_square, true_location, init_canvas(device),\n",
    "                         background_depth=-1e-3, color_sharpness=1e-4, blur=1e-4)\n",
    "plt.imshow(img.cpu().permute(1, 2, 0))"
   ]
  },
  {
   "cell_type": "markdown",
   "metadata": {},
   "source": [
    "## Optimize learnable square"
   ]
  },
  {
   "cell_type": "code",
   "execution_count": 275,
   "metadata": {},
   "outputs": [],
   "source": [
    "import itertools"
   ]
  },
  {
   "cell_type": "code",
   "execution_count": 432,
   "metadata": {},
   "outputs": [],
   "source": [
    "def get_location(raw_location):\n",
    "    min_x = -0.8\n",
    "    max_x = 0.8\n",
    "    return raw_location.sigmoid() * (max_x - min_x) + min_x\n",
    "\n",
    "\n",
    "def get_color_sharpness(raw_color_sharpness):\n",
    "    return raw_color_sharpness.exp()\n",
    "\n",
    "\n",
    "def get_blur(raw_blur):\n",
    "    return raw_blur.exp()"
   ]
  },
  {
   "cell_type": "code",
   "execution_count": 286,
   "metadata": {},
   "outputs": [],
   "source": [
    "def get_loss(raw_location, learnable_square, raw_color_sharpness, raw_blur, true_img):\n",
    "    num_channels, num_rows, num_cols = img.shape\n",
    "    loc = soft_render_square(learnable_square, get_location(raw_location), init_canvas(device),\n",
    "                             color_sharpness=get_color_sharpness(raw_color_sharpness),\n",
    "                             blur=get_blur(raw_blur))\n",
    "    return -torch.distributions.Independent(\n",
    "        torch.distributions.Normal(loc, 1.), reinterpreted_batch_ndims=3\n",
    "    ).log_prob(true_img)"
   ]
  },
  {
   "cell_type": "code",
   "execution_count": 287,
   "metadata": {},
   "outputs": [],
   "source": [
    "true_square = Square(\"A\", torch.tensor([0.9, 0.2, 0.3], device=device), torch.tensor(0.3, device=device))\n",
    "true_location = torch.tensor([0.5, 0.5], device=device)\n",
    "true_img = render_square(true_square, true_location, init_canvas(device))"
   ]
  },
  {
   "cell_type": "code",
   "execution_count": 288,
   "metadata": {},
   "outputs": [],
   "source": [
    "def optim_step(optimizer, raw_location, learnable_square, raw_color_sharpness, raw_blur, true_img):\n",
    "    optimizer.zero_grad()\n",
    "    loss = get_loss(raw_location, learnable_square, raw_color_sharpness, raw_blur, true_img)\n",
    "    loss.backward()\n",
    "    optimizer.step()\n",
    "    return loss.item()"
   ]
  },
  {
   "cell_type": "code",
   "execution_count": 289,
   "metadata": {},
   "outputs": [],
   "source": [
    "from tqdm import tqdm"
   ]
  },
  {
   "cell_type": "code",
   "execution_count": 290,
   "metadata": {},
   "outputs": [],
   "source": [
    "def plot_iter(img, img_hard_render, true_img, losses, img_path):\n",
    "    fig, axs = plt.subplots(1, 4, figsize=(4 * 4, 1 * 4))\n",
    "    axs[0].imshow(img.cpu().permute(1, 2, 0).detach().numpy())\n",
    "    axs[0].set_title(\"Soft render\")\n",
    "    axs[1].imshow(img_hard_render.cpu().permute(1, 2, 0).detach().numpy())\n",
    "    axs[1].set_title(\"Hard render\")\n",
    "    axs[2].imshow(true_img.cpu().permute(1, 2, 0).detach().numpy())\n",
    "    axs[2].set_title(\"Target\")\n",
    "    for ax in axs[:-1]:\n",
    "        ax.set_xticks([])\n",
    "        ax.set_yticks([])\n",
    "    axs[3].plot(losses)\n",
    "    axs[3].set_title(\"Loss\")\n",
    "    axs[3].set_xlabel(\"Iteration\")\n",
    "    util.save_fig(fig, img_path)"
   ]
  },
  {
   "cell_type": "code",
   "execution_count": 291,
   "metadata": {
    "scrolled": true
   },
   "outputs": [
    {
     "name": "stderr",
     "output_type": "stream",
     "text": [
      "\r",
      "  0%|          | 0/20000 [00:00<?, ?it/s]"
     ]
    },
    {
     "name": "stdout",
     "output_type": "stream",
     "text": [
      "21:12:09 | /rdma/vast-rdma/vast/tenenbaum/tuananh/git/continuous_mws/stacking/util.py:19 | INFO: Saved to tmp/0.png\n"
     ]
    },
    {
     "name": "stderr",
     "output_type": "stream",
     "text": [
      "  5%|▍         | 995/20000 [00:09<02:46, 113.95it/s]"
     ]
    },
    {
     "name": "stdout",
     "output_type": "stream",
     "text": [
      "21:12:18 | /rdma/vast-rdma/vast/tenenbaum/tuananh/git/continuous_mws/stacking/util.py:19 | INFO: Saved to tmp/1000.png\n"
     ]
    },
    {
     "name": "stderr",
     "output_type": "stream",
     "text": [
      " 10%|▉         | 1999/20000 [00:17<02:24, 124.15it/s]"
     ]
    },
    {
     "name": "stdout",
     "output_type": "stream",
     "text": [
      "21:12:27 | /rdma/vast-rdma/vast/tenenbaum/tuananh/git/continuous_mws/stacking/util.py:19 | INFO: Saved to tmp/2000.png\n"
     ]
    },
    {
     "name": "stderr",
     "output_type": "stream",
     "text": [
      " 15%|█▍        | 2997/20000 [00:25<02:06, 134.35it/s]"
     ]
    },
    {
     "name": "stdout",
     "output_type": "stream",
     "text": [
      "21:12:35 | /rdma/vast-rdma/vast/tenenbaum/tuananh/git/continuous_mws/stacking/util.py:19 | INFO: Saved to tmp/3000.png\n"
     ]
    },
    {
     "name": "stderr",
     "output_type": "stream",
     "text": [
      " 20%|█▉        | 3988/20000 [00:32<01:54, 140.13it/s]"
     ]
    },
    {
     "name": "stdout",
     "output_type": "stream",
     "text": [
      "21:12:42 | /rdma/vast-rdma/vast/tenenbaum/tuananh/git/continuous_mws/stacking/util.py:19 | INFO: Saved to tmp/4000.png\n"
     ]
    },
    {
     "name": "stderr",
     "output_type": "stream",
     "text": [
      " 25%|██▍       | 4988/20000 [00:40<01:47, 139.97it/s]"
     ]
    },
    {
     "name": "stdout",
     "output_type": "stream",
     "text": [
      "21:12:50 | /rdma/vast-rdma/vast/tenenbaum/tuananh/git/continuous_mws/stacking/util.py:19 | INFO: Saved to tmp/5000.png\n"
     ]
    },
    {
     "name": "stderr",
     "output_type": "stream",
     "text": [
      " 30%|██▉       | 5998/20000 [00:48<01:46, 131.39it/s]"
     ]
    },
    {
     "name": "stdout",
     "output_type": "stream",
     "text": [
      "21:12:58 | /rdma/vast-rdma/vast/tenenbaum/tuananh/git/continuous_mws/stacking/util.py:19 | INFO: Saved to tmp/6000.png\n"
     ]
    },
    {
     "name": "stderr",
     "output_type": "stream",
     "text": [
      " 35%|███▍      | 6988/20000 [00:57<01:49, 119.19it/s]"
     ]
    },
    {
     "name": "stdout",
     "output_type": "stream",
     "text": [
      "21:13:07 | /rdma/vast-rdma/vast/tenenbaum/tuananh/git/continuous_mws/stacking/util.py:19 | INFO: Saved to tmp/7000.png\n"
     ]
    },
    {
     "name": "stderr",
     "output_type": "stream",
     "text": [
      " 40%|███▉      | 7992/20000 [01:06<01:43, 115.86it/s]"
     ]
    },
    {
     "name": "stdout",
     "output_type": "stream",
     "text": [
      "21:13:16 | /rdma/vast-rdma/vast/tenenbaum/tuananh/git/continuous_mws/stacking/util.py:19 | INFO: Saved to tmp/8000.png\n"
     ]
    },
    {
     "name": "stderr",
     "output_type": "stream",
     "text": [
      " 45%|████▍     | 8993/20000 [01:15<01:35, 114.83it/s]"
     ]
    },
    {
     "name": "stdout",
     "output_type": "stream",
     "text": [
      "21:13:24 | /rdma/vast-rdma/vast/tenenbaum/tuananh/git/continuous_mws/stacking/util.py:19 | INFO: Saved to tmp/9000.png\n"
     ]
    },
    {
     "name": "stderr",
     "output_type": "stream",
     "text": [
      " 50%|████▉     | 9996/20000 [01:24<01:27, 114.23it/s]"
     ]
    },
    {
     "name": "stdout",
     "output_type": "stream",
     "text": [
      "21:13:33 | /rdma/vast-rdma/vast/tenenbaum/tuananh/git/continuous_mws/stacking/util.py:19 | INFO: Saved to tmp/10000.png\n"
     ]
    },
    {
     "name": "stderr",
     "output_type": "stream",
     "text": [
      " 55%|█████▍    | 10988/20000 [01:32<01:14, 120.65it/s]"
     ]
    },
    {
     "name": "stdout",
     "output_type": "stream",
     "text": [
      "21:13:42 | /rdma/vast-rdma/vast/tenenbaum/tuananh/git/continuous_mws/stacking/util.py:19 | INFO: Saved to tmp/11000.png\n"
     ]
    },
    {
     "name": "stderr",
     "output_type": "stream",
     "text": [
      " 60%|█████▉    | 11999/20000 [01:41<01:08, 116.99it/s]"
     ]
    },
    {
     "name": "stdout",
     "output_type": "stream",
     "text": [
      "21:13:51 | /rdma/vast-rdma/vast/tenenbaum/tuananh/git/continuous_mws/stacking/util.py:19 | INFO: Saved to tmp/12000.png\n"
     ]
    },
    {
     "name": "stderr",
     "output_type": "stream",
     "text": [
      " 65%|██████▍   | 12993/20000 [01:50<00:59, 117.03it/s]"
     ]
    },
    {
     "name": "stdout",
     "output_type": "stream",
     "text": [
      "21:14:00 | /rdma/vast-rdma/vast/tenenbaum/tuananh/git/continuous_mws/stacking/util.py:19 | INFO: Saved to tmp/13000.png\n"
     ]
    },
    {
     "name": "stderr",
     "output_type": "stream",
     "text": [
      " 70%|██████▉   | 13993/20000 [01:59<00:52, 115.16it/s]"
     ]
    },
    {
     "name": "stdout",
     "output_type": "stream",
     "text": [
      "21:14:09 | /rdma/vast-rdma/vast/tenenbaum/tuananh/git/continuous_mws/stacking/util.py:19 | INFO: Saved to tmp/14000.png\n"
     ]
    },
    {
     "name": "stderr",
     "output_type": "stream",
     "text": [
      " 75%|███████▌  | 15000/20000 [02:08<00:41, 120.73it/s]"
     ]
    },
    {
     "name": "stdout",
     "output_type": "stream",
     "text": [
      "21:14:18 | /rdma/vast-rdma/vast/tenenbaum/tuananh/git/continuous_mws/stacking/util.py:19 | INFO: Saved to tmp/15000.png\n"
     ]
    },
    {
     "name": "stderr",
     "output_type": "stream",
     "text": [
      " 80%|███████▉  | 15990/20000 [02:16<00:35, 114.54it/s]"
     ]
    },
    {
     "name": "stdout",
     "output_type": "stream",
     "text": [
      "21:14:26 | /rdma/vast-rdma/vast/tenenbaum/tuananh/git/continuous_mws/stacking/util.py:19 | INFO: Saved to tmp/16000.png\n"
     ]
    },
    {
     "name": "stderr",
     "output_type": "stream",
     "text": [
      " 85%|████████▍ | 16990/20000 [02:25<00:25, 118.14it/s]"
     ]
    },
    {
     "name": "stdout",
     "output_type": "stream",
     "text": [
      "21:14:35 | /rdma/vast-rdma/vast/tenenbaum/tuananh/git/continuous_mws/stacking/util.py:19 | INFO: Saved to tmp/17000.png\n"
     ]
    },
    {
     "name": "stderr",
     "output_type": "stream",
     "text": [
      " 90%|████████▉ | 17990/20000 [02:34<00:17, 115.94it/s]"
     ]
    },
    {
     "name": "stdout",
     "output_type": "stream",
     "text": [
      "21:14:44 | /rdma/vast-rdma/vast/tenenbaum/tuananh/git/continuous_mws/stacking/util.py:19 | INFO: Saved to tmp/18000.png\n"
     ]
    },
    {
     "name": "stderr",
     "output_type": "stream",
     "text": [
      " 95%|█████████▍| 18987/20000 [02:42<00:06, 161.98it/s]"
     ]
    },
    {
     "name": "stdout",
     "output_type": "stream",
     "text": [
      "21:14:51 | /rdma/vast-rdma/vast/tenenbaum/tuananh/git/continuous_mws/stacking/util.py:19 | INFO: Saved to tmp/19000.png\n"
     ]
    },
    {
     "name": "stderr",
     "output_type": "stream",
     "text": [
      "100%|██████████| 20000/20000 [02:48<00:00, 118.44it/s]\n"
     ]
    }
   ],
   "source": [
    "# Init\n",
    "learnable_square = LearnableSquare(\"A\").to(device)\n",
    "raw_color_sharpness = nn.Parameter(torch.randn((), device=device))\n",
    "raw_blur = nn.Parameter(torch.randn((), device=device))\n",
    "raw_location = nn.Parameter(torch.randn((2,), device=device))\n",
    "\n",
    "optimizer = torch.optim.Adam(itertools.chain(\n",
    "    learnable_square.parameters(),\n",
    "    [raw_blur, raw_color_sharpness, raw_location]\n",
    "))\n",
    "\n",
    "# Optim\n",
    "num_iterations = 20000\n",
    "losses = []\n",
    "img_paths = []\n",
    "for iteration in tqdm(range(num_iterations)):\n",
    "    losses.append(\n",
    "        optim_step(optimizer, raw_location, learnable_square, raw_color_sharpness, raw_blur, true_img)\n",
    "    )\n",
    "    if iteration % 1000 == 0:\n",
    "        img = soft_render_square(learnable_square, get_location(raw_location), init_canvas(device),\n",
    "                                 color_sharpness=get_color_sharpness(raw_color_sharpness),\n",
    "                                 blur=get_blur(raw_blur))\n",
    "        img_hard_render = render_square(learnable_square, get_location(raw_location), init_canvas(device))\n",
    "        \n",
    "        # Plot\n",
    "        img_paths.append(f\"tmp/{iteration}.png\")\n",
    "        plot_iter(img, img_hard_render, true_img, losses, img_paths[-1])"
   ]
  },
  {
   "cell_type": "code",
   "execution_count": null,
   "metadata": {},
   "outputs": [],
   "source": [
    "util.make_gif(img_paths, \"training.gif\", fps=3)"
   ]
  },
  {
   "cell_type": "markdown",
   "metadata": {},
   "source": [
    "# Simpler true generative model"
   ]
  },
  {
   "cell_type": "markdown",
   "metadata": {},
   "source": [
    "## Stacking program"
   ]
  },
  {
   "cell_type": "code",
   "execution_count": 579,
   "metadata": {},
   "outputs": [],
   "source": [
    "def sample_stacking_program(num_primitives, device):\n",
    "    # Init\n",
    "    stacking_program = []\n",
    "    num_sampled_primitives = 0\n",
    "\n",
    "    # Sample first primitive\n",
    "    primitive_id_logits = torch.ones((num_primitives,), device=device)\n",
    "    primitive_id = pyro.sample(f\"primitive_id_{num_sampled_primitives}\",\n",
    "                               pyro.distributions.Categorical(logits=primitive_id_logits))\n",
    "    num_sampled_primitives += 1\n",
    "    stacking_program.append(primitive_id)\n",
    "\n",
    "    # Sample the rest\n",
    "    end_program = False\n",
    "    while not end_program:\n",
    "        # Sample an action for the next primitive\n",
    "        # Action 0: put to the left of existing stack\n",
    "        # Action 1: end program\n",
    "        num_actions = 2\n",
    "        action_id_logits = torch.ones((num_actions,), device=device)\n",
    "        action_id = pyro.sample(f\"action_id_{num_sampled_primitives}\",\n",
    "                                pyro.distributions.Categorical(logits=action_id_logits))\n",
    "\n",
    "        if action_id == 1:\n",
    "            # End program\n",
    "            end_program = True\n",
    "            break\n",
    "        else:\n",
    "            # Sample primitive\n",
    "            primitive_id_logits = torch.ones((num_primitives,), device=device)\n",
    "            primitive_id = pyro.sample(f\"primitive_id_{num_sampled_primitives}\",\n",
    "                                       pyro.distributions.Categorical(logits=primitive_id_logits))\n",
    "            num_sampled_primitives += 1\n",
    "\n",
    "            # Add to the stacking program based on previous action\n",
    "            stacking_program.append(primitive_id)\n",
    "\n",
    "    return stacking_program\n",
    "\n",
    "\n",
    "def stacking_program_to_str(stacking_program, primitives):\n",
    "    return [primitives[primitive_id].name for primitive_id in stacking_program]"
   ]
  },
  {
   "cell_type": "code",
   "execution_count": 580,
   "metadata": {},
   "outputs": [
    {
     "data": {
      "text/plain": [
       "[tensor(2, device='cuda:0'), tensor(1, device='cuda:0')]"
      ]
     },
     "execution_count": 580,
     "metadata": {},
     "output_type": "execute_result"
    }
   ],
   "source": [
    "stacking_program = sample_stacking_program(num_primitives, device)\n",
    "stacking_program"
   ]
  },
  {
   "cell_type": "markdown",
   "metadata": {},
   "source": [
    "## Raw positions"
   ]
  },
  {
   "cell_type": "code",
   "execution_count": 581,
   "metadata": {},
   "outputs": [],
   "source": [
    "def sample_raw_locations(stacking_program):\n",
    "    device = stacking_program[0].device\n",
    "    dist = pyro.distributions.Normal(torch.tensor(0., device=device), 1)\n",
    "    raw_locations = []\n",
    "    for primitive_id, stack in enumerate(stacking_program):\n",
    "        raw_locations.append(pyro.sample(f\"primitive_{primitive_id}_raw_loc\",\n",
    "                                         dist))\n",
    "    return raw_locations"
   ]
  },
  {
   "cell_type": "code",
   "execution_count": 582,
   "metadata": {},
   "outputs": [
    {
     "data": {
      "text/plain": [
       "[tensor(-1.7956, device='cuda:0'), tensor(-0.3397, device='cuda:0')]"
      ]
     },
     "execution_count": 582,
     "metadata": {},
     "output_type": "execute_result"
    }
   ],
   "source": [
    "raw_locations = sample_raw_locations(stacking_program)\n",
    "raw_locations"
   ]
  },
  {
   "cell_type": "markdown",
   "metadata": {},
   "source": [
    "## Render"
   ]
  },
  {
   "cell_type": "code",
   "execution_count": 612,
   "metadata": {},
   "outputs": [],
   "source": [
    "def convert_raw_locations(raw_locations, stacking_program, primitives):\n",
    "    # Sample the bottom\n",
    "    y = torch.tensor(-1., device=device)\n",
    "    min_x = -0.8\n",
    "    max_x = 0.8\n",
    "    locations = []\n",
    "    for primitive_id, raw_location in zip(stacking_program, raw_locations):\n",
    "        size = primitives[primitive_id].size\n",
    "        \n",
    "        min_x = min_x - size\n",
    "        x = raw_location.sigmoid() * (max_x - min_x) + min_x\n",
    "        locations.append(torch.stack([x, y]))\n",
    "        \n",
    "        y = y + size\n",
    "        min_x = x\n",
    "        max_x = min_x + size\n",
    "    return locations"
   ]
  },
  {
   "cell_type": "code",
   "execution_count": 613,
   "metadata": {},
   "outputs": [
    {
     "data": {
      "text/plain": [
       "[tensor([-0.2438, -1.0000], device='cuda:0'),\n",
       " tensor([-0.3414, -0.8000], device='cuda:0'),\n",
       " tensor([-0.3864, -0.6000], device='cuda:0')]"
      ]
     },
     "execution_count": 613,
     "metadata": {},
     "output_type": "execute_result"
    }
   ],
   "source": [
    "locations = convert_raw_locations(raw_locations, stacking_program, primitives)\n",
    "locations"
   ]
  },
  {
   "cell_type": "code",
   "execution_count": 614,
   "metadata": {},
   "outputs": [],
   "source": [
    "def render(primitives, stacking_program, raw_locations, num_channels=3, num_rows=256, num_cols=256):\n",
    "    # Convert\n",
    "    locations = convert_raw_locations(raw_locations, stacking_program, primitives)\n",
    "\n",
    "    # Render\n",
    "    canvas = init_canvas(device, num_channels, num_rows, num_cols)\n",
    "    for primitive_id, location in zip(stacking_program, locations):\n",
    "        primitive = primitives[primitive_id]\n",
    "        canvas = render_square(primitive, location, canvas)\n",
    "\n",
    "    return canvas"
   ]
  },
  {
   "cell_type": "code",
   "execution_count": 615,
   "metadata": {},
   "outputs": [
    {
     "data": {
      "text/plain": [
       "<matplotlib.image.AxesImage at 0x2b7f56ca6cd0>"
      ]
     },
     "execution_count": 615,
     "metadata": {},
     "output_type": "execute_result"
    },
    {
     "data": {
      "image/png": "[encoded data removed]",
      "text/plain": [
       "<Figure size 432x288 with 1 Axes>"
      ]
     },
     "metadata": {
      "needs_background": "light"
     },
     "output_type": "display_data"
    }
   ],
   "source": [
    "img = render(primitives, stacking_program, raw_locations)\n",
    "plt.imshow(img.cpu().permute(1, 2, 0))"
   ]
  },
  {
   "cell_type": "code",
   "execution_count": 587,
   "metadata": {},
   "outputs": [],
   "source": [
    "def soft_render(primitives, stacking_program, raw_locations,\n",
    "                raw_color_sharpness, raw_blur,\n",
    "                num_channels=3, num_rows=256, num_cols=256):\n",
    "    # Convert\n",
    "    locations = convert_raw_locations(raw_locations, stacking_program, primitives)\n",
    "\n",
    "    # Render\n",
    "    canvas = init_canvas(device, num_channels, num_rows, num_cols)\n",
    "    for primitive_id, location in zip(stacking_program, locations):\n",
    "        primitive = primitives[primitive_id]\n",
    "        canvas = soft_render_square(primitive, location, canvas,\n",
    "                                    color_sharpness=get_color_sharpness(raw_color_sharpness),\n",
    "                                    blur=get_blur(raw_blur))\n",
    "\n",
    "    return canvas"
   ]
  },
  {
   "cell_type": "code",
   "execution_count": 588,
   "metadata": {},
   "outputs": [
    {
     "data": {
      "text/plain": [
       "<matplotlib.image.AxesImage at 0x2b7f66307110>"
      ]
     },
     "execution_count": 588,
     "metadata": {},
     "output_type": "execute_result"
    },
    {
     "data": {
      "image/png": "[encoded data removed]",
      "text/plain": [
       "<Figure size 432x288 with 1 Axes>"
      ]
     },
     "metadata": {
      "needs_background": "light"
     },
     "output_type": "display_data"
    }
   ],
   "source": [
    "img = soft_render(primitives, stacking_program, raw_locations,\n",
    "                  torch.randn((), device=device), torch.randn((), device=device))\n",
    "plt.imshow(img.cpu().permute(1, 2, 0))"
   ]
  },
  {
   "cell_type": "markdown",
   "metadata": {},
   "source": [
    "## All in one"
   ]
  },
  {
   "cell_type": "code",
   "execution_count": 597,
   "metadata": {},
   "outputs": [
    {
     "data": {
      "text/plain": [
       "[tensor(-0.1167, device='cuda:0')]"
      ]
     },
     "execution_count": 597,
     "metadata": {},
     "output_type": "execute_result"
    }
   ],
   "source": [
    "raw_locations"
   ]
  },
  {
   "cell_type": "code",
   "execution_count": 656,
   "metadata": {},
   "outputs": [
    {
     "name": "stdout",
     "output_type": "stream",
     "text": [
      "[tensor(1.0672, device='cuda:0'), tensor(0.0665, device='cuda:0'), tensor(1.5016, device='cuda:0')]\n"
     ]
    },
    {
     "data": {
      "text/plain": [
       "['A', 'C', 'B']"
      ]
     },
     "execution_count": 656,
     "metadata": {},
     "output_type": "execute_result"
    },
    {
     "data": {
      "image/png": "[encoded data removed]",
      "text/plain": [
       "<Figure size 432x288 with 1 Axes>"
      ]
     },
     "metadata": {
      "needs_background": "light"
     },
     "output_type": "display_data"
    }
   ],
   "source": [
    "# Define params\n",
    "primitives = [\n",
    "    Square(\"A\", torch.tensor([1.0, 0.0, 0.0], device=device), torch.tensor(0.1, device=device)),\n",
    "    Square(\"B\", torch.tensor([0.0, 1.0, 0.0], device=device), torch.tensor(0.2, device=device)),\n",
    "    Square(\"C\", torch.tensor([0.0, 0.0, 1.0], device=device), torch.tensor(0.3, device=device))\n",
    "]\n",
    "num_primitives = len(primitives)\n",
    "num_channels, num_rows, num_cols = 3, 256, 256\n",
    "\n",
    "# Sample\n",
    "stacking_program = sample_stacking_program(num_primitives, device)\n",
    "raw_locations = sample_raw_locations(stacking_program)\n",
    "print(raw_locations)\n",
    "# Render\n",
    "img = render(primitives, stacking_program, raw_locations)\n",
    "\n",
    "# Plot\n",
    "plt.imshow(img.cpu().permute(1, 2, 0))\n",
    "stacking_program_to_str(stacking_program, primitives)"
   ]
  },
  {
   "cell_type": "code",
   "execution_count": 657,
   "metadata": {},
   "outputs": [],
   "source": [
    "true_stacking_program = stacking_program\n",
    "true_raw_locations = raw_locations\n",
    "true_img = img"
   ]
  },
  {
   "cell_type": "markdown",
   "metadata": {},
   "source": [
    "## Optimizing a few learnable squares"
   ]
  },
  {
   "cell_type": "code",
   "execution_count": 658,
   "metadata": {},
   "outputs": [],
   "source": [
    "def get_loss(raw_locations, learnable_squares, stacking_program, raw_color_sharpness, raw_blur, true_img):\n",
    "    num_channels, num_rows, num_cols = img.shape\n",
    "    loc = soft_render(learnable_squares, stacking_program, raw_locations, raw_color_sharpness, raw_blur)\n",
    "    return -torch.distributions.Independent(\n",
    "        torch.distributions.Normal(loc, 1.), reinterpreted_batch_ndims=3\n",
    "    ).log_prob(true_img)"
   ]
  },
  {
   "cell_type": "code",
   "execution_count": 663,
   "metadata": {},
   "outputs": [
    {
     "name": "stderr",
     "output_type": "stream",
     "text": [
      "\r",
      "  0%|          | 0/50000 [00:00<?, ?it/s]"
     ]
    },
    {
     "name": "stdout",
     "output_type": "stream",
     "text": [
      "0\n",
      "18:47:53 | /rdma/vast-rdma/vast/tenenbaum/tuananh/git/continuous_mws/stacking/util.py:19 | INFO: Saved to tmp/0.png\n",
      "18:47:53 | /rdma/vast-rdma/vast/tenenbaum/tuananh/git/continuous_mws/stacking/util.py:28 | INFO: Saved to training_simple.gif\n"
     ]
    },
    {
     "name": "stderr",
     "output_type": "stream",
     "text": [
      "  2%|▏         | 999/50000 [00:24<19:04, 42.82it/s] "
     ]
    },
    {
     "name": "stdout",
     "output_type": "stream",
     "text": [
      "1000\n",
      "18:48:17 | /rdma/vast-rdma/vast/tenenbaum/tuananh/git/continuous_mws/stacking/util.py:19 | INFO: Saved to tmp/1000.png\n",
      "18:48:17 | /rdma/vast-rdma/vast/tenenbaum/tuananh/git/continuous_mws/stacking/util.py:28 | INFO: Saved to training_simple.gif\n"
     ]
    },
    {
     "name": "stderr",
     "output_type": "stream",
     "text": [
      "  4%|▍         | 1999/50000 [00:48<18:04, 44.26it/s]"
     ]
    },
    {
     "name": "stdout",
     "output_type": "stream",
     "text": [
      "2000\n",
      "18:48:41 | /rdma/vast-rdma/vast/tenenbaum/tuananh/git/continuous_mws/stacking/util.py:19 | INFO: Saved to tmp/2000.png\n",
      "18:48:41 | /rdma/vast-rdma/vast/tenenbaum/tuananh/git/continuous_mws/stacking/util.py:28 | INFO: Saved to training_simple.gif\n"
     ]
    },
    {
     "name": "stderr",
     "output_type": "stream",
     "text": [
      "  6%|▌         | 2998/50000 [01:12<18:04, 43.35it/s]"
     ]
    },
    {
     "name": "stdout",
     "output_type": "stream",
     "text": [
      "3000\n",
      "18:49:05 | /rdma/vast-rdma/vast/tenenbaum/tuananh/git/continuous_mws/stacking/util.py:19 | INFO: Saved to tmp/3000.png\n",
      "18:49:05 | /rdma/vast-rdma/vast/tenenbaum/tuananh/git/continuous_mws/stacking/util.py:28 | INFO: Saved to training_simple.gif\n"
     ]
    },
    {
     "name": "stderr",
     "output_type": "stream",
     "text": [
      "  8%|▊         | 4000/50000 [01:36<19:20, 39.65it/s]"
     ]
    },
    {
     "name": "stdout",
     "output_type": "stream",
     "text": [
      "4000\n",
      "18:49:29 | /rdma/vast-rdma/vast/tenenbaum/tuananh/git/continuous_mws/stacking/util.py:19 | INFO: Saved to tmp/4000.png\n",
      "18:49:30 | /rdma/vast-rdma/vast/tenenbaum/tuananh/git/continuous_mws/stacking/util.py:28 | INFO: Saved to training_simple.gif\n"
     ]
    },
    {
     "name": "stderr",
     "output_type": "stream",
     "text": [
      " 10%|▉         | 4997/50000 [02:02<18:45, 40.00it/s]"
     ]
    },
    {
     "name": "stdout",
     "output_type": "stream",
     "text": [
      "5000\n",
      "18:49:55 | /rdma/vast-rdma/vast/tenenbaum/tuananh/git/continuous_mws/stacking/util.py:19 | INFO: Saved to tmp/5000.png\n",
      "18:49:56 | /rdma/vast-rdma/vast/tenenbaum/tuananh/git/continuous_mws/stacking/util.py:28 | INFO: Saved to training_simple.gif\n"
     ]
    },
    {
     "name": "stderr",
     "output_type": "stream",
     "text": [
      " 12%|█▏        | 5998/50000 [02:27<17:46, 41.24it/s]  "
     ]
    },
    {
     "name": "stdout",
     "output_type": "stream",
     "text": [
      "6000\n",
      "18:50:20 | /rdma/vast-rdma/vast/tenenbaum/tuananh/git/continuous_mws/stacking/util.py:19 | INFO: Saved to tmp/6000.png\n",
      "18:50:21 | /rdma/vast-rdma/vast/tenenbaum/tuananh/git/continuous_mws/stacking/util.py:28 | INFO: Saved to training_simple.gif\n"
     ]
    },
    {
     "name": "stderr",
     "output_type": "stream",
     "text": [
      " 14%|█▍        | 6997/50000 [02:53<18:13, 39.32it/s]"
     ]
    },
    {
     "name": "stdout",
     "output_type": "stream",
     "text": [
      "7000\n",
      "18:50:46 | /rdma/vast-rdma/vast/tenenbaum/tuananh/git/continuous_mws/stacking/util.py:19 | INFO: Saved to tmp/7000.png\n",
      "18:50:46 | /rdma/vast-rdma/vast/tenenbaum/tuananh/git/continuous_mws/stacking/util.py:28 | INFO: Saved to training_simple.gif\n"
     ]
    },
    {
     "name": "stderr",
     "output_type": "stream",
     "text": [
      " 16%|█▌        | 7999/50000 [03:18<16:51, 41.50it/s]  "
     ]
    },
    {
     "name": "stdout",
     "output_type": "stream",
     "text": [
      "8000\n",
      "18:51:11 | /rdma/vast-rdma/vast/tenenbaum/tuananh/git/continuous_mws/stacking/util.py:19 | INFO: Saved to tmp/8000.png\n",
      "18:51:12 | /rdma/vast-rdma/vast/tenenbaum/tuananh/git/continuous_mws/stacking/util.py:28 | INFO: Saved to training_simple.gif\n"
     ]
    },
    {
     "name": "stderr",
     "output_type": "stream",
     "text": [
      " 18%|█▊        | 8999/50000 [03:44<16:56, 40.34it/s]"
     ]
    },
    {
     "name": "stdout",
     "output_type": "stream",
     "text": [
      "9000\n",
      "18:51:37 | /rdma/vast-rdma/vast/tenenbaum/tuananh/git/continuous_mws/stacking/util.py:19 | INFO: Saved to tmp/9000.png\n",
      "18:51:38 | /rdma/vast-rdma/vast/tenenbaum/tuananh/git/continuous_mws/stacking/util.py:28 | INFO: Saved to training_simple.gif\n"
     ]
    },
    {
     "name": "stderr",
     "output_type": "stream",
     "text": [
      " 20%|█▉        | 9999/50000 [04:09<16:22, 40.72it/s]"
     ]
    },
    {
     "name": "stdout",
     "output_type": "stream",
     "text": [
      "10000\n",
      "18:52:02 | /rdma/vast-rdma/vast/tenenbaum/tuananh/git/continuous_mws/stacking/util.py:19 | INFO: Saved to tmp/10000.png\n",
      "18:52:03 | /rdma/vast-rdma/vast/tenenbaum/tuananh/git/continuous_mws/stacking/util.py:28 | INFO: Saved to training_simple.gif\n"
     ]
    },
    {
     "name": "stderr",
     "output_type": "stream",
     "text": [
      " 22%|██▏       | 10998/50000 [04:35<16:26, 39.55it/s]  "
     ]
    },
    {
     "name": "stdout",
     "output_type": "stream",
     "text": [
      "11000\n",
      "18:52:28 | /rdma/vast-rdma/vast/tenenbaum/tuananh/git/continuous_mws/stacking/util.py:19 | INFO: Saved to tmp/11000.png\n",
      "18:52:29 | /rdma/vast-rdma/vast/tenenbaum/tuananh/git/continuous_mws/stacking/util.py:28 | INFO: Saved to training_simple.gif\n"
     ]
    },
    {
     "name": "stderr",
     "output_type": "stream",
     "text": [
      " 24%|██▍       | 11996/50000 [05:00<15:02, 42.09it/s]  "
     ]
    },
    {
     "name": "stdout",
     "output_type": "stream",
     "text": [
      "12000\n",
      "18:52:54 | /rdma/vast-rdma/vast/tenenbaum/tuananh/git/continuous_mws/stacking/util.py:19 | INFO: Saved to tmp/12000.png\n",
      "18:52:54 | /rdma/vast-rdma/vast/tenenbaum/tuananh/git/continuous_mws/stacking/util.py:28 | INFO: Saved to training_simple.gif\n"
     ]
    },
    {
     "name": "stderr",
     "output_type": "stream",
     "text": [
      " 26%|██▌       | 12999/50000 [05:27<14:45, 41.76it/s]  "
     ]
    },
    {
     "name": "stdout",
     "output_type": "stream",
     "text": [
      "13000\n",
      "18:53:20 | /rdma/vast-rdma/vast/tenenbaum/tuananh/git/continuous_mws/stacking/util.py:19 | INFO: Saved to tmp/13000.png\n",
      "18:53:21 | /rdma/vast-rdma/vast/tenenbaum/tuananh/git/continuous_mws/stacking/util.py:28 | INFO: Saved to training_simple.gif\n"
     ]
    },
    {
     "name": "stderr",
     "output_type": "stream",
     "text": [
      " 28%|██▊       | 13997/50000 [05:53<14:52, 40.34it/s]  "
     ]
    },
    {
     "name": "stdout",
     "output_type": "stream",
     "text": [
      "14000\n",
      "18:53:45 | /rdma/vast-rdma/vast/tenenbaum/tuananh/git/continuous_mws/stacking/util.py:19 | INFO: Saved to tmp/14000.png\n",
      "18:53:47 | /rdma/vast-rdma/vast/tenenbaum/tuananh/git/continuous_mws/stacking/util.py:28 | INFO: Saved to training_simple.gif\n"
     ]
    },
    {
     "name": "stderr",
     "output_type": "stream",
     "text": [
      " 30%|███       | 15000/50000 [06:19<14:02, 41.54it/s]  "
     ]
    },
    {
     "name": "stdout",
     "output_type": "stream",
     "text": [
      "15000\n",
      "18:54:12 | /rdma/vast-rdma/vast/tenenbaum/tuananh/git/continuous_mws/stacking/util.py:19 | INFO: Saved to tmp/15000.png\n",
      "18:54:13 | /rdma/vast-rdma/vast/tenenbaum/tuananh/git/continuous_mws/stacking/util.py:28 | INFO: Saved to training_simple.gif\n"
     ]
    },
    {
     "name": "stderr",
     "output_type": "stream",
     "text": [
      " 32%|███▏      | 15998/50000 [06:45<13:38, 41.52it/s]  "
     ]
    },
    {
     "name": "stdout",
     "output_type": "stream",
     "text": [
      "16000\n",
      "18:54:38 | /rdma/vast-rdma/vast/tenenbaum/tuananh/git/continuous_mws/stacking/util.py:19 | INFO: Saved to tmp/16000.png\n",
      "18:54:39 | /rdma/vast-rdma/vast/tenenbaum/tuananh/git/continuous_mws/stacking/util.py:28 | INFO: Saved to training_simple.gif\n"
     ]
    },
    {
     "name": "stderr",
     "output_type": "stream",
     "text": [
      " 34%|███▍      | 17000/50000 [07:11<14:00, 39.26it/s]  "
     ]
    },
    {
     "name": "stdout",
     "output_type": "stream",
     "text": [
      "17000\n",
      "18:55:04 | /rdma/vast-rdma/vast/tenenbaum/tuananh/git/continuous_mws/stacking/util.py:19 | INFO: Saved to tmp/17000.png\n",
      "18:55:06 | /rdma/vast-rdma/vast/tenenbaum/tuananh/git/continuous_mws/stacking/util.py:28 | INFO: Saved to training_simple.gif\n"
     ]
    },
    {
     "name": "stderr",
     "output_type": "stream",
     "text": [
      " 36%|███▌      | 17996/50000 [07:38<13:14, 40.26it/s]  "
     ]
    },
    {
     "name": "stdout",
     "output_type": "stream",
     "text": [
      "18000\n",
      "18:55:31 | /rdma/vast-rdma/vast/tenenbaum/tuananh/git/continuous_mws/stacking/util.py:19 | INFO: Saved to tmp/18000.png\n",
      "18:55:32 | /rdma/vast-rdma/vast/tenenbaum/tuananh/git/continuous_mws/stacking/util.py:28 | INFO: Saved to training_simple.gif\n"
     ]
    },
    {
     "name": "stderr",
     "output_type": "stream",
     "text": [
      " 38%|███▊      | 18996/50000 [08:04<12:24, 41.65it/s]  "
     ]
    },
    {
     "name": "stdout",
     "output_type": "stream",
     "text": [
      "19000\n",
      "18:55:57 | /rdma/vast-rdma/vast/tenenbaum/tuananh/git/continuous_mws/stacking/util.py:19 | INFO: Saved to tmp/19000.png\n",
      "18:55:59 | /rdma/vast-rdma/vast/tenenbaum/tuananh/git/continuous_mws/stacking/util.py:28 | INFO: Saved to training_simple.gif\n"
     ]
    },
    {
     "name": "stderr",
     "output_type": "stream",
     "text": [
      " 40%|███▉      | 19996/50000 [08:31<12:21, 40.46it/s]  "
     ]
    },
    {
     "name": "stdout",
     "output_type": "stream",
     "text": [
      "20000\n",
      "18:56:24 | /rdma/vast-rdma/vast/tenenbaum/tuananh/git/continuous_mws/stacking/util.py:19 | INFO: Saved to tmp/20000.png\n",
      "18:56:25 | /rdma/vast-rdma/vast/tenenbaum/tuananh/git/continuous_mws/stacking/util.py:28 | INFO: Saved to training_simple.gif\n"
     ]
    },
    {
     "name": "stderr",
     "output_type": "stream",
     "text": [
      " 42%|████▏     | 20996/50000 [08:57<12:02, 40.17it/s]  "
     ]
    },
    {
     "name": "stdout",
     "output_type": "stream",
     "text": [
      "21000\n",
      "18:56:50 | /rdma/vast-rdma/vast/tenenbaum/tuananh/git/continuous_mws/stacking/util.py:19 | INFO: Saved to tmp/21000.png\n",
      "18:56:52 | /rdma/vast-rdma/vast/tenenbaum/tuananh/git/continuous_mws/stacking/util.py:28 | INFO: Saved to training_simple.gif\n"
     ]
    },
    {
     "name": "stderr",
     "output_type": "stream",
     "text": [
      " 44%|████▍     | 21999/50000 [09:24<11:32, 40.45it/s]  "
     ]
    },
    {
     "name": "stdout",
     "output_type": "stream",
     "text": [
      "22000\n",
      "18:57:17 | /rdma/vast-rdma/vast/tenenbaum/tuananh/git/continuous_mws/stacking/util.py:19 | INFO: Saved to tmp/22000.png\n",
      "18:57:19 | /rdma/vast-rdma/vast/tenenbaum/tuananh/git/continuous_mws/stacking/util.py:28 | INFO: Saved to training_simple.gif\n"
     ]
    },
    {
     "name": "stderr",
     "output_type": "stream",
     "text": [
      " 46%|████▌     | 22998/50000 [09:51<11:07, 40.46it/s]  "
     ]
    },
    {
     "name": "stdout",
     "output_type": "stream",
     "text": [
      "23000\n",
      "18:57:44 | /rdma/vast-rdma/vast/tenenbaum/tuananh/git/continuous_mws/stacking/util.py:19 | INFO: Saved to tmp/23000.png\n",
      "18:57:45 | /rdma/vast-rdma/vast/tenenbaum/tuananh/git/continuous_mws/stacking/util.py:28 | INFO: Saved to training_simple.gif\n"
     ]
    },
    {
     "name": "stderr",
     "output_type": "stream",
     "text": [
      " 48%|████▊     | 24000/50000 [10:17<10:32, 41.08it/s]  "
     ]
    },
    {
     "name": "stdout",
     "output_type": "stream",
     "text": [
      "24000\n",
      "18:58:10 | /rdma/vast-rdma/vast/tenenbaum/tuananh/git/continuous_mws/stacking/util.py:19 | INFO: Saved to tmp/24000.png\n",
      "18:58:12 | /rdma/vast-rdma/vast/tenenbaum/tuananh/git/continuous_mws/stacking/util.py:28 | INFO: Saved to training_simple.gif\n"
     ]
    },
    {
     "name": "stderr",
     "output_type": "stream",
     "text": [
      " 50%|████▉     | 24997/50000 [10:44<10:02, 41.48it/s]  "
     ]
    },
    {
     "name": "stdout",
     "output_type": "stream",
     "text": [
      "25000\n",
      "18:58:37 | /rdma/vast-rdma/vast/tenenbaum/tuananh/git/continuous_mws/stacking/util.py:19 | INFO: Saved to tmp/25000.png\n",
      "18:58:39 | /rdma/vast-rdma/vast/tenenbaum/tuananh/git/continuous_mws/stacking/util.py:28 | INFO: Saved to training_simple.gif\n"
     ]
    },
    {
     "name": "stderr",
     "output_type": "stream",
     "text": [
      " 52%|█████▏    | 25998/50000 [11:11<09:20, 42.85it/s]  "
     ]
    },
    {
     "name": "stdout",
     "output_type": "stream",
     "text": [
      "26000\n",
      "18:59:04 | /rdma/vast-rdma/vast/tenenbaum/tuananh/git/continuous_mws/stacking/util.py:19 | INFO: Saved to tmp/26000.png\n",
      "18:59:06 | /rdma/vast-rdma/vast/tenenbaum/tuananh/git/continuous_mws/stacking/util.py:28 | INFO: Saved to training_simple.gif\n"
     ]
    },
    {
     "name": "stderr",
     "output_type": "stream",
     "text": [
      " 54%|█████▍    | 26997/50000 [11:38<09:08, 41.93it/s]  "
     ]
    },
    {
     "name": "stdout",
     "output_type": "stream",
     "text": [
      "27000\n",
      "18:59:31 | /rdma/vast-rdma/vast/tenenbaum/tuananh/git/continuous_mws/stacking/util.py:19 | INFO: Saved to tmp/27000.png\n",
      "18:59:33 | /rdma/vast-rdma/vast/tenenbaum/tuananh/git/continuous_mws/stacking/util.py:28 | INFO: Saved to training_simple.gif\n"
     ]
    },
    {
     "name": "stderr",
     "output_type": "stream",
     "text": [
      " 56%|█████▌    | 27999/50000 [12:05<09:09, 40.07it/s]  "
     ]
    },
    {
     "name": "stdout",
     "output_type": "stream",
     "text": [
      "28000\n",
      "18:59:58 | /rdma/vast-rdma/vast/tenenbaum/tuananh/git/continuous_mws/stacking/util.py:19 | INFO: Saved to tmp/28000.png\n",
      "19:00:01 | /rdma/vast-rdma/vast/tenenbaum/tuananh/git/continuous_mws/stacking/util.py:28 | INFO: Saved to training_simple.gif\n"
     ]
    },
    {
     "name": "stderr",
     "output_type": "stream",
     "text": [
      " 58%|█████▊    | 28998/50000 [12:33<08:51, 39.52it/s]  "
     ]
    },
    {
     "name": "stdout",
     "output_type": "stream",
     "text": [
      "29000\n",
      "19:00:25 | /rdma/vast-rdma/vast/tenenbaum/tuananh/git/continuous_mws/stacking/util.py:19 | INFO: Saved to tmp/29000.png\n",
      "19:00:28 | /rdma/vast-rdma/vast/tenenbaum/tuananh/git/continuous_mws/stacking/util.py:28 | INFO: Saved to training_simple.gif\n"
     ]
    },
    {
     "name": "stderr",
     "output_type": "stream",
     "text": [
      " 60%|█████▉    | 29881/50000 [12:57<08:43, 38.44it/s]  \n"
     ]
    },
    {
     "ename": "KeyboardInterrupt",
     "evalue": "",
     "output_type": "error",
     "traceback": [
      "\u001b[0;31m---------------------------------------------------------------------------\u001b[0m",
      "\u001b[0;31mKeyboardInterrupt\u001b[0m                         Traceback (most recent call last)",
      "\u001b[0;32m<ipython-input-663-b27ee1b01ded>\u001b[0m in \u001b[0;36m<module>\u001b[0;34m\u001b[0m\n\u001b[1;32m     21\u001b[0m     loss = get_loss(raw_locations, learnable_squares, true_stacking_program,\n\u001b[1;32m     22\u001b[0m                     raw_color_sharpness, raw_blur, true_img)\n\u001b[0;32m---> 23\u001b[0;31m     \u001b[0mloss\u001b[0m\u001b[0;34m.\u001b[0m\u001b[0mbackward\u001b[0m\u001b[0;34m(\u001b[0m\u001b[0;34m)\u001b[0m\u001b[0;34m\u001b[0m\u001b[0;34m\u001b[0m\u001b[0m\n\u001b[0m\u001b[1;32m     24\u001b[0m     \u001b[0moptimizer\u001b[0m\u001b[0;34m.\u001b[0m\u001b[0mstep\u001b[0m\u001b[0;34m(\u001b[0m\u001b[0;34m)\u001b[0m\u001b[0;34m\u001b[0m\u001b[0;34m\u001b[0m\u001b[0m\n\u001b[1;32m     25\u001b[0m \u001b[0;34m\u001b[0m\u001b[0m\n",
      "\u001b[0;32m/om/user/tuananh/anaconda3/lib/python3.7/site-packages/torch/tensor.py\u001b[0m in \u001b[0;36mbackward\u001b[0;34m(self, gradient, retain_graph, create_graph)\u001b[0m\n\u001b[1;32m    183\u001b[0m                 \u001b[0mproducts\u001b[0m\u001b[0;34m.\u001b[0m \u001b[0mDefaults\u001b[0m \u001b[0mto\u001b[0m\u001b[0;31m \u001b[0m\u001b[0;31m`\u001b[0m\u001b[0;31m`\u001b[0m\u001b[0;32mFalse\u001b[0m\u001b[0;31m`\u001b[0m\u001b[0;31m`\u001b[0m\u001b[0;34m.\u001b[0m\u001b[0;34m\u001b[0m\u001b[0;34m\u001b[0m\u001b[0m\n\u001b[1;32m    184\u001b[0m         \"\"\"\n\u001b[0;32m--> 185\u001b[0;31m         \u001b[0mtorch\u001b[0m\u001b[0;34m.\u001b[0m\u001b[0mautograd\u001b[0m\u001b[0;34m.\u001b[0m\u001b[0mbackward\u001b[0m\u001b[0;34m(\u001b[0m\u001b[0mself\u001b[0m\u001b[0;34m,\u001b[0m \u001b[0mgradient\u001b[0m\u001b[0;34m,\u001b[0m \u001b[0mretain_graph\u001b[0m\u001b[0;34m,\u001b[0m \u001b[0mcreate_graph\u001b[0m\u001b[0;34m)\u001b[0m\u001b[0;34m\u001b[0m\u001b[0;34m\u001b[0m\u001b[0m\n\u001b[0m\u001b[1;32m    186\u001b[0m \u001b[0;34m\u001b[0m\u001b[0m\n\u001b[1;32m    187\u001b[0m     \u001b[0;32mdef\u001b[0m \u001b[0mregister_hook\u001b[0m\u001b[0;34m(\u001b[0m\u001b[0mself\u001b[0m\u001b[0;34m,\u001b[0m \u001b[0mhook\u001b[0m\u001b[0;34m)\u001b[0m\u001b[0;34m:\u001b[0m\u001b[0;34m\u001b[0m\u001b[0;34m\u001b[0m\u001b[0m\n",
      "\u001b[0;32m/om/user/tuananh/anaconda3/lib/python3.7/site-packages/torch/autograd/__init__.py\u001b[0m in \u001b[0;36mbackward\u001b[0;34m(tensors, grad_tensors, retain_graph, create_graph, grad_variables)\u001b[0m\n\u001b[1;32m    125\u001b[0m     Variable._execution_engine.run_backward(\n\u001b[1;32m    126\u001b[0m         \u001b[0mtensors\u001b[0m\u001b[0;34m,\u001b[0m \u001b[0mgrad_tensors\u001b[0m\u001b[0;34m,\u001b[0m \u001b[0mretain_graph\u001b[0m\u001b[0;34m,\u001b[0m \u001b[0mcreate_graph\u001b[0m\u001b[0;34m,\u001b[0m\u001b[0;34m\u001b[0m\u001b[0;34m\u001b[0m\u001b[0m\n\u001b[0;32m--> 127\u001b[0;31m         allow_unreachable=True)  # allow_unreachable flag\n\u001b[0m\u001b[1;32m    128\u001b[0m \u001b[0;34m\u001b[0m\u001b[0m\n\u001b[1;32m    129\u001b[0m \u001b[0;34m\u001b[0m\u001b[0m\n",
      "\u001b[0;31mKeyboardInterrupt\u001b[0m: "
     ]
    }
   ],
   "source": [
    "# Init\n",
    "learnable_squares = [\n",
    "    LearnableSquare(f\"{i}\").to(device) for i in range(num_primitives)\n",
    "]\n",
    "raw_color_sharpness = nn.Parameter(torch.rand((), device=device))\n",
    "raw_blur = nn.Parameter(torch.rand((), device=device))\n",
    "raw_locations = [nn.Parameter(torch.rand((), device=device)) for i in range(len(stacking_program))]\n",
    "\n",
    "optimizer = torch.optim.Adam(itertools.chain(\n",
    "    [raw_blur, raw_color_sharpness],\n",
    "    raw_locations,\n",
    "    *[learnable_square.parameters() for learnable_square in learnable_squares],\n",
    "))\n",
    "\n",
    "# Optim\n",
    "num_iterations = 50000\n",
    "losses = []\n",
    "img_paths = []\n",
    "for iteration in tqdm(range(num_iterations)):\n",
    "    optimizer.zero_grad()\n",
    "    loss = get_loss(raw_locations, learnable_squares, true_stacking_program,\n",
    "                    raw_color_sharpness, raw_blur, true_img)\n",
    "    loss.backward()\n",
    "    optimizer.step()\n",
    "\n",
    "    losses.append(loss.item())\n",
    "    if iteration % 1000 == 0:\n",
    "        print(iteration)\n",
    "        img = soft_render(learnable_squares, true_stacking_program, raw_locations, raw_color_sharpness, raw_blur)\n",
    "        img_hard_render = render(learnable_squares, true_stacking_program, raw_locations)\n",
    "        \n",
    "        # Plot\n",
    "        img_paths.append(f\"tmp/{iteration}.png\")\n",
    "        plot_iter(img, img_hard_render, true_img, losses, img_paths[-1])\n",
    "        util.make_gif(img_paths, \"training_simple.gif\", fps=3)"
   ]
  },
  {
   "cell_type": "code",
   "execution_count": 523,
   "metadata": {},
   "outputs": [
    {
     "name": "stdout",
     "output_type": "stream",
     "text": [
      "18:17:11 | /rdma/vast-rdma/vast/tenenbaum/tuananh/git/continuous_mws/stacking/util.py:28 | INFO: Saved to training_simple.gif\n"
     ]
    }
   ],
   "source": [
    "util.make_gif(img_paths, \"training_simple.gif\", fps=3)"
   ]
  }
 ],
 "metadata": {
  "kernelspec": {
   "display_name": "Python 3",
   "language": "python",
   "name": "python3"
  },
  "language_info": {
   "codemirror_mode": {
    "name": "ipython",
    "version": 3
   },
   "file_extension": ".py",
   "mimetype": "text/x-python",
   "name": "python",
   "nbconvert_exporter": "python",
   "pygments_lexer": "ipython3",
   "version": "3.7.4"
  }
 },
 "nbformat": 4,
 "nbformat_minor": 2
}
