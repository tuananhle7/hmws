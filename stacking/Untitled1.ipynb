{
 "cells": [
  {
   "cell_type": "code",
   "execution_count": 131,
   "metadata": {},
   "outputs": [],
   "source": [
    "import render\n",
    "import torch\n",
    "import matplotlib.pyplot as plt\n",
    "import torch.nn as nn\n",
    "import torch.nn.functional as F\n",
    "\n",
    "device = \"cuda\"\n",
    "\n",
    "def logit(p):\n",
    "    return torch.log(p) - torch.log(1 - p)\n",
    "\n",
    "\n",
    "def soft_render_square(\n",
    "    square, location, background, background_depth=-1e-3, color_sharpness=1e-4, blur=1e-4\n",
    "):\n",
    "    \"\"\"Draws a square on a canvas whose xy limits are [-1, 1].\n",
    "\n",
    "    Follows equations (2) and (3) in\n",
    "    https://openaccess.thecvf.com/content_ICCV_2019/papers/Liu_Soft_Rasterizer_A_Differentiable_Renderer_for_Image-Based_3D_Reasoning_ICCV_2019_paper.pdf\n",
    "\n",
    "    Args\n",
    "        square\n",
    "        location [2]\n",
    "        background [num_channels, num_rows, num_cols] -- this is the background color C_b in\n",
    "            equation (2)\n",
    "        background_weight [] (default 1.): ϵ in equation (3)\n",
    "        color_sharpness [] (default 1e-4): γ in equation (3)\n",
    "        blur [] (default 1e-4): this is the σ in equation (1)\n",
    "\n",
    "    Returns\n",
    "        new_canvas [num_channels, num_rows, num_cols]\n",
    "    \"\"\"\n",
    "    # Init\n",
    "    device = location.device\n",
    "    num_channels, num_rows, num_cols = background.shape\n",
    "\n",
    "    # Canvas xy\n",
    "    # [num_rows, num_cols]\n",
    "    canvas_x, canvas_y = render.get_canvas_xy(num_rows, num_cols, device)\n",
    "    canvas_xy = torch.stack([canvas_x, canvas_y], dim=-1)\n",
    "\n",
    "    # Get render log prob\n",
    "    # --Foreground object (treat depth z = -1) [num_rows, num_cols]\n",
    "    depth = -1\n",
    "    square_render_log_prob = (\n",
    "        render.get_render_log_prob(render.get_min_edge_distance(square, location, canvas_xy), blur=blur)\n",
    "        + depth / color_sharpness\n",
    "    )\n",
    "    # --Background [num_rows, num_cols]\n",
    "    background_render_log_prob = (\n",
    "        torch.ones_like(square_render_log_prob) * background_depth / color_sharpness\n",
    "    )\n",
    "\n",
    "    # Compute color weight (equation (3))\n",
    "    # [num_rows, num_cols]\n",
    "    square_weight, background_weight = F.softmax(\n",
    "        torch.stack([square_render_log_prob, background_render_log_prob]), dim=0\n",
    "    )\n",
    "    \n",
    "#     return square_weight[None] * square.color[:, None, None] #  + background_weight[None] * background\n",
    "    return background_weight[None] * background\n",
    "#     return square_weight[None] * square.color[:, None, None] + background_weight[None] * background\n"
   ]
  },
  {
   "cell_type": "code",
   "execution_count": 132,
   "metadata": {},
   "outputs": [
    {
     "name": "stdout",
     "output_type": "stream",
     "text": [
      "tensor(0.2000, device='cuda:0')\n",
      "tensor([1., 0., 0.], device='cuda:0')\n",
      "tensor(0.2000, device='cuda:0', grad_fn=<ExpBackward>)\n",
      "tensor([1., 0., 0.], device='cuda:0', grad_fn=<SigmoidBackward>)\n",
      "tensor(73.2449, device='cuda:0')\n",
      "None\n",
      "tensor(-32., device='cuda:0')\n",
      "tensor(25835.2891, device='cuda:0')\n"
     ]
    },
    {
     "data": {
      "image/png": "[encoded data removed]",
      "text/plain": [
       "<Figure size 432x288 with 2 Axes>"
      ]
     },
     "metadata": {
      "needs_background": "light"
     },
     "output_type": "display_data"
    }
   ],
   "source": [
    "blank_canvas = render.init_canvas(device)\n",
    "\n",
    "true_square = render.Square(\"A\", torch.tensor([1., 0., 0.], device=device), torch.tensor(0.2, device=device))\n",
    "true_location = torch.tensor([0., 0.], device=device)\n",
    "true_img = render.render_square(true_square, true_location, blank_canvas)\n",
    "print(true_square.size)\n",
    "print(true_square.color)\n",
    "\n",
    "square = render.LearnableSquare(\"0\").to(device)\n",
    "size = torch.tensor(0.2, device=device)\n",
    "color = torch.tensor([1., 0., 0.], device=device)\n",
    "square.raw_size.data = size.log()\n",
    "square.raw_color.data = logit(color)\n",
    "print(square.size)\n",
    "print(square.color)\n",
    "\n",
    "location = torch.tensor([0., 0.], device=device)\n",
    "color_sharpness = nn.Parameter(torch.tensor(1e-4, device=device))\n",
    "blur = nn.Parameter(torch.tensor(1e-4, device=device))\n",
    "img = soft_render_square(square, location, blank_canvas,\n",
    "                         background_depth=-1, color_sharpness=color_sharpness, blur=blur)\n",
    "\n",
    "loss = ((img - true_img)**2).sum()\n",
    "loss.backward()\n",
    "\n",
    "fig, axs = plt.subplots(1, 2)\n",
    "axs[0].imshow(true_img.cpu().permute(1, 2, 0))\n",
    "axs[1].imshow(img.cpu().detach().permute(1, 2, 0))\n",
    "\n",
    "print(square.raw_size.grad)\n",
    "print(square.raw_color.grad)\n",
    "print(color_sharpness.grad)\n",
    "print(blur.grad)"
   ]
  },
  {
   "cell_type": "code",
   "execution_count": null,
   "metadata": {},
   "outputs": [],
   "source": []
  }
 ],
 "metadata": {
  "kernelspec": {
   "display_name": "Python 3",
   "language": "python",
   "name": "python3"
  },
  "language_info": {
   "codemirror_mode": {
    "name": "ipython",
    "version": 3
   },
   "file_extension": ".py",
   "mimetype": "text/x-python",
   "name": "python",
   "nbconvert_exporter": "python",
   "pygments_lexer": "ipython3",
   "version": "3.7.4"
  }
 },
 "nbformat": 4,
 "nbformat_minor": 2
}
