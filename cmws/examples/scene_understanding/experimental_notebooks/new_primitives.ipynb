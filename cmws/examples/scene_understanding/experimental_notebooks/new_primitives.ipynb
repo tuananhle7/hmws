{
 "cells": [
  {
   "cell_type": "code",
   "execution_count": 1,
   "id": "edb34cc8",
   "metadata": {},
   "outputs": [],
   "source": [
    "import random\n",
    "\n",
    "import torch\n",
    "import torch.nn as nn\n",
    "from cmws import util\n",
    "import torch\n",
    "from pytorch3d.renderer import (\n",
    "    look_at_view_transform,\n",
    "    FoVPerspectiveCameras,\n",
    "    PointLights,\n",
    "    DirectionalLights,\n",
    "    Materials,\n",
    "    RasterizationSettings,\n",
    "    MeshRenderer,\n",
    "    MeshRasterizer,\n",
    "    SoftPhongShader,\n",
    "    HardPhongShader,\n",
    "    TexturesUV,\n",
    "    TexturesVertex,\n",
    "    BlendParams,\n",
    "    softmax_rgb_blend\n",
    ")\n",
    "from pytorch3d.structures.meshes import (\n",
    "    Meshes,\n",
    "    join_meshes_as_batch,\n",
    "    join_meshes_as_scene,\n",
    ")\n",
    "import numpy as np\n",
    "from cmws.examples.stacking_3d import data, render\n",
    "from cmws import util\n",
    "import matplotlib.pyplot as plt\n",
    "\n",
    "device = 'cpu'"
   ]
  },
  {
   "cell_type": "code",
   "execution_count": 2,
   "id": "b98c823b",
   "metadata": {},
   "outputs": [],
   "source": [
    "from pytorch3d.utils import torus \n",
    "\n"
   ]
  },
  {
   "cell_type": "code",
   "execution_count": 3,
   "id": "ce7c5065",
   "metadata": {},
   "outputs": [],
   "source": [
    "num_primitives = 3\n",
    "primitives = [\n",
    "    render.Cube(\n",
    "        \"A\", torch.tensor([1.0, 0.0, 0.0], device=device), torch.tensor(0.3, device=device)\n",
    "    ),\n",
    "    render.Cube(\n",
    "        \"B\", torch.tensor([0.0, 1.0, 0.0], device=device), torch.tensor(0.4, device=device)\n",
    "    ),\n",
    "    render.Cube(\n",
    "        \"C\", torch.tensor([0.0, 0.0, 1.0], device=device), torch.tensor(0.5, device=device)\n",
    "    ),\n",
    "][:num_primitives]\n",
    "# num_primitives = len(primitives)\n",
    "\n",
    "# Sample\n",
    "stacking_program = data.sample_stacking_program(\n",
    "    num_primitives, device, fixed_num_blocks=False\n",
    ")\n",
    "raw_locations = data.sample_raw_locations(stacking_program)"
   ]
  },
  {
   "cell_type": "code",
   "execution_count": 4,
   "id": "17c984bc",
   "metadata": {},
   "outputs": [],
   "source": [
    "im_size = 32\n",
    "\n",
    "shape = stacking_program.shape[:-1]\n",
    "max_num_blocks = stacking_program.shape[-1]\n",
    "num_elements = util.get_num_elements(shape)\n",
    "num_channels = 3\n",
    "num_blocks = torch.tensor(len(stacking_program), device=device).long()\n",
    "\n",
    "# [num_primitives]\n",
    "square_size = torch.stack([primitive.size for primitive in primitives])\n",
    "# [num_primitives, 3]\n",
    "square_color = torch.stack([primitive.color for primitive in primitives])\n",
    "\n",
    "# Convert [*shape, max_num_blocks, 3]\n",
    "locations = render.convert_raw_locations_batched(raw_locations, stacking_program, primitives)\n",
    "\n",
    "# Flatten\n",
    "num_blocks_flattened = num_blocks.reshape(num_elements)\n",
    "stacking_program_flattened = stacking_program.reshape((num_elements, max_num_blocks))\n",
    "locations_flattened = locations.view((num_elements, max_num_blocks, 3))\n",
    "\n",
    "imgs = render.render_cubes(num_blocks_flattened, square_size[stacking_program_flattened], square_color[stacking_program_flattened], locations_flattened, im_size)\n",
    "imgs = imgs.permute(0, 3, 1, 2)\n",
    "imgs = imgs.view(*[*shape, num_channels, *imgs.shape[-2:]])"
   ]
  },
  {
   "cell_type": "code",
   "execution_count": 5,
   "id": "5808dc82",
   "metadata": {},
   "outputs": [],
   "source": [
    "num_cubes = num_blocks_flattened\n",
    "sizes = square_size[stacking_program_flattened]\n",
    "colors = square_color[stacking_program_flattened]\n",
    "positions = locations_flattened"
   ]
  },
  {
   "cell_type": "code",
   "execution_count": 6,
   "id": "c0e335fc",
   "metadata": {},
   "outputs": [],
   "source": [
    "\n",
    "im_size = 512\n",
    "\n",
    "# Create camera\n",
    "R, T = look_at_view_transform(1.0, 90, 180,\n",
    "                              up=((0.0, -1.0, 0.0),),\n",
    "                              at=((0.0, 1, -0.2),))  # view top to see stacking\n",
    "cameras = FoVPerspectiveCameras(device=device, R=R, T=T,\n",
    "                               fov=60.0)\n",
    "\n",
    "# Settings for rasterizer (optional blur)\n",
    "# \n",
    "blend_params = BlendParams( sigma = 1e-4, gamma = 1e-4,background_color=(0.0,0.0,0.0))\n",
    "raster_settings = RasterizationSettings(\n",
    "    image_size=im_size, # crisper objects + texture w/ higher resolution\n",
    "    blur_radius = np.log(1. / 1e-4 - 1.) * blend_params.sigma, \n",
    "    faces_per_pixel=2, # increase at cost of GPU memory,\n",
    "    bin_size=0\n",
    ")\n",
    "\n",
    "# Add light from the front\n",
    "lights = PointLights(device=device, location=[[0.0, 3.0, 0.0]]) # top light\n",
    "\n",
    "# Compose renderer and shader\n",
    "renderer = MeshRenderer(\n",
    "    rasterizer=MeshRasterizer(\n",
    "        cameras=cameras,\n",
    "        raster_settings=raster_settings\n",
    "    ),\n",
    "    shader=SoftPhongShader(\n",
    "        device=device,\n",
    "        cameras=cameras,\n",
    "        lights=lights,\n",
    "        blend_params=blend_params\n",
    "    )\n",
    ")\n",
    "\n",
    "# create one mesh per elmt in batch\n",
    "\n",
    "meshes = []\n",
    "for batch_idx, n_cubes in enumerate(num_cubes):\n",
    "    # Combine obj meshes into single mesh from rendering\n",
    "    # https://github.com/facebookresearch/pytorch3d/issues/15\n",
    "    vertices = []\n",
    "    faces = []\n",
    "    textures = []\n",
    "    vert_offset = 0 # offset by vertices from prior meshes\n",
    "    for i, (position, size,color) in enumerate(zip(positions[batch_idx, :n_cubes, :], sizes[batch_idx, :n_cubes],\n",
    "                                                   colors[batch_idx, :n_cubes, :])):\n",
    "        cube_vertices, cube_faces = render.get_cube_mesh(position, size)\n",
    "        # For now, apply same color to each mesh vertex (v \\in V)\n",
    "        texture = torch.ones_like(cube_vertices) * color# [V, 3]\n",
    "        # Offset faces (account for diff indexing, b/c treating as one mesh)\n",
    "        cube_faces = cube_faces + vert_offset\n",
    "        vert_offset = cube_vertices.shape[0]\n",
    "        vertices.append(cube_vertices)\n",
    "        faces.append(cube_faces)\n",
    "        textures.append(texture)\n",
    "\n",
    "    # Concatenate data into single mesh\n",
    "    vertices = torch.cat(vertices)\n",
    "    faces = torch.cat(faces)\n",
    "    textures = torch.cat(textures)[None]  # (1, num_verts, 3)\n",
    "    textures = TexturesVertex(verts_features=textures)\n",
    "    # each elmt of verts array is diff mesh in batch\n",
    "    mesh = Meshes(verts=[vertices], faces=[faces], textures=textures)\n",
    "    meshes.append(mesh)\n",
    "\n",
    "batched_mesh = join_meshes_as_batch(meshes)\n",
    "\n",
    "# Render image\n",
    "img = renderer(batched_mesh)   # (B, H, W, 4)\n",
    "\n",
    "# Remove alpha channel and return (B, im_size, im_size, 3)\n",
    "img = img[:, ..., :3]#.detach().squeeze().cpu().numpy()"
   ]
  },
  {
   "cell_type": "code",
   "execution_count": 7,
   "id": "7fbb65f4",
   "metadata": {},
   "outputs": [
    {
     "data": {
      "text/plain": [
       "<matplotlib.image.AxesImage at 0x2b6b3a061510>"
      ]
     },
     "execution_count": 7,
     "metadata": {},
     "output_type": "execute_result"
    },
    {
     "data": {
      "image/png": "[encoded data removed]",
      "text/plain": [
       "<Figure size 432x288 with 1 Axes>"
      ]
     },
     "metadata": {
      "needs_background": "light"
     },
     "output_type": "display_data"
    }
   ],
   "source": [
    "plt.imshow(img[0])\n",
    "#plt.axis('off')"
   ]
  },
  {
   "cell_type": "code",
   "execution_count": 8,
   "id": "37d6cfa1",
   "metadata": {},
   "outputs": [
    {
     "data": {
      "text/plain": [
       "<matplotlib.image.AxesImage at 0x2aeb6e96d910>"
      ]
     },
     "execution_count": 8,
     "metadata": {},
     "output_type": "execute_result"
    },
    {
     "data": {
      "image/png": "[encoded data removed]",
      "text/plain": [
       "<Figure size 432x288 with 1 Axes>"
      ]
     },
     "metadata": {
      "needs_background": "light"
     },
     "output_type": "display_data"
    }
   ],
   "source": [
    "plt.imshow(img[0])\n",
    "#plt.axis('off')"
   ]
  },
  {
   "cell_type": "code",
   "execution_count": 11,
   "id": "a599d4bf",
   "metadata": {},
   "outputs": [],
   "source": [
    "from itertools import tee\n",
    "from math import cos, pi, sin\n",
    "from typing import Iterator, Optional, Tuple\n",
    "\n",
    "import torch\n",
    "from pytorch3d.structures.meshes import Meshes\n",
    "\n",
    "\n",
    "# Make an iterator over the adjacent pairs: (-1, 0), (0, 1), ..., (N - 2, N - 1)\n",
    "def _make_pair_range(N: int) -> Iterator[Tuple[int, int]]:\n",
    "    i, j = tee(range(-1, N))\n",
    "    next(j, None)\n",
    "    return zip(i, j)\n",
    "r = 0.10\n",
    "R = 0.7\n",
    "sides = 100\n",
    "rings = 5\n",
    "\n",
    "verts = []\n",
    "for i in range(rings):\n",
    "    # phi ranges from 0 to 2 pi (rings - 1) / rings\n",
    "    phi = 2 * pi * i / rings\n",
    "    for j in range(sides):\n",
    "        # theta ranges from 0 to 2 pi (sides - 1) / sides\n",
    "        theta = 2 * pi * j / sides\n",
    "        x = (R + r * cos(theta)) * cos(phi)\n",
    "        y = (R + r * cos(theta)) * sin(phi)\n",
    "        z = r * sin(theta)\n",
    "        # This vertex has index i * sides + j\n",
    "        verts.append([x, y, z])\n",
    "\n",
    "faces = []\n",
    "for i0, i1 in _make_pair_range(rings):\n",
    "    index0 = (i0 % rings) * sides\n",
    "    index1 = (i1 % rings) * sides\n",
    "    for j0, j1 in _make_pair_range(sides):\n",
    "        index00 = index0 + (j0 % sides)\n",
    "        index01 = index0 + (j1 % sides)\n",
    "        index10 = index1 + (j0 % sides)\n",
    "        index11 = index1 + (j1 % sides)\n",
    "        faces.append([index00, index10, index11])\n",
    "        faces.append([index11, index01, index00])\n",
    "\n",
    "verts_list = [torch.tensor(verts, dtype=torch.float32, device=device)]\n",
    "faces_list = [torch.tensor(faces, dtype=torch.int64, device=device)]\n",
    "\n",
    "textures = torch.ones_like(torch.tensor(verts, dtype=torch.float32, device=device)) * color# [V, 3]\n",
    "textures = textures[None]\n",
    "textures = TexturesVertex(verts_features=textures)\n",
    "# each elmt of verts array is diff mesh in batch\n",
    "mesh = Meshes(verts=verts_list, faces=faces_list, textures=textures)"
   ]
  },
  {
   "cell_type": "code",
   "execution_count": 12,
   "id": "b2cac445",
   "metadata": {},
   "outputs": [
    {
     "data": {
      "text/plain": [
       "<matplotlib.image.AxesImage at 0x2aeb6eb4e490>"
      ]
     },
     "execution_count": 12,
     "metadata": {},
     "output_type": "execute_result"
    },
    {
     "data": {
      "image/png": "[encoded data removed]",
      "text/plain": [
       "<Figure size 432x288 with 1 Axes>"
      ]
     },
     "metadata": {
      "needs_background": "light"
     },
     "output_type": "display_data"
    }
   ],
   "source": [
    "img = renderer(mesh)   # (B, H, W, 4)\n",
    "# Remove alpha channel and return (B, im_size, im_size, 3)\n",
    "img = img[:, ..., :3]#.detach().squeeze().cpu().numpy()\n",
    "plt.imshow(img[0])\n",
    "#plt.axis('off')"
   ]
  },
  {
   "cell_type": "code",
   "execution_count": 13,
   "id": "ce155211",
   "metadata": {},
   "outputs": [
    {
     "data": {
      "text/plain": [
       "<matplotlib.image.AxesImage at 0x2aeb6ebb1fd0>"
      ]
     },
     "execution_count": 13,
     "metadata": {},
     "output_type": "execute_result"
    },
    {
     "data": {
      "image/png": "[encoded data removed]",
      "text/plain": [
       "<Figure size 432x288 with 1 Axes>"
      ]
     },
     "metadata": {
      "needs_background": "light"
     },
     "output_type": "display_data"
    }
   ],
   "source": [
    "# Make an iterator over the adjacent pairs: (-1, 0), (0, 1), ..., (N - 2, N - 1)\n",
    "def _make_pair_range(N: int, start=-1) -> Iterator[Tuple[int, int]]:\n",
    "    i, j = tee(range(start, N))\n",
    "    next(j, None)\n",
    "    return zip(i, j)\n",
    "\n",
    "radius = 0.15\n",
    "height = 0.5\n",
    "closed = True\n",
    "sides = 100\n",
    "rings = 5\n",
    "\n",
    "if not (sides > 0):\n",
    "    raise ValueError(\"sides must be > 0.\")\n",
    "if not (rings > 0):\n",
    "    raise ValueError(\"rings must be > 0.\")\n",
    "device = \"cpu\"#device if device else torch.device(\"cpu\")\n",
    "\n",
    "verts = []\n",
    "for h in range(rings):\n",
    "    z = height * h/(rings-1) - height/2\n",
    "    for i in range(sides):\n",
    "        # theta ranges from 0 to 2 pi (sides - 1) / sides\n",
    "        theta = 2 * pi * i / sides\n",
    "        x = radius * cos(theta)\n",
    "        y = radius * sin(theta)\n",
    "        verts.append([x, y, z])\n",
    "if closed:\n",
    "    # bottom center\n",
    "    verts.append([0, 0, -height/2])\n",
    "    #top center\n",
    "    verts.append([0, 0, height/2])\n",
    "\n",
    "faces = []\n",
    "for i0, i1 in _make_pair_range(sides):\n",
    "    index0 = i0 % sides\n",
    "    index1 = i1 % sides\n",
    "    for j in range(rings-1):\n",
    "        index00 = index0 + (j * sides)\n",
    "        index01 = index0 + ((j+1) *sides)\n",
    "        index10 = index1 + (j * sides)\n",
    "        index11 = index1 + ((j+1) *sides)\n",
    "        faces.append([index00, index10, index11])\n",
    "        faces.append([index11, index01, index00])\n",
    "\n",
    "if closed:\n",
    "    # close bottom and top of cylinder\n",
    "    for i0, i1 in _make_pair_range(sides):\n",
    "        index0 = i0 % sides\n",
    "        index1 = i1 % sides\n",
    "        faces.append([index0, len(verts)-2, index1])\n",
    "        faces.append([index1 + (rings-1)*sides, len(verts)-1, index0 + (rings-1)*sides])\n",
    "\n",
    "verts_list = [torch.tensor(verts, dtype=torch.float32, device=device)]\n",
    "faces_list = [torch.tensor(faces, dtype=torch.int64, device=device)]\n",
    "\n",
    "textures = torch.ones_like(torch.tensor(verts, dtype=torch.float32, device=device)) * color# [V, 3]\n",
    "textures = textures[None]\n",
    "textures = TexturesVertex(verts_features=textures)\n",
    "# each elmt of verts array is diff mesh in batch\n",
    "mesh = Meshes(verts=verts_list, faces=faces_list, textures=textures)\n",
    "\n",
    "img = renderer(mesh)   # (B, H, W, 4)\n",
    "# Remove alpha channel and return (B, im_size, im_size, 3)\n",
    "img = img[:, ..., :3]#.detach().squeeze().cpu().numpy()\n",
    "plt.imshow(img[0])"
   ]
  },
  {
   "cell_type": "code",
   "execution_count": 14,
   "id": "0016b685",
   "metadata": {},
   "outputs": [
    {
     "ename": "NameError",
     "evalue": "name 'uv_sphere' is not defined",
     "output_type": "error",
     "traceback": [
      "\u001b[0;31m---------------------------------------------------------------------------\u001b[0m",
      "\u001b[0;31mNameError\u001b[0m                                 Traceback (most recent call last)",
      "\u001b[0;32m<ipython-input-14-d42ccb6d5acc>\u001b[0m in \u001b[0;36m<module>\u001b[0;34m\u001b[0m\n\u001b[1;32m     39\u001b[0m           offset)\n\u001b[1;32m     40\u001b[0m \u001b[0;34m\u001b[0m\u001b[0m\n\u001b[0;32m---> 41\u001b[0;31m capsule = uv_sphere(radius=radius,\n\u001b[0m\u001b[1;32m     42\u001b[0m             \u001b[0mcount\u001b[0m\u001b[0;34m=\u001b[0m\u001b[0mcount\u001b[0m\u001b[0;34m,\u001b[0m\u001b[0;34m\u001b[0m\u001b[0;34m\u001b[0m\u001b[0m\n\u001b[1;32m     43\u001b[0m             theta=theta)\n",
      "\u001b[0;31mNameError\u001b[0m: name 'uv_sphere' is not defined"
     ]
    }
   ],
   "source": [
    "height=1.0\n",
    "radius=1.0\n",
    "count=[32, 32]\n",
    "\"\"\"\n",
    "Create a mesh of a capsule, or a cylinder with hemispheric ends.\n",
    "Parameters\n",
    "----------\n",
    "height : float\n",
    "Center to center distance of two spheres\n",
    "radius : float\n",
    "Radius of the cylinder and hemispheres\n",
    "count : (2,) int\n",
    "Number of sections on latitude and longitude\n",
    "Returns\n",
    "----------\n",
    "capsule : trimesh.Trimesh\n",
    "Capsule geometry with:\n",
    "- cylinder axis is along Z\n",
    "- one hemisphere is centered at the origin\n",
    "- other hemisphere is centered along the Z axis at height\n",
    "\"\"\"\n",
    "height = float(height)\n",
    "radius = float(radius)\n",
    "count = np.array(count, dtype=np.int64)\n",
    "count += np.mod(count, 2)\n",
    "\n",
    "tol_merge = 1e-5\n",
    "tol_zero = 1e-12\n",
    "\n",
    "# create a theta where there is a double band around the equator\n",
    "# so that we can offset the top and bottom of a sphere to\n",
    "# get a nicely meshed capsule\n",
    "theta = np.linspace(0, np.pi, count[0])\n",
    "center = np.clip(np.arctan(tol_merge / radius),\n",
    "         tol_merge, np.inf)\n",
    "offset = np.array([-center, center]) + (np.pi / 2)\n",
    "theta = np.insert(theta,\n",
    "          int(len(theta) / 2),\n",
    "          offset)\n",
    "\n",
    "capsule = uv_sphere(radius=radius,\n",
    "            count=count,\n",
    "            theta=theta)\n",
    "\n",
    "top = capsule.vertices[:, 2] > tol_zero\n",
    "capsule.vertices[top] += [0, 0, height]\n",
    "capsule.metadata.update({'shape': 'capsule',\n",
    "                 'height': height,\n",
    "                 'radius': radius})"
   ]
  },
  {
   "cell_type": "code",
   "execution_count": 12,
   "id": "e1cf89f6",
   "metadata": {},
   "outputs": [],
   "source": [
    "im_size = 256\n",
    "\n",
    "# Create camera\n",
    "R, T = look_at_view_transform(1.0, 90, 180,\n",
    "                              up=((0.0, -1.0, 0.0),),\n",
    "                              at=((0.0, 1, -0.2),))  # view top to see stacking\n",
    "cameras = FoVPerspectiveCameras(device=device, R=R, T=T,\n",
    "                               fov=60.0)\n",
    "\n",
    "# Settings for rasterizer (optional blur)\n",
    "# \n",
    "blend_params = BlendParams( sigma = 1e-4, gamma = 1e-4)#,background_color=(0.0,0.0,0.0))\n",
    "raster_settings = RasterizationSettings(\n",
    "    image_size=im_size, # crisper objects + texture w/ higher resolution\n",
    "    blur_radius = np.log(1. / 1e-4 - 1.) * blend_params.sigma, \n",
    "    faces_per_pixel=2, # increase at cost of GPU memory,\n",
    "    bin_size=0\n",
    ")\n",
    "\n",
    "# Add light from the front\n",
    "lights = PointLights(device=device, location=[[0.0, 3.0, 0.0]]) # top light\n",
    "\n",
    "# Compose renderer and shader\n",
    "renderer = MeshRenderer(\n",
    "    rasterizer=MeshRasterizer(\n",
    "        cameras=cameras,\n",
    "        raster_settings=raster_settings\n",
    "    ),\n",
    "    shader=SoftPhongShader(\n",
    "        device=device,\n",
    "        cameras=cameras,\n",
    "        lights=lights,\n",
    "        blend_params=blend_params\n",
    "    )\n",
    ")"
   ]
  },
  {
   "cell_type": "code",
   "execution_count": 56,
   "id": "bf8f9373",
   "metadata": {},
   "outputs": [
    {
     "name": "stdout",
     "output_type": "stream",
     "text": [
      "translation:  tensor([ 0.2799, -1.0000,  0.0000])\n",
      "translation:  tensor([ 0.2799, -1.0000,  0.0000])  size:  tensor([0.7000, 0.5000, 1.0000])\n"
     ]
    }
   ],
   "source": [
    "position = position\n",
    "size = sizes[batch_idx, :n_cubes][0]\n",
    "\n",
    "# hardcoded face indices\n",
    "faces = torch.tensor(\n",
    "    [\n",
    "        1,\n",
    "        3,\n",
    "        0,\n",
    "        4,\n",
    "        1,\n",
    "        0,\n",
    "        0,\n",
    "        3,\n",
    "        2,\n",
    "        2,\n",
    "        4,\n",
    "        0,\n",
    "        1,\n",
    "        7,\n",
    "        3,\n",
    "        5,\n",
    "        1,\n",
    "        4,\n",
    "        5,\n",
    "        7,\n",
    "        1,\n",
    "        3,\n",
    "        7,\n",
    "        2,\n",
    "        6,\n",
    "        4,\n",
    "        2,\n",
    "        2,\n",
    "        7,\n",
    "        6,\n",
    "        6,\n",
    "        5,\n",
    "        4,\n",
    "        7,\n",
    "        5,\n",
    "        6,\n",
    "    ],\n",
    "    dtype=torch.int32,\n",
    "    device=device,\n",
    ").view(-1, 3)\n",
    "\n",
    "\n",
    "# vertices of the cube\n",
    "centered_vertices = (\n",
    "    torch.tensor(\n",
    "        [0, 0, 0, 0, 0, 1, 0, 1, 0, 0, 1, 1, 1, 0, 0, 1, 0, 1, 1, 1, 0, 1, 1, 1],\n",
    "        dtype=torch.float,\n",
    "        device=device,\n",
    "    ).view(-1, 3)\n",
    "    - 0.5\n",
    ")\n",
    "size = torch.tensor([0.7, 0.5, 1.0])\n",
    "translation = position.clone()\n",
    "print(\"translation: \", translation)\n",
    "#translation[-1] += size[1] / 2\n",
    "print(\"translation: \", translation, \" size: \", size)\n",
    "vertices = centered_vertices * size + translation[None]\n",
    "cube_vertices = vertices\n",
    "cube_faces = faces"
   ]
  },
  {
   "cell_type": "code",
   "execution_count": 57,
   "id": "e041bf1b",
   "metadata": {},
   "outputs": [
    {
     "data": {
      "text/plain": [
       "<matplotlib.image.AxesImage at 0x2b6b3a927e90>"
      ]
     },
     "execution_count": 57,
     "metadata": {},
     "output_type": "execute_result"
    },
    {
     "data": {
      "image/png": "[encoded data removed]",
      "text/plain": [
       "<Figure size 432x288 with 1 Axes>"
      ]
     },
     "metadata": {
      "needs_background": "light"
     },
     "output_type": "display_data"
    }
   ],
   "source": [
    "meshes = []\n",
    "for batch_idx, n_cubes in enumerate(num_cubes):\n",
    "    # Combine obj meshes into single mesh from rendering\n",
    "    # https://github.com/facebookresearch/pytorch3d/issues/15\n",
    "    vertices = []\n",
    "    faces = []\n",
    "    textures = []\n",
    "    vert_offset = 0 # offset by vertices from prior meshes\n",
    "    \n",
    "    #cube_vertices, cube_faces = render.get_cube_mesh(position, size)\n",
    "    # For now, apply same color to each mesh vertex (v \\in V)\n",
    "    texture = torch.ones_like(cube_vertices) * color# [V, 3]\n",
    "    # Offset faces (account for diff indexing, b/c treating as one mesh)\n",
    "    cube_faces = cube_faces + vert_offset\n",
    "    vert_offset = cube_vertices.shape[0]\n",
    "    vertices.append(cube_vertices)\n",
    "    faces.append(cube_faces)\n",
    "    textures.append(texture)\n",
    "\n",
    "    # Concatenate data into single mesh\n",
    "    vertices = torch.cat(vertices)\n",
    "    faces = torch.cat(faces)\n",
    "    textures = torch.cat(textures)[None]  # (1, num_verts, 3)\n",
    "    textures = TexturesVertex(verts_features=textures)\n",
    "    # each elmt of verts array is diff mesh in batch\n",
    "    mesh = Meshes(verts=[vertices], faces=[faces], textures=textures)\n",
    "    meshes.append(mesh)\n",
    "\n",
    "batched_mesh = join_meshes_as_batch(meshes)\n",
    "\n",
    "# Render image\n",
    "img = renderer(batched_mesh)   # (B, H, W, 4)\n",
    "\n",
    "# Remove alpha channel and return (B, im_size, im_size, 3)\n",
    "img = img[:, ..., :3]#.detach().squeeze().cpu().numpy()\n",
    "\n",
    "plt.imshow(img[0])"
   ]
  },
  {
   "cell_type": "code",
   "execution_count": 25,
   "id": "0fff3ec1",
   "metadata": {},
   "outputs": [
    {
     "data": {
      "text/plain": [
       "<matplotlib.image.AxesImage at 0x2b6b3a37dfd0>"
      ]
     },
     "execution_count": 25,
     "metadata": {},
     "output_type": "execute_result"
    },
    {
     "data": {
      "image/png": "[encoded data removed]",
      "text/plain": [
       "<Figure size 432x288 with 1 Axes>"
      ]
     },
     "metadata": {
      "needs_background": "light"
     },
     "output_type": "display_data"
    }
   ],
   "source": []
  },
  {
   "cell_type": "code",
   "execution_count": 43,
   "id": "f9a4b666",
   "metadata": {},
   "outputs": [
    {
     "data": {
      "text/plain": [
       "tensor(0.5000)"
      ]
     },
     "execution_count": 43,
     "metadata": {},
     "output_type": "execute_result"
    }
   ],
   "source": [
    "sizes[batch_idx, :n_cubes][0]"
   ]
  },
  {
   "cell_type": "code",
   "execution_count": null,
   "id": "bc49d759",
   "metadata": {},
   "outputs": [],
   "source": []
  }
 ],
 "metadata": {
  "kernelspec": {
   "display_name": "Python 3",
   "language": "python",
   "name": "python3"
  },
  "language_info": {
   "codemirror_mode": {
    "name": "ipython",
    "version": 3
   },
   "file_extension": ".py",
   "mimetype": "text/x-python",
   "name": "python",
   "nbconvert_exporter": "python",
   "pygments_lexer": "ipython3",
   "version": "3.7.4"
  }
 },
 "nbformat": 4,
 "nbformat_minor": 5
}
