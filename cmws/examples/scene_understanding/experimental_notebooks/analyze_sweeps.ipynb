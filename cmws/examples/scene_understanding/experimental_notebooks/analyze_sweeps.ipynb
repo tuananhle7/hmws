{
 "cells": [
  {
   "cell_type": "code",
   "execution_count": 1,
   "id": "d5c18b7f",
   "metadata": {},
   "outputs": [],
   "source": [
    "'''\n",
    "Notebook to analyze and compare across sweep runs \n",
    "'''\n",
    "\n",
    "import os\n",
    "\n",
    "import cmws\n",
    "import matplotlib.pyplot as plt\n",
    "import seaborn as sns\n",
    "import torch\n",
    "from cmws import util\n",
    "from cmws.examples.scene_understanding import data, render, run, plot\n",
    "from cmws.examples.scene_understanding import util as scene3d_util \n",
    "import seaborn as sns\n",
    "import numpy as np\n",
    "\n",
    "\n",
    "# from: https://github.com/tuananhle7/continuous_mws/blob/master/cmws/examples/timeseries/plot.py#L244\n",
    "def plot_with_error_bars(ax, x, data, **plot_kwargs):\n",
    "    mid = np.nanmedian(data, axis=0)\n",
    "    low = np.nanpercentile(data, 25, axis=0)\n",
    "    high = np.nanpercentile(data, 75, axis=0)\n",
    "\n",
    "    num_not_nan = np.count_nonzero(~np.isnan(mid))\n",
    "\n",
    "    if num_not_nan > 0:\n",
    "        lines = ax.plot(x[:num_not_nan], mid[:num_not_nan], **plot_kwargs)\n",
    "        ax.fill_between(\n",
    "            x[:num_not_nan],\n",
    "            low[:num_not_nan],\n",
    "            high[:num_not_nan],\n",
    "            alpha=0.2,\n",
    "            color=lines[0].get_color(),\n",
    "        )"
   ]
  },
  {
   "cell_type": "code",
   "execution_count": 2,
   "id": "6d3fd513",
   "metadata": {},
   "outputs": [],
   "source": [
    "def get_analysis_plots(experiment_name, grid_sizes=[2, 3], cmws_version=\"cmws_2\"):\n",
    "    save_dir = f\"../save/{experiment_name}\"\n",
    "    checkpoint_paths = []\n",
    "    for config_name in sorted(os.listdir(save_dir)):\n",
    "        checkpoint_paths.append(util.get_checkpoint_path(experiment_name, config_name, -1))\n",
    "\n",
    "    for grid_size in grid_sizes:  # grid size\n",
    "        fig, axs = plt.subplots(1, 2, figsize=(2 * 6, 1 * 4))\n",
    "\n",
    "        colors = {cmws_version: \"C0\", \"rws\": \"C1\"}\n",
    "        added_label = {k: False for k in colors.keys()}  # keep track of whether we've used alg as label\n",
    "        for checkpoint_path in checkpoint_paths:\n",
    "            checkpoint_path = f\"../{checkpoint_path}\"\n",
    "\n",
    "            # Fix seed\n",
    "            util.set_seed(1)\n",
    "\n",
    "            if os.path.exists(checkpoint_path):\n",
    "                # Load checkpoint\n",
    "                try:\n",
    "                    model, optimizer, stats, run_args = scene3d_util.load_checkpoint(\n",
    "                        checkpoint_path, device=\"cpu\"\n",
    "                    )\n",
    "                except:\n",
    "                    continue\n",
    "\n",
    "                if run_args.num_grid_cols != grid_size: continue\n",
    "\n",
    "                generative_model, guide = model[\"generative_model\"], model[\"guide\"]\n",
    "                num_iterations = len(stats.losses)\n",
    "\n",
    "                if not added_label[run_args.algorithm]:\n",
    "                    label = run_args.algorithm\n",
    "                    added_label[run_args.algorithm] = True\n",
    "                else:\n",
    "                    label = None\n",
    "                color = colors[run_args.algorithm]\n",
    "                plot_kwargs = {\"label\": label, \"color\": color, \"alpha\": 0.8, \"linewidth\": 1.5}\n",
    "\n",
    "                # Logp\n",
    "                ax = axs[0]\n",
    "                ax.plot([x[0] for x in stats.log_ps], [x[1] for x in stats.log_ps], **plot_kwargs)\n",
    "\n",
    "                # KL\n",
    "                ax = axs[1]\n",
    "                ax.plot([x[0] for x in stats.kls], [x[1] for x in stats.kls], **plot_kwargs)\n",
    "        ax = axs[0]\n",
    "        ax.set_xlabel(\"Iteration\")\n",
    "        ax.set_ylabel(\"Log p\")\n",
    "\n",
    "        ax = axs[1]\n",
    "        ax.set_xlabel(\"Iteration\")\n",
    "        ax.set_ylabel(\"KL\")\n",
    "        ax.legend()\n",
    "        for ax in axs:\n",
    "            sns.despine(ax=ax, trim=True)\n",
    "        util.save_fig(fig, f\"{save_dir}/losses_{grid_size}.png\", dpi=200)\n",
    "\n",
    "    for grid_size in grid_sizes:  # grid size\n",
    "        # Load\n",
    "        x = []\n",
    "        log_ps = {cmws_version: [], \"cmws\": [], \"rws\": []}\n",
    "        kls = {cmws_version: [], \"cmws\": [], \"rws\": []}\n",
    "        colors = {cmws_version: \"C0\", \"rws\": \"C1\"}\n",
    "        for checkpoint_path in checkpoint_paths:\n",
    "            checkpoint_path = f\"../{checkpoint_path}\"\n",
    "            if os.path.exists(checkpoint_path):\n",
    "                # Load checkpoint\n",
    "                try:\n",
    "                    model, optimizer, stats, run_args = scene3d_util.load_checkpoint(\n",
    "                        checkpoint_path, device=\"cpu\"\n",
    "                    )\n",
    "                except:\n",
    "                    continue\n",
    "                if run_args.num_grid_cols != grid_size: continue\n",
    "                x_new = [x[0] for x in stats.log_ps]\n",
    "                if len(x_new) > len(x):\n",
    "                    x = x_new\n",
    "                log_ps[run_args.algorithm].append([x[1] for x in stats.log_ps])\n",
    "                kls[run_args.algorithm].append([x[1] for x in stats.kls])\n",
    "        # Make numpy arrays\n",
    "        max_len = len(x)\n",
    "        if grid_size == 2:\n",
    "            num_seeds = 5  # 10\n",
    "        else:\n",
    "            num_seeds = 5\n",
    "        algorithms = [cmws_version, \"rws\"]\n",
    "        log_ps_np = dict(\n",
    "            [[algorithm, np.full((num_seeds, max_len), np.nan)] for algorithm in algorithms]\n",
    "        )\n",
    "        kls_np = dict([[algorithm, np.full((num_seeds, max_len), np.nan)] for algorithm in algorithms])\n",
    "        for algorithm in algorithms:\n",
    "            for seed in range(num_seeds):\n",
    "                try:\n",
    "                    log_p = log_ps[algorithm][seed]\n",
    "                    kl = kls[algorithm][seed]\n",
    "                except Exception:\n",
    "                    log_p = []\n",
    "                    kl = []\n",
    "                log_ps_np[algorithm][seed][: len(log_p)] = log_p\n",
    "                kls_np[algorithm][seed][: len(kl)] = kl\n",
    "\n",
    "        # Plot\n",
    "        fig, axs = plt.subplots(1, 2, figsize=(2 * 6, 1 * 4))\n",
    "        for algorithm in algorithms:\n",
    "            label = algorithm\n",
    "            linestyle = \"solid\"\n",
    "            color = colors[algorithm]\n",
    "            plot_kwargs = {\"color\": color, \"linestyle\": linestyle, \"label\": label}\n",
    "\n",
    "            # Logp\n",
    "            log_p = log_ps_np[algorithm]\n",
    "            ax = axs[0]\n",
    "            plot_with_error_bars(ax, x, log_p, **plot_kwargs)\n",
    "\n",
    "            # KL\n",
    "            kl = kls_np[algorithm]\n",
    "            ax = axs[1]\n",
    "            plot_with_error_bars(ax, x, kl, **plot_kwargs)\n",
    "\n",
    "        ax = axs[0]\n",
    "        ax.set_xlabel(\"Iteration\")\n",
    "        ax.set_ylabel(\"Log p\")\n",
    "        ax.legend()\n",
    "\n",
    "        ax = axs[1]\n",
    "        ax.set_xlabel(\"Iteration\")\n",
    "        ax.set_ylabel(\"KL\")\n",
    "        ax.legend()\n",
    "        for ax in axs:\n",
    "            sns.despine(ax=ax, trim=True)\n",
    "        util.save_fig(fig, f\"{save_dir}/losses_{grid_size}_overlay.png\", dpi=200)"
   ]
  },
  {
   "cell_type": "code",
   "execution_count": 3,
   "id": "22a05e6e",
   "metadata": {
    "scrolled": true
   },
   "outputs": [
    {
     "name": "stdout",
     "output_type": "stream",
     "text": [
      "color status:  False\n",
      "path:  /om/user/katiemc/continuous_mws/cmws/examples/scene_understanding/data/1_1/train.pt\n",
      "23:50:33 | /om/user/katiemc/continuous_mws/cmws/examples/scene_understanding/data.py:302 | INFO: Loading dataset (test = False)...\n",
      "23:50:33 | /om/user/katiemc/continuous_mws/cmws/examples/scene_understanding/data.py:306 | INFO: Dataset (test = False) loaded /om/user/katiemc/continuous_mws/cmws/examples/scene_understanding/data/1_1/train.pt\n",
      "23:50:33 | /om/user/katiemc/continuous_mws/cmws/memory.py:20 | INFO: Initializing memory\n"
     ]
    },
    {
     "name": "stderr",
     "output_type": "stream",
     "text": [
      "100%|██████████| 100/100 [00:00<00:00, 1169.06it/s]"
     ]
    },
    {
     "name": "stdout",
     "output_type": "stream",
     "text": [
      "color status:  False\n",
      "path:  /om/user/katiemc/continuous_mws/cmws/examples/scene_understanding/data/1_1/train.pt\n",
      "23:50:34 | /om/user/katiemc/continuous_mws/cmws/examples/scene_understanding/data.py:302 | INFO: Loading dataset (test = False)...\n",
      "23:50:34 | /om/user/katiemc/continuous_mws/cmws/examples/scene_understanding/data.py:306 | INFO: Dataset (test = False) loaded /om/user/katiemc/continuous_mws/cmws/examples/scene_understanding/data/1_1/train.pt\n",
      "23:50:34 | /om/user/katiemc/continuous_mws/cmws/memory.py:20 | INFO: Initializing memory\n"
     ]
    },
    {
     "name": "stderr",
     "output_type": "stream",
     "text": [
      "\n",
      "100%|██████████| 100/100 [00:00<00:00, 1179.85it/s]\n"
     ]
    },
    {
     "name": "stdout",
     "output_type": "stream",
     "text": [
      "color status:  False\n",
      "path:  /om/user/katiemc/continuous_mws/cmws/examples/scene_understanding/data/1_1/train.pt\n",
      "23:50:34 | /om/user/katiemc/continuous_mws/cmws/examples/scene_understanding/data.py:302 | INFO: Loading dataset (test = False)...\n",
      "23:50:34 | /om/user/katiemc/continuous_mws/cmws/examples/scene_understanding/data.py:306 | INFO: Dataset (test = False) loaded /om/user/katiemc/continuous_mws/cmws/examples/scene_understanding/data/1_1/train.pt\n",
      "23:50:34 | /om/user/katiemc/continuous_mws/cmws/memory.py:20 | INFO: Initializing memory\n"
     ]
    },
    {
     "name": "stderr",
     "output_type": "stream",
     "text": [
      "100%|██████████| 100/100 [00:00<00:00, 1163.87it/s]\n"
     ]
    },
    {
     "name": "stdout",
     "output_type": "stream",
     "text": [
      "color status:  False\n",
      "path:  /om/user/katiemc/continuous_mws/cmws/examples/scene_understanding/data/1_1/train.pt\n",
      "23:50:34 | /om/user/katiemc/continuous_mws/cmws/examples/scene_understanding/data.py:302 | INFO: Loading dataset (test = False)...\n",
      "23:50:34 | /om/user/katiemc/continuous_mws/cmws/examples/scene_understanding/data.py:306 | INFO: Dataset (test = False) loaded /om/user/katiemc/continuous_mws/cmws/examples/scene_understanding/data/1_1/train.pt\n",
      "23:50:34 | /om/user/katiemc/continuous_mws/cmws/memory.py:20 | INFO: Initializing memory\n"
     ]
    },
    {
     "name": "stderr",
     "output_type": "stream",
     "text": [
      "100%|██████████| 100/100 [00:00<00:00, 1174.52it/s]\n"
     ]
    },
    {
     "name": "stdout",
     "output_type": "stream",
     "text": [
      "color status:  False\n",
      "path:  /om/user/katiemc/continuous_mws/cmws/examples/scene_understanding/data/1_1/train.pt\n",
      "23:50:34 | /om/user/katiemc/continuous_mws/cmws/examples/scene_understanding/data.py:302 | INFO: Loading dataset (test = False)...\n",
      "23:50:34 | /om/user/katiemc/continuous_mws/cmws/examples/scene_understanding/data.py:306 | INFO: Dataset (test = False) loaded /om/user/katiemc/continuous_mws/cmws/examples/scene_understanding/data/1_1/train.pt\n",
      "23:50:34 | /om/user/katiemc/continuous_mws/cmws/memory.py:20 | INFO: Initializing memory\n"
     ]
    },
    {
     "name": "stderr",
     "output_type": "stream",
     "text": [
      "100%|██████████| 100/100 [00:00<00:00, 1161.92it/s]\n"
     ]
    },
    {
     "name": "stdout",
     "output_type": "stream",
     "text": [
      "color status:  False\n",
      "path:  /om/user/katiemc/continuous_mws/cmws/examples/scene_understanding/data/1_1/train.pt\n",
      "23:50:34 | /om/user/katiemc/continuous_mws/cmws/examples/scene_understanding/data.py:302 | INFO: Loading dataset (test = False)...\n",
      "23:50:34 | /om/user/katiemc/continuous_mws/cmws/examples/scene_understanding/data.py:306 | INFO: Dataset (test = False) loaded /om/user/katiemc/continuous_mws/cmws/examples/scene_understanding/data/1_1/train.pt\n",
      "23:50:34 | /om/user/katiemc/continuous_mws/cmws/memory.py:20 | INFO: Initializing memory\n"
     ]
    },
    {
     "name": "stderr",
     "output_type": "stream",
     "text": [
      "100%|██████████| 100/100 [00:00<00:00, 1175.45it/s]\n"
     ]
    },
    {
     "name": "stdout",
     "output_type": "stream",
     "text": [
      "color status:  False\n",
      "path:  /om/user/katiemc/continuous_mws/cmws/examples/scene_understanding/data/1_1/train.pt\n",
      "23:50:34 | /om/user/katiemc/continuous_mws/cmws/examples/scene_understanding/data.py:302 | INFO: Loading dataset (test = False)...\n",
      "23:50:34 | /om/user/katiemc/continuous_mws/cmws/examples/scene_understanding/data.py:306 | INFO: Dataset (test = False) loaded /om/user/katiemc/continuous_mws/cmws/examples/scene_understanding/data/1_1/train.pt\n",
      "23:50:34 | /om/user/katiemc/continuous_mws/cmws/memory.py:20 | INFO: Initializing memory\n"
     ]
    },
    {
     "name": "stderr",
     "output_type": "stream",
     "text": [
      "100%|██████████| 100/100 [00:00<00:00, 1183.12it/s]\n"
     ]
    },
    {
     "name": "stdout",
     "output_type": "stream",
     "text": [
      "color status:  False\n",
      "path:  /om/user/katiemc/continuous_mws/cmws/examples/scene_understanding/data/1_1/train.pt\n",
      "23:50:35 | /om/user/katiemc/continuous_mws/cmws/examples/scene_understanding/data.py:302 | INFO: Loading dataset (test = False)...\n",
      "23:50:35 | /om/user/katiemc/continuous_mws/cmws/examples/scene_understanding/data.py:306 | INFO: Dataset (test = False) loaded /om/user/katiemc/continuous_mws/cmws/examples/scene_understanding/data/1_1/train.pt\n",
      "23:50:35 | /om/user/katiemc/continuous_mws/cmws/memory.py:20 | INFO: Initializing memory\n"
     ]
    },
    {
     "name": "stderr",
     "output_type": "stream",
     "text": [
      "100%|██████████| 100/100 [00:00<00:00, 1190.93it/s]"
     ]
    },
    {
     "name": "stdout",
     "output_type": "stream",
     "text": [
      "color status:  False\n",
      "path:  /om/user/katiemc/continuous_mws/cmws/examples/scene_understanding/data/1_1/train.pt\n",
      "23:50:35 | /om/user/katiemc/continuous_mws/cmws/examples/scene_understanding/data.py:302 | INFO: Loading dataset (test = False)...\n"
     ]
    },
    {
     "name": "stderr",
     "output_type": "stream",
     "text": [
      "\n"
     ]
    },
    {
     "name": "stdout",
     "output_type": "stream",
     "text": [
      "23:50:35 | /om/user/katiemc/continuous_mws/cmws/examples/scene_understanding/data.py:306 | INFO: Dataset (test = False) loaded /om/user/katiemc/continuous_mws/cmws/examples/scene_understanding/data/1_1/train.pt\n",
      "23:50:35 | /om/user/katiemc/continuous_mws/cmws/memory.py:20 | INFO: Initializing memory\n"
     ]
    },
    {
     "name": "stderr",
     "output_type": "stream",
     "text": [
      "100%|██████████| 100/100 [00:00<00:00, 1159.74it/s]\n"
     ]
    },
    {
     "name": "stdout",
     "output_type": "stream",
     "text": [
      "color status:  False\n",
      "path:  /om/user/katiemc/continuous_mws/cmws/examples/scene_understanding/data/1_1/train.pt\n",
      "23:50:35 | /om/user/katiemc/continuous_mws/cmws/examples/scene_understanding/data.py:302 | INFO: Loading dataset (test = False)...\n",
      "23:50:35 | /om/user/katiemc/continuous_mws/cmws/examples/scene_understanding/data.py:306 | INFO: Dataset (test = False) loaded /om/user/katiemc/continuous_mws/cmws/examples/scene_understanding/data/1_1/train.pt\n",
      "23:50:35 | /om/user/katiemc/continuous_mws/cmws/memory.py:20 | INFO: Initializing memory\n"
     ]
    },
    {
     "name": "stderr",
     "output_type": "stream",
     "text": [
      "100%|██████████| 100/100 [00:00<00:00, 1125.11it/s]\n"
     ]
    },
    {
     "name": "stdout",
     "output_type": "stream",
     "text": [
      "color status:  False\n",
      "path:  /om/user/katiemc/continuous_mws/cmws/examples/scene_understanding/data/1_1/train.pt\n",
      "23:50:35 | /om/user/katiemc/continuous_mws/cmws/examples/scene_understanding/data.py:302 | INFO: Loading dataset (test = False)...\n",
      "23:50:35 | /om/user/katiemc/continuous_mws/cmws/examples/scene_understanding/data.py:306 | INFO: Dataset (test = False) loaded /om/user/katiemc/continuous_mws/cmws/examples/scene_understanding/data/1_1/train.pt\n",
      "23:50:35 | /om/user/katiemc/continuous_mws/cmws/memory.py:20 | INFO: Initializing memory\n"
     ]
    },
    {
     "name": "stderr",
     "output_type": "stream",
     "text": [
      "100%|██████████| 100/100 [00:00<00:00, 1132.58it/s]\n"
     ]
    },
    {
     "name": "stdout",
     "output_type": "stream",
     "text": [
      "color status:  False\n",
      "path:  /om/user/katiemc/continuous_mws/cmws/examples/scene_understanding/data/1_1/train.pt\n",
      "23:50:35 | /om/user/katiemc/continuous_mws/cmws/examples/scene_understanding/data.py:302 | INFO: Loading dataset (test = False)...\n",
      "23:50:35 | /om/user/katiemc/continuous_mws/cmws/examples/scene_understanding/data.py:306 | INFO: Dataset (test = False) loaded /om/user/katiemc/continuous_mws/cmws/examples/scene_understanding/data/1_1/train.pt\n",
      "23:50:35 | /om/user/katiemc/continuous_mws/cmws/memory.py:20 | INFO: Initializing memory\n"
     ]
    },
    {
     "name": "stderr",
     "output_type": "stream",
     "text": [
      "100%|██████████| 100/100 [00:00<00:00, 1140.99it/s]\n"
     ]
    },
    {
     "name": "stdout",
     "output_type": "stream",
     "text": [
      "color status:  False\n",
      "path:  /om/user/katiemc/continuous_mws/cmws/examples/scene_understanding/data/1_1/train.pt\n",
      "23:50:35 | /om/user/katiemc/continuous_mws/cmws/examples/scene_understanding/data.py:302 | INFO: Loading dataset (test = False)...\n",
      "23:50:35 | /om/user/katiemc/continuous_mws/cmws/examples/scene_understanding/data.py:306 | INFO: Dataset (test = False) loaded /om/user/katiemc/continuous_mws/cmws/examples/scene_understanding/data/1_1/train.pt\n",
      "23:50:35 | /om/user/katiemc/continuous_mws/cmws/memory.py:20 | INFO: Initializing memory\n"
     ]
    },
    {
     "name": "stderr",
     "output_type": "stream",
     "text": [
      "100%|██████████| 100/100 [00:00<00:00, 1138.14it/s]\n"
     ]
    },
    {
     "name": "stdout",
     "output_type": "stream",
     "text": [
      "color status:  False\n",
      "path:  /om/user/katiemc/continuous_mws/cmws/examples/scene_understanding/data/1_1/train.pt\n",
      "23:50:36 | /om/user/katiemc/continuous_mws/cmws/examples/scene_understanding/data.py:302 | INFO: Loading dataset (test = False)...\n",
      "23:50:36 | /om/user/katiemc/continuous_mws/cmws/examples/scene_understanding/data.py:306 | INFO: Dataset (test = False) loaded /om/user/katiemc/continuous_mws/cmws/examples/scene_understanding/data/1_1/train.pt\n",
      "23:50:36 | /om/user/katiemc/continuous_mws/cmws/memory.py:20 | INFO: Initializing memory\n"
     ]
    },
    {
     "name": "stderr",
     "output_type": "stream",
     "text": [
      "100%|██████████| 100/100 [00:00<00:00, 1157.99it/s]\n"
     ]
    },
    {
     "name": "stdout",
     "output_type": "stream",
     "text": [
      "color status:  False\n",
      "path:  /om/user/katiemc/continuous_mws/cmws/examples/scene_understanding/data/1_1/train.pt\n",
      "23:50:36 | /om/user/katiemc/continuous_mws/cmws/examples/scene_understanding/data.py:302 | INFO: Loading dataset (test = False)...\n",
      "23:50:36 | /om/user/katiemc/continuous_mws/cmws/examples/scene_understanding/data.py:306 | INFO: Dataset (test = False) loaded /om/user/katiemc/continuous_mws/cmws/examples/scene_understanding/data/1_1/train.pt\n",
      "23:50:36 | /om/user/katiemc/continuous_mws/cmws/memory.py:20 | INFO: Initializing memory\n"
     ]
    },
    {
     "name": "stderr",
     "output_type": "stream",
     "text": [
      "100%|██████████| 100/100 [00:00<00:00, 1158.23it/s]\n"
     ]
    },
    {
     "name": "stdout",
     "output_type": "stream",
     "text": [
      "color status:  False\n",
      "path:  /om/user/katiemc/continuous_mws/cmws/examples/scene_understanding/data/1_1/train.pt\n",
      "23:50:36 | /om/user/katiemc/continuous_mws/cmws/examples/scene_understanding/data.py:302 | INFO: Loading dataset (test = False)...\n",
      "23:50:36 | /om/user/katiemc/continuous_mws/cmws/examples/scene_understanding/data.py:306 | INFO: Dataset (test = False) loaded /om/user/katiemc/continuous_mws/cmws/examples/scene_understanding/data/1_1/train.pt\n",
      "23:50:36 | /om/user/katiemc/continuous_mws/cmws/memory.py:20 | INFO: Initializing memory\n"
     ]
    },
    {
     "name": "stderr",
     "output_type": "stream",
     "text": [
      "100%|██████████| 100/100 [00:00<00:00, 1137.14it/s]\n"
     ]
    },
    {
     "name": "stdout",
     "output_type": "stream",
     "text": [
      "23:50:38 | /om/user/katiemc/continuous_mws/cmws/util.py:293 | INFO: Saved to ../save/cmws_vs_rws_learnColor_shrink001/losses_2.png\n",
      "color status:  False\n",
      "path:  /om/user/katiemc/continuous_mws/cmws/examples/scene_understanding/data/1_1/train.pt\n",
      "23:50:38 | /om/user/katiemc/continuous_mws/cmws/examples/scene_understanding/data.py:302 | INFO: Loading dataset (test = False)...\n",
      "23:50:38 | /om/user/katiemc/continuous_mws/cmws/examples/scene_understanding/data.py:306 | INFO: Dataset (test = False) loaded /om/user/katiemc/continuous_mws/cmws/examples/scene_understanding/data/1_1/train.pt\n",
      "23:50:38 | /om/user/katiemc/continuous_mws/cmws/memory.py:20 | INFO: Initializing memory\n"
     ]
    },
    {
     "name": "stderr",
     "output_type": "stream",
     "text": [
      "100%|██████████| 100/100 [00:00<00:00, 1182.76it/s]"
     ]
    },
    {
     "name": "stdout",
     "output_type": "stream",
     "text": [
      "color status:  False\n",
      "path:  /om/user/katiemc/continuous_mws/cmws/examples/scene_understanding/data/1_1/train.pt\n",
      "23:50:38 | /om/user/katiemc/continuous_mws/cmws/examples/scene_understanding/data.py:302 | INFO: Loading dataset (test = False)...\n",
      "23:50:38 | /om/user/katiemc/continuous_mws/cmws/examples/scene_understanding/data.py:306 | INFO: Dataset (test = False) loaded /om/user/katiemc/continuous_mws/cmws/examples/scene_understanding/data/1_1/train.pt\n",
      "23:50:38 | /om/user/katiemc/continuous_mws/cmws/memory.py:20 | INFO: Initializing memory\n"
     ]
    },
    {
     "name": "stderr",
     "output_type": "stream",
     "text": [
      "\n",
      "100%|██████████| 100/100 [00:00<00:00, 1186.47it/s]"
     ]
    },
    {
     "name": "stdout",
     "output_type": "stream",
     "text": [
      "color status:  False\n",
      "path:  /om/user/katiemc/continuous_mws/cmws/examples/scene_understanding/data/1_1/train.pt\n",
      "23:50:38 | /om/user/katiemc/continuous_mws/cmws/examples/scene_understanding/data.py:302 | INFO: Loading dataset (test = False)...\n",
      "23:50:38 | /om/user/katiemc/continuous_mws/cmws/examples/scene_understanding/data.py:306 | INFO: Dataset (test = False) loaded /om/user/katiemc/continuous_mws/cmws/examples/scene_understanding/data/1_1/train.pt\n",
      "23:50:38 | /om/user/katiemc/continuous_mws/cmws/memory.py:20 | INFO: Initializing memory\n"
     ]
    },
    {
     "name": "stderr",
     "output_type": "stream",
     "text": [
      "\n",
      "100%|██████████| 100/100 [00:00<00:00, 1182.93it/s]"
     ]
    },
    {
     "name": "stdout",
     "output_type": "stream",
     "text": [
      "color status:  False\n",
      "path:  /om/user/katiemc/continuous_mws/cmws/examples/scene_understanding/data/1_1/train.pt\n",
      "23:50:38 | /om/user/katiemc/continuous_mws/cmws/examples/scene_understanding/data.py:302 | INFO: Loading dataset (test = False)...\n",
      "23:50:38 | /om/user/katiemc/continuous_mws/cmws/examples/scene_understanding/data.py:306 | INFO: Dataset (test = False) loaded /om/user/katiemc/continuous_mws/cmws/examples/scene_understanding/data/1_1/train.pt\n",
      "23:50:38 | /om/user/katiemc/continuous_mws/cmws/memory.py:20 | INFO: Initializing memory\n"
     ]
    },
    {
     "name": "stderr",
     "output_type": "stream",
     "text": [
      "\n",
      "100%|██████████| 100/100 [00:00<00:00, 1147.37it/s]"
     ]
    },
    {
     "name": "stdout",
     "output_type": "stream",
     "text": [
      "color status:  False\n",
      "path:  /om/user/katiemc/continuous_mws/cmws/examples/scene_understanding/data/1_1/train.pt\n",
      "23:50:38 | /om/user/katiemc/continuous_mws/cmws/examples/scene_understanding/data.py:302 | INFO: Loading dataset (test = False)...\n",
      "23:50:38 | /om/user/katiemc/continuous_mws/cmws/examples/scene_understanding/data.py:306 | INFO: Dataset (test = False) loaded /om/user/katiemc/continuous_mws/cmws/examples/scene_understanding/data/1_1/train.pt\n",
      "23:50:38 | /om/user/katiemc/continuous_mws/cmws/memory.py:20 | INFO: Initializing memory\n"
     ]
    },
    {
     "name": "stderr",
     "output_type": "stream",
     "text": [
      "\n",
      "100%|██████████| 100/100 [00:00<00:00, 1173.59it/s]"
     ]
    },
    {
     "name": "stdout",
     "output_type": "stream",
     "text": [
      "color status:  False\n",
      "path:  /om/user/katiemc/continuous_mws/cmws/examples/scene_understanding/data/1_1/train.pt\n",
      "23:50:38 | /om/user/katiemc/continuous_mws/cmws/examples/scene_understanding/data.py:302 | INFO: Loading dataset (test = False)...\n",
      "23:50:38 | /om/user/katiemc/continuous_mws/cmws/examples/scene_understanding/data.py:306 | INFO: Dataset (test = False) loaded /om/user/katiemc/continuous_mws/cmws/examples/scene_understanding/data/1_1/train.pt\n",
      "23:50:38 | /om/user/katiemc/continuous_mws/cmws/memory.py:20 | INFO: Initializing memory\n"
     ]
    },
    {
     "name": "stderr",
     "output_type": "stream",
     "text": [
      "\n",
      "100%|██████████| 100/100 [00:00<00:00, 1172.75it/s]"
     ]
    },
    {
     "name": "stdout",
     "output_type": "stream",
     "text": [
      "color status:  False\n",
      "path:  /om/user/katiemc/continuous_mws/cmws/examples/scene_understanding/data/1_1/train.pt\n",
      "23:50:39 | /om/user/katiemc/continuous_mws/cmws/examples/scene_understanding/data.py:302 | INFO: Loading dataset (test = False)...\n",
      "23:50:39 | /om/user/katiemc/continuous_mws/cmws/examples/scene_understanding/data.py:306 | INFO: Dataset (test = False) loaded /om/user/katiemc/continuous_mws/cmws/examples/scene_understanding/data/1_1/train.pt\n",
      "23:50:39 | /om/user/katiemc/continuous_mws/cmws/memory.py:20 | INFO: Initializing memory\n"
     ]
    },
    {
     "name": "stderr",
     "output_type": "stream",
     "text": [
      "\n",
      "100%|██████████| 100/100 [00:00<00:00, 1152.62it/s]"
     ]
    },
    {
     "name": "stdout",
     "output_type": "stream",
     "text": [
      "color status:  False\n",
      "path:  /om/user/katiemc/continuous_mws/cmws/examples/scene_understanding/data/1_1/train.pt\n",
      "23:50:39 | /om/user/katiemc/continuous_mws/cmws/examples/scene_understanding/data.py:302 | INFO: Loading dataset (test = False)...\n",
      "23:50:39 | /om/user/katiemc/continuous_mws/cmws/examples/scene_understanding/data.py:306 | INFO: Dataset (test = False) loaded /om/user/katiemc/continuous_mws/cmws/examples/scene_understanding/data/1_1/train.pt\n",
      "23:50:39 | /om/user/katiemc/continuous_mws/cmws/memory.py:20 | INFO: Initializing memory\n"
     ]
    },
    {
     "name": "stderr",
     "output_type": "stream",
     "text": [
      "\n",
      "100%|██████████| 100/100 [00:00<00:00, 1186.32it/s]"
     ]
    },
    {
     "name": "stdout",
     "output_type": "stream",
     "text": [
      "color status:  False\n",
      "path:  /om/user/katiemc/continuous_mws/cmws/examples/scene_understanding/data/1_1/train.pt\n",
      "23:50:39 | /om/user/katiemc/continuous_mws/cmws/examples/scene_understanding/data.py:302 | INFO: Loading dataset (test = False)...\n",
      "23:50:39 | /om/user/katiemc/continuous_mws/cmws/examples/scene_understanding/data.py:306 | INFO: Dataset (test = False) loaded /om/user/katiemc/continuous_mws/cmws/examples/scene_understanding/data/1_1/train.pt\n",
      "23:50:39 | /om/user/katiemc/continuous_mws/cmws/memory.py:20 | INFO: Initializing memory\n"
     ]
    },
    {
     "name": "stderr",
     "output_type": "stream",
     "text": [
      "\n",
      "100%|██████████| 100/100 [00:00<00:00, 1170.39it/s]"
     ]
    },
    {
     "name": "stdout",
     "output_type": "stream",
     "text": [
      "color status:  False\n",
      "path:  /om/user/katiemc/continuous_mws/cmws/examples/scene_understanding/data/1_1/train.pt\n",
      "23:50:39 | /om/user/katiemc/continuous_mws/cmws/examples/scene_understanding/data.py:302 | INFO: Loading dataset (test = False)...\n",
      "23:50:39 | /om/user/katiemc/continuous_mws/cmws/examples/scene_understanding/data.py:306 | INFO: Dataset (test = False) loaded /om/user/katiemc/continuous_mws/cmws/examples/scene_understanding/data/1_1/train.pt\n",
      "23:50:39 | /om/user/katiemc/continuous_mws/cmws/memory.py:20 | INFO: Initializing memory\n"
     ]
    },
    {
     "name": "stderr",
     "output_type": "stream",
     "text": [
      "\n",
      "100%|██████████| 100/100 [00:00<00:00, 1135.70it/s]"
     ]
    },
    {
     "name": "stdout",
     "output_type": "stream",
     "text": [
      "color status:  False\n",
      "path:  /om/user/katiemc/continuous_mws/cmws/examples/scene_understanding/data/1_1/train.pt\n",
      "23:50:39 | /om/user/katiemc/continuous_mws/cmws/examples/scene_understanding/data.py:302 | INFO: Loading dataset (test = False)...\n",
      "23:50:39 | /om/user/katiemc/continuous_mws/cmws/examples/scene_understanding/data.py:306 | INFO: Dataset (test = False) loaded /om/user/katiemc/continuous_mws/cmws/examples/scene_understanding/data/1_1/train.pt\n",
      "23:50:39 | /om/user/katiemc/continuous_mws/cmws/memory.py:20 | INFO: Initializing memory\n"
     ]
    },
    {
     "name": "stderr",
     "output_type": "stream",
     "text": [
      "\n",
      "100%|██████████| 100/100 [00:00<00:00, 1146.77it/s]"
     ]
    },
    {
     "name": "stdout",
     "output_type": "stream",
     "text": [
      "color status:  False\n",
      "path:  /om/user/katiemc/continuous_mws/cmws/examples/scene_understanding/data/1_1/train.pt\n",
      "23:50:39 | /om/user/katiemc/continuous_mws/cmws/examples/scene_understanding/data.py:302 | INFO: Loading dataset (test = False)...\n",
      "23:50:39 | /om/user/katiemc/continuous_mws/cmws/examples/scene_understanding/data.py:306 | INFO: Dataset (test = False) loaded /om/user/katiemc/continuous_mws/cmws/examples/scene_understanding/data/1_1/train.pt\n",
      "23:50:39 | /om/user/katiemc/continuous_mws/cmws/memory.py:20 | INFO: Initializing memory\n"
     ]
    },
    {
     "name": "stderr",
     "output_type": "stream",
     "text": [
      "\n",
      "100%|██████████| 100/100 [00:00<00:00, 1119.01it/s]"
     ]
    },
    {
     "name": "stdout",
     "output_type": "stream",
     "text": [
      "color status:  False\n",
      "path:  /om/user/katiemc/continuous_mws/cmws/examples/scene_understanding/data/1_1/train.pt\n",
      "23:50:39 | /om/user/katiemc/continuous_mws/cmws/examples/scene_understanding/data.py:302 | INFO: Loading dataset (test = False)...\n",
      "23:50:39 | /om/user/katiemc/continuous_mws/cmws/examples/scene_understanding/data.py:306 | INFO: Dataset (test = False) loaded /om/user/katiemc/continuous_mws/cmws/examples/scene_understanding/data/1_1/train.pt\n",
      "23:50:39 | /om/user/katiemc/continuous_mws/cmws/memory.py:20 | INFO: Initializing memory\n"
     ]
    },
    {
     "name": "stderr",
     "output_type": "stream",
     "text": [
      "\n",
      "100%|██████████| 100/100 [00:00<00:00, 1152.53it/s]"
     ]
    },
    {
     "name": "stdout",
     "output_type": "stream",
     "text": [
      "color status:  False\n",
      "path:  /om/user/katiemc/continuous_mws/cmws/examples/scene_understanding/data/1_1/train.pt\n",
      "23:50:39 | /om/user/katiemc/continuous_mws/cmws/examples/scene_understanding/data.py:302 | INFO: Loading dataset (test = False)...\n",
      "23:50:39 | /om/user/katiemc/continuous_mws/cmws/examples/scene_understanding/data.py:306 | INFO: Dataset (test = False) loaded /om/user/katiemc/continuous_mws/cmws/examples/scene_understanding/data/1_1/train.pt\n",
      "23:50:39 | /om/user/katiemc/continuous_mws/cmws/memory.py:20 | INFO: Initializing memory\n"
     ]
    },
    {
     "name": "stderr",
     "output_type": "stream",
     "text": [
      "\n",
      "100%|██████████| 100/100 [00:00<00:00, 1107.31it/s]"
     ]
    },
    {
     "name": "stdout",
     "output_type": "stream",
     "text": [
      "color status:  False\n",
      "path:  /om/user/katiemc/continuous_mws/cmws/examples/scene_understanding/data/1_1/train.pt\n",
      "23:50:40 | /om/user/katiemc/continuous_mws/cmws/examples/scene_understanding/data.py:302 | INFO: Loading dataset (test = False)...\n",
      "23:50:40 | /om/user/katiemc/continuous_mws/cmws/examples/scene_understanding/data.py:306 | INFO: Dataset (test = False) loaded /om/user/katiemc/continuous_mws/cmws/examples/scene_understanding/data/1_1/train.pt\n",
      "23:50:40 | /om/user/katiemc/continuous_mws/cmws/memory.py:20 | INFO: Initializing memory\n"
     ]
    },
    {
     "name": "stderr",
     "output_type": "stream",
     "text": [
      "\n",
      "100%|██████████| 100/100 [00:00<00:00, 1110.84it/s]"
     ]
    },
    {
     "name": "stdout",
     "output_type": "stream",
     "text": [
      "color status:  False\n",
      "path:  /om/user/katiemc/continuous_mws/cmws/examples/scene_understanding/data/1_1/train.pt\n",
      "23:50:40 | /om/user/katiemc/continuous_mws/cmws/examples/scene_understanding/data.py:302 | INFO: Loading dataset (test = False)...\n",
      "23:50:40 | /om/user/katiemc/continuous_mws/cmws/examples/scene_understanding/data.py:306 | INFO: Dataset (test = False) loaded /om/user/katiemc/continuous_mws/cmws/examples/scene_understanding/data/1_1/train.pt\n",
      "23:50:40 | /om/user/katiemc/continuous_mws/cmws/memory.py:20 | INFO: Initializing memory\n"
     ]
    },
    {
     "name": "stderr",
     "output_type": "stream",
     "text": [
      "\n",
      "100%|██████████| 100/100 [00:00<00:00, 1166.33it/s]\n"
     ]
    },
    {
     "name": "stdout",
     "output_type": "stream",
     "text": [
      "23:50:41 | /om/user/katiemc/continuous_mws/cmws/util.py:293 | INFO: Saved to ../save/cmws_vs_rws_learnColor_shrink001/losses_3.png\n",
      "color status:  False\n",
      "path:  /om/user/katiemc/continuous_mws/cmws/examples/scene_understanding/data/1_1/train.pt\n",
      "23:50:41 | /om/user/katiemc/continuous_mws/cmws/examples/scene_understanding/data.py:302 | INFO: Loading dataset (test = False)...\n",
      "23:50:41 | /om/user/katiemc/continuous_mws/cmws/examples/scene_understanding/data.py:306 | INFO: Dataset (test = False) loaded /om/user/katiemc/continuous_mws/cmws/examples/scene_understanding/data/1_1/train.pt\n",
      "23:50:41 | /om/user/katiemc/continuous_mws/cmws/memory.py:20 | INFO: Initializing memory\n"
     ]
    },
    {
     "name": "stderr",
     "output_type": "stream",
     "text": [
      "100%|██████████| 100/100 [00:00<00:00, 1194.55it/s]"
     ]
    },
    {
     "name": "stdout",
     "output_type": "stream",
     "text": [
      "color status:  False\n",
      "path:  /om/user/katiemc/continuous_mws/cmws/examples/scene_understanding/data/1_1/train.pt\n",
      "23:50:41 | /om/user/katiemc/continuous_mws/cmws/examples/scene_understanding/data.py:302 | INFO: Loading dataset (test = False)...\n",
      "23:50:41 | /om/user/katiemc/continuous_mws/cmws/examples/scene_understanding/data.py:306 | INFO: Dataset (test = False) loaded /om/user/katiemc/continuous_mws/cmws/examples/scene_understanding/data/1_1/train.pt\n",
      "23:50:41 | /om/user/katiemc/continuous_mws/cmws/memory.py:20 | INFO: Initializing memory\n"
     ]
    },
    {
     "name": "stderr",
     "output_type": "stream",
     "text": [
      "\n",
      "100%|██████████| 100/100 [00:00<00:00, 1154.12it/s]"
     ]
    },
    {
     "name": "stdout",
     "output_type": "stream",
     "text": [
      "color status:  False\n",
      "path:  /om/user/katiemc/continuous_mws/cmws/examples/scene_understanding/data/1_1/train.pt\n",
      "23:50:41 | /om/user/katiemc/continuous_mws/cmws/examples/scene_understanding/data.py:302 | INFO: Loading dataset (test = False)...\n",
      "23:50:41 | /om/user/katiemc/continuous_mws/cmws/examples/scene_understanding/data.py:306 | INFO: Dataset (test = False) loaded /om/user/katiemc/continuous_mws/cmws/examples/scene_understanding/data/1_1/train.pt\n",
      "23:50:41 | /om/user/katiemc/continuous_mws/cmws/memory.py:20 | INFO: Initializing memory\n"
     ]
    },
    {
     "name": "stderr",
     "output_type": "stream",
     "text": [
      "\n",
      "100%|██████████| 100/100 [00:00<00:00, 1168.74it/s]"
     ]
    },
    {
     "name": "stdout",
     "output_type": "stream",
     "text": [
      "color status:  False\n",
      "path:  /om/user/katiemc/continuous_mws/cmws/examples/scene_understanding/data/1_1/train.pt\n",
      "23:50:41 | /om/user/katiemc/continuous_mws/cmws/examples/scene_understanding/data.py:302 | INFO: Loading dataset (test = False)...\n",
      "23:50:41 | /om/user/katiemc/continuous_mws/cmws/examples/scene_understanding/data.py:306 | INFO: Dataset (test = False) loaded /om/user/katiemc/continuous_mws/cmws/examples/scene_understanding/data/1_1/train.pt\n",
      "23:50:41 | /om/user/katiemc/continuous_mws/cmws/memory.py:20 | INFO: Initializing memory\n"
     ]
    },
    {
     "name": "stderr",
     "output_type": "stream",
     "text": [
      "\n",
      "100%|██████████| 100/100 [00:00<00:00, 1181.12it/s]"
     ]
    },
    {
     "name": "stdout",
     "output_type": "stream",
     "text": [
      "color status:  False\n",
      "path:  /om/user/katiemc/continuous_mws/cmws/examples/scene_understanding/data/1_1/train.pt\n",
      "23:50:41 | /om/user/katiemc/continuous_mws/cmws/examples/scene_understanding/data.py:302 | INFO: Loading dataset (test = False)...\n",
      "23:50:41 | /om/user/katiemc/continuous_mws/cmws/examples/scene_understanding/data.py:306 | INFO: Dataset (test = False) loaded /om/user/katiemc/continuous_mws/cmws/examples/scene_understanding/data/1_1/train.pt\n",
      "23:50:41 | /om/user/katiemc/continuous_mws/cmws/memory.py:20 | INFO: Initializing memory\n"
     ]
    },
    {
     "name": "stderr",
     "output_type": "stream",
     "text": [
      "\n",
      "100%|██████████| 100/100 [00:00<00:00, 1158.64it/s]"
     ]
    },
    {
     "name": "stdout",
     "output_type": "stream",
     "text": [
      "color status:  False\n",
      "path:  /om/user/katiemc/continuous_mws/cmws/examples/scene_understanding/data/1_1/train.pt\n",
      "23:50:41 | /om/user/katiemc/continuous_mws/cmws/examples/scene_understanding/data.py:302 | INFO: Loading dataset (test = False)...\n",
      "23:50:41 | /om/user/katiemc/continuous_mws/cmws/examples/scene_understanding/data.py:306 | INFO: Dataset (test = False) loaded /om/user/katiemc/continuous_mws/cmws/examples/scene_understanding/data/1_1/train.pt\n",
      "23:50:41 | /om/user/katiemc/continuous_mws/cmws/memory.py:20 | INFO: Initializing memory\n"
     ]
    },
    {
     "name": "stderr",
     "output_type": "stream",
     "text": [
      "\n",
      "100%|██████████| 100/100 [00:00<00:00, 1164.39it/s]"
     ]
    },
    {
     "name": "stdout",
     "output_type": "stream",
     "text": [
      "color status:  False\n",
      "path:  /om/user/katiemc/continuous_mws/cmws/examples/scene_understanding/data/1_1/train.pt\n",
      "23:50:42 | /om/user/katiemc/continuous_mws/cmws/examples/scene_understanding/data.py:302 | INFO: Loading dataset (test = False)...\n",
      "23:50:42 | /om/user/katiemc/continuous_mws/cmws/examples/scene_understanding/data.py:306 | INFO: Dataset (test = False) loaded /om/user/katiemc/continuous_mws/cmws/examples/scene_understanding/data/1_1/train.pt\n",
      "23:50:42 | /om/user/katiemc/continuous_mws/cmws/memory.py:20 | INFO: Initializing memory\n"
     ]
    },
    {
     "name": "stderr",
     "output_type": "stream",
     "text": [
      "\n",
      "100%|██████████| 100/100 [00:00<00:00, 1153.16it/s]"
     ]
    },
    {
     "name": "stdout",
     "output_type": "stream",
     "text": [
      "color status:  False\n",
      "path:  /om/user/katiemc/continuous_mws/cmws/examples/scene_understanding/data/1_1/train.pt\n",
      "23:50:42 | /om/user/katiemc/continuous_mws/cmws/examples/scene_understanding/data.py:302 | INFO: Loading dataset (test = False)...\n",
      "23:50:42 | /om/user/katiemc/continuous_mws/cmws/examples/scene_understanding/data.py:306 | INFO: Dataset (test = False) loaded /om/user/katiemc/continuous_mws/cmws/examples/scene_understanding/data/1_1/train.pt\n",
      "23:50:42 | /om/user/katiemc/continuous_mws/cmws/memory.py:20 | INFO: Initializing memory\n"
     ]
    },
    {
     "name": "stderr",
     "output_type": "stream",
     "text": [
      "\n",
      "100%|██████████| 100/100 [00:00<00:00, 1162.66it/s]"
     ]
    },
    {
     "name": "stdout",
     "output_type": "stream",
     "text": [
      "color status:  False\n",
      "path:  /om/user/katiemc/continuous_mws/cmws/examples/scene_understanding/data/1_1/train.pt\n",
      "23:50:42 | /om/user/katiemc/continuous_mws/cmws/examples/scene_understanding/data.py:302 | INFO: Loading dataset (test = False)...\n",
      "23:50:42 | /om/user/katiemc/continuous_mws/cmws/examples/scene_understanding/data.py:306 | INFO: Dataset (test = False) loaded /om/user/katiemc/continuous_mws/cmws/examples/scene_understanding/data/1_1/train.pt\n",
      "23:50:42 | /om/user/katiemc/continuous_mws/cmws/memory.py:20 | INFO: Initializing memory\n"
     ]
    },
    {
     "name": "stderr",
     "output_type": "stream",
     "text": [
      "\n",
      "100%|██████████| 100/100 [00:00<00:00, 1170.48it/s]"
     ]
    },
    {
     "name": "stdout",
     "output_type": "stream",
     "text": [
      "color status:  False\n",
      "path:  /om/user/katiemc/continuous_mws/cmws/examples/scene_understanding/data/1_1/train.pt\n",
      "23:50:42 | /om/user/katiemc/continuous_mws/cmws/examples/scene_understanding/data.py:302 | INFO: Loading dataset (test = False)...\n",
      "23:50:42 | /om/user/katiemc/continuous_mws/cmws/examples/scene_understanding/data.py:306 | INFO: Dataset (test = False) loaded /om/user/katiemc/continuous_mws/cmws/examples/scene_understanding/data/1_1/train.pt\n",
      "23:50:42 | /om/user/katiemc/continuous_mws/cmws/memory.py:20 | INFO: Initializing memory\n"
     ]
    },
    {
     "name": "stderr",
     "output_type": "stream",
     "text": [
      "\n",
      "100%|██████████| 100/100 [00:00<00:00, 1133.45it/s]"
     ]
    },
    {
     "name": "stdout",
     "output_type": "stream",
     "text": [
      "color status:  False\n",
      "path:  /om/user/katiemc/continuous_mws/cmws/examples/scene_understanding/data/1_1/train.pt\n",
      "23:50:42 | /om/user/katiemc/continuous_mws/cmws/examples/scene_understanding/data.py:302 | INFO: Loading dataset (test = False)...\n",
      "23:50:42 | /om/user/katiemc/continuous_mws/cmws/examples/scene_understanding/data.py:306 | INFO: Dataset (test = False) loaded /om/user/katiemc/continuous_mws/cmws/examples/scene_understanding/data/1_1/train.pt\n",
      "23:50:42 | /om/user/katiemc/continuous_mws/cmws/memory.py:20 | INFO: Initializing memory\n"
     ]
    },
    {
     "name": "stderr",
     "output_type": "stream",
     "text": [
      "\n",
      "100%|██████████| 100/100 [00:00<00:00, 1151.58it/s]"
     ]
    },
    {
     "name": "stdout",
     "output_type": "stream",
     "text": [
      "color status:  False\n",
      "path:  /om/user/katiemc/continuous_mws/cmws/examples/scene_understanding/data/1_1/train.pt\n",
      "23:50:42 | /om/user/katiemc/continuous_mws/cmws/examples/scene_understanding/data.py:302 | INFO: Loading dataset (test = False)...\n",
      "23:50:42 | /om/user/katiemc/continuous_mws/cmws/examples/scene_understanding/data.py:306 | INFO: Dataset (test = False) loaded /om/user/katiemc/continuous_mws/cmws/examples/scene_understanding/data/1_1/train.pt\n",
      "23:50:42 | /om/user/katiemc/continuous_mws/cmws/memory.py:20 | INFO: Initializing memory\n"
     ]
    },
    {
     "name": "stderr",
     "output_type": "stream",
     "text": [
      "\n",
      "100%|██████████| 100/100 [00:00<00:00, 1157.58it/s]"
     ]
    },
    {
     "name": "stdout",
     "output_type": "stream",
     "text": [
      "color status:  False\n",
      "path:  /om/user/katiemc/continuous_mws/cmws/examples/scene_understanding/data/1_1/train.pt\n",
      "23:50:42 | /om/user/katiemc/continuous_mws/cmws/examples/scene_understanding/data.py:302 | INFO: Loading dataset (test = False)...\n",
      "23:50:42 | /om/user/katiemc/continuous_mws/cmws/examples/scene_understanding/data.py:306 | INFO: Dataset (test = False) loaded /om/user/katiemc/continuous_mws/cmws/examples/scene_understanding/data/1_1/train.pt\n",
      "23:50:42 | /om/user/katiemc/continuous_mws/cmws/memory.py:20 | INFO: Initializing memory\n"
     ]
    },
    {
     "name": "stderr",
     "output_type": "stream",
     "text": [
      "\n",
      "100%|██████████| 100/100 [00:00<00:00, 1146.95it/s]"
     ]
    },
    {
     "name": "stdout",
     "output_type": "stream",
     "text": [
      "color status:  False\n",
      "path:  /om/user/katiemc/continuous_mws/cmws/examples/scene_understanding/data/1_1/train.pt\n",
      "23:50:43 | /om/user/katiemc/continuous_mws/cmws/examples/scene_understanding/data.py:302 | INFO: Loading dataset (test = False)...\n",
      "23:50:43 | /om/user/katiemc/continuous_mws/cmws/examples/scene_understanding/data.py:306 | INFO: Dataset (test = False) loaded /om/user/katiemc/continuous_mws/cmws/examples/scene_understanding/data/1_1/train.pt\n",
      "23:50:43 | /om/user/katiemc/continuous_mws/cmws/memory.py:20 | INFO: Initializing memory\n"
     ]
    },
    {
     "name": "stderr",
     "output_type": "stream",
     "text": [
      "\n",
      "100%|██████████| 100/100 [00:00<00:00, 1128.03it/s]"
     ]
    },
    {
     "name": "stdout",
     "output_type": "stream",
     "text": [
      "color status:  False\n",
      "path:  /om/user/katiemc/continuous_mws/cmws/examples/scene_understanding/data/1_1/train.pt\n",
      "23:50:43 | /om/user/katiemc/continuous_mws/cmws/examples/scene_understanding/data.py:302 | INFO: Loading dataset (test = False)...\n",
      "23:50:43 | /om/user/katiemc/continuous_mws/cmws/examples/scene_understanding/data.py:306 | INFO: Dataset (test = False) loaded /om/user/katiemc/continuous_mws/cmws/examples/scene_understanding/data/1_1/train.pt\n",
      "23:50:43 | /om/user/katiemc/continuous_mws/cmws/memory.py:20 | INFO: Initializing memory\n"
     ]
    },
    {
     "name": "stderr",
     "output_type": "stream",
     "text": [
      "\n",
      "100%|██████████| 100/100 [00:00<00:00, 1134.05it/s]"
     ]
    },
    {
     "name": "stdout",
     "output_type": "stream",
     "text": [
      "color status:  False\n",
      "path:  /om/user/katiemc/continuous_mws/cmws/examples/scene_understanding/data/1_1/train.pt\n",
      "23:50:43 | /om/user/katiemc/continuous_mws/cmws/examples/scene_understanding/data.py:302 | INFO: Loading dataset (test = False)...\n",
      "23:50:43 | /om/user/katiemc/continuous_mws/cmws/examples/scene_understanding/data.py:306 | INFO: Dataset (test = False) loaded /om/user/katiemc/continuous_mws/cmws/examples/scene_understanding/data/1_1/train.pt\n",
      "23:50:43 | /om/user/katiemc/continuous_mws/cmws/memory.py:20 | INFO: Initializing memory\n"
     ]
    },
    {
     "name": "stderr",
     "output_type": "stream",
     "text": [
      "\n",
      "100%|██████████| 100/100 [00:00<00:00, 1138.82it/s]\n",
      "/home/katiemc/.conda/envs/cmws/lib/python3.7/site-packages/numpy/lib/nanfunctions.py:1114: RuntimeWarning: All-NaN slice encountered\n",
      "  overwrite_input=overwrite_input)\n",
      "/home/katiemc/.conda/envs/cmws/lib/python3.7/site-packages/numpy/lib/nanfunctions.py:1390: RuntimeWarning: All-NaN slice encountered\n",
      "  overwrite_input, interpolation)\n",
      "/home/katiemc/.conda/envs/cmws/lib/python3.7/site-packages/numpy/lib/nanfunctions.py:1114: RuntimeWarning: All-NaN slice encountered\n",
      "  overwrite_input=overwrite_input)\n",
      "/home/katiemc/.conda/envs/cmws/lib/python3.7/site-packages/numpy/lib/nanfunctions.py:1390: RuntimeWarning: All-NaN slice encountered\n",
      "  overwrite_input, interpolation)\n"
     ]
    },
    {
     "name": "stdout",
     "output_type": "stream",
     "text": [
      "23:50:44 | /om/user/katiemc/continuous_mws/cmws/util.py:293 | INFO: Saved to ../save/cmws_vs_rws_learnColor_shrink001/losses_2_overlay.png\n",
      "color status:  False\n",
      "path:  /om/user/katiemc/continuous_mws/cmws/examples/scene_understanding/data/1_1/train.pt\n",
      "23:50:44 | /om/user/katiemc/continuous_mws/cmws/examples/scene_understanding/data.py:302 | INFO: Loading dataset (test = False)...\n",
      "23:50:44 | /om/user/katiemc/continuous_mws/cmws/examples/scene_understanding/data.py:306 | INFO: Dataset (test = False) loaded /om/user/katiemc/continuous_mws/cmws/examples/scene_understanding/data/1_1/train.pt\n",
      "23:50:44 | /om/user/katiemc/continuous_mws/cmws/memory.py:20 | INFO: Initializing memory\n"
     ]
    },
    {
     "name": "stderr",
     "output_type": "stream",
     "text": [
      "100%|██████████| 100/100 [00:00<00:00, 595.51it/s]"
     ]
    },
    {
     "name": "stdout",
     "output_type": "stream",
     "text": [
      "color status:  False\n",
      "path:  /om/user/katiemc/continuous_mws/cmws/examples/scene_understanding/data/1_1/train.pt\n",
      "23:50:44 | /om/user/katiemc/continuous_mws/cmws/examples/scene_understanding/data.py:302 | INFO: Loading dataset (test = False)...\n"
     ]
    },
    {
     "name": "stderr",
     "output_type": "stream",
     "text": [
      "\n"
     ]
    },
    {
     "name": "stdout",
     "output_type": "stream",
     "text": [
      "23:50:44 | /om/user/katiemc/continuous_mws/cmws/examples/scene_understanding/data.py:306 | INFO: Dataset (test = False) loaded /om/user/katiemc/continuous_mws/cmws/examples/scene_understanding/data/1_1/train.pt\n",
      "23:50:44 | /om/user/katiemc/continuous_mws/cmws/memory.py:20 | INFO: Initializing memory\n"
     ]
    },
    {
     "name": "stderr",
     "output_type": "stream",
     "text": [
      "100%|██████████| 100/100 [00:00<00:00, 1179.37it/s]"
     ]
    },
    {
     "name": "stdout",
     "output_type": "stream",
     "text": [
      "color status:  False\n",
      "path:  /om/user/katiemc/continuous_mws/cmws/examples/scene_understanding/data/1_1/train.pt\n",
      "23:50:44 | /om/user/katiemc/continuous_mws/cmws/examples/scene_understanding/data.py:302 | INFO: Loading dataset (test = False)...\n",
      "23:50:44 | /om/user/katiemc/continuous_mws/cmws/examples/scene_understanding/data.py:306 | INFO: Dataset (test = False) loaded /om/user/katiemc/continuous_mws/cmws/examples/scene_understanding/data/1_1/train.pt\n",
      "23:50:44 | /om/user/katiemc/continuous_mws/cmws/memory.py:20 | INFO: Initializing memory\n"
     ]
    },
    {
     "name": "stderr",
     "output_type": "stream",
     "text": [
      "\n",
      "100%|██████████| 100/100 [00:00<00:00, 1143.16it/s]"
     ]
    },
    {
     "name": "stdout",
     "output_type": "stream",
     "text": [
      "color status:  False\n",
      "path:  /om/user/katiemc/continuous_mws/cmws/examples/scene_understanding/data/1_1/train.pt\n",
      "23:50:45 | /om/user/katiemc/continuous_mws/cmws/examples/scene_understanding/data.py:302 | INFO: Loading dataset (test = False)...\n",
      "23:50:45 | /om/user/katiemc/continuous_mws/cmws/examples/scene_understanding/data.py:306 | INFO: Dataset (test = False) loaded /om/user/katiemc/continuous_mws/cmws/examples/scene_understanding/data/1_1/train.pt\n",
      "23:50:45 | /om/user/katiemc/continuous_mws/cmws/memory.py:20 | INFO: Initializing memory\n"
     ]
    },
    {
     "name": "stderr",
     "output_type": "stream",
     "text": [
      "\n",
      "100%|██████████| 100/100 [00:00<00:00, 1170.74it/s]"
     ]
    },
    {
     "name": "stdout",
     "output_type": "stream",
     "text": [
      "color status:  False\n",
      "path:  /om/user/katiemc/continuous_mws/cmws/examples/scene_understanding/data/1_1/train.pt\n",
      "23:50:45 | /om/user/katiemc/continuous_mws/cmws/examples/scene_understanding/data.py:302 | INFO: Loading dataset (test = False)...\n",
      "23:50:45 | /om/user/katiemc/continuous_mws/cmws/examples/scene_understanding/data.py:306 | INFO: Dataset (test = False) loaded /om/user/katiemc/continuous_mws/cmws/examples/scene_understanding/data/1_1/train.pt\n",
      "23:50:45 | /om/user/katiemc/continuous_mws/cmws/memory.py:20 | INFO: Initializing memory\n"
     ]
    },
    {
     "name": "stderr",
     "output_type": "stream",
     "text": [
      "\n",
      "100%|██████████| 100/100 [00:00<00:00, 1166.86it/s]"
     ]
    },
    {
     "name": "stdout",
     "output_type": "stream",
     "text": [
      "color status:  False\n",
      "path:  /om/user/katiemc/continuous_mws/cmws/examples/scene_understanding/data/1_1/train.pt\n",
      "23:50:45 | /om/user/katiemc/continuous_mws/cmws/examples/scene_understanding/data.py:302 | INFO: Loading dataset (test = False)...\n",
      "23:50:45 | /om/user/katiemc/continuous_mws/cmws/examples/scene_understanding/data.py:306 | INFO: Dataset (test = False) loaded /om/user/katiemc/continuous_mws/cmws/examples/scene_understanding/data/1_1/train.pt\n",
      "23:50:45 | /om/user/katiemc/continuous_mws/cmws/memory.py:20 | INFO: Initializing memory\n"
     ]
    },
    {
     "name": "stderr",
     "output_type": "stream",
     "text": [
      "\n",
      "100%|██████████| 100/100 [00:00<00:00, 1172.97it/s]"
     ]
    },
    {
     "name": "stdout",
     "output_type": "stream",
     "text": [
      "color status:  False\n",
      "path:  /om/user/katiemc/continuous_mws/cmws/examples/scene_understanding/data/1_1/train.pt\n",
      "23:50:45 | /om/user/katiemc/continuous_mws/cmws/examples/scene_understanding/data.py:302 | INFO: Loading dataset (test = False)...\n",
      "23:50:45 | /om/user/katiemc/continuous_mws/cmws/examples/scene_understanding/data.py:306 | INFO: Dataset (test = False) loaded /om/user/katiemc/continuous_mws/cmws/examples/scene_understanding/data/1_1/train.pt\n",
      "23:50:45 | /om/user/katiemc/continuous_mws/cmws/memory.py:20 | INFO: Initializing memory\n"
     ]
    },
    {
     "name": "stderr",
     "output_type": "stream",
     "text": [
      "\n",
      "100%|██████████| 100/100 [00:00<00:00, 1172.30it/s]"
     ]
    },
    {
     "name": "stdout",
     "output_type": "stream",
     "text": [
      "color status:  False\n",
      "path:  /om/user/katiemc/continuous_mws/cmws/examples/scene_understanding/data/1_1/train.pt\n",
      "23:50:45 | /om/user/katiemc/continuous_mws/cmws/examples/scene_understanding/data.py:302 | INFO: Loading dataset (test = False)...\n",
      "23:50:45 | /om/user/katiemc/continuous_mws/cmws/examples/scene_understanding/data.py:306 | INFO: Dataset (test = False) loaded /om/user/katiemc/continuous_mws/cmws/examples/scene_understanding/data/1_1/train.pt\n",
      "23:50:45 | /om/user/katiemc/continuous_mws/cmws/memory.py:20 | INFO: Initializing memory\n"
     ]
    },
    {
     "name": "stderr",
     "output_type": "stream",
     "text": [
      "\n",
      "100%|██████████| 100/100 [00:00<00:00, 1171.81it/s]"
     ]
    },
    {
     "name": "stdout",
     "output_type": "stream",
     "text": [
      "color status:  False\n",
      "path:  /om/user/katiemc/continuous_mws/cmws/examples/scene_understanding/data/1_1/train.pt\n",
      "23:50:45 | /om/user/katiemc/continuous_mws/cmws/examples/scene_understanding/data.py:302 | INFO: Loading dataset (test = False)...\n",
      "23:50:45 | /om/user/katiemc/continuous_mws/cmws/examples/scene_understanding/data.py:306 | INFO: Dataset (test = False) loaded /om/user/katiemc/continuous_mws/cmws/examples/scene_understanding/data/1_1/train.pt\n",
      "23:50:45 | /om/user/katiemc/continuous_mws/cmws/memory.py:20 | INFO: Initializing memory\n"
     ]
    },
    {
     "name": "stderr",
     "output_type": "stream",
     "text": [
      "\n",
      "100%|██████████| 100/100 [00:00<00:00, 1176.94it/s]"
     ]
    },
    {
     "name": "stdout",
     "output_type": "stream",
     "text": [
      "color status:  False\n",
      "path:  /om/user/katiemc/continuous_mws/cmws/examples/scene_understanding/data/1_1/train.pt\n",
      "23:50:45 | /om/user/katiemc/continuous_mws/cmws/examples/scene_understanding/data.py:302 | INFO: Loading dataset (test = False)...\n",
      "23:50:45 | /om/user/katiemc/continuous_mws/cmws/examples/scene_understanding/data.py:306 | INFO: Dataset (test = False) loaded /om/user/katiemc/continuous_mws/cmws/examples/scene_understanding/data/1_1/train.pt\n",
      "23:50:45 | /om/user/katiemc/continuous_mws/cmws/memory.py:20 | INFO: Initializing memory\n"
     ]
    },
    {
     "name": "stderr",
     "output_type": "stream",
     "text": [
      "\n",
      "100%|██████████| 100/100 [00:00<00:00, 1151.15it/s]"
     ]
    },
    {
     "name": "stdout",
     "output_type": "stream",
     "text": [
      "color status:  False\n",
      "path:  /om/user/katiemc/continuous_mws/cmws/examples/scene_understanding/data/1_1/train.pt\n",
      "23:50:45 | /om/user/katiemc/continuous_mws/cmws/examples/scene_understanding/data.py:302 | INFO: Loading dataset (test = False)...\n",
      "23:50:45 | /om/user/katiemc/continuous_mws/cmws/examples/scene_understanding/data.py:306 | INFO: Dataset (test = False) loaded /om/user/katiemc/continuous_mws/cmws/examples/scene_understanding/data/1_1/train.pt\n",
      "23:50:45 | /om/user/katiemc/continuous_mws/cmws/memory.py:20 | INFO: Initializing memory\n"
     ]
    },
    {
     "name": "stderr",
     "output_type": "stream",
     "text": [
      "\n",
      "100%|██████████| 100/100 [00:00<00:00, 1133.11it/s]"
     ]
    },
    {
     "name": "stdout",
     "output_type": "stream",
     "text": [
      "color status:  False\n",
      "path:  /om/user/katiemc/continuous_mws/cmws/examples/scene_understanding/data/1_1/train.pt\n",
      "23:50:46 | /om/user/katiemc/continuous_mws/cmws/examples/scene_understanding/data.py:302 | INFO: Loading dataset (test = False)...\n",
      "23:50:46 | /om/user/katiemc/continuous_mws/cmws/examples/scene_understanding/data.py:306 | INFO: Dataset (test = False) loaded /om/user/katiemc/continuous_mws/cmws/examples/scene_understanding/data/1_1/train.pt\n",
      "23:50:46 | /om/user/katiemc/continuous_mws/cmws/memory.py:20 | INFO: Initializing memory\n"
     ]
    },
    {
     "name": "stderr",
     "output_type": "stream",
     "text": [
      "\n",
      "100%|██████████| 100/100 [00:00<00:00, 1141.08it/s]"
     ]
    },
    {
     "name": "stdout",
     "output_type": "stream",
     "text": [
      "color status:  False\n",
      "path:  /om/user/katiemc/continuous_mws/cmws/examples/scene_understanding/data/1_1/train.pt\n",
      "23:50:46 | /om/user/katiemc/continuous_mws/cmws/examples/scene_understanding/data.py:302 | INFO: Loading dataset (test = False)...\n",
      "23:50:46 | /om/user/katiemc/continuous_mws/cmws/examples/scene_understanding/data.py:306 | INFO: Dataset (test = False) loaded /om/user/katiemc/continuous_mws/cmws/examples/scene_understanding/data/1_1/train.pt\n",
      "23:50:46 | /om/user/katiemc/continuous_mws/cmws/memory.py:20 | INFO: Initializing memory\n"
     ]
    },
    {
     "name": "stderr",
     "output_type": "stream",
     "text": [
      "\n",
      "100%|██████████| 100/100 [00:00<00:00, 1129.76it/s]"
     ]
    },
    {
     "name": "stdout",
     "output_type": "stream",
     "text": [
      "color status:  False\n",
      "path:  /om/user/katiemc/continuous_mws/cmws/examples/scene_understanding/data/1_1/train.pt\n",
      "23:50:46 | /om/user/katiemc/continuous_mws/cmws/examples/scene_understanding/data.py:302 | INFO: Loading dataset (test = False)...\n",
      "23:50:46 | /om/user/katiemc/continuous_mws/cmws/examples/scene_understanding/data.py:306 | INFO: Dataset (test = False) loaded /om/user/katiemc/continuous_mws/cmws/examples/scene_understanding/data/1_1/train.pt\n",
      "23:50:46 | /om/user/katiemc/continuous_mws/cmws/memory.py:20 | INFO: Initializing memory\n"
     ]
    },
    {
     "name": "stderr",
     "output_type": "stream",
     "text": [
      "\n",
      "100%|██████████| 100/100 [00:00<00:00, 1159.06it/s]"
     ]
    },
    {
     "name": "stdout",
     "output_type": "stream",
     "text": [
      "color status:  False\n",
      "path:  /om/user/katiemc/continuous_mws/cmws/examples/scene_understanding/data/1_1/train.pt\n",
      "23:50:46 | /om/user/katiemc/continuous_mws/cmws/examples/scene_understanding/data.py:302 | INFO: Loading dataset (test = False)...\n",
      "23:50:46 | /om/user/katiemc/continuous_mws/cmws/examples/scene_understanding/data.py:306 | INFO: Dataset (test = False) loaded /om/user/katiemc/continuous_mws/cmws/examples/scene_understanding/data/1_1/train.pt\n",
      "23:50:46 | /om/user/katiemc/continuous_mws/cmws/memory.py:20 | INFO: Initializing memory\n"
     ]
    },
    {
     "name": "stderr",
     "output_type": "stream",
     "text": [
      "\n",
      "100%|██████████| 100/100 [00:00<00:00, 1122.15it/s]"
     ]
    },
    {
     "name": "stdout",
     "output_type": "stream",
     "text": [
      "color status:  False\n",
      "path:  /om/user/katiemc/continuous_mws/cmws/examples/scene_understanding/data/1_1/train.pt\n",
      "23:50:46 | /om/user/katiemc/continuous_mws/cmws/examples/scene_understanding/data.py:302 | INFO: Loading dataset (test = False)...\n",
      "23:50:46 | /om/user/katiemc/continuous_mws/cmws/examples/scene_understanding/data.py:306 | INFO: Dataset (test = False) loaded /om/user/katiemc/continuous_mws/cmws/examples/scene_understanding/data/1_1/train.pt\n",
      "23:50:46 | /om/user/katiemc/continuous_mws/cmws/memory.py:20 | INFO: Initializing memory\n"
     ]
    },
    {
     "name": "stderr",
     "output_type": "stream",
     "text": [
      "\n",
      "100%|██████████| 100/100 [00:00<00:00, 1128.49it/s]\n",
      "/home/katiemc/.conda/envs/cmws/lib/python3.7/site-packages/numpy/lib/nanfunctions.py:1114: RuntimeWarning: All-NaN slice encountered\n",
      "  overwrite_input=overwrite_input)\n",
      "/home/katiemc/.conda/envs/cmws/lib/python3.7/site-packages/numpy/lib/nanfunctions.py:1390: RuntimeWarning: All-NaN slice encountered\n",
      "  overwrite_input, interpolation)\n",
      "/home/katiemc/.conda/envs/cmws/lib/python3.7/site-packages/numpy/lib/nanfunctions.py:1114: RuntimeWarning: All-NaN slice encountered\n",
      "  overwrite_input=overwrite_input)\n",
      "/home/katiemc/.conda/envs/cmws/lib/python3.7/site-packages/numpy/lib/nanfunctions.py:1390: RuntimeWarning: All-NaN slice encountered\n",
      "  overwrite_input, interpolation)\n"
     ]
    },
    {
     "name": "stdout",
     "output_type": "stream",
     "text": [
      "23:50:47 | /om/user/katiemc/continuous_mws/cmws/util.py:293 | INFO: Saved to ../save/cmws_vs_rws_learnColor_shrink001/losses_3_overlay.png\n",
      "color status:  True\n",
      "path:  /om/user/katiemc/continuous_mws/cmws/examples/scene_understanding/data/1_1/colorless/train.pt\n",
      "23:50:47 | /om/user/katiemc/continuous_mws/cmws/examples/scene_understanding/data.py:302 | INFO: Loading dataset (test = False)...\n",
      "23:50:47 | /om/user/katiemc/continuous_mws/cmws/examples/scene_understanding/data.py:306 | INFO: Dataset (test = False) loaded /om/user/katiemc/continuous_mws/cmws/examples/scene_understanding/data/1_1/colorless/train.pt\n",
      "23:50:47 | /om/user/katiemc/continuous_mws/cmws/memory.py:20 | INFO: Initializing memory\n"
     ]
    },
    {
     "name": "stderr",
     "output_type": "stream",
     "text": [
      "100%|██████████| 100/100 [00:00<00:00, 1201.56it/s]"
     ]
    },
    {
     "name": "stdout",
     "output_type": "stream",
     "text": [
      "color status:  True\n",
      "path:  /om/user/katiemc/continuous_mws/cmws/examples/scene_understanding/data/1_1/colorless/train.pt\n",
      "23:50:48 | /om/user/katiemc/continuous_mws/cmws/examples/scene_understanding/data.py:302 | INFO: Loading dataset (test = False)...\n"
     ]
    },
    {
     "name": "stderr",
     "output_type": "stream",
     "text": [
      "\n"
     ]
    },
    {
     "name": "stdout",
     "output_type": "stream",
     "text": [
      "23:50:48 | /om/user/katiemc/continuous_mws/cmws/examples/scene_understanding/data.py:306 | INFO: Dataset (test = False) loaded /om/user/katiemc/continuous_mws/cmws/examples/scene_understanding/data/1_1/colorless/train.pt\n",
      "23:50:48 | /om/user/katiemc/continuous_mws/cmws/memory.py:20 | INFO: Initializing memory\n"
     ]
    },
    {
     "name": "stderr",
     "output_type": "stream",
     "text": [
      "100%|██████████| 100/100 [00:00<00:00, 1180.48it/s]"
     ]
    },
    {
     "name": "stdout",
     "output_type": "stream",
     "text": [
      "color status:  True\n",
      "path:  /om/user/katiemc/continuous_mws/cmws/examples/scene_understanding/data/1_1/colorless/train.pt\n",
      "23:50:48 | /om/user/katiemc/continuous_mws/cmws/examples/scene_understanding/data.py:302 | INFO: Loading dataset (test = False)...\n",
      "23:50:48 | /om/user/katiemc/continuous_mws/cmws/examples/scene_understanding/data.py:306 | INFO: Dataset (test = False) loaded /om/user/katiemc/continuous_mws/cmws/examples/scene_understanding/data/1_1/colorless/train.pt\n",
      "23:50:48 | /om/user/katiemc/continuous_mws/cmws/memory.py:20 | INFO: Initializing memory\n"
     ]
    },
    {
     "name": "stderr",
     "output_type": "stream",
     "text": [
      "\n",
      "100%|██████████| 100/100 [00:00<00:00, 1152.59it/s]\n"
     ]
    },
    {
     "name": "stdout",
     "output_type": "stream",
     "text": [
      "color status:  True\n",
      "path:  /om/user/katiemc/continuous_mws/cmws/examples/scene_understanding/data/1_1/colorless/train.pt\n",
      "23:50:48 | /om/user/katiemc/continuous_mws/cmws/examples/scene_understanding/data.py:302 | INFO: Loading dataset (test = False)...\n",
      "23:50:48 | /om/user/katiemc/continuous_mws/cmws/examples/scene_understanding/data.py:306 | INFO: Dataset (test = False) loaded /om/user/katiemc/continuous_mws/cmws/examples/scene_understanding/data/1_1/colorless/train.pt\n",
      "23:50:48 | /om/user/katiemc/continuous_mws/cmws/memory.py:20 | INFO: Initializing memory\n"
     ]
    },
    {
     "name": "stderr",
     "output_type": "stream",
     "text": [
      "100%|██████████| 100/100 [00:00<00:00, 1187.99it/s]"
     ]
    },
    {
     "name": "stdout",
     "output_type": "stream",
     "text": [
      "color status:  True\n",
      "path:  /om/user/katiemc/continuous_mws/cmws/examples/scene_understanding/data/1_1/colorless/train.pt\n",
      "23:50:48 | /om/user/katiemc/continuous_mws/cmws/examples/scene_understanding/data.py:302 | INFO: Loading dataset (test = False)...\n",
      "23:50:48 | /om/user/katiemc/continuous_mws/cmws/examples/scene_understanding/data.py:306 | INFO: Dataset (test = False) loaded /om/user/katiemc/continuous_mws/cmws/examples/scene_understanding/data/1_1/colorless/train.pt\n",
      "23:50:48 | /om/user/katiemc/continuous_mws/cmws/memory.py:20 | INFO: Initializing memory\n"
     ]
    },
    {
     "name": "stderr",
     "output_type": "stream",
     "text": [
      "\n",
      "100%|██████████| 100/100 [00:00<00:00, 1193.72it/s]"
     ]
    },
    {
     "name": "stdout",
     "output_type": "stream",
     "text": [
      "color status:  True\n",
      "path:  /om/user/katiemc/continuous_mws/cmws/examples/scene_understanding/data/1_1/colorless/train.pt\n",
      "23:50:48 | /om/user/katiemc/continuous_mws/cmws/examples/scene_understanding/data.py:302 | INFO: Loading dataset (test = False)...\n"
     ]
    },
    {
     "name": "stderr",
     "output_type": "stream",
     "text": [
      "\n"
     ]
    },
    {
     "name": "stdout",
     "output_type": "stream",
     "text": [
      "23:50:48 | /om/user/katiemc/continuous_mws/cmws/examples/scene_understanding/data.py:306 | INFO: Dataset (test = False) loaded /om/user/katiemc/continuous_mws/cmws/examples/scene_understanding/data/1_1/colorless/train.pt\n",
      "23:50:48 | /om/user/katiemc/continuous_mws/cmws/memory.py:20 | INFO: Initializing memory\n"
     ]
    },
    {
     "name": "stderr",
     "output_type": "stream",
     "text": [
      "100%|██████████| 100/100 [00:00<00:00, 1203.88it/s]\n"
     ]
    },
    {
     "name": "stdout",
     "output_type": "stream",
     "text": [
      "color status:  True\n",
      "path:  /om/user/katiemc/continuous_mws/cmws/examples/scene_understanding/data/1_1/colorless/train.pt\n",
      "23:50:48 | /om/user/katiemc/continuous_mws/cmws/examples/scene_understanding/data.py:302 | INFO: Loading dataset (test = False)...\n",
      "23:50:48 | /om/user/katiemc/continuous_mws/cmws/examples/scene_understanding/data.py:306 | INFO: Dataset (test = False) loaded /om/user/katiemc/continuous_mws/cmws/examples/scene_understanding/data/1_1/colorless/train.pt\n",
      "23:50:48 | /om/user/katiemc/continuous_mws/cmws/memory.py:20 | INFO: Initializing memory\n"
     ]
    },
    {
     "name": "stderr",
     "output_type": "stream",
     "text": [
      "100%|██████████| 100/100 [00:00<00:00, 1140.85it/s]\n"
     ]
    },
    {
     "name": "stdout",
     "output_type": "stream",
     "text": [
      "color status:  True\n",
      "path:  /om/user/katiemc/continuous_mws/cmws/examples/scene_understanding/data/1_1/colorless/train.pt\n",
      "23:50:49 | /om/user/katiemc/continuous_mws/cmws/examples/scene_understanding/data.py:302 | INFO: Loading dataset (test = False)...\n",
      "23:50:49 | /om/user/katiemc/continuous_mws/cmws/examples/scene_understanding/data.py:306 | INFO: Dataset (test = False) loaded /om/user/katiemc/continuous_mws/cmws/examples/scene_understanding/data/1_1/colorless/train.pt\n",
      "23:50:49 | /om/user/katiemc/continuous_mws/cmws/memory.py:20 | INFO: Initializing memory\n"
     ]
    },
    {
     "name": "stderr",
     "output_type": "stream",
     "text": [
      "100%|██████████| 100/100 [00:00<00:00, 1164.56it/s]"
     ]
    },
    {
     "name": "stdout",
     "output_type": "stream",
     "text": [
      "color status:  True\n",
      "path:  /om/user/katiemc/continuous_mws/cmws/examples/scene_understanding/data/1_1/colorless/train.pt\n",
      "23:50:49 | /om/user/katiemc/continuous_mws/cmws/examples/scene_understanding/data.py:302 | INFO: Loading dataset (test = False)...\n",
      "23:50:49 | /om/user/katiemc/continuous_mws/cmws/examples/scene_understanding/data.py:306 | INFO: Dataset (test = False) loaded /om/user/katiemc/continuous_mws/cmws/examples/scene_understanding/data/1_1/colorless/train.pt\n",
      "23:50:49 | /om/user/katiemc/continuous_mws/cmws/memory.py:20 | INFO: Initializing memory\n"
     ]
    },
    {
     "name": "stderr",
     "output_type": "stream",
     "text": [
      "\n",
      "100%|██████████| 100/100 [00:00<00:00, 1171.70it/s]\n"
     ]
    },
    {
     "name": "stdout",
     "output_type": "stream",
     "text": [
      "color status:  True\n",
      "path:  /om/user/katiemc/continuous_mws/cmws/examples/scene_understanding/data/1_1/colorless/train.pt\n",
      "23:50:49 | /om/user/katiemc/continuous_mws/cmws/examples/scene_understanding/data.py:302 | INFO: Loading dataset (test = False)...\n",
      "23:50:49 | /om/user/katiemc/continuous_mws/cmws/examples/scene_understanding/data.py:306 | INFO: Dataset (test = False) loaded /om/user/katiemc/continuous_mws/cmws/examples/scene_understanding/data/1_1/colorless/train.pt\n",
      "23:50:49 | /om/user/katiemc/continuous_mws/cmws/memory.py:20 | INFO: Initializing memory\n"
     ]
    },
    {
     "name": "stderr",
     "output_type": "stream",
     "text": [
      "100%|██████████| 100/100 [00:00<00:00, 1177.26it/s]\n"
     ]
    },
    {
     "name": "stdout",
     "output_type": "stream",
     "text": [
      "color status:  True\n",
      "path:  /om/user/katiemc/continuous_mws/cmws/examples/scene_understanding/data/1_1/colorless/train.pt\n",
      "23:50:49 | /om/user/katiemc/continuous_mws/cmws/examples/scene_understanding/data.py:302 | INFO: Loading dataset (test = False)...\n",
      "23:50:49 | /om/user/katiemc/continuous_mws/cmws/examples/scene_understanding/data.py:306 | INFO: Dataset (test = False) loaded /om/user/katiemc/continuous_mws/cmws/examples/scene_understanding/data/1_1/colorless/train.pt\n",
      "23:50:49 | /om/user/katiemc/continuous_mws/cmws/memory.py:20 | INFO: Initializing memory\n"
     ]
    },
    {
     "name": "stderr",
     "output_type": "stream",
     "text": [
      "100%|██████████| 100/100 [00:00<00:00, 1129.24it/s]"
     ]
    },
    {
     "name": "stdout",
     "output_type": "stream",
     "text": [
      "color status:  True\n",
      "path:  /om/user/katiemc/continuous_mws/cmws/examples/scene_understanding/data/1_1/colorless/train.pt\n",
      "23:50:49 | /om/user/katiemc/continuous_mws/cmws/examples/scene_understanding/data.py:302 | INFO: Loading dataset (test = False)...\n",
      "23:50:49 | /om/user/katiemc/continuous_mws/cmws/examples/scene_understanding/data.py:306 | INFO: Dataset (test = False) loaded /om/user/katiemc/continuous_mws/cmws/examples/scene_understanding/data/1_1/colorless/train.pt\n",
      "23:50:49 | /om/user/katiemc/continuous_mws/cmws/memory.py:20 | INFO: Initializing memory\n"
     ]
    },
    {
     "name": "stderr",
     "output_type": "stream",
     "text": [
      "\n",
      "100%|██████████| 100/100 [00:00<00:00, 1152.27it/s]\n"
     ]
    },
    {
     "name": "stdout",
     "output_type": "stream",
     "text": [
      "color status:  True\n",
      "path:  /om/user/katiemc/continuous_mws/cmws/examples/scene_understanding/data/1_1/colorless/train.pt\n",
      "23:50:49 | /om/user/katiemc/continuous_mws/cmws/examples/scene_understanding/data.py:302 | INFO: Loading dataset (test = False)...\n",
      "23:50:49 | /om/user/katiemc/continuous_mws/cmws/examples/scene_understanding/data.py:306 | INFO: Dataset (test = False) loaded /om/user/katiemc/continuous_mws/cmws/examples/scene_understanding/data/1_1/colorless/train.pt\n",
      "23:50:49 | /om/user/katiemc/continuous_mws/cmws/memory.py:20 | INFO: Initializing memory\n"
     ]
    },
    {
     "name": "stderr",
     "output_type": "stream",
     "text": [
      "100%|██████████| 100/100 [00:00<00:00, 1142.36it/s]\n"
     ]
    },
    {
     "name": "stdout",
     "output_type": "stream",
     "text": [
      "color status:  True\n",
      "path:  /om/user/katiemc/continuous_mws/cmws/examples/scene_understanding/data/1_1/colorless/train.pt\n",
      "23:50:50 | /om/user/katiemc/continuous_mws/cmws/examples/scene_understanding/data.py:302 | INFO: Loading dataset (test = False)...\n",
      "23:50:50 | /om/user/katiemc/continuous_mws/cmws/examples/scene_understanding/data.py:306 | INFO: Dataset (test = False) loaded /om/user/katiemc/continuous_mws/cmws/examples/scene_understanding/data/1_1/colorless/train.pt\n",
      "23:50:50 | /om/user/katiemc/continuous_mws/cmws/memory.py:20 | INFO: Initializing memory\n"
     ]
    },
    {
     "name": "stderr",
     "output_type": "stream",
     "text": [
      "100%|██████████| 100/100 [00:00<00:00, 1150.62it/s]\n"
     ]
    },
    {
     "name": "stdout",
     "output_type": "stream",
     "text": [
      "color status:  True\n",
      "path:  /om/user/katiemc/continuous_mws/cmws/examples/scene_understanding/data/1_1/colorless/train.pt\n",
      "23:50:50 | /om/user/katiemc/continuous_mws/cmws/examples/scene_understanding/data.py:302 | INFO: Loading dataset (test = False)...\n",
      "23:50:50 | /om/user/katiemc/continuous_mws/cmws/examples/scene_understanding/data.py:306 | INFO: Dataset (test = False) loaded /om/user/katiemc/continuous_mws/cmws/examples/scene_understanding/data/1_1/colorless/train.pt\n",
      "23:50:50 | /om/user/katiemc/continuous_mws/cmws/memory.py:20 | INFO: Initializing memory\n"
     ]
    },
    {
     "name": "stderr",
     "output_type": "stream",
     "text": [
      "100%|██████████| 100/100 [00:00<00:00, 1130.94it/s]\n"
     ]
    },
    {
     "name": "stdout",
     "output_type": "stream",
     "text": [
      "23:50:52 | /om/user/katiemc/continuous_mws/cmws/util.py:293 | INFO: Saved to ../save/cmws_vs_rws_noColor_shrink001/losses_2.png\n",
      "color status:  True\n",
      "path:  /om/user/katiemc/continuous_mws/cmws/examples/scene_understanding/data/1_1/colorless/train.pt\n",
      "23:50:52 | /om/user/katiemc/continuous_mws/cmws/examples/scene_understanding/data.py:302 | INFO: Loading dataset (test = False)...\n",
      "23:50:52 | /om/user/katiemc/continuous_mws/cmws/examples/scene_understanding/data.py:306 | INFO: Dataset (test = False) loaded /om/user/katiemc/continuous_mws/cmws/examples/scene_understanding/data/1_1/colorless/train.pt\n",
      "23:50:52 | /om/user/katiemc/continuous_mws/cmws/memory.py:20 | INFO: Initializing memory\n"
     ]
    },
    {
     "name": "stderr",
     "output_type": "stream",
     "text": [
      "100%|██████████| 100/100 [00:00<00:00, 1193.76it/s]"
     ]
    },
    {
     "name": "stdout",
     "output_type": "stream",
     "text": [
      "color status:  True\n",
      "path:  /om/user/katiemc/continuous_mws/cmws/examples/scene_understanding/data/1_1/colorless/train.pt\n",
      "23:50:52 | /om/user/katiemc/continuous_mws/cmws/examples/scene_understanding/data.py:302 | INFO: Loading dataset (test = False)...\n",
      "23:50:52 | /om/user/katiemc/continuous_mws/cmws/examples/scene_understanding/data.py:306 | INFO: Dataset (test = False) loaded /om/user/katiemc/continuous_mws/cmws/examples/scene_understanding/data/1_1/colorless/train.pt\n",
      "23:50:52 | /om/user/katiemc/continuous_mws/cmws/memory.py:20 | INFO: Initializing memory\n"
     ]
    },
    {
     "name": "stderr",
     "output_type": "stream",
     "text": [
      "\n",
      "100%|██████████| 100/100 [00:00<00:00, 1157.47it/s]"
     ]
    },
    {
     "name": "stdout",
     "output_type": "stream",
     "text": [
      "color status:  True\n",
      "path:  /om/user/katiemc/continuous_mws/cmws/examples/scene_understanding/data/1_1/colorless/train.pt\n",
      "23:50:52 | /om/user/katiemc/continuous_mws/cmws/examples/scene_understanding/data.py:302 | INFO: Loading dataset (test = False)...\n",
      "23:50:52 | /om/user/katiemc/continuous_mws/cmws/examples/scene_understanding/data.py:306 | INFO: Dataset (test = False) loaded /om/user/katiemc/continuous_mws/cmws/examples/scene_understanding/data/1_1/colorless/train.pt\n",
      "23:50:52 | /om/user/katiemc/continuous_mws/cmws/memory.py:20 | INFO: Initializing memory\n"
     ]
    },
    {
     "name": "stderr",
     "output_type": "stream",
     "text": [
      "\n",
      "100%|██████████| 100/100 [00:00<00:00, 1159.84it/s]"
     ]
    },
    {
     "name": "stdout",
     "output_type": "stream",
     "text": [
      "color status:  True\n",
      "path:  /om/user/katiemc/continuous_mws/cmws/examples/scene_understanding/data/1_1/colorless/train.pt\n",
      "23:50:52 | /om/user/katiemc/continuous_mws/cmws/examples/scene_understanding/data.py:302 | INFO: Loading dataset (test = False)...\n",
      "23:50:52 | /om/user/katiemc/continuous_mws/cmws/examples/scene_understanding/data.py:306 | INFO: Dataset (test = False) loaded /om/user/katiemc/continuous_mws/cmws/examples/scene_understanding/data/1_1/colorless/train.pt\n",
      "23:50:52 | /om/user/katiemc/continuous_mws/cmws/memory.py:20 | INFO: Initializing memory\n"
     ]
    },
    {
     "name": "stderr",
     "output_type": "stream",
     "text": [
      "\n",
      "100%|██████████| 100/100 [00:00<00:00, 1150.02it/s]"
     ]
    },
    {
     "name": "stdout",
     "output_type": "stream",
     "text": [
      "color status:  True\n",
      "path:  /om/user/katiemc/continuous_mws/cmws/examples/scene_understanding/data/1_1/colorless/train.pt\n",
      "23:50:52 | /om/user/katiemc/continuous_mws/cmws/examples/scene_understanding/data.py:302 | INFO: Loading dataset (test = False)...\n",
      "23:50:52 | /om/user/katiemc/continuous_mws/cmws/examples/scene_understanding/data.py:306 | INFO: Dataset (test = False) loaded /om/user/katiemc/continuous_mws/cmws/examples/scene_understanding/data/1_1/colorless/train.pt\n",
      "23:50:52 | /om/user/katiemc/continuous_mws/cmws/memory.py:20 | INFO: Initializing memory\n"
     ]
    },
    {
     "name": "stderr",
     "output_type": "stream",
     "text": [
      "\n",
      "100%|██████████| 100/100 [00:00<00:00, 1169.27it/s]"
     ]
    },
    {
     "name": "stdout",
     "output_type": "stream",
     "text": [
      "color status:  True\n",
      "path:  /om/user/katiemc/continuous_mws/cmws/examples/scene_understanding/data/1_1/colorless/train.pt\n",
      "23:50:52 | /om/user/katiemc/continuous_mws/cmws/examples/scene_understanding/data.py:302 | INFO: Loading dataset (test = False)...\n",
      "23:50:52 | /om/user/katiemc/continuous_mws/cmws/examples/scene_understanding/data.py:306 | INFO: Dataset (test = False) loaded /om/user/katiemc/continuous_mws/cmws/examples/scene_understanding/data/1_1/colorless/train.pt\n",
      "23:50:52 | /om/user/katiemc/continuous_mws/cmws/memory.py:20 | INFO: Initializing memory\n"
     ]
    },
    {
     "name": "stderr",
     "output_type": "stream",
     "text": [
      "\n",
      "100%|██████████| 100/100 [00:00<00:00, 1165.18it/s]"
     ]
    },
    {
     "name": "stdout",
     "output_type": "stream",
     "text": [
      "color status:  True\n",
      "path:  /om/user/katiemc/continuous_mws/cmws/examples/scene_understanding/data/1_1/colorless/train.pt\n",
      "23:50:52 | /om/user/katiemc/continuous_mws/cmws/examples/scene_understanding/data.py:302 | INFO: Loading dataset (test = False)...\n",
      "23:50:52 | /om/user/katiemc/continuous_mws/cmws/examples/scene_understanding/data.py:306 | INFO: Dataset (test = False) loaded /om/user/katiemc/continuous_mws/cmws/examples/scene_understanding/data/1_1/colorless/train.pt\n",
      "23:50:52 | /om/user/katiemc/continuous_mws/cmws/memory.py:20 | INFO: Initializing memory\n"
     ]
    },
    {
     "name": "stderr",
     "output_type": "stream",
     "text": [
      "\n",
      "100%|██████████| 100/100 [00:00<00:00, 1167.84it/s]"
     ]
    },
    {
     "name": "stdout",
     "output_type": "stream",
     "text": [
      "color status:  True\n",
      "path:  /om/user/katiemc/continuous_mws/cmws/examples/scene_understanding/data/1_1/colorless/train.pt\n",
      "23:50:53 | /om/user/katiemc/continuous_mws/cmws/examples/scene_understanding/data.py:302 | INFO: Loading dataset (test = False)...\n",
      "23:50:53 | /om/user/katiemc/continuous_mws/cmws/examples/scene_understanding/data.py:306 | INFO: Dataset (test = False) loaded /om/user/katiemc/continuous_mws/cmws/examples/scene_understanding/data/1_1/colorless/train.pt\n",
      "23:50:53 | /om/user/katiemc/continuous_mws/cmws/memory.py:20 | INFO: Initializing memory\n"
     ]
    },
    {
     "name": "stderr",
     "output_type": "stream",
     "text": [
      "\n",
      "100%|██████████| 100/100 [00:00<00:00, 1164.47it/s]"
     ]
    },
    {
     "name": "stdout",
     "output_type": "stream",
     "text": [
      "color status:  True\n",
      "path:  /om/user/katiemc/continuous_mws/cmws/examples/scene_understanding/data/1_1/colorless/train.pt\n",
      "23:50:53 | /om/user/katiemc/continuous_mws/cmws/examples/scene_understanding/data.py:302 | INFO: Loading dataset (test = False)...\n",
      "23:50:53 | /om/user/katiemc/continuous_mws/cmws/examples/scene_understanding/data.py:306 | INFO: Dataset (test = False) loaded /om/user/katiemc/continuous_mws/cmws/examples/scene_understanding/data/1_1/colorless/train.pt\n",
      "23:50:53 | /om/user/katiemc/continuous_mws/cmws/memory.py:20 | INFO: Initializing memory\n"
     ]
    },
    {
     "name": "stderr",
     "output_type": "stream",
     "text": [
      "\n",
      "100%|██████████| 100/100 [00:00<00:00, 1182.30it/s]"
     ]
    },
    {
     "name": "stdout",
     "output_type": "stream",
     "text": [
      "color status:  True\n",
      "path:  /om/user/katiemc/continuous_mws/cmws/examples/scene_understanding/data/1_1/colorless/train.pt\n",
      "23:50:53 | /om/user/katiemc/continuous_mws/cmws/examples/scene_understanding/data.py:302 | INFO: Loading dataset (test = False)...\n",
      "23:50:53 | /om/user/katiemc/continuous_mws/cmws/examples/scene_understanding/data.py:306 | INFO: Dataset (test = False) loaded /om/user/katiemc/continuous_mws/cmws/examples/scene_understanding/data/1_1/colorless/train.pt\n",
      "23:50:53 | /om/user/katiemc/continuous_mws/cmws/memory.py:20 | INFO: Initializing memory\n"
     ]
    },
    {
     "name": "stderr",
     "output_type": "stream",
     "text": [
      "\n",
      "100%|██████████| 100/100 [00:00<00:00, 1170.45it/s]"
     ]
    },
    {
     "name": "stdout",
     "output_type": "stream",
     "text": [
      "color status:  True\n",
      "path:  /om/user/katiemc/continuous_mws/cmws/examples/scene_understanding/data/1_1/colorless/train.pt\n",
      "23:50:53 | /om/user/katiemc/continuous_mws/cmws/examples/scene_understanding/data.py:302 | INFO: Loading dataset (test = False)...\n",
      "23:50:53 | /om/user/katiemc/continuous_mws/cmws/examples/scene_understanding/data.py:306 | INFO: Dataset (test = False) loaded /om/user/katiemc/continuous_mws/cmws/examples/scene_understanding/data/1_1/colorless/train.pt\n",
      "23:50:53 | /om/user/katiemc/continuous_mws/cmws/memory.py:20 | INFO: Initializing memory\n"
     ]
    },
    {
     "name": "stderr",
     "output_type": "stream",
     "text": [
      "\n",
      "100%|██████████| 100/100 [00:00<00:00, 1142.63it/s]"
     ]
    },
    {
     "name": "stdout",
     "output_type": "stream",
     "text": [
      "color status:  True\n",
      "path:  /om/user/katiemc/continuous_mws/cmws/examples/scene_understanding/data/1_1/colorless/train.pt\n",
      "23:50:53 | /om/user/katiemc/continuous_mws/cmws/examples/scene_understanding/data.py:302 | INFO: Loading dataset (test = False)...\n",
      "23:50:53 | /om/user/katiemc/continuous_mws/cmws/examples/scene_understanding/data.py:306 | INFO: Dataset (test = False) loaded /om/user/katiemc/continuous_mws/cmws/examples/scene_understanding/data/1_1/colorless/train.pt\n",
      "23:50:53 | /om/user/katiemc/continuous_mws/cmws/memory.py:20 | INFO: Initializing memory\n"
     ]
    },
    {
     "name": "stderr",
     "output_type": "stream",
     "text": [
      "\n",
      "100%|██████████| 100/100 [00:00<00:00, 1153.71it/s]"
     ]
    },
    {
     "name": "stdout",
     "output_type": "stream",
     "text": [
      "color status:  True\n",
      "path:  /om/user/katiemc/continuous_mws/cmws/examples/scene_understanding/data/1_1/colorless/train.pt\n",
      "23:50:53 | /om/user/katiemc/continuous_mws/cmws/examples/scene_understanding/data.py:302 | INFO: Loading dataset (test = False)...\n",
      "23:50:53 | /om/user/katiemc/continuous_mws/cmws/examples/scene_understanding/data.py:306 | INFO: Dataset (test = False) loaded /om/user/katiemc/continuous_mws/cmws/examples/scene_understanding/data/1_1/colorless/train.pt\n",
      "23:50:53 | /om/user/katiemc/continuous_mws/cmws/memory.py:20 | INFO: Initializing memory\n"
     ]
    },
    {
     "name": "stderr",
     "output_type": "stream",
     "text": [
      "\n",
      "100%|██████████| 100/100 [00:00<00:00, 1139.15it/s]"
     ]
    },
    {
     "name": "stdout",
     "output_type": "stream",
     "text": [
      "color status:  True\n",
      "path:  /om/user/katiemc/continuous_mws/cmws/examples/scene_understanding/data/1_1/colorless/train.pt\n",
      "23:50:53 | /om/user/katiemc/continuous_mws/cmws/examples/scene_understanding/data.py:302 | INFO: Loading dataset (test = False)...\n",
      "23:50:53 | /om/user/katiemc/continuous_mws/cmws/examples/scene_understanding/data.py:306 | INFO: Dataset (test = False) loaded /om/user/katiemc/continuous_mws/cmws/examples/scene_understanding/data/1_1/colorless/train.pt\n",
      "23:50:53 | /om/user/katiemc/continuous_mws/cmws/memory.py:20 | INFO: Initializing memory\n"
     ]
    },
    {
     "name": "stderr",
     "output_type": "stream",
     "text": [
      "\n",
      "100%|██████████| 100/100 [00:00<00:00, 1142.21it/s]"
     ]
    },
    {
     "name": "stdout",
     "output_type": "stream",
     "text": [
      "color status:  True\n",
      "path:  /om/user/katiemc/continuous_mws/cmws/examples/scene_understanding/data/1_1/colorless/train.pt\n",
      "23:50:53 | /om/user/katiemc/continuous_mws/cmws/examples/scene_understanding/data.py:302 | INFO: Loading dataset (test = False)...\n",
      "23:50:53 | /om/user/katiemc/continuous_mws/cmws/examples/scene_understanding/data.py:306 | INFO: Dataset (test = False) loaded /om/user/katiemc/continuous_mws/cmws/examples/scene_understanding/data/1_1/colorless/train.pt\n",
      "23:50:53 | /om/user/katiemc/continuous_mws/cmws/memory.py:20 | INFO: Initializing memory\n"
     ]
    },
    {
     "name": "stderr",
     "output_type": "stream",
     "text": [
      "\n",
      "100%|██████████| 100/100 [00:00<00:00, 1133.68it/s]\n"
     ]
    },
    {
     "name": "stdout",
     "output_type": "stream",
     "text": [
      "23:50:54 | /om/user/katiemc/continuous_mws/cmws/util.py:293 | INFO: Saved to ../save/cmws_vs_rws_noColor_shrink001/losses_3.png\n",
      "color status:  True\n",
      "path:  /om/user/katiemc/continuous_mws/cmws/examples/scene_understanding/data/1_1/colorless/train.pt\n",
      "23:50:54 | /om/user/katiemc/continuous_mws/cmws/examples/scene_understanding/data.py:302 | INFO: Loading dataset (test = False)...\n",
      "23:50:55 | /om/user/katiemc/continuous_mws/cmws/examples/scene_understanding/data.py:306 | INFO: Dataset (test = False) loaded /om/user/katiemc/continuous_mws/cmws/examples/scene_understanding/data/1_1/colorless/train.pt\n",
      "23:50:55 | /om/user/katiemc/continuous_mws/cmws/memory.py:20 | INFO: Initializing memory\n"
     ]
    },
    {
     "name": "stderr",
     "output_type": "stream",
     "text": [
      "100%|██████████| 100/100 [00:00<00:00, 1182.56it/s]"
     ]
    },
    {
     "name": "stdout",
     "output_type": "stream",
     "text": [
      "color status:  True\n",
      "path:  /om/user/katiemc/continuous_mws/cmws/examples/scene_understanding/data/1_1/colorless/train.pt\n",
      "23:50:55 | /om/user/katiemc/continuous_mws/cmws/examples/scene_understanding/data.py:302 | INFO: Loading dataset (test = False)...\n",
      "23:50:55 | /om/user/katiemc/continuous_mws/cmws/examples/scene_understanding/data.py:306 | INFO: Dataset (test = False) loaded /om/user/katiemc/continuous_mws/cmws/examples/scene_understanding/data/1_1/colorless/train.pt\n",
      "23:50:55 | /om/user/katiemc/continuous_mws/cmws/memory.py:20 | INFO: Initializing memory\n"
     ]
    },
    {
     "name": "stderr",
     "output_type": "stream",
     "text": [
      "\n",
      "100%|██████████| 100/100 [00:00<00:00, 1147.81it/s]"
     ]
    },
    {
     "name": "stdout",
     "output_type": "stream",
     "text": [
      "color status:  True\n",
      "path:  /om/user/katiemc/continuous_mws/cmws/examples/scene_understanding/data/1_1/colorless/train.pt\n",
      "23:50:55 | /om/user/katiemc/continuous_mws/cmws/examples/scene_understanding/data.py:302 | INFO: Loading dataset (test = False)...\n",
      "23:50:55 | /om/user/katiemc/continuous_mws/cmws/examples/scene_understanding/data.py:306 | INFO: Dataset (test = False) loaded /om/user/katiemc/continuous_mws/cmws/examples/scene_understanding/data/1_1/colorless/train.pt\n",
      "23:50:55 | /om/user/katiemc/continuous_mws/cmws/memory.py:20 | INFO: Initializing memory\n"
     ]
    },
    {
     "name": "stderr",
     "output_type": "stream",
     "text": [
      "\n",
      "100%|██████████| 100/100 [00:00<00:00, 1180.29it/s]"
     ]
    },
    {
     "name": "stdout",
     "output_type": "stream",
     "text": [
      "color status:  True\n",
      "path:  /om/user/katiemc/continuous_mws/cmws/examples/scene_understanding/data/1_1/colorless/train.pt\n",
      "23:50:55 | /om/user/katiemc/continuous_mws/cmws/examples/scene_understanding/data.py:302 | INFO: Loading dataset (test = False)...\n",
      "23:50:55 | /om/user/katiemc/continuous_mws/cmws/examples/scene_understanding/data.py:306 | INFO: Dataset (test = False) loaded /om/user/katiemc/continuous_mws/cmws/examples/scene_understanding/data/1_1/colorless/train.pt\n",
      "23:50:55 | /om/user/katiemc/continuous_mws/cmws/memory.py:20 | INFO: Initializing memory\n"
     ]
    },
    {
     "name": "stderr",
     "output_type": "stream",
     "text": [
      "\n",
      "100%|██████████| 100/100 [00:00<00:00, 1178.15it/s]"
     ]
    },
    {
     "name": "stdout",
     "output_type": "stream",
     "text": [
      "color status:  True\n",
      "path:  /om/user/katiemc/continuous_mws/cmws/examples/scene_understanding/data/1_1/colorless/train.pt\n",
      "23:50:55 | /om/user/katiemc/continuous_mws/cmws/examples/scene_understanding/data.py:302 | INFO: Loading dataset (test = False)...\n",
      "23:50:55 | /om/user/katiemc/continuous_mws/cmws/examples/scene_understanding/data.py:306 | INFO: Dataset (test = False) loaded /om/user/katiemc/continuous_mws/cmws/examples/scene_understanding/data/1_1/colorless/train.pt\n",
      "23:50:55 | /om/user/katiemc/continuous_mws/cmws/memory.py:20 | INFO: Initializing memory\n"
     ]
    },
    {
     "name": "stderr",
     "output_type": "stream",
     "text": [
      "\n",
      "100%|██████████| 100/100 [00:00<00:00, 1178.65it/s]"
     ]
    },
    {
     "name": "stdout",
     "output_type": "stream",
     "text": [
      "color status:  True\n",
      "path:  /om/user/katiemc/continuous_mws/cmws/examples/scene_understanding/data/1_1/colorless/train.pt\n",
      "23:50:55 | /om/user/katiemc/continuous_mws/cmws/examples/scene_understanding/data.py:302 | INFO: Loading dataset (test = False)...\n",
      "23:50:55 | /om/user/katiemc/continuous_mws/cmws/examples/scene_understanding/data.py:306 | INFO: Dataset (test = False) loaded /om/user/katiemc/continuous_mws/cmws/examples/scene_understanding/data/1_1/colorless/train.pt\n",
      "23:50:55 | /om/user/katiemc/continuous_mws/cmws/memory.py:20 | INFO: Initializing memory\n"
     ]
    },
    {
     "name": "stderr",
     "output_type": "stream",
     "text": [
      "\n",
      "100%|██████████| 100/100 [00:00<00:00, 1174.98it/s]\n"
     ]
    },
    {
     "name": "stdout",
     "output_type": "stream",
     "text": [
      "color status:  True\n",
      "path:  /om/user/katiemc/continuous_mws/cmws/examples/scene_understanding/data/1_1/colorless/train.pt\n",
      "23:50:55 | /om/user/katiemc/continuous_mws/cmws/examples/scene_understanding/data.py:302 | INFO: Loading dataset (test = False)...\n",
      "23:50:55 | /om/user/katiemc/continuous_mws/cmws/examples/scene_understanding/data.py:306 | INFO: Dataset (test = False) loaded /om/user/katiemc/continuous_mws/cmws/examples/scene_understanding/data/1_1/colorless/train.pt\n",
      "23:50:55 | /om/user/katiemc/continuous_mws/cmws/memory.py:20 | INFO: Initializing memory\n"
     ]
    },
    {
     "name": "stderr",
     "output_type": "stream",
     "text": [
      "100%|██████████| 100/100 [00:00<00:00, 1171.66it/s]"
     ]
    },
    {
     "name": "stdout",
     "output_type": "stream",
     "text": [
      "color status:  True\n",
      "path:  /om/user/katiemc/continuous_mws/cmws/examples/scene_understanding/data/1_1/colorless/train.pt\n",
      "23:50:55 | /om/user/katiemc/continuous_mws/cmws/examples/scene_understanding/data.py:302 | INFO: Loading dataset (test = False)...\n",
      "23:50:55 | /om/user/katiemc/continuous_mws/cmws/examples/scene_understanding/data.py:306 | INFO: Dataset (test = False) loaded /om/user/katiemc/continuous_mws/cmws/examples/scene_understanding/data/1_1/colorless/train.pt\n",
      "23:50:55 | /om/user/katiemc/continuous_mws/cmws/memory.py:20 | INFO: Initializing memory\n"
     ]
    },
    {
     "name": "stderr",
     "output_type": "stream",
     "text": [
      "\n",
      "100%|██████████| 100/100 [00:00<00:00, 1165.80it/s]"
     ]
    },
    {
     "name": "stdout",
     "output_type": "stream",
     "text": [
      "color status:  True\n",
      "path:  /om/user/katiemc/continuous_mws/cmws/examples/scene_understanding/data/1_1/colorless/train.pt\n",
      "23:50:56 | /om/user/katiemc/continuous_mws/cmws/examples/scene_understanding/data.py:302 | INFO: Loading dataset (test = False)...\n",
      "23:50:56 | /om/user/katiemc/continuous_mws/cmws/examples/scene_understanding/data.py:306 | INFO: Dataset (test = False) loaded /om/user/katiemc/continuous_mws/cmws/examples/scene_understanding/data/1_1/colorless/train.pt\n",
      "23:50:56 | /om/user/katiemc/continuous_mws/cmws/memory.py:20 | INFO: Initializing memory\n"
     ]
    },
    {
     "name": "stderr",
     "output_type": "stream",
     "text": [
      "\n",
      "100%|██████████| 100/100 [00:00<00:00, 1171.49it/s]"
     ]
    },
    {
     "name": "stdout",
     "output_type": "stream",
     "text": [
      "color status:  True\n",
      "path:  /om/user/katiemc/continuous_mws/cmws/examples/scene_understanding/data/1_1/colorless/train.pt\n",
      "23:50:56 | /om/user/katiemc/continuous_mws/cmws/examples/scene_understanding/data.py:302 | INFO: Loading dataset (test = False)...\n",
      "23:50:56 | /om/user/katiemc/continuous_mws/cmws/examples/scene_understanding/data.py:306 | INFO: Dataset (test = False) loaded /om/user/katiemc/continuous_mws/cmws/examples/scene_understanding/data/1_1/colorless/train.pt\n",
      "23:50:56 | /om/user/katiemc/continuous_mws/cmws/memory.py:20 | INFO: Initializing memory\n"
     ]
    },
    {
     "name": "stderr",
     "output_type": "stream",
     "text": [
      "\n",
      "100%|██████████| 100/100 [00:00<00:00, 1179.24it/s]\n"
     ]
    },
    {
     "name": "stdout",
     "output_type": "stream",
     "text": [
      "color status:  True\n",
      "path:  /om/user/katiemc/continuous_mws/cmws/examples/scene_understanding/data/1_1/colorless/train.pt\n",
      "23:50:56 | /om/user/katiemc/continuous_mws/cmws/examples/scene_understanding/data.py:302 | INFO: Loading dataset (test = False)...\n",
      "23:50:56 | /om/user/katiemc/continuous_mws/cmws/examples/scene_understanding/data.py:306 | INFO: Dataset (test = False) loaded /om/user/katiemc/continuous_mws/cmws/examples/scene_understanding/data/1_1/colorless/train.pt\n",
      "23:50:56 | /om/user/katiemc/continuous_mws/cmws/memory.py:20 | INFO: Initializing memory\n"
     ]
    },
    {
     "name": "stderr",
     "output_type": "stream",
     "text": [
      "100%|██████████| 100/100 [00:00<00:00, 1113.20it/s]"
     ]
    },
    {
     "name": "stdout",
     "output_type": "stream",
     "text": [
      "color status:  True\n",
      "path:  /om/user/katiemc/continuous_mws/cmws/examples/scene_understanding/data/1_1/colorless/train.pt\n",
      "23:50:56 | /om/user/katiemc/continuous_mws/cmws/examples/scene_understanding/data.py:302 | INFO: Loading dataset (test = False)...\n",
      "23:50:56 | /om/user/katiemc/continuous_mws/cmws/examples/scene_understanding/data.py:306 | INFO: Dataset (test = False) loaded /om/user/katiemc/continuous_mws/cmws/examples/scene_understanding/data/1_1/colorless/train.pt\n",
      "23:50:56 | /om/user/katiemc/continuous_mws/cmws/memory.py:20 | INFO: Initializing memory\n"
     ]
    },
    {
     "name": "stderr",
     "output_type": "stream",
     "text": [
      "\n",
      "100%|██████████| 100/100 [00:00<00:00, 1148.72it/s]"
     ]
    },
    {
     "name": "stdout",
     "output_type": "stream",
     "text": [
      "color status:  True\n",
      "path:  /om/user/katiemc/continuous_mws/cmws/examples/scene_understanding/data/1_1/colorless/train.pt\n",
      "23:50:56 | /om/user/katiemc/continuous_mws/cmws/examples/scene_understanding/data.py:302 | INFO: Loading dataset (test = False)...\n",
      "23:50:56 | /om/user/katiemc/continuous_mws/cmws/examples/scene_understanding/data.py:306 | INFO: Dataset (test = False) loaded /om/user/katiemc/continuous_mws/cmws/examples/scene_understanding/data/1_1/colorless/train.pt\n",
      "23:50:56 | /om/user/katiemc/continuous_mws/cmws/memory.py:20 | INFO: Initializing memory\n"
     ]
    },
    {
     "name": "stderr",
     "output_type": "stream",
     "text": [
      "\n",
      "100%|██████████| 100/100 [00:00<00:00, 1130.95it/s]\n"
     ]
    },
    {
     "name": "stdout",
     "output_type": "stream",
     "text": [
      "color status:  True\n",
      "path:  /om/user/katiemc/continuous_mws/cmws/examples/scene_understanding/data/1_1/colorless/train.pt\n",
      "23:50:56 | /om/user/katiemc/continuous_mws/cmws/examples/scene_understanding/data.py:302 | INFO: Loading dataset (test = False)...\n",
      "23:50:56 | /om/user/katiemc/continuous_mws/cmws/examples/scene_understanding/data.py:306 | INFO: Dataset (test = False) loaded /om/user/katiemc/continuous_mws/cmws/examples/scene_understanding/data/1_1/colorless/train.pt\n",
      "23:50:56 | /om/user/katiemc/continuous_mws/cmws/memory.py:20 | INFO: Initializing memory\n"
     ]
    },
    {
     "name": "stderr",
     "output_type": "stream",
     "text": [
      "100%|██████████| 100/100 [00:00<00:00, 1145.66it/s]\n"
     ]
    },
    {
     "name": "stdout",
     "output_type": "stream",
     "text": [
      "color status:  True\n",
      "path:  /om/user/katiemc/continuous_mws/cmws/examples/scene_understanding/data/1_1/colorless/train.pt\n",
      "23:50:57 | /om/user/katiemc/continuous_mws/cmws/examples/scene_understanding/data.py:302 | INFO: Loading dataset (test = False)...\n",
      "23:50:57 | /om/user/katiemc/continuous_mws/cmws/examples/scene_understanding/data.py:306 | INFO: Dataset (test = False) loaded /om/user/katiemc/continuous_mws/cmws/examples/scene_understanding/data/1_1/colorless/train.pt\n",
      "23:50:57 | /om/user/katiemc/continuous_mws/cmws/memory.py:20 | INFO: Initializing memory\n"
     ]
    },
    {
     "name": "stderr",
     "output_type": "stream",
     "text": [
      "100%|██████████| 100/100 [00:00<00:00, 1169.27it/s]\n",
      "/home/katiemc/.conda/envs/cmws/lib/python3.7/site-packages/numpy/lib/nanfunctions.py:1114: RuntimeWarning: All-NaN slice encountered\n",
      "  overwrite_input=overwrite_input)\n",
      "/home/katiemc/.conda/envs/cmws/lib/python3.7/site-packages/numpy/lib/nanfunctions.py:1390: RuntimeWarning: All-NaN slice encountered\n",
      "  overwrite_input, interpolation)\n",
      "/home/katiemc/.conda/envs/cmws/lib/python3.7/site-packages/numpy/lib/nanfunctions.py:1114: RuntimeWarning: All-NaN slice encountered\n",
      "  overwrite_input=overwrite_input)\n",
      "/home/katiemc/.conda/envs/cmws/lib/python3.7/site-packages/numpy/lib/nanfunctions.py:1390: RuntimeWarning: All-NaN slice encountered\n",
      "  overwrite_input, interpolation)\n"
     ]
    },
    {
     "name": "stdout",
     "output_type": "stream",
     "text": [
      "23:50:58 | /om/user/katiemc/continuous_mws/cmws/util.py:293 | INFO: Saved to ../save/cmws_vs_rws_noColor_shrink001/losses_2_overlay.png\n",
      "color status:  True\n",
      "path:  /om/user/katiemc/continuous_mws/cmws/examples/scene_understanding/data/1_1/colorless/train.pt\n",
      "23:50:58 | /om/user/katiemc/continuous_mws/cmws/examples/scene_understanding/data.py:302 | INFO: Loading dataset (test = False)...\n",
      "23:50:58 | /om/user/katiemc/continuous_mws/cmws/examples/scene_understanding/data.py:306 | INFO: Dataset (test = False) loaded /om/user/katiemc/continuous_mws/cmws/examples/scene_understanding/data/1_1/colorless/train.pt\n",
      "23:50:58 | /om/user/katiemc/continuous_mws/cmws/memory.py:20 | INFO: Initializing memory\n"
     ]
    },
    {
     "name": "stderr",
     "output_type": "stream",
     "text": [
      "100%|██████████| 100/100 [00:00<00:00, 1185.64it/s]"
     ]
    },
    {
     "name": "stdout",
     "output_type": "stream",
     "text": [
      "color status:  True\n",
      "path:  /om/user/katiemc/continuous_mws/cmws/examples/scene_understanding/data/1_1/colorless/train.pt\n",
      "23:50:58 | /om/user/katiemc/continuous_mws/cmws/examples/scene_understanding/data.py:302 | INFO: Loading dataset (test = False)...\n",
      "23:50:58 | /om/user/katiemc/continuous_mws/cmws/examples/scene_understanding/data.py:306 | INFO: Dataset (test = False) loaded /om/user/katiemc/continuous_mws/cmws/examples/scene_understanding/data/1_1/colorless/train.pt\n",
      "23:50:58 | /om/user/katiemc/continuous_mws/cmws/memory.py:20 | INFO: Initializing memory\n"
     ]
    },
    {
     "name": "stderr",
     "output_type": "stream",
     "text": [
      "\n",
      "100%|██████████| 100/100 [00:00<00:00, 1184.44it/s]"
     ]
    },
    {
     "name": "stdout",
     "output_type": "stream",
     "text": [
      "color status:  True\n",
      "path:  /om/user/katiemc/continuous_mws/cmws/examples/scene_understanding/data/1_1/colorless/train.pt\n",
      "23:50:58 | /om/user/katiemc/continuous_mws/cmws/examples/scene_understanding/data.py:302 | INFO: Loading dataset (test = False)...\n",
      "23:50:58 | /om/user/katiemc/continuous_mws/cmws/examples/scene_understanding/data.py:306 | INFO: Dataset (test = False) loaded /om/user/katiemc/continuous_mws/cmws/examples/scene_understanding/data/1_1/colorless/train.pt\n",
      "23:50:58 | /om/user/katiemc/continuous_mws/cmws/memory.py:20 | INFO: Initializing memory\n"
     ]
    },
    {
     "name": "stderr",
     "output_type": "stream",
     "text": [
      "\n",
      "100%|██████████| 100/100 [00:00<00:00, 1176.18it/s]"
     ]
    },
    {
     "name": "stdout",
     "output_type": "stream",
     "text": [
      "color status:  True\n",
      "path:  /om/user/katiemc/continuous_mws/cmws/examples/scene_understanding/data/1_1/colorless/train.pt\n",
      "23:50:58 | /om/user/katiemc/continuous_mws/cmws/examples/scene_understanding/data.py:302 | INFO: Loading dataset (test = False)...\n",
      "23:50:58 | /om/user/katiemc/continuous_mws/cmws/examples/scene_understanding/data.py:306 | INFO: Dataset (test = False) loaded /om/user/katiemc/continuous_mws/cmws/examples/scene_understanding/data/1_1/colorless/train.pt\n",
      "23:50:58 | /om/user/katiemc/continuous_mws/cmws/memory.py:20 | INFO: Initializing memory\n"
     ]
    },
    {
     "name": "stderr",
     "output_type": "stream",
     "text": [
      "\n",
      "100%|██████████| 100/100 [00:00<00:00, 1171.14it/s]\n"
     ]
    },
    {
     "name": "stdout",
     "output_type": "stream",
     "text": [
      "color status:  True\n",
      "path:  /om/user/katiemc/continuous_mws/cmws/examples/scene_understanding/data/1_1/colorless/train.pt\n",
      "23:50:58 | /om/user/katiemc/continuous_mws/cmws/examples/scene_understanding/data.py:302 | INFO: Loading dataset (test = False)...\n",
      "23:50:58 | /om/user/katiemc/continuous_mws/cmws/examples/scene_understanding/data.py:306 | INFO: Dataset (test = False) loaded /om/user/katiemc/continuous_mws/cmws/examples/scene_understanding/data/1_1/colorless/train.pt\n",
      "23:50:58 | /om/user/katiemc/continuous_mws/cmws/memory.py:20 | INFO: Initializing memory\n"
     ]
    },
    {
     "name": "stderr",
     "output_type": "stream",
     "text": [
      "100%|██████████| 100/100 [00:00<00:00, 1181.59it/s]"
     ]
    },
    {
     "name": "stdout",
     "output_type": "stream",
     "text": [
      "color status:  True\n",
      "path:  /om/user/katiemc/continuous_mws/cmws/examples/scene_understanding/data/1_1/colorless/train.pt\n",
      "23:50:59 | /om/user/katiemc/continuous_mws/cmws/examples/scene_understanding/data.py:302 | INFO: Loading dataset (test = False)...\n",
      "23:50:59 | /om/user/katiemc/continuous_mws/cmws/examples/scene_understanding/data.py:306 | INFO: Dataset (test = False) loaded /om/user/katiemc/continuous_mws/cmws/examples/scene_understanding/data/1_1/colorless/train.pt\n",
      "23:50:59 | /om/user/katiemc/continuous_mws/cmws/memory.py:20 | INFO: Initializing memory\n"
     ]
    },
    {
     "name": "stderr",
     "output_type": "stream",
     "text": [
      "\n",
      "100%|██████████| 100/100 [00:00<00:00, 1213.97it/s]"
     ]
    },
    {
     "name": "stdout",
     "output_type": "stream",
     "text": [
      "color status:  True\n",
      "path:  /om/user/katiemc/continuous_mws/cmws/examples/scene_understanding/data/1_1/colorless/train.pt\n",
      "23:50:59 | /om/user/katiemc/continuous_mws/cmws/examples/scene_understanding/data.py:302 | INFO: Loading dataset (test = False)...\n",
      "23:50:59 | /om/user/katiemc/continuous_mws/cmws/examples/scene_understanding/data.py:306 | INFO: Dataset (test = False) loaded /om/user/katiemc/continuous_mws/cmws/examples/scene_understanding/data/1_1/colorless/train.pt\n",
      "23:50:59 | /om/user/katiemc/continuous_mws/cmws/memory.py:20 | INFO: Initializing memory\n"
     ]
    },
    {
     "name": "stderr",
     "output_type": "stream",
     "text": [
      "\n",
      "100%|██████████| 100/100 [00:00<00:00, 1203.08it/s]"
     ]
    },
    {
     "name": "stdout",
     "output_type": "stream",
     "text": [
      "color status:  True\n",
      "path:  /om/user/katiemc/continuous_mws/cmws/examples/scene_understanding/data/1_1/colorless/train.pt\n",
      "23:50:59 | /om/user/katiemc/continuous_mws/cmws/examples/scene_understanding/data.py:302 | INFO: Loading dataset (test = False)...\n",
      "23:50:59 | /om/user/katiemc/continuous_mws/cmws/examples/scene_understanding/data.py:306 | INFO: Dataset (test = False) loaded /om/user/katiemc/continuous_mws/cmws/examples/scene_understanding/data/1_1/colorless/train.pt\n",
      "23:50:59 | /om/user/katiemc/continuous_mws/cmws/memory.py:20 | INFO: Initializing memory\n"
     ]
    },
    {
     "name": "stderr",
     "output_type": "stream",
     "text": [
      "\n",
      "100%|██████████| 100/100 [00:00<00:00, 1207.57it/s]"
     ]
    },
    {
     "name": "stdout",
     "output_type": "stream",
     "text": [
      "color status:  True\n",
      "path:  /om/user/katiemc/continuous_mws/cmws/examples/scene_understanding/data/1_1/colorless/train.pt\n",
      "23:50:59 | /om/user/katiemc/continuous_mws/cmws/examples/scene_understanding/data.py:302 | INFO: Loading dataset (test = False)...\n",
      "23:50:59 | /om/user/katiemc/continuous_mws/cmws/examples/scene_understanding/data.py:306 | INFO: Dataset (test = False) loaded /om/user/katiemc/continuous_mws/cmws/examples/scene_understanding/data/1_1/colorless/train.pt\n",
      "23:50:59 | /om/user/katiemc/continuous_mws/cmws/memory.py:20 | INFO: Initializing memory\n"
     ]
    },
    {
     "name": "stderr",
     "output_type": "stream",
     "text": [
      "\n",
      "100%|██████████| 100/100 [00:00<00:00, 1203.87it/s]"
     ]
    },
    {
     "name": "stdout",
     "output_type": "stream",
     "text": [
      "color status:  True\n",
      "path:  /om/user/katiemc/continuous_mws/cmws/examples/scene_understanding/data/1_1/colorless/train.pt\n",
      "23:50:59 | /om/user/katiemc/continuous_mws/cmws/examples/scene_understanding/data.py:302 | INFO: Loading dataset (test = False)...\n",
      "23:50:59 | /om/user/katiemc/continuous_mws/cmws/examples/scene_understanding/data.py:306 | INFO: Dataset (test = False) loaded /om/user/katiemc/continuous_mws/cmws/examples/scene_understanding/data/1_1/colorless/train.pt\n",
      "23:50:59 | /om/user/katiemc/continuous_mws/cmws/memory.py:20 | INFO: Initializing memory\n"
     ]
    },
    {
     "name": "stderr",
     "output_type": "stream",
     "text": [
      "\n",
      "100%|██████████| 100/100 [00:00<00:00, 1195.77it/s]"
     ]
    },
    {
     "name": "stdout",
     "output_type": "stream",
     "text": [
      "color status:  True\n",
      "path:  /om/user/katiemc/continuous_mws/cmws/examples/scene_understanding/data/1_1/colorless/train.pt\n",
      "23:50:59 | /om/user/katiemc/continuous_mws/cmws/examples/scene_understanding/data.py:302 | INFO: Loading dataset (test = False)...\n",
      "23:50:59 | /om/user/katiemc/continuous_mws/cmws/examples/scene_understanding/data.py:306 | INFO: Dataset (test = False) loaded /om/user/katiemc/continuous_mws/cmws/examples/scene_understanding/data/1_1/colorless/train.pt\n",
      "23:50:59 | /om/user/katiemc/continuous_mws/cmws/memory.py:20 | INFO: Initializing memory\n"
     ]
    },
    {
     "name": "stderr",
     "output_type": "stream",
     "text": [
      "\n",
      "100%|██████████| 100/100 [00:00<00:00, 1175.72it/s]"
     ]
    },
    {
     "name": "stdout",
     "output_type": "stream",
     "text": [
      "color status:  True\n",
      "path:  /om/user/katiemc/continuous_mws/cmws/examples/scene_understanding/data/1_1/colorless/train.pt\n",
      "23:50:59 | /om/user/katiemc/continuous_mws/cmws/examples/scene_understanding/data.py:302 | INFO: Loading dataset (test = False)...\n",
      "23:50:59 | /om/user/katiemc/continuous_mws/cmws/examples/scene_understanding/data.py:306 | INFO: Dataset (test = False) loaded /om/user/katiemc/continuous_mws/cmws/examples/scene_understanding/data/1_1/colorless/train.pt\n",
      "23:50:59 | /om/user/katiemc/continuous_mws/cmws/memory.py:20 | INFO: Initializing memory\n"
     ]
    },
    {
     "name": "stderr",
     "output_type": "stream",
     "text": [
      "\n",
      "100%|██████████| 100/100 [00:00<00:00, 1187.44it/s]"
     ]
    },
    {
     "name": "stdout",
     "output_type": "stream",
     "text": [
      "color status:  True\n",
      "path:  /om/user/katiemc/continuous_mws/cmws/examples/scene_understanding/data/1_1/colorless/train.pt\n",
      "23:50:59 | /om/user/katiemc/continuous_mws/cmws/examples/scene_understanding/data.py:302 | INFO: Loading dataset (test = False)...\n",
      "23:50:59 | /om/user/katiemc/continuous_mws/cmws/examples/scene_understanding/data.py:306 | INFO: Dataset (test = False) loaded /om/user/katiemc/continuous_mws/cmws/examples/scene_understanding/data/1_1/colorless/train.pt\n",
      "23:50:59 | /om/user/katiemc/continuous_mws/cmws/memory.py:20 | INFO: Initializing memory\n"
     ]
    },
    {
     "name": "stderr",
     "output_type": "stream",
     "text": [
      "\n",
      "100%|██████████| 100/100 [00:00<00:00, 1157.45it/s]"
     ]
    },
    {
     "name": "stdout",
     "output_type": "stream",
     "text": [
      "color status:  True\n",
      "path:  /om/user/katiemc/continuous_mws/cmws/examples/scene_understanding/data/1_1/colorless/train.pt\n",
      "23:51:00 | /om/user/katiemc/continuous_mws/cmws/examples/scene_understanding/data.py:302 | INFO: Loading dataset (test = False)...\n",
      "23:51:00 | /om/user/katiemc/continuous_mws/cmws/examples/scene_understanding/data.py:306 | INFO: Dataset (test = False) loaded /om/user/katiemc/continuous_mws/cmws/examples/scene_understanding/data/1_1/colorless/train.pt\n",
      "23:51:00 | /om/user/katiemc/continuous_mws/cmws/memory.py:20 | INFO: Initializing memory\n"
     ]
    },
    {
     "name": "stderr",
     "output_type": "stream",
     "text": [
      "\n",
      "100%|██████████| 100/100 [00:00<00:00, 1163.89it/s]"
     ]
    },
    {
     "name": "stdout",
     "output_type": "stream",
     "text": [
      "color status:  True\n",
      "path:  /om/user/katiemc/continuous_mws/cmws/examples/scene_understanding/data/1_1/colorless/train.pt\n",
      "23:51:00 | /om/user/katiemc/continuous_mws/cmws/examples/scene_understanding/data.py:302 | INFO: Loading dataset (test = False)...\n",
      "23:51:00 | /om/user/katiemc/continuous_mws/cmws/examples/scene_understanding/data.py:306 | INFO: Dataset (test = False) loaded /om/user/katiemc/continuous_mws/cmws/examples/scene_understanding/data/1_1/colorless/train.pt\n",
      "23:51:00 | /om/user/katiemc/continuous_mws/cmws/memory.py:20 | INFO: Initializing memory\n"
     ]
    },
    {
     "name": "stderr",
     "output_type": "stream",
     "text": [
      "\n",
      "100%|██████████| 100/100 [00:00<00:00, 1164.11it/s]\n",
      "/home/katiemc/.conda/envs/cmws/lib/python3.7/site-packages/numpy/lib/nanfunctions.py:1114: RuntimeWarning: All-NaN slice encountered\n",
      "  overwrite_input=overwrite_input)\n",
      "/home/katiemc/.conda/envs/cmws/lib/python3.7/site-packages/numpy/lib/nanfunctions.py:1390: RuntimeWarning: All-NaN slice encountered\n",
      "  overwrite_input, interpolation)\n",
      "/home/katiemc/.conda/envs/cmws/lib/python3.7/site-packages/numpy/lib/nanfunctions.py:1114: RuntimeWarning: All-NaN slice encountered\n",
      "  overwrite_input=overwrite_input)\n",
      "/home/katiemc/.conda/envs/cmws/lib/python3.7/site-packages/numpy/lib/nanfunctions.py:1390: RuntimeWarning: All-NaN slice encountered\n",
      "  overwrite_input, interpolation)\n"
     ]
    },
    {
     "name": "stdout",
     "output_type": "stream",
     "text": [
      "23:51:01 | /om/user/katiemc/continuous_mws/cmws/util.py:293 | INFO: Saved to ../save/cmws_vs_rws_noColor_shrink001/losses_3_overlay.png\n"
     ]
    }
   ],
   "source": [
    "experiment_names = [\"cmws_vs_rws_learnColor_shrink001\",\"cmws_vs_rws_noColor_shrink001\"]\n",
    "\n",
    "for experiment_name in experiment_names: \n",
    "    get_analysis_plots(experiment_name, grid_sizes=[2, 3], cmws_version=\"cmws_2\")"
   ]
  },
  {
   "cell_type": "code",
   "execution_count": null,
   "id": "2a620a2b",
   "metadata": {},
   "outputs": [],
   "source": []
  }
 ],
 "metadata": {
  "kernelspec": {
   "display_name": "Python 3",
   "language": "python",
   "name": "python3"
  },
  "language_info": {
   "codemirror_mode": {
    "name": "ipython",
    "version": 3
   },
   "file_extension": ".py",
   "mimetype": "text/x-python",
   "name": "python",
   "nbconvert_exporter": "python",
   "pygments_lexer": "ipython3",
   "version": "3.7.4"
  }
 },
 "nbformat": 4,
 "nbformat_minor": 5
}
