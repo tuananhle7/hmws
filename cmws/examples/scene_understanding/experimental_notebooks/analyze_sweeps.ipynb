{
 "cells": [
  {
   "cell_type": "code",
   "execution_count": 1,
   "id": "d5c18b7f",
   "metadata": {},
   "outputs": [],
   "source": [
    "'''\n",
    "Notebook to analyze and compare across sweep runs \n",
    "'''\n",
    "\n",
    "import os\n",
    "\n",
    "import cmws\n",
    "import matplotlib.pyplot as plt\n",
    "import seaborn as sns\n",
    "import torch\n",
    "from cmws import util\n",
    "from cmws.examples.scene_understanding import data, render, run, plot\n",
    "from cmws.examples.scene_understanding import util as scene3d_util \n",
    "import seaborn as sns\n",
    "import numpy as np\n",
    "\n",
    "\n",
    "# from: https://github.com/tuananhle7/continuous_mws/blob/master/cmws/examples/timeseries/plot.py#L244\n",
    "def plot_with_error_bars(ax, x, data, **plot_kwargs):\n",
    "    mid = np.nanmedian(data, axis=0)\n",
    "    low = np.nanpercentile(data, 25, axis=0)\n",
    "    high = np.nanpercentile(data, 75, axis=0)\n",
    "\n",
    "    num_not_nan = np.count_nonzero(~np.isnan(mid))\n",
    "\n",
    "    if num_not_nan > 0:\n",
    "        lines = ax.plot(x[:num_not_nan], mid[:num_not_nan], **plot_kwargs)\n",
    "        ax.fill_between(\n",
    "            x[:num_not_nan],\n",
    "            low[:num_not_nan],\n",
    "            high[:num_not_nan],\n",
    "            alpha=0.2,\n",
    "            color=lines[0].get_color(),\n",
    "        )\n",
    "        \n",
    "def load_checkpoint(path, device, num_tries=3):\n",
    "    for i in range(num_tries):\n",
    "        try:\n",
    "            checkpoint = torch.load(path, map_location=device)\n",
    "            break\n",
    "        except Exception as e:\n",
    "            logging.info(f\"Error {e}\")\n",
    "            wait_time = 2 ** i\n",
    "            logging.info(f\"Waiting for {wait_time} seconds\")\n",
    "            time.sleep(wait_time)\n",
    "    run_args = checkpoint[\"run_args\"]\n",
    "\n",
    "    if \"mode\" not in run_args: run_args[\"mode\"] = \"cube\"\n",
    "\n",
    "    model, optimizer, stats = init(run_args, device)\n",
    "\n",
    "    generative_model, guide, memory = model[\"generative_model\"], model[\"guide\"], model[\"memory\"]\n",
    "    guide.load_state_dict(checkpoint[\"guide_state_dict\"])\n",
    "    generative_model.load_state_dict(checkpoint[\"generative_model_state_dict\"])\n",
    "    if memory is not None:\n",
    "        memory.load_state_dict(checkpoint[\"memory_state_dict\"])\n",
    "\n",
    "    model = {\"generative_model\": generative_model, \"guide\": guide, \"memory\": memory}\n",
    "    optimizer.load_state_dict(checkpoint[\"optimizer_state_dict\"])\n",
    "    stats = checkpoint[\"stats\"]\n",
    "    return model, optimizer, stats, run_args"
   ]
  },
  {
   "cell_type": "code",
   "execution_count": 2,
   "id": "6d3fd513",
   "metadata": {},
   "outputs": [],
   "source": [
    "def get_analysis_plots(experiment_name, grid_sizes=[2, 3], algorithms=[\"cmws_2\", \"cmws_4\", \"rws\"],\n",
    "                      aggregate_shrink=True, shrink_factors=[0.01]):\n",
    "    save_dir = f\"../save/{experiment_name}\"\n",
    "    checkpoint_paths = []\n",
    "    for config_name in sorted(os.listdir(save_dir)):\n",
    "        checkpoint_paths.append(util.get_checkpoint_path(experiment_name, config_name, -1))\n",
    "\n",
    "    for grid_size in grid_sizes:  # grid size\n",
    "        for shrink_factor in shrink_factors: \n",
    "            fig, axs = plt.subplots(1, 2, figsize=(2 * 6, 1 * 4))\n",
    "\n",
    "            colors = {alg: f'C{idx}' for idx, alg in enumerate(algorithms)}#{cmws_version: \"C0\", \"rws\": \"C1\"}\n",
    "            added_label = {k: False for k in colors.keys()}  # keep track of whether we've used alg as label\n",
    "            for checkpoint_path in checkpoint_paths:\n",
    "                checkpoint_path = f\"../{checkpoint_path}\"\n",
    "\n",
    "                # Fix seed\n",
    "                util.set_seed(1)\n",
    "\n",
    "                if os.path.exists(checkpoint_path):\n",
    "                    # Load checkpoint\n",
    "                    try:\n",
    "                        model, optimizer, stats, run_args = scene3d_util.load_checkpoint(\n",
    "                            checkpoint_path, device=\"cpu\"\n",
    "                        )\n",
    "                    except:\n",
    "                        continue\n",
    "\n",
    "                    if run_args.num_grid_cols != grid_size: continue\n",
    "                    if run_args.algorithm not in set(algorithms): continue \n",
    "                    if run_args.shrink_factor != 0.01: continue # PATCH\n",
    "                    if not aggregate_shrink and run_args.shrink_factor != shrink_factor: continue \n",
    "\n",
    "                    generative_model, guide = model[\"generative_model\"], model[\"guide\"]\n",
    "                    num_iterations = len(stats.losses)\n",
    "\n",
    "                    if not added_label[run_args.algorithm]:\n",
    "                        label = run_args.algorithm\n",
    "                        added_label[run_args.algorithm] = True\n",
    "                    else:\n",
    "                        label = None\n",
    "                    color = colors[run_args.algorithm]\n",
    "                    plot_kwargs = {\"label\": label, \"color\": color, \"alpha\": 0.8, \"linewidth\": 1.5}\n",
    "\n",
    "                    # Logp\n",
    "                    ax = axs[0]\n",
    "                    ax.plot([x[0] for x in stats.log_ps], [x[1] for x in stats.log_ps], **plot_kwargs)\n",
    "\n",
    "                    # KL\n",
    "                    ax = axs[1]\n",
    "                    ax.plot([x[0] for x in stats.kls], [x[1] for x in stats.kls], **plot_kwargs)\n",
    "            ax = axs[0]\n",
    "            ax.set_xlabel(\"Iteration\")\n",
    "            ax.set_ylabel(\"Log p\")\n",
    "\n",
    "            ax = axs[1]\n",
    "            ax.set_xlabel(\"Iteration\")\n",
    "            ax.set_ylabel(\"KL\")\n",
    "            ax.legend()\n",
    "            for ax in axs:\n",
    "                sns.despine(ax=ax, trim=True)\n",
    "            if aggregate_shrink: util.save_fig(fig, f\"{save_dir}/losses_{grid_size}.png\", dpi=200)\n",
    "            else: util.save_fig(fig, f\"{save_dir}/losses_{grid_size}_{shrink_factor}.png\", dpi=200)\n",
    "\n",
    "    for grid_size in grid_sizes:  # grid size\n",
    "        for shrink_factor in shrink_factors: \n",
    "            # Load\n",
    "            x = []\n",
    "            log_ps = {alg: [] for idx, alg in enumerate(algorithms)}\n",
    "            kls = {alg: [] for idx, alg in enumerate(algorithms)}\n",
    "            colors = {alg: f'C{idx}' for idx, alg in enumerate(algorithms)}\n",
    "            for checkpoint_path in checkpoint_paths:\n",
    "                checkpoint_path = f\"../{checkpoint_path}\"\n",
    "                if os.path.exists(checkpoint_path):\n",
    "                    # Load checkpoint\n",
    "                    try:\n",
    "                        model, optimizer, stats, run_args = scene3d_util.load_checkpoint(\n",
    "                            checkpoint_path, device=\"cpu\"\n",
    "                        )\n",
    "                    except:\n",
    "                        continue\n",
    "                    if run_args.num_grid_cols != grid_size: continue\n",
    "                    if run_args.shrink_factor != 0.01: continue # PATCH\n",
    "                    if not aggregate_shrink and run_args.shrink_factor != shrink_factor: continue \n",
    "                    if run_args.algorithm not in set(algorithms): continue \n",
    "\n",
    "\n",
    "                    x_new = [x[0] for x in stats.log_ps]\n",
    "                    if len(x_new) > len(x):\n",
    "                        x = x_new\n",
    "                    log_ps[run_args.algorithm].append([x[1] for x in stats.log_ps])\n",
    "                    kls[run_args.algorithm].append([x[1] for x in stats.kls])\n",
    "            # Make numpy arrays\n",
    "            max_len = len(x)\n",
    "            if grid_size == 2:\n",
    "                num_seeds = 5  # 10\n",
    "            else:\n",
    "                num_seeds = 5\n",
    "            log_ps_np = dict(\n",
    "                [[algorithm, np.full((num_seeds, max_len), np.nan)] for algorithm in algorithms]\n",
    "            )\n",
    "            kls_np = dict([[algorithm, np.full((num_seeds, max_len), np.nan)] for algorithm in algorithms])\n",
    "            for algorithm in algorithms:\n",
    "                for seed in range(num_seeds):\n",
    "                    try:\n",
    "                        log_p = log_ps[algorithm][seed]\n",
    "                        kl = kls[algorithm][seed]\n",
    "                    except Exception:\n",
    "                        log_p = []\n",
    "                        kl = []\n",
    "                    log_ps_np[algorithm][seed][: len(log_p)] = log_p\n",
    "                    kls_np[algorithm][seed][: len(kl)] = kl\n",
    "\n",
    "            # Plot\n",
    "            fig, axs = plt.subplots(1, 2, figsize=(2 * 6, 1 * 4))\n",
    "            for algorithm in algorithms:\n",
    "                label = algorithm\n",
    "                linestyle = \"solid\"\n",
    "                color = colors[algorithm]\n",
    "                plot_kwargs = {\"color\": color, \"linestyle\": linestyle, \"label\": label}\n",
    "\n",
    "                # Logp\n",
    "                log_p = log_ps_np[algorithm]\n",
    "                ax = axs[0]\n",
    "                plot_with_error_bars(ax, x, log_p, **plot_kwargs)\n",
    "\n",
    "                # KL\n",
    "                kl = kls_np[algorithm]\n",
    "                ax = axs[1]\n",
    "                plot_with_error_bars(ax, x, kl, **plot_kwargs)\n",
    "\n",
    "            ax = axs[0]\n",
    "            ax.set_xlim([0,5000])\n",
    "            ax.set_xticks([0, 5000])\n",
    "            ax.set_xlabel(\"Iteration\", labelpad=-10)\n",
    "            ax.set_ylabel(f\"$\\\\log p_\\\\theta(x)$\")\n",
    "            ax.legend()\n",
    "\n",
    "            ax = axs[1]\n",
    "            ax.set_xlabel(\"Iteration\")\n",
    "            ax.set_ylabel(\"KL\")\n",
    "            ax.legend()\n",
    "            for ax in axs:\n",
    "                sns.despine(ax=ax, trim=True)\n",
    "            if aggregate_shrink: util.save_fig(fig, f\"{save_dir}/losses_{grid_size}_overlay.png\", dpi=200)\n",
    "            else: util.save_fig(fig, f\"{save_dir}/losses_{grid_size}_{shrink_factor}_overlay.png\", dpi=200)"
   ]
  },
  {
   "cell_type": "code",
   "execution_count": 3,
   "id": "df9432f8",
   "metadata": {},
   "outputs": [
    {
     "name": "stdout",
     "output_type": "stream",
     "text": [
      "color status:  True\n",
      "path:  /om/user/katiemc/continuous_mws/cmws/examples/scene_understanding/data/1_1/block_0.01/colorless/train.pt\n",
      "11:29:52 | /om/user/katiemc/continuous_mws/cmws/examples/scene_understanding/data.py:348 | INFO: Loading dataset (test = False)...\n",
      "11:29:52 | /om/user/katiemc/continuous_mws/cmws/examples/scene_understanding/data.py:352 | INFO: Dataset (test = False) loaded /om/user/katiemc/continuous_mws/cmws/examples/scene_understanding/data/1_1/block_0.01/colorless/train.pt\n",
      "11:29:52 | /om/user/katiemc/continuous_mws/cmws/memory.py:20 | INFO: Initializing memory\n"
     ]
    },
    {
     "name": "stderr",
     "output_type": "stream",
     "text": [
      "100%|██████████| 100/100 [00:00<00:00, 967.97it/s]"
     ]
    },
    {
     "name": "stdout",
     "output_type": "stream",
     "text": [
      "color status:  True\n",
      "path:  /om/user/katiemc/continuous_mws/cmws/examples/scene_understanding/data/1_1/block_0.01/colorless/train.pt\n",
      "11:29:52 | /om/user/katiemc/continuous_mws/cmws/examples/scene_understanding/data.py:348 | INFO: Loading dataset (test = False)...\n",
      "11:29:52 | /om/user/katiemc/continuous_mws/cmws/examples/scene_understanding/data.py:352 | INFO: Dataset (test = False) loaded /om/user/katiemc/continuous_mws/cmws/examples/scene_understanding/data/1_1/block_0.01/colorless/train.pt\n",
      "11:29:52 | /om/user/katiemc/continuous_mws/cmws/memory.py:20 | INFO: Initializing memory\n"
     ]
    },
    {
     "name": "stderr",
     "output_type": "stream",
     "text": [
      "\n",
      "100%|██████████| 100/100 [00:00<00:00, 1013.30it/s]\n"
     ]
    },
    {
     "name": "stdout",
     "output_type": "stream",
     "text": [
      "color status:  True\n",
      "path:  /om/user/katiemc/continuous_mws/cmws/examples/scene_understanding/data/1_1/block_0.01/colorless/train.pt\n",
      "11:29:52 | /om/user/katiemc/continuous_mws/cmws/examples/scene_understanding/data.py:348 | INFO: Loading dataset (test = False)...\n",
      "11:29:52 | /om/user/katiemc/continuous_mws/cmws/examples/scene_understanding/data.py:352 | INFO: Dataset (test = False) loaded /om/user/katiemc/continuous_mws/cmws/examples/scene_understanding/data/1_1/block_0.01/colorless/train.pt\n",
      "11:29:52 | /om/user/katiemc/continuous_mws/cmws/memory.py:20 | INFO: Initializing memory\n"
     ]
    },
    {
     "name": "stderr",
     "output_type": "stream",
     "text": [
      "100%|██████████| 100/100 [00:00<00:00, 985.94it/s]"
     ]
    },
    {
     "name": "stdout",
     "output_type": "stream",
     "text": [
      "color status:  True\n",
      "path:  /om/user/katiemc/continuous_mws/cmws/examples/scene_understanding/data/1_1/block_0.01/colorless/train.pt\n",
      "11:29:52 | /om/user/katiemc/continuous_mws/cmws/examples/scene_understanding/data.py:348 | INFO: Loading dataset (test = False)...\n",
      "11:29:52 | /om/user/katiemc/continuous_mws/cmws/examples/scene_understanding/data.py:352 | INFO: Dataset (test = False) loaded /om/user/katiemc/continuous_mws/cmws/examples/scene_understanding/data/1_1/block_0.01/colorless/train.pt\n",
      "11:29:52 | /om/user/katiemc/continuous_mws/cmws/memory.py:20 | INFO: Initializing memory\n"
     ]
    },
    {
     "name": "stderr",
     "output_type": "stream",
     "text": [
      "\n",
      "100%|██████████| 100/100 [00:00<00:00, 983.23it/s]\n"
     ]
    },
    {
     "name": "stdout",
     "output_type": "stream",
     "text": [
      "color status:  True\n",
      "path:  /om/user/katiemc/continuous_mws/cmws/examples/scene_understanding/data/1_1/block_0.01/colorless/train.pt\n",
      "11:29:53 | /om/user/katiemc/continuous_mws/cmws/examples/scene_understanding/data.py:348 | INFO: Loading dataset (test = False)...\n",
      "11:29:53 | /om/user/katiemc/continuous_mws/cmws/examples/scene_understanding/data.py:352 | INFO: Dataset (test = False) loaded /om/user/katiemc/continuous_mws/cmws/examples/scene_understanding/data/1_1/block_0.01/colorless/train.pt\n",
      "11:29:53 | /om/user/katiemc/continuous_mws/cmws/memory.py:20 | INFO: Initializing memory\n"
     ]
    },
    {
     "name": "stderr",
     "output_type": "stream",
     "text": [
      "100%|██████████| 100/100 [00:00<00:00, 981.06it/s]\n"
     ]
    },
    {
     "name": "stdout",
     "output_type": "stream",
     "text": [
      "11:29:53 | /om/user/katiemc/continuous_mws/cmws/examples/scene_understanding/util.py:127 | INFO: Error Ran out of input\n",
      "11:29:53 | /om/user/katiemc/continuous_mws/cmws/examples/scene_understanding/util.py:129 | INFO: Waiting for 1 seconds\n",
      "11:29:54 | /om/user/katiemc/continuous_mws/cmws/examples/scene_understanding/util.py:127 | INFO: Error Ran out of input\n",
      "11:29:54 | /om/user/katiemc/continuous_mws/cmws/examples/scene_understanding/util.py:129 | INFO: Waiting for 2 seconds\n",
      "11:29:56 | /om/user/katiemc/continuous_mws/cmws/examples/scene_understanding/util.py:127 | INFO: Error Ran out of input\n",
      "11:29:56 | /om/user/katiemc/continuous_mws/cmws/examples/scene_understanding/util.py:129 | INFO: Waiting for 4 seconds\n",
      "color status:  True\n",
      "path:  /om/user/katiemc/continuous_mws/cmws/examples/scene_understanding/data/1_1/block_0.01/colorless/train.pt\n",
      "11:30:00 | /om/user/katiemc/continuous_mws/cmws/examples/scene_understanding/data.py:348 | INFO: Loading dataset (test = False)...\n",
      "11:30:00 | /om/user/katiemc/continuous_mws/cmws/examples/scene_understanding/data.py:352 | INFO: Dataset (test = False) loaded /om/user/katiemc/continuous_mws/cmws/examples/scene_understanding/data/1_1/block_0.01/colorless/train.pt\n",
      "11:30:00 | /om/user/katiemc/continuous_mws/cmws/memory.py:20 | INFO: Initializing memory\n"
     ]
    },
    {
     "name": "stderr",
     "output_type": "stream",
     "text": [
      "100%|██████████| 100/100 [00:00<00:00, 1005.11it/s]"
     ]
    },
    {
     "name": "stdout",
     "output_type": "stream",
     "text": [
      "color status:  True\n",
      "path:  /om/user/katiemc/continuous_mws/cmws/examples/scene_understanding/data/1_1/block_0.01/colorless/train.pt\n",
      "11:30:00 | /om/user/katiemc/continuous_mws/cmws/examples/scene_understanding/data.py:348 | INFO: Loading dataset (test = False)...\n"
     ]
    },
    {
     "name": "stderr",
     "output_type": "stream",
     "text": [
      "\n"
     ]
    },
    {
     "name": "stdout",
     "output_type": "stream",
     "text": [
      "11:30:00 | /om/user/katiemc/continuous_mws/cmws/examples/scene_understanding/data.py:352 | INFO: Dataset (test = False) loaded /om/user/katiemc/continuous_mws/cmws/examples/scene_understanding/data/1_1/block_0.01/colorless/train.pt\n",
      "11:30:00 | /om/user/katiemc/continuous_mws/cmws/memory.py:20 | INFO: Initializing memory\n"
     ]
    },
    {
     "name": "stderr",
     "output_type": "stream",
     "text": [
      "100%|██████████| 100/100 [00:00<00:00, 1017.53it/s]"
     ]
    },
    {
     "name": "stdout",
     "output_type": "stream",
     "text": [
      "color status:  True\n",
      "path:  /om/user/katiemc/continuous_mws/cmws/examples/scene_understanding/data/1_1/block_0.01/colorless/train.pt\n",
      "11:30:01 | /om/user/katiemc/continuous_mws/cmws/examples/scene_understanding/data.py:348 | INFO: Loading dataset (test = False)...\n",
      "11:30:01 | /om/user/katiemc/continuous_mws/cmws/examples/scene_understanding/data.py:352 | INFO: Dataset (test = False) loaded /om/user/katiemc/continuous_mws/cmws/examples/scene_understanding/data/1_1/block_0.01/colorless/train.pt\n",
      "11:30:01 | /om/user/katiemc/continuous_mws/cmws/memory.py:20 | INFO: Initializing memory\n"
     ]
    },
    {
     "name": "stderr",
     "output_type": "stream",
     "text": [
      "\n",
      "100%|██████████| 100/100 [00:00<00:00, 905.70it/s]"
     ]
    },
    {
     "name": "stdout",
     "output_type": "stream",
     "text": [
      "color status:  True\n",
      "path:  /om/user/katiemc/continuous_mws/cmws/examples/scene_understanding/data/1_1/block_0.01/colorless/train.pt\n",
      "11:30:01 | /om/user/katiemc/continuous_mws/cmws/examples/scene_understanding/data.py:348 | INFO: Loading dataset (test = False)...\n",
      "11:30:01 | /om/user/katiemc/continuous_mws/cmws/examples/scene_understanding/data.py:352 | INFO: Dataset (test = False) loaded /om/user/katiemc/continuous_mws/cmws/examples/scene_understanding/data/1_1/block_0.01/colorless/train.pt\n",
      "11:30:01 | /om/user/katiemc/continuous_mws/cmws/memory.py:20 | INFO: Initializing memory\n"
     ]
    },
    {
     "name": "stderr",
     "output_type": "stream",
     "text": [
      "\n",
      "100%|██████████| 100/100 [00:00<00:00, 982.40it/s]\n"
     ]
    },
    {
     "name": "stdout",
     "output_type": "stream",
     "text": [
      "11:30:01 | /om/user/katiemc/continuous_mws/cmws/examples/scene_understanding/util.py:127 | INFO: Error Ran out of input\n",
      "11:30:01 | /om/user/katiemc/continuous_mws/cmws/examples/scene_understanding/util.py:129 | INFO: Waiting for 1 seconds\n",
      "11:30:02 | /om/user/katiemc/continuous_mws/cmws/examples/scene_understanding/util.py:127 | INFO: Error Ran out of input\n",
      "11:30:02 | /om/user/katiemc/continuous_mws/cmws/examples/scene_understanding/util.py:129 | INFO: Waiting for 2 seconds\n",
      "11:30:04 | /om/user/katiemc/continuous_mws/cmws/examples/scene_understanding/util.py:127 | INFO: Error Ran out of input\n",
      "11:30:04 | /om/user/katiemc/continuous_mws/cmws/examples/scene_understanding/util.py:129 | INFO: Waiting for 4 seconds\n",
      "11:30:09 | /om/user/katiemc/continuous_mws/cmws/examples/scene_understanding/util.py:127 | INFO: Error Ran out of input\n",
      "11:30:09 | /om/user/katiemc/continuous_mws/cmws/examples/scene_understanding/util.py:129 | INFO: Waiting for 1 seconds\n",
      "11:30:10 | /om/user/katiemc/continuous_mws/cmws/examples/scene_understanding/util.py:127 | INFO: Error Ran out of input\n",
      "11:30:10 | /om/user/katiemc/continuous_mws/cmws/examples/scene_understanding/util.py:129 | INFO: Waiting for 2 seconds\n",
      "11:30:12 | /om/user/katiemc/continuous_mws/cmws/examples/scene_understanding/util.py:127 | INFO: Error Ran out of input\n",
      "11:30:12 | /om/user/katiemc/continuous_mws/cmws/examples/scene_understanding/util.py:129 | INFO: Waiting for 4 seconds\n",
      "11:30:17 | /om/user/katiemc/continuous_mws/cmws/examples/scene_understanding/util.py:127 | INFO: Error Ran out of input\n",
      "11:30:17 | /om/user/katiemc/continuous_mws/cmws/examples/scene_understanding/util.py:129 | INFO: Waiting for 1 seconds\n",
      "11:30:18 | /om/user/katiemc/continuous_mws/cmws/examples/scene_understanding/util.py:127 | INFO: Error Ran out of input\n",
      "11:30:18 | /om/user/katiemc/continuous_mws/cmws/examples/scene_understanding/util.py:129 | INFO: Waiting for 2 seconds\n",
      "11:30:20 | /om/user/katiemc/continuous_mws/cmws/examples/scene_understanding/util.py:127 | INFO: Error Ran out of input\n",
      "11:30:20 | /om/user/katiemc/continuous_mws/cmws/examples/scene_understanding/util.py:129 | INFO: Waiting for 4 seconds\n",
      "11:30:24 | /om/user/katiemc/continuous_mws/cmws/examples/scene_understanding/util.py:127 | INFO: Error [enforce fail at inline_container.cc:145] . PytorchStreamReader failed reading zip archive: failed finding central directory\n",
      "11:30:24 | /om/user/katiemc/continuous_mws/cmws/examples/scene_understanding/util.py:129 | INFO: Waiting for 1 seconds\n",
      "11:30:27 | /om/user/katiemc/continuous_mws/cmws/util.py:293 | INFO: Saved to ../save/all_algs_noColor_block/losses_2.png\n",
      "color status:  True\n",
      "path:  /om/user/katiemc/continuous_mws/cmws/examples/scene_understanding/data/1_1/block_0.01/colorless/train.pt\n",
      "11:30:27 | /om/user/katiemc/continuous_mws/cmws/examples/scene_understanding/data.py:348 | INFO: Loading dataset (test = False)...\n",
      "11:30:27 | /om/user/katiemc/continuous_mws/cmws/examples/scene_understanding/data.py:352 | INFO: Dataset (test = False) loaded /om/user/katiemc/continuous_mws/cmws/examples/scene_understanding/data/1_1/block_0.01/colorless/train.pt\n",
      "11:30:27 | /om/user/katiemc/continuous_mws/cmws/memory.py:20 | INFO: Initializing memory\n"
     ]
    },
    {
     "name": "stderr",
     "output_type": "stream",
     "text": [
      "100%|██████████| 100/100 [00:00<00:00, 998.52it/s]"
     ]
    },
    {
     "name": "stdout",
     "output_type": "stream",
     "text": [
      "color status:  True\n",
      "path:  /om/user/katiemc/continuous_mws/cmws/examples/scene_understanding/data/1_1/block_0.01/colorless/train.pt\n",
      "11:30:27 | /om/user/katiemc/continuous_mws/cmws/examples/scene_understanding/data.py:348 | INFO: Loading dataset (test = False)...\n"
     ]
    },
    {
     "name": "stderr",
     "output_type": "stream",
     "text": [
      "\n"
     ]
    },
    {
     "name": "stdout",
     "output_type": "stream",
     "text": [
      "11:30:27 | /om/user/katiemc/continuous_mws/cmws/examples/scene_understanding/data.py:352 | INFO: Dataset (test = False) loaded /om/user/katiemc/continuous_mws/cmws/examples/scene_understanding/data/1_1/block_0.01/colorless/train.pt\n",
      "11:30:27 | /om/user/katiemc/continuous_mws/cmws/memory.py:20 | INFO: Initializing memory\n"
     ]
    },
    {
     "name": "stderr",
     "output_type": "stream",
     "text": [
      "100%|██████████| 100/100 [00:00<00:00, 940.82it/s]"
     ]
    },
    {
     "name": "stdout",
     "output_type": "stream",
     "text": [
      "color status:  True\n",
      "path:  /om/user/katiemc/continuous_mws/cmws/examples/scene_understanding/data/1_1/block_0.01/colorless/train.pt\n",
      "11:30:27 | /om/user/katiemc/continuous_mws/cmws/examples/scene_understanding/data.py:348 | INFO: Loading dataset (test = False)...\n"
     ]
    },
    {
     "name": "stderr",
     "output_type": "stream",
     "text": [
      "\n"
     ]
    },
    {
     "name": "stdout",
     "output_type": "stream",
     "text": [
      "11:30:27 | /om/user/katiemc/continuous_mws/cmws/examples/scene_understanding/data.py:352 | INFO: Dataset (test = False) loaded /om/user/katiemc/continuous_mws/cmws/examples/scene_understanding/data/1_1/block_0.01/colorless/train.pt\n",
      "11:30:27 | /om/user/katiemc/continuous_mws/cmws/memory.py:20 | INFO: Initializing memory\n"
     ]
    },
    {
     "name": "stderr",
     "output_type": "stream",
     "text": [
      "100%|██████████| 100/100 [00:00<00:00, 1002.59it/s]"
     ]
    },
    {
     "name": "stdout",
     "output_type": "stream",
     "text": [
      "color status:  True\n",
      "path:  /om/user/katiemc/continuous_mws/cmws/examples/scene_understanding/data/1_1/block_0.01/colorless/train.pt\n",
      "11:30:27 | /om/user/katiemc/continuous_mws/cmws/examples/scene_understanding/data.py:348 | INFO: Loading dataset (test = False)...\n",
      "11:30:27 | /om/user/katiemc/continuous_mws/cmws/examples/scene_understanding/data.py:352 | INFO: Dataset (test = False) loaded /om/user/katiemc/continuous_mws/cmws/examples/scene_understanding/data/1_1/block_0.01/colorless/train.pt\n",
      "11:30:27 | /om/user/katiemc/continuous_mws/cmws/memory.py:20 | INFO: Initializing memory\n"
     ]
    },
    {
     "name": "stderr",
     "output_type": "stream",
     "text": [
      "\n",
      "100%|██████████| 100/100 [00:00<00:00, 961.42it/s]"
     ]
    },
    {
     "name": "stdout",
     "output_type": "stream",
     "text": [
      "color status:  True\n",
      "path:  /om/user/katiemc/continuous_mws/cmws/examples/scene_understanding/data/1_1/block_0.01/colorless/train.pt\n",
      "11:30:27 | /om/user/katiemc/continuous_mws/cmws/examples/scene_understanding/data.py:348 | INFO: Loading dataset (test = False)...\n",
      "11:30:27 | /om/user/katiemc/continuous_mws/cmws/examples/scene_understanding/data.py:352 | INFO: Dataset (test = False) loaded /om/user/katiemc/continuous_mws/cmws/examples/scene_understanding/data/1_1/block_0.01/colorless/train.pt\n",
      "11:30:27 | /om/user/katiemc/continuous_mws/cmws/memory.py:20 | INFO: Initializing memory\n"
     ]
    },
    {
     "name": "stderr",
     "output_type": "stream",
     "text": [
      "\n",
      "100%|██████████| 100/100 [00:00<00:00, 1021.28it/s]\n"
     ]
    },
    {
     "name": "stdout",
     "output_type": "stream",
     "text": [
      "11:30:28 | /om/user/katiemc/continuous_mws/cmws/examples/scene_understanding/util.py:127 | INFO: Error Ran out of input\n",
      "11:30:28 | /om/user/katiemc/continuous_mws/cmws/examples/scene_understanding/util.py:129 | INFO: Waiting for 1 seconds\n",
      "11:30:29 | /om/user/katiemc/continuous_mws/cmws/examples/scene_understanding/util.py:127 | INFO: Error Ran out of input\n",
      "11:30:29 | /om/user/katiemc/continuous_mws/cmws/examples/scene_understanding/util.py:129 | INFO: Waiting for 2 seconds\n",
      "11:30:31 | /om/user/katiemc/continuous_mws/cmws/examples/scene_understanding/util.py:127 | INFO: Error Ran out of input\n",
      "11:30:31 | /om/user/katiemc/continuous_mws/cmws/examples/scene_understanding/util.py:129 | INFO: Waiting for 4 seconds\n",
      "color status:  True\n",
      "path:  /om/user/katiemc/continuous_mws/cmws/examples/scene_understanding/data/1_1/block_0.01/colorless/train.pt\n",
      "11:30:35 | /om/user/katiemc/continuous_mws/cmws/examples/scene_understanding/data.py:348 | INFO: Loading dataset (test = False)...\n",
      "11:30:35 | /om/user/katiemc/continuous_mws/cmws/examples/scene_understanding/data.py:352 | INFO: Dataset (test = False) loaded /om/user/katiemc/continuous_mws/cmws/examples/scene_understanding/data/1_1/block_0.01/colorless/train.pt\n",
      "11:30:35 | /om/user/katiemc/continuous_mws/cmws/memory.py:20 | INFO: Initializing memory\n"
     ]
    },
    {
     "name": "stderr",
     "output_type": "stream",
     "text": [
      "100%|██████████| 100/100 [00:00<00:00, 1007.47it/s]"
     ]
    },
    {
     "name": "stdout",
     "output_type": "stream",
     "text": [
      "color status:  True\n",
      "path:  /om/user/katiemc/continuous_mws/cmws/examples/scene_understanding/data/1_1/block_0.01/colorless/train.pt\n",
      "11:30:35 | /om/user/katiemc/continuous_mws/cmws/examples/scene_understanding/data.py:348 | INFO: Loading dataset (test = False)...\n",
      "11:30:35 | /om/user/katiemc/continuous_mws/cmws/examples/scene_understanding/data.py:352 | INFO: Dataset (test = False) loaded /om/user/katiemc/continuous_mws/cmws/examples/scene_understanding/data/1_1/block_0.01/colorless/train.pt\n",
      "11:30:35 | /om/user/katiemc/continuous_mws/cmws/memory.py:20 | INFO: Initializing memory\n"
     ]
    },
    {
     "name": "stderr",
     "output_type": "stream",
     "text": [
      "\n",
      "100%|██████████| 100/100 [00:00<00:00, 1025.02it/s]\n"
     ]
    },
    {
     "name": "stdout",
     "output_type": "stream",
     "text": [
      "color status:  True\n",
      "path:  /om/user/katiemc/continuous_mws/cmws/examples/scene_understanding/data/1_1/block_0.01/colorless/train.pt\n",
      "11:30:35 | /om/user/katiemc/continuous_mws/cmws/examples/scene_understanding/data.py:348 | INFO: Loading dataset (test = False)...\n",
      "11:30:35 | /om/user/katiemc/continuous_mws/cmws/examples/scene_understanding/data.py:352 | INFO: Dataset (test = False) loaded /om/user/katiemc/continuous_mws/cmws/examples/scene_understanding/data/1_1/block_0.01/colorless/train.pt\n",
      "11:30:35 | /om/user/katiemc/continuous_mws/cmws/memory.py:20 | INFO: Initializing memory\n"
     ]
    },
    {
     "name": "stderr",
     "output_type": "stream",
     "text": [
      "100%|██████████| 100/100 [00:00<00:00, 948.09it/s]"
     ]
    },
    {
     "name": "stdout",
     "output_type": "stream",
     "text": [
      "color status:  True\n",
      "path:  /om/user/katiemc/continuous_mws/cmws/examples/scene_understanding/data/1_1/block_0.01/colorless/train.pt\n",
      "11:30:35 | /om/user/katiemc/continuous_mws/cmws/examples/scene_understanding/data.py:348 | INFO: Loading dataset (test = False)...\n",
      "11:30:35 | /om/user/katiemc/continuous_mws/cmws/examples/scene_understanding/data.py:352 | INFO: Dataset (test = False) loaded /om/user/katiemc/continuous_mws/cmws/examples/scene_understanding/data/1_1/block_0.01/colorless/train.pt\n",
      "11:30:35 | /om/user/katiemc/continuous_mws/cmws/memory.py:20 | INFO: Initializing memory\n"
     ]
    },
    {
     "name": "stderr",
     "output_type": "stream",
     "text": [
      "\n",
      "100%|██████████| 100/100 [00:00<00:00, 1008.03it/s]\n"
     ]
    },
    {
     "name": "stdout",
     "output_type": "stream",
     "text": [
      "11:30:36 | /om/user/katiemc/continuous_mws/cmws/examples/scene_understanding/util.py:127 | INFO: Error Ran out of input\n",
      "11:30:36 | /om/user/katiemc/continuous_mws/cmws/examples/scene_understanding/util.py:129 | INFO: Waiting for 1 seconds\n",
      "11:30:37 | /om/user/katiemc/continuous_mws/cmws/examples/scene_understanding/util.py:127 | INFO: Error Ran out of input\n",
      "11:30:37 | /om/user/katiemc/continuous_mws/cmws/examples/scene_understanding/util.py:129 | INFO: Waiting for 2 seconds\n",
      "11:30:39 | /om/user/katiemc/continuous_mws/cmws/examples/scene_understanding/util.py:127 | INFO: Error Ran out of input\n",
      "11:30:39 | /om/user/katiemc/continuous_mws/cmws/examples/scene_understanding/util.py:129 | INFO: Waiting for 4 seconds\n",
      "11:30:44 | /om/user/katiemc/continuous_mws/cmws/examples/scene_understanding/util.py:127 | INFO: Error Ran out of input\n",
      "11:30:44 | /om/user/katiemc/continuous_mws/cmws/examples/scene_understanding/util.py:129 | INFO: Waiting for 1 seconds\n",
      "11:30:45 | /om/user/katiemc/continuous_mws/cmws/examples/scene_understanding/util.py:127 | INFO: Error Ran out of input\n",
      "11:30:45 | /om/user/katiemc/continuous_mws/cmws/examples/scene_understanding/util.py:129 | INFO: Waiting for 2 seconds\n",
      "11:30:47 | /om/user/katiemc/continuous_mws/cmws/examples/scene_understanding/util.py:127 | INFO: Error Ran out of input\n",
      "11:30:47 | /om/user/katiemc/continuous_mws/cmws/examples/scene_understanding/util.py:129 | INFO: Waiting for 4 seconds\n",
      "11:30:51 | /om/user/katiemc/continuous_mws/cmws/examples/scene_understanding/util.py:127 | INFO: Error Ran out of input\n",
      "11:30:51 | /om/user/katiemc/continuous_mws/cmws/examples/scene_understanding/util.py:129 | INFO: Waiting for 1 seconds\n",
      "11:30:52 | /om/user/katiemc/continuous_mws/cmws/examples/scene_understanding/util.py:127 | INFO: Error Ran out of input\n",
      "11:30:52 | /om/user/katiemc/continuous_mws/cmws/examples/scene_understanding/util.py:129 | INFO: Waiting for 2 seconds\n",
      "11:30:54 | /om/user/katiemc/continuous_mws/cmws/examples/scene_understanding/util.py:127 | INFO: Error Ran out of input\n",
      "11:30:54 | /om/user/katiemc/continuous_mws/cmws/examples/scene_understanding/util.py:129 | INFO: Waiting for 4 seconds\n"
     ]
    },
    {
     "name": "stderr",
     "output_type": "stream",
     "text": [
      "/home/katiemc/.conda/envs/cmws/lib/python3.7/site-packages/numpy/lib/nanfunctions.py:1114: RuntimeWarning: All-NaN slice encountered\n",
      "  overwrite_input=overwrite_input)\n",
      "/home/katiemc/.conda/envs/cmws/lib/python3.7/site-packages/numpy/lib/nanfunctions.py:1390: RuntimeWarning: All-NaN slice encountered\n",
      "  overwrite_input, interpolation)\n",
      "/home/katiemc/.conda/envs/cmws/lib/python3.7/site-packages/numpy/lib/nanfunctions.py:1114: RuntimeWarning: All-NaN slice encountered\n",
      "  overwrite_input=overwrite_input)\n",
      "/home/katiemc/.conda/envs/cmws/lib/python3.7/site-packages/numpy/lib/nanfunctions.py:1390: RuntimeWarning: All-NaN slice encountered\n",
      "  overwrite_input, interpolation)\n",
      "/home/katiemc/.conda/envs/cmws/lib/python3.7/site-packages/numpy/lib/nanfunctions.py:1114: RuntimeWarning: All-NaN slice encountered\n",
      "  overwrite_input=overwrite_input)\n",
      "/home/katiemc/.conda/envs/cmws/lib/python3.7/site-packages/numpy/lib/nanfunctions.py:1390: RuntimeWarning: All-NaN slice encountered\n",
      "  overwrite_input, interpolation)\n",
      "/home/katiemc/.conda/envs/cmws/lib/python3.7/site-packages/numpy/lib/nanfunctions.py:1114: RuntimeWarning: All-NaN slice encountered\n",
      "  overwrite_input=overwrite_input)\n",
      "/home/katiemc/.conda/envs/cmws/lib/python3.7/site-packages/numpy/lib/nanfunctions.py:1390: RuntimeWarning: All-NaN slice encountered\n",
      "  overwrite_input, interpolation)\n",
      "/home/katiemc/.conda/envs/cmws/lib/python3.7/site-packages/numpy/lib/nanfunctions.py:1114: RuntimeWarning: All-NaN slice encountered\n",
      "  overwrite_input=overwrite_input)\n",
      "/home/katiemc/.conda/envs/cmws/lib/python3.7/site-packages/numpy/lib/nanfunctions.py:1390: RuntimeWarning: All-NaN slice encountered\n",
      "  overwrite_input, interpolation)\n",
      "/home/katiemc/.conda/envs/cmws/lib/python3.7/site-packages/numpy/lib/nanfunctions.py:1114: RuntimeWarning: All-NaN slice encountered\n",
      "  overwrite_input=overwrite_input)\n",
      "/home/katiemc/.conda/envs/cmws/lib/python3.7/site-packages/numpy/lib/nanfunctions.py:1390: RuntimeWarning: All-NaN slice encountered\n",
      "  overwrite_input, interpolation)\n"
     ]
    },
    {
     "name": "stdout",
     "output_type": "stream",
     "text": [
      "11:31:00 | /om/user/katiemc/continuous_mws/cmws/util.py:293 | INFO: Saved to ../save/all_algs_noColor_block/losses_2_overlay.png\n",
      "color status:  True\n",
      "path:  /om/user/katiemc/continuous_mws/cmws/examples/scene_understanding/data/1_1/cube_0.01/colorless/train.pt\n",
      "11:31:00 | /om/user/katiemc/continuous_mws/cmws/examples/scene_understanding/data.py:348 | INFO: Loading dataset (test = False)...\n",
      "11:31:00 | /om/user/katiemc/continuous_mws/cmws/examples/scene_understanding/data.py:352 | INFO: Dataset (test = False) loaded /om/user/katiemc/continuous_mws/cmws/examples/scene_understanding/data/1_1/cube_0.01/colorless/train.pt\n",
      "11:31:00 | /om/user/katiemc/continuous_mws/cmws/memory.py:20 | INFO: Initializing memory\n"
     ]
    },
    {
     "name": "stderr",
     "output_type": "stream",
     "text": [
      "100%|██████████| 100/100 [00:00<00:00, 983.93it/s]\n"
     ]
    },
    {
     "name": "stdout",
     "output_type": "stream",
     "text": [
      "color status:  True\n",
      "path:  /om/user/katiemc/continuous_mws/cmws/examples/scene_understanding/data/1_1/cube_0.01/colorless/train.pt\n",
      "11:31:00 | /om/user/katiemc/continuous_mws/cmws/examples/scene_understanding/data.py:348 | INFO: Loading dataset (test = False)...\n",
      "11:31:00 | /om/user/katiemc/continuous_mws/cmws/examples/scene_understanding/data.py:352 | INFO: Dataset (test = False) loaded /om/user/katiemc/continuous_mws/cmws/examples/scene_understanding/data/1_1/cube_0.01/colorless/train.pt\n",
      "11:31:00 | /om/user/katiemc/continuous_mws/cmws/memory.py:20 | INFO: Initializing memory\n"
     ]
    },
    {
     "name": "stderr",
     "output_type": "stream",
     "text": [
      "100%|██████████| 100/100 [00:00<00:00, 939.09it/s]"
     ]
    },
    {
     "name": "stdout",
     "output_type": "stream",
     "text": [
      "color status:  True\n",
      "path:  /om/user/katiemc/continuous_mws/cmws/examples/scene_understanding/data/1_1/cube_0.01/colorless/train.pt\n",
      "11:31:01 | /om/user/katiemc/continuous_mws/cmws/examples/scene_understanding/data.py:348 | INFO: Loading dataset (test = False)...\n"
     ]
    },
    {
     "name": "stderr",
     "output_type": "stream",
     "text": [
      "\n"
     ]
    },
    {
     "name": "stdout",
     "output_type": "stream",
     "text": [
      "11:31:01 | /om/user/katiemc/continuous_mws/cmws/examples/scene_understanding/data.py:352 | INFO: Dataset (test = False) loaded /om/user/katiemc/continuous_mws/cmws/examples/scene_understanding/data/1_1/cube_0.01/colorless/train.pt\n",
      "11:31:01 | /om/user/katiemc/continuous_mws/cmws/memory.py:20 | INFO: Initializing memory\n"
     ]
    },
    {
     "name": "stderr",
     "output_type": "stream",
     "text": [
      "100%|██████████| 100/100 [00:00<00:00, 961.15it/s]"
     ]
    },
    {
     "name": "stdout",
     "output_type": "stream",
     "text": [
      "color status:  True\n",
      "path:  /om/user/katiemc/continuous_mws/cmws/examples/scene_understanding/data/1_1/cube_0.01/colorless/train.pt\n",
      "11:31:01 | /om/user/katiemc/continuous_mws/cmws/examples/scene_understanding/data.py:348 | INFO: Loading dataset (test = False)...\n"
     ]
    },
    {
     "name": "stderr",
     "output_type": "stream",
     "text": [
      "\n"
     ]
    },
    {
     "name": "stdout",
     "output_type": "stream",
     "text": [
      "11:31:01 | /om/user/katiemc/continuous_mws/cmws/examples/scene_understanding/data.py:352 | INFO: Dataset (test = False) loaded /om/user/katiemc/continuous_mws/cmws/examples/scene_understanding/data/1_1/cube_0.01/colorless/train.pt\n",
      "11:31:01 | /om/user/katiemc/continuous_mws/cmws/memory.py:20 | INFO: Initializing memory\n"
     ]
    },
    {
     "name": "stderr",
     "output_type": "stream",
     "text": [
      "100%|██████████| 100/100 [00:00<00:00, 953.26it/s]\n"
     ]
    },
    {
     "name": "stdout",
     "output_type": "stream",
     "text": [
      "color status:  True\n",
      "path:  /om/user/katiemc/continuous_mws/cmws/examples/scene_understanding/data/1_1/cube_0.01/colorless/train.pt\n",
      "11:31:01 | /om/user/katiemc/continuous_mws/cmws/examples/scene_understanding/data.py:348 | INFO: Loading dataset (test = False)...\n",
      "11:31:01 | /om/user/katiemc/continuous_mws/cmws/examples/scene_understanding/data.py:352 | INFO: Dataset (test = False) loaded /om/user/katiemc/continuous_mws/cmws/examples/scene_understanding/data/1_1/cube_0.01/colorless/train.pt\n",
      "11:31:01 | /om/user/katiemc/continuous_mws/cmws/memory.py:20 | INFO: Initializing memory\n"
     ]
    },
    {
     "name": "stderr",
     "output_type": "stream",
     "text": [
      "100%|██████████| 100/100 [00:00<00:00, 953.18it/s]\n"
     ]
    },
    {
     "name": "stdout",
     "output_type": "stream",
     "text": [
      "color status:  True\n",
      "path:  /om/user/katiemc/continuous_mws/cmws/examples/scene_understanding/data/1_1/cube_0.01/colorless/train.pt\n",
      "11:31:01 | /om/user/katiemc/continuous_mws/cmws/examples/scene_understanding/data.py:348 | INFO: Loading dataset (test = False)...\n",
      "11:31:01 | /om/user/katiemc/continuous_mws/cmws/examples/scene_understanding/data.py:352 | INFO: Dataset (test = False) loaded /om/user/katiemc/continuous_mws/cmws/examples/scene_understanding/data/1_1/cube_0.01/colorless/train.pt\n",
      "11:31:01 | /om/user/katiemc/continuous_mws/cmws/memory.py:20 | INFO: Initializing memory\n"
     ]
    },
    {
     "name": "stderr",
     "output_type": "stream",
     "text": [
      "100%|██████████| 100/100 [00:00<00:00, 961.59it/s]\n"
     ]
    },
    {
     "name": "stdout",
     "output_type": "stream",
     "text": [
      "color status:  True\n",
      "path:  /om/user/katiemc/continuous_mws/cmws/examples/scene_understanding/data/1_1/cube_0.01/colorless/train.pt\n",
      "11:31:02 | /om/user/katiemc/continuous_mws/cmws/examples/scene_understanding/data.py:348 | INFO: Loading dataset (test = False)...\n",
      "11:31:02 | /om/user/katiemc/continuous_mws/cmws/examples/scene_understanding/data.py:352 | INFO: Dataset (test = False) loaded /om/user/katiemc/continuous_mws/cmws/examples/scene_understanding/data/1_1/cube_0.01/colorless/train.pt\n",
      "11:31:02 | /om/user/katiemc/continuous_mws/cmws/memory.py:20 | INFO: Initializing memory\n"
     ]
    },
    {
     "name": "stderr",
     "output_type": "stream",
     "text": [
      "100%|██████████| 100/100 [00:00<00:00, 882.08it/s]\n"
     ]
    },
    {
     "name": "stdout",
     "output_type": "stream",
     "text": [
      "color status:  True\n",
      "path:  /om/user/katiemc/continuous_mws/cmws/examples/scene_understanding/data/1_1/cube_0.01/colorless/train.pt\n",
      "11:31:02 | /om/user/katiemc/continuous_mws/cmws/examples/scene_understanding/data.py:348 | INFO: Loading dataset (test = False)...\n",
      "11:31:02 | /om/user/katiemc/continuous_mws/cmws/examples/scene_understanding/data.py:352 | INFO: Dataset (test = False) loaded /om/user/katiemc/continuous_mws/cmws/examples/scene_understanding/data/1_1/cube_0.01/colorless/train.pt\n",
      "11:31:02 | /om/user/katiemc/continuous_mws/cmws/memory.py:20 | INFO: Initializing memory\n"
     ]
    },
    {
     "name": "stderr",
     "output_type": "stream",
     "text": [
      "100%|██████████| 100/100 [00:00<00:00, 930.25it/s]\n"
     ]
    },
    {
     "name": "stdout",
     "output_type": "stream",
     "text": [
      "color status:  True\n",
      "path:  /om/user/katiemc/continuous_mws/cmws/examples/scene_understanding/data/1_1/cube_0.01/colorless/train.pt\n",
      "11:31:02 | /om/user/katiemc/continuous_mws/cmws/examples/scene_understanding/data.py:348 | INFO: Loading dataset (test = False)...\n",
      "11:31:02 | /om/user/katiemc/continuous_mws/cmws/examples/scene_understanding/data.py:352 | INFO: Dataset (test = False) loaded /om/user/katiemc/continuous_mws/cmws/examples/scene_understanding/data/1_1/cube_0.01/colorless/train.pt\n",
      "11:31:02 | /om/user/katiemc/continuous_mws/cmws/memory.py:20 | INFO: Initializing memory\n"
     ]
    },
    {
     "name": "stderr",
     "output_type": "stream",
     "text": [
      "100%|██████████| 100/100 [00:00<00:00, 961.90it/s]\n"
     ]
    },
    {
     "name": "stdout",
     "output_type": "stream",
     "text": [
      "color status:  True\n",
      "path:  /om/user/katiemc/continuous_mws/cmws/examples/scene_understanding/data/1_1/cube_0.01/colorless/train.pt\n",
      "11:31:02 | /om/user/katiemc/continuous_mws/cmws/examples/scene_understanding/data.py:348 | INFO: Loading dataset (test = False)...\n",
      "11:31:02 | /om/user/katiemc/continuous_mws/cmws/examples/scene_understanding/data.py:352 | INFO: Dataset (test = False) loaded /om/user/katiemc/continuous_mws/cmws/examples/scene_understanding/data/1_1/cube_0.01/colorless/train.pt\n",
      "11:31:02 | /om/user/katiemc/continuous_mws/cmws/memory.py:20 | INFO: Initializing memory\n"
     ]
    },
    {
     "name": "stderr",
     "output_type": "stream",
     "text": [
      "100%|██████████| 100/100 [00:00<00:00, 918.47it/s]\n"
     ]
    },
    {
     "name": "stdout",
     "output_type": "stream",
     "text": [
      "color status:  True\n",
      "path:  /om/user/katiemc/continuous_mws/cmws/examples/scene_understanding/data/1_1/cube_0.01/colorless/train.pt\n",
      "11:31:03 | /om/user/katiemc/continuous_mws/cmws/examples/scene_understanding/data.py:348 | INFO: Loading dataset (test = False)...\n",
      "11:31:03 | /om/user/katiemc/continuous_mws/cmws/examples/scene_understanding/data.py:352 | INFO: Dataset (test = False) loaded /om/user/katiemc/continuous_mws/cmws/examples/scene_understanding/data/1_1/cube_0.01/colorless/train.pt\n",
      "11:31:03 | /om/user/katiemc/continuous_mws/cmws/memory.py:20 | INFO: Initializing memory\n"
     ]
    },
    {
     "name": "stderr",
     "output_type": "stream",
     "text": [
      "100%|██████████| 100/100 [00:00<00:00, 956.72it/s]"
     ]
    },
    {
     "name": "stdout",
     "output_type": "stream",
     "text": [
      "color status:  True\n",
      "path:  /om/user/katiemc/continuous_mws/cmws/examples/scene_understanding/data/1_1/cube_0.01/colorless/train.pt\n",
      "11:31:03 | /om/user/katiemc/continuous_mws/cmws/examples/scene_understanding/data.py:348 | INFO: Loading dataset (test = False)...\n",
      "11:31:03 | /om/user/katiemc/continuous_mws/cmws/examples/scene_understanding/data.py:352 | INFO: Dataset (test = False) loaded /om/user/katiemc/continuous_mws/cmws/examples/scene_understanding/data/1_1/cube_0.01/colorless/train.pt\n",
      "11:31:03 | /om/user/katiemc/continuous_mws/cmws/memory.py:20 | INFO: Initializing memory\n"
     ]
    },
    {
     "name": "stderr",
     "output_type": "stream",
     "text": [
      "\n",
      "100%|██████████| 100/100 [00:00<00:00, 934.93it/s]"
     ]
    },
    {
     "name": "stdout",
     "output_type": "stream",
     "text": [
      "color status:  True\n",
      "path:  /om/user/katiemc/continuous_mws/cmws/examples/scene_understanding/data/1_1/cube_0.01/colorless/train.pt\n",
      "11:31:03 | /om/user/katiemc/continuous_mws/cmws/examples/scene_understanding/data.py:348 | INFO: Loading dataset (test = False)...\n",
      "11:31:03 | /om/user/katiemc/continuous_mws/cmws/examples/scene_understanding/data.py:352 | INFO: Dataset (test = False) loaded /om/user/katiemc/continuous_mws/cmws/examples/scene_understanding/data/1_1/cube_0.01/colorless/train.pt\n",
      "11:31:03 | /om/user/katiemc/continuous_mws/cmws/memory.py:20 | INFO: Initializing memory\n"
     ]
    },
    {
     "name": "stderr",
     "output_type": "stream",
     "text": [
      "\n",
      "100%|██████████| 100/100 [00:00<00:00, 943.77it/s]"
     ]
    },
    {
     "name": "stdout",
     "output_type": "stream",
     "text": [
      "color status:  True\n",
      "path:  /om/user/katiemc/continuous_mws/cmws/examples/scene_understanding/data/1_1/cube_0.01/colorless/train.pt\n",
      "11:31:03 | /om/user/katiemc/continuous_mws/cmws/examples/scene_understanding/data.py:348 | INFO: Loading dataset (test = False)...\n",
      "11:31:03 | /om/user/katiemc/continuous_mws/cmws/examples/scene_understanding/data.py:352 | INFO: Dataset (test = False) loaded /om/user/katiemc/continuous_mws/cmws/examples/scene_understanding/data/1_1/cube_0.01/colorless/train.pt\n",
      "11:31:03 | /om/user/katiemc/continuous_mws/cmws/memory.py:20 | INFO: Initializing memory\n"
     ]
    },
    {
     "name": "stderr",
     "output_type": "stream",
     "text": [
      "\n",
      "100%|██████████| 100/100 [00:00<00:00, 927.24it/s]"
     ]
    },
    {
     "name": "stdout",
     "output_type": "stream",
     "text": [
      "color status:  True\n",
      "path:  /om/user/katiemc/continuous_mws/cmws/examples/scene_understanding/data/1_1/cube_0.01/colorless/train.pt\n",
      "11:31:04 | /om/user/katiemc/continuous_mws/cmws/examples/scene_understanding/data.py:348 | INFO: Loading dataset (test = False)...\n",
      "11:31:04 | /om/user/katiemc/continuous_mws/cmws/examples/scene_understanding/data.py:352 | INFO: Dataset (test = False) loaded /om/user/katiemc/continuous_mws/cmws/examples/scene_understanding/data/1_1/cube_0.01/colorless/train.pt\n",
      "11:31:04 | /om/user/katiemc/continuous_mws/cmws/memory.py:20 | INFO: Initializing memory\n"
     ]
    },
    {
     "name": "stderr",
     "output_type": "stream",
     "text": [
      "\n",
      "100%|██████████| 100/100 [00:00<00:00, 939.57it/s]\n"
     ]
    },
    {
     "name": "stdout",
     "output_type": "stream",
     "text": [
      "color status:  True\n",
      "path:  /om/user/katiemc/continuous_mws/cmws/examples/scene_understanding/data/1_1/cube_0.01/colorless/train.pt\n",
      "11:31:04 | /om/user/katiemc/continuous_mws/cmws/examples/scene_understanding/data.py:348 | INFO: Loading dataset (test = False)...\n",
      "11:31:04 | /om/user/katiemc/continuous_mws/cmws/examples/scene_understanding/data.py:352 | INFO: Dataset (test = False) loaded /om/user/katiemc/continuous_mws/cmws/examples/scene_understanding/data/1_1/cube_0.01/colorless/train.pt\n",
      "11:31:04 | /om/user/katiemc/continuous_mws/cmws/memory.py:20 | INFO: Initializing memory\n"
     ]
    },
    {
     "name": "stderr",
     "output_type": "stream",
     "text": [
      "100%|██████████| 100/100 [00:00<00:00, 1001.59it/s]\n"
     ]
    },
    {
     "name": "stdout",
     "output_type": "stream",
     "text": [
      "color status:  True\n",
      "path:  /om/user/katiemc/continuous_mws/cmws/examples/scene_understanding/data/1_1/cube_0.01/colorless/train.pt\n",
      "11:31:04 | /om/user/katiemc/continuous_mws/cmws/examples/scene_understanding/data.py:348 | INFO: Loading dataset (test = False)...\n",
      "11:31:04 | /om/user/katiemc/continuous_mws/cmws/examples/scene_understanding/data.py:352 | INFO: Dataset (test = False) loaded /om/user/katiemc/continuous_mws/cmws/examples/scene_understanding/data/1_1/cube_0.01/colorless/train.pt\n",
      "11:31:04 | /om/user/katiemc/continuous_mws/cmws/memory.py:20 | INFO: Initializing memory\n"
     ]
    },
    {
     "name": "stderr",
     "output_type": "stream",
     "text": [
      "100%|██████████| 100/100 [00:00<00:00, 1011.78it/s]"
     ]
    },
    {
     "name": "stdout",
     "output_type": "stream",
     "text": [
      "color status:  True\n",
      "path:  /om/user/katiemc/continuous_mws/cmws/examples/scene_understanding/data/1_1/cube_0.01/colorless/train.pt\n",
      "11:31:05 | /om/user/katiemc/continuous_mws/cmws/examples/scene_understanding/data.py:348 | INFO: Loading dataset (test = False)...\n"
     ]
    },
    {
     "name": "stderr",
     "output_type": "stream",
     "text": [
      "\n"
     ]
    },
    {
     "name": "stdout",
     "output_type": "stream",
     "text": [
      "11:31:05 | /om/user/katiemc/continuous_mws/cmws/examples/scene_understanding/data.py:352 | INFO: Dataset (test = False) loaded /om/user/katiemc/continuous_mws/cmws/examples/scene_understanding/data/1_1/cube_0.01/colorless/train.pt\n",
      "11:31:05 | /om/user/katiemc/continuous_mws/cmws/memory.py:20 | INFO: Initializing memory\n"
     ]
    },
    {
     "name": "stderr",
     "output_type": "stream",
     "text": [
      "100%|██████████| 100/100 [00:00<00:00, 944.33it/s]"
     ]
    },
    {
     "name": "stdout",
     "output_type": "stream",
     "text": [
      "color status:  True\n",
      "path:  /om/user/katiemc/continuous_mws/cmws/examples/scene_understanding/data/1_1/cube_0.01/colorless/train.pt\n",
      "11:31:05 | /om/user/katiemc/continuous_mws/cmws/examples/scene_understanding/data.py:348 | INFO: Loading dataset (test = False)...\n",
      "11:31:05 | /om/user/katiemc/continuous_mws/cmws/examples/scene_understanding/data.py:352 | INFO: Dataset (test = False) loaded /om/user/katiemc/continuous_mws/cmws/examples/scene_understanding/data/1_1/cube_0.01/colorless/train.pt\n"
     ]
    },
    {
     "name": "stderr",
     "output_type": "stream",
     "text": [
      "\n"
     ]
    },
    {
     "name": "stdout",
     "output_type": "stream",
     "text": [
      "11:31:05 | /om/user/katiemc/continuous_mws/cmws/memory.py:20 | INFO: Initializing memory\n"
     ]
    },
    {
     "name": "stderr",
     "output_type": "stream",
     "text": [
      "100%|██████████| 100/100 [00:00<00:00, 1005.14it/s]\n"
     ]
    },
    {
     "name": "stdout",
     "output_type": "stream",
     "text": [
      "color status:  True\n",
      "path:  /om/user/katiemc/continuous_mws/cmws/examples/scene_understanding/data/1_1/cube_0.01/colorless/train.pt\n",
      "11:31:05 | /om/user/katiemc/continuous_mws/cmws/examples/scene_understanding/data.py:348 | INFO: Loading dataset (test = False)...\n",
      "11:31:05 | /om/user/katiemc/continuous_mws/cmws/examples/scene_understanding/data.py:352 | INFO: Dataset (test = False) loaded /om/user/katiemc/continuous_mws/cmws/examples/scene_understanding/data/1_1/cube_0.01/colorless/train.pt\n",
      "11:31:05 | /om/user/katiemc/continuous_mws/cmws/memory.py:20 | INFO: Initializing memory\n"
     ]
    },
    {
     "name": "stderr",
     "output_type": "stream",
     "text": [
      "100%|██████████| 100/100 [00:00<00:00, 1018.69it/s]\n"
     ]
    },
    {
     "name": "stdout",
     "output_type": "stream",
     "text": [
      "11:31:05 | /om/user/katiemc/continuous_mws/cmws/examples/scene_understanding/util.py:127 | INFO: Error Ran out of input\n",
      "11:31:05 | /om/user/katiemc/continuous_mws/cmws/examples/scene_understanding/util.py:129 | INFO: Waiting for 1 seconds\n",
      "11:31:06 | /om/user/katiemc/continuous_mws/cmws/examples/scene_understanding/util.py:127 | INFO: Error Ran out of input\n",
      "11:31:06 | /om/user/katiemc/continuous_mws/cmws/examples/scene_understanding/util.py:129 | INFO: Waiting for 2 seconds\n",
      "11:31:08 | /om/user/katiemc/continuous_mws/cmws/examples/scene_understanding/util.py:127 | INFO: Error Ran out of input\n",
      "11:31:08 | /om/user/katiemc/continuous_mws/cmws/examples/scene_understanding/util.py:129 | INFO: Waiting for 4 seconds\n",
      "11:31:12 | /om/user/katiemc/continuous_mws/cmws/examples/scene_understanding/util.py:127 | INFO: Error Ran out of input\n",
      "11:31:12 | /om/user/katiemc/continuous_mws/cmws/examples/scene_understanding/util.py:129 | INFO: Waiting for 1 seconds\n",
      "11:31:13 | /om/user/katiemc/continuous_mws/cmws/examples/scene_understanding/util.py:127 | INFO: Error Ran out of input\n",
      "11:31:13 | /om/user/katiemc/continuous_mws/cmws/examples/scene_understanding/util.py:129 | INFO: Waiting for 2 seconds\n",
      "11:31:15 | /om/user/katiemc/continuous_mws/cmws/examples/scene_understanding/util.py:127 | INFO: Error Ran out of input\n",
      "11:31:15 | /om/user/katiemc/continuous_mws/cmws/examples/scene_understanding/util.py:129 | INFO: Waiting for 4 seconds\n",
      "11:31:21 | /om/user/katiemc/continuous_mws/cmws/examples/scene_understanding/util.py:127 | INFO: Error Ran out of input\n",
      "11:31:21 | /om/user/katiemc/continuous_mws/cmws/examples/scene_understanding/util.py:129 | INFO: Waiting for 1 seconds\n",
      "11:31:22 | /om/user/katiemc/continuous_mws/cmws/examples/scene_understanding/util.py:127 | INFO: Error Ran out of input\n",
      "11:31:22 | /om/user/katiemc/continuous_mws/cmws/examples/scene_understanding/util.py:129 | INFO: Waiting for 2 seconds\n",
      "11:31:24 | /om/user/katiemc/continuous_mws/cmws/examples/scene_understanding/util.py:127 | INFO: Error Ran out of input\n",
      "11:31:24 | /om/user/katiemc/continuous_mws/cmws/examples/scene_understanding/util.py:129 | INFO: Waiting for 4 seconds\n",
      "11:31:28 | /om/user/katiemc/continuous_mws/cmws/examples/scene_understanding/util.py:127 | INFO: Error Ran out of input\n",
      "11:31:28 | /om/user/katiemc/continuous_mws/cmws/examples/scene_understanding/util.py:129 | INFO: Waiting for 1 seconds\n",
      "11:31:29 | /om/user/katiemc/continuous_mws/cmws/examples/scene_understanding/util.py:127 | INFO: Error Ran out of input\n",
      "11:31:29 | /om/user/katiemc/continuous_mws/cmws/examples/scene_understanding/util.py:129 | INFO: Waiting for 2 seconds\n",
      "11:31:31 | /om/user/katiemc/continuous_mws/cmws/examples/scene_understanding/util.py:127 | INFO: Error Ran out of input\n",
      "11:31:31 | /om/user/katiemc/continuous_mws/cmws/examples/scene_understanding/util.py:129 | INFO: Waiting for 4 seconds\n",
      "11:31:37 | /om/user/katiemc/continuous_mws/cmws/util.py:293 | INFO: Saved to ../save/cmws_vs_rws_noColor/losses_2.png\n",
      "color status:  True\n",
      "path:  /om/user/katiemc/continuous_mws/cmws/examples/scene_understanding/data/1_1/cube_0.01/colorless/train.pt\n",
      "11:31:38 | /om/user/katiemc/continuous_mws/cmws/examples/scene_understanding/data.py:348 | INFO: Loading dataset (test = False)...\n",
      "11:31:38 | /om/user/katiemc/continuous_mws/cmws/examples/scene_understanding/data.py:352 | INFO: Dataset (test = False) loaded /om/user/katiemc/continuous_mws/cmws/examples/scene_understanding/data/1_1/cube_0.01/colorless/train.pt\n",
      "11:31:38 | /om/user/katiemc/continuous_mws/cmws/memory.py:20 | INFO: Initializing memory\n"
     ]
    },
    {
     "name": "stderr",
     "output_type": "stream",
     "text": [
      "100%|██████████| 100/100 [00:00<00:00, 601.40it/s]\n"
     ]
    },
    {
     "name": "stdout",
     "output_type": "stream",
     "text": [
      "color status:  True\n",
      "path:  /om/user/katiemc/continuous_mws/cmws/examples/scene_understanding/data/1_1/cube_0.01/colorless/train.pt\n",
      "11:31:38 | /om/user/katiemc/continuous_mws/cmws/examples/scene_understanding/data.py:348 | INFO: Loading dataset (test = False)...\n",
      "11:31:38 | /om/user/katiemc/continuous_mws/cmws/examples/scene_understanding/data.py:352 | INFO: Dataset (test = False) loaded /om/user/katiemc/continuous_mws/cmws/examples/scene_understanding/data/1_1/cube_0.01/colorless/train.pt\n",
      "11:31:38 | /om/user/katiemc/continuous_mws/cmws/memory.py:20 | INFO: Initializing memory\n"
     ]
    },
    {
     "name": "stderr",
     "output_type": "stream",
     "text": [
      "100%|██████████| 100/100 [00:00<00:00, 610.94it/s]\n"
     ]
    },
    {
     "name": "stdout",
     "output_type": "stream",
     "text": [
      "color status:  True\n",
      "path:  /om/user/katiemc/continuous_mws/cmws/examples/scene_understanding/data/1_1/cube_0.01/colorless/train.pt\n",
      "11:31:38 | /om/user/katiemc/continuous_mws/cmws/examples/scene_understanding/data.py:348 | INFO: Loading dataset (test = False)...\n",
      "11:31:38 | /om/user/katiemc/continuous_mws/cmws/examples/scene_understanding/data.py:352 | INFO: Dataset (test = False) loaded /om/user/katiemc/continuous_mws/cmws/examples/scene_understanding/data/1_1/cube_0.01/colorless/train.pt\n",
      "11:31:38 | /om/user/katiemc/continuous_mws/cmws/memory.py:20 | INFO: Initializing memory\n"
     ]
    },
    {
     "name": "stderr",
     "output_type": "stream",
     "text": [
      "100%|██████████| 100/100 [00:00<00:00, 609.94it/s]\n"
     ]
    },
    {
     "name": "stdout",
     "output_type": "stream",
     "text": [
      "color status:  True\n",
      "path:  /om/user/katiemc/continuous_mws/cmws/examples/scene_understanding/data/1_1/cube_0.01/colorless/train.pt\n",
      "11:31:38 | /om/user/katiemc/continuous_mws/cmws/examples/scene_understanding/data.py:348 | INFO: Loading dataset (test = False)...\n",
      "11:31:38 | /om/user/katiemc/continuous_mws/cmws/examples/scene_understanding/data.py:352 | INFO: Dataset (test = False) loaded /om/user/katiemc/continuous_mws/cmws/examples/scene_understanding/data/1_1/cube_0.01/colorless/train.pt\n",
      "11:31:38 | /om/user/katiemc/continuous_mws/cmws/memory.py:20 | INFO: Initializing memory\n"
     ]
    },
    {
     "name": "stderr",
     "output_type": "stream",
     "text": [
      "100%|██████████| 100/100 [00:00<00:00, 606.38it/s]\n"
     ]
    },
    {
     "name": "stdout",
     "output_type": "stream",
     "text": [
      "color status:  True\n",
      "path:  /om/user/katiemc/continuous_mws/cmws/examples/scene_understanding/data/1_1/cube_0.01/colorless/train.pt\n",
      "11:31:39 | /om/user/katiemc/continuous_mws/cmws/examples/scene_understanding/data.py:348 | INFO: Loading dataset (test = False)...\n",
      "11:31:39 | /om/user/katiemc/continuous_mws/cmws/examples/scene_understanding/data.py:352 | INFO: Dataset (test = False) loaded /om/user/katiemc/continuous_mws/cmws/examples/scene_understanding/data/1_1/cube_0.01/colorless/train.pt\n",
      "11:31:39 | /om/user/katiemc/continuous_mws/cmws/memory.py:20 | INFO: Initializing memory\n"
     ]
    },
    {
     "name": "stderr",
     "output_type": "stream",
     "text": [
      "100%|██████████| 100/100 [00:00<00:00, 588.23it/s]\n"
     ]
    },
    {
     "name": "stdout",
     "output_type": "stream",
     "text": [
      "color status:  True\n",
      "path:  /om/user/katiemc/continuous_mws/cmws/examples/scene_understanding/data/1_1/cube_0.01/colorless/train.pt\n",
      "11:31:39 | /om/user/katiemc/continuous_mws/cmws/examples/scene_understanding/data.py:348 | INFO: Loading dataset (test = False)...\n",
      "11:31:39 | /om/user/katiemc/continuous_mws/cmws/examples/scene_understanding/data.py:352 | INFO: Dataset (test = False) loaded /om/user/katiemc/continuous_mws/cmws/examples/scene_understanding/data/1_1/cube_0.01/colorless/train.pt\n",
      "11:31:39 | /om/user/katiemc/continuous_mws/cmws/memory.py:20 | INFO: Initializing memory\n"
     ]
    },
    {
     "name": "stderr",
     "output_type": "stream",
     "text": [
      "100%|██████████| 100/100 [00:00<00:00, 667.99it/s]\n"
     ]
    },
    {
     "name": "stdout",
     "output_type": "stream",
     "text": [
      "color status:  True\n",
      "path:  /om/user/katiemc/continuous_mws/cmws/examples/scene_understanding/data/1_1/cube_0.01/colorless/train.pt\n",
      "11:31:39 | /om/user/katiemc/continuous_mws/cmws/examples/scene_understanding/data.py:348 | INFO: Loading dataset (test = False)...\n",
      "11:31:39 | /om/user/katiemc/continuous_mws/cmws/examples/scene_understanding/data.py:352 | INFO: Dataset (test = False) loaded /om/user/katiemc/continuous_mws/cmws/examples/scene_understanding/data/1_1/cube_0.01/colorless/train.pt\n",
      "11:31:39 | /om/user/katiemc/continuous_mws/cmws/memory.py:20 | INFO: Initializing memory\n"
     ]
    },
    {
     "name": "stderr",
     "output_type": "stream",
     "text": [
      "100%|██████████| 100/100 [00:00<00:00, 361.10it/s]\n"
     ]
    },
    {
     "name": "stdout",
     "output_type": "stream",
     "text": [
      "color status:  True\n",
      "path:  /om/user/katiemc/continuous_mws/cmws/examples/scene_understanding/data/1_1/cube_0.01/colorless/train.pt\n",
      "11:31:39 | /om/user/katiemc/continuous_mws/cmws/examples/scene_understanding/data.py:348 | INFO: Loading dataset (test = False)...\n",
      "11:31:40 | /om/user/katiemc/continuous_mws/cmws/examples/scene_understanding/data.py:352 | INFO: Dataset (test = False) loaded /om/user/katiemc/continuous_mws/cmws/examples/scene_understanding/data/1_1/cube_0.01/colorless/train.pt\n",
      "11:31:40 | /om/user/katiemc/continuous_mws/cmws/memory.py:20 | INFO: Initializing memory\n"
     ]
    },
    {
     "name": "stderr",
     "output_type": "stream",
     "text": [
      "100%|██████████| 100/100 [00:00<00:00, 292.38it/s]\n"
     ]
    },
    {
     "name": "stdout",
     "output_type": "stream",
     "text": [
      "color status:  True\n",
      "path:  /om/user/katiemc/continuous_mws/cmws/examples/scene_understanding/data/1_1/cube_0.01/colorless/train.pt\n",
      "11:31:40 | /om/user/katiemc/continuous_mws/cmws/examples/scene_understanding/data.py:348 | INFO: Loading dataset (test = False)...\n",
      "11:31:40 | /om/user/katiemc/continuous_mws/cmws/examples/scene_understanding/data.py:352 | INFO: Dataset (test = False) loaded /om/user/katiemc/continuous_mws/cmws/examples/scene_understanding/data/1_1/cube_0.01/colorless/train.pt\n",
      "11:31:40 | /om/user/katiemc/continuous_mws/cmws/memory.py:20 | INFO: Initializing memory\n"
     ]
    },
    {
     "name": "stderr",
     "output_type": "stream",
     "text": [
      "100%|██████████| 100/100 [00:00<00:00, 368.56it/s]\n"
     ]
    },
    {
     "name": "stdout",
     "output_type": "stream",
     "text": [
      "color status:  True\n",
      "path:  /om/user/katiemc/continuous_mws/cmws/examples/scene_understanding/data/1_1/cube_0.01/colorless/train.pt\n",
      "11:31:40 | /om/user/katiemc/continuous_mws/cmws/examples/scene_understanding/data.py:348 | INFO: Loading dataset (test = False)...\n",
      "11:31:40 | /om/user/katiemc/continuous_mws/cmws/examples/scene_understanding/data.py:352 | INFO: Dataset (test = False) loaded /om/user/katiemc/continuous_mws/cmws/examples/scene_understanding/data/1_1/cube_0.01/colorless/train.pt\n",
      "11:31:40 | /om/user/katiemc/continuous_mws/cmws/memory.py:20 | INFO: Initializing memory\n"
     ]
    },
    {
     "name": "stderr",
     "output_type": "stream",
     "text": [
      "100%|██████████| 100/100 [00:00<00:00, 654.25it/s]\n"
     ]
    },
    {
     "name": "stdout",
     "output_type": "stream",
     "text": [
      "color status:  True\n",
      "path:  /om/user/katiemc/continuous_mws/cmws/examples/scene_understanding/data/1_1/cube_0.01/colorless/train.pt\n",
      "11:31:41 | /om/user/katiemc/continuous_mws/cmws/examples/scene_understanding/data.py:348 | INFO: Loading dataset (test = False)...\n",
      "11:31:41 | /om/user/katiemc/continuous_mws/cmws/examples/scene_understanding/data.py:352 | INFO: Dataset (test = False) loaded /om/user/katiemc/continuous_mws/cmws/examples/scene_understanding/data/1_1/cube_0.01/colorless/train.pt\n",
      "11:31:41 | /om/user/katiemc/continuous_mws/cmws/memory.py:20 | INFO: Initializing memory\n"
     ]
    },
    {
     "name": "stderr",
     "output_type": "stream",
     "text": [
      "100%|██████████| 100/100 [00:00<00:00, 648.72it/s]\n"
     ]
    },
    {
     "name": "stdout",
     "output_type": "stream",
     "text": [
      "color status:  True\n",
      "path:  /om/user/katiemc/continuous_mws/cmws/examples/scene_understanding/data/1_1/cube_0.01/colorless/train.pt\n",
      "11:31:41 | /om/user/katiemc/continuous_mws/cmws/examples/scene_understanding/data.py:348 | INFO: Loading dataset (test = False)...\n",
      "11:31:41 | /om/user/katiemc/continuous_mws/cmws/examples/scene_understanding/data.py:352 | INFO: Dataset (test = False) loaded /om/user/katiemc/continuous_mws/cmws/examples/scene_understanding/data/1_1/cube_0.01/colorless/train.pt\n",
      "11:31:41 | /om/user/katiemc/continuous_mws/cmws/memory.py:20 | INFO: Initializing memory\n"
     ]
    },
    {
     "name": "stderr",
     "output_type": "stream",
     "text": [
      "100%|██████████| 100/100 [00:00<00:00, 655.69it/s]\n"
     ]
    },
    {
     "name": "stdout",
     "output_type": "stream",
     "text": [
      "color status:  True\n",
      "path:  /om/user/katiemc/continuous_mws/cmws/examples/scene_understanding/data/1_1/cube_0.01/colorless/train.pt\n",
      "11:31:41 | /om/user/katiemc/continuous_mws/cmws/examples/scene_understanding/data.py:348 | INFO: Loading dataset (test = False)...\n",
      "11:31:41 | /om/user/katiemc/continuous_mws/cmws/examples/scene_understanding/data.py:352 | INFO: Dataset (test = False) loaded /om/user/katiemc/continuous_mws/cmws/examples/scene_understanding/data/1_1/cube_0.01/colorless/train.pt\n",
      "11:31:41 | /om/user/katiemc/continuous_mws/cmws/memory.py:20 | INFO: Initializing memory\n"
     ]
    },
    {
     "name": "stderr",
     "output_type": "stream",
     "text": [
      "100%|██████████| 100/100 [00:00<00:00, 649.18it/s]\n"
     ]
    },
    {
     "name": "stdout",
     "output_type": "stream",
     "text": [
      "color status:  True\n",
      "path:  /om/user/katiemc/continuous_mws/cmws/examples/scene_understanding/data/1_1/cube_0.01/colorless/train.pt\n",
      "11:31:41 | /om/user/katiemc/continuous_mws/cmws/examples/scene_understanding/data.py:348 | INFO: Loading dataset (test = False)...\n",
      "11:31:41 | /om/user/katiemc/continuous_mws/cmws/examples/scene_understanding/data.py:352 | INFO: Dataset (test = False) loaded /om/user/katiemc/continuous_mws/cmws/examples/scene_understanding/data/1_1/cube_0.01/colorless/train.pt\n",
      "11:31:41 | /om/user/katiemc/continuous_mws/cmws/memory.py:20 | INFO: Initializing memory\n"
     ]
    },
    {
     "name": "stderr",
     "output_type": "stream",
     "text": [
      "100%|██████████| 100/100 [00:00<00:00, 647.71it/s]\n"
     ]
    },
    {
     "name": "stdout",
     "output_type": "stream",
     "text": [
      "color status:  True\n",
      "path:  /om/user/katiemc/continuous_mws/cmws/examples/scene_understanding/data/1_1/cube_0.01/colorless/train.pt\n",
      "11:31:42 | /om/user/katiemc/continuous_mws/cmws/examples/scene_understanding/data.py:348 | INFO: Loading dataset (test = False)...\n",
      "11:31:42 | /om/user/katiemc/continuous_mws/cmws/examples/scene_understanding/data.py:352 | INFO: Dataset (test = False) loaded /om/user/katiemc/continuous_mws/cmws/examples/scene_understanding/data/1_1/cube_0.01/colorless/train.pt\n",
      "11:31:42 | /om/user/katiemc/continuous_mws/cmws/memory.py:20 | INFO: Initializing memory\n"
     ]
    },
    {
     "name": "stderr",
     "output_type": "stream",
     "text": [
      "100%|██████████| 100/100 [00:00<00:00, 654.61it/s]\n"
     ]
    },
    {
     "name": "stdout",
     "output_type": "stream",
     "text": [
      "color status:  True\n",
      "path:  /om/user/katiemc/continuous_mws/cmws/examples/scene_understanding/data/1_1/cube_0.01/colorless/train.pt\n",
      "11:31:42 | /om/user/katiemc/continuous_mws/cmws/examples/scene_understanding/data.py:348 | INFO: Loading dataset (test = False)...\n",
      "11:31:42 | /om/user/katiemc/continuous_mws/cmws/examples/scene_understanding/data.py:352 | INFO: Dataset (test = False) loaded /om/user/katiemc/continuous_mws/cmws/examples/scene_understanding/data/1_1/cube_0.01/colorless/train.pt\n",
      "11:31:42 | /om/user/katiemc/continuous_mws/cmws/memory.py:20 | INFO: Initializing memory\n"
     ]
    },
    {
     "name": "stderr",
     "output_type": "stream",
     "text": [
      "100%|██████████| 100/100 [00:00<00:00, 649.06it/s]\n"
     ]
    },
    {
     "name": "stdout",
     "output_type": "stream",
     "text": [
      "color status:  True\n",
      "path:  /om/user/katiemc/continuous_mws/cmws/examples/scene_understanding/data/1_1/cube_0.01/colorless/train.pt\n",
      "11:31:42 | /om/user/katiemc/continuous_mws/cmws/examples/scene_understanding/data.py:348 | INFO: Loading dataset (test = False)...\n",
      "11:31:42 | /om/user/katiemc/continuous_mws/cmws/examples/scene_understanding/data.py:352 | INFO: Dataset (test = False) loaded /om/user/katiemc/continuous_mws/cmws/examples/scene_understanding/data/1_1/cube_0.01/colorless/train.pt\n",
      "11:31:42 | /om/user/katiemc/continuous_mws/cmws/memory.py:20 | INFO: Initializing memory\n"
     ]
    },
    {
     "name": "stderr",
     "output_type": "stream",
     "text": [
      "100%|██████████| 100/100 [00:00<00:00, 658.56it/s]\n"
     ]
    },
    {
     "name": "stdout",
     "output_type": "stream",
     "text": [
      "color status:  True\n",
      "path:  /om/user/katiemc/continuous_mws/cmws/examples/scene_understanding/data/1_1/cube_0.01/colorless/train.pt\n",
      "11:31:42 | /om/user/katiemc/continuous_mws/cmws/examples/scene_understanding/data.py:348 | INFO: Loading dataset (test = False)...\n",
      "11:31:42 | /om/user/katiemc/continuous_mws/cmws/examples/scene_understanding/data.py:352 | INFO: Dataset (test = False) loaded /om/user/katiemc/continuous_mws/cmws/examples/scene_understanding/data/1_1/cube_0.01/colorless/train.pt\n",
      "11:31:42 | /om/user/katiemc/continuous_mws/cmws/memory.py:20 | INFO: Initializing memory\n"
     ]
    },
    {
     "name": "stderr",
     "output_type": "stream",
     "text": [
      "100%|██████████| 100/100 [00:00<00:00, 598.92it/s]\n"
     ]
    },
    {
     "name": "stdout",
     "output_type": "stream",
     "text": [
      "color status:  True\n",
      "path:  /om/user/katiemc/continuous_mws/cmws/examples/scene_understanding/data/1_1/cube_0.01/colorless/train.pt\n",
      "11:31:43 | /om/user/katiemc/continuous_mws/cmws/examples/scene_understanding/data.py:348 | INFO: Loading dataset (test = False)...\n",
      "11:31:43 | /om/user/katiemc/continuous_mws/cmws/examples/scene_understanding/data.py:352 | INFO: Dataset (test = False) loaded /om/user/katiemc/continuous_mws/cmws/examples/scene_understanding/data/1_1/cube_0.01/colorless/train.pt\n",
      "11:31:43 | /om/user/katiemc/continuous_mws/cmws/memory.py:20 | INFO: Initializing memory\n"
     ]
    },
    {
     "name": "stderr",
     "output_type": "stream",
     "text": [
      "100%|██████████| 100/100 [00:00<00:00, 610.01it/s]\n"
     ]
    },
    {
     "name": "stdout",
     "output_type": "stream",
     "text": [
      "color status:  True\n",
      "path:  /om/user/katiemc/continuous_mws/cmws/examples/scene_understanding/data/1_1/cube_0.01/colorless/train.pt\n",
      "11:31:43 | /om/user/katiemc/continuous_mws/cmws/examples/scene_understanding/data.py:348 | INFO: Loading dataset (test = False)...\n",
      "11:31:43 | /om/user/katiemc/continuous_mws/cmws/examples/scene_understanding/data.py:352 | INFO: Dataset (test = False) loaded /om/user/katiemc/continuous_mws/cmws/examples/scene_understanding/data/1_1/cube_0.01/colorless/train.pt\n",
      "11:31:43 | /om/user/katiemc/continuous_mws/cmws/memory.py:20 | INFO: Initializing memory\n"
     ]
    },
    {
     "name": "stderr",
     "output_type": "stream",
     "text": [
      "100%|██████████| 100/100 [00:00<00:00, 653.49it/s]"
     ]
    },
    {
     "name": "stdout",
     "output_type": "stream",
     "text": [
      "11:31:43 | /om/user/katiemc/continuous_mws/cmws/examples/scene_understanding/util.py:127 | INFO: Error Ran out of input\n",
      "11:31:43 | /om/user/katiemc/continuous_mws/cmws/examples/scene_understanding/util.py:129 | INFO: Waiting for 1 seconds\n"
     ]
    },
    {
     "name": "stderr",
     "output_type": "stream",
     "text": [
      "\n"
     ]
    },
    {
     "name": "stdout",
     "output_type": "stream",
     "text": [
      "11:31:44 | /om/user/katiemc/continuous_mws/cmws/examples/scene_understanding/util.py:127 | INFO: Error Ran out of input\n",
      "11:31:44 | /om/user/katiemc/continuous_mws/cmws/examples/scene_understanding/util.py:129 | INFO: Waiting for 2 seconds\n",
      "11:31:46 | /om/user/katiemc/continuous_mws/cmws/examples/scene_understanding/util.py:127 | INFO: Error Ran out of input\n",
      "11:31:46 | /om/user/katiemc/continuous_mws/cmws/examples/scene_understanding/util.py:129 | INFO: Waiting for 4 seconds\n",
      "11:31:50 | /om/user/katiemc/continuous_mws/cmws/examples/scene_understanding/util.py:127 | INFO: Error Ran out of input\n",
      "11:31:50 | /om/user/katiemc/continuous_mws/cmws/examples/scene_understanding/util.py:129 | INFO: Waiting for 1 seconds\n",
      "11:31:51 | /om/user/katiemc/continuous_mws/cmws/examples/scene_understanding/util.py:127 | INFO: Error Ran out of input\n",
      "11:31:51 | /om/user/katiemc/continuous_mws/cmws/examples/scene_understanding/util.py:129 | INFO: Waiting for 2 seconds\n",
      "11:31:53 | /om/user/katiemc/continuous_mws/cmws/examples/scene_understanding/util.py:127 | INFO: Error Ran out of input\n",
      "11:31:53 | /om/user/katiemc/continuous_mws/cmws/examples/scene_understanding/util.py:129 | INFO: Waiting for 4 seconds\n",
      "11:31:59 | /om/user/katiemc/continuous_mws/cmws/examples/scene_understanding/util.py:127 | INFO: Error Ran out of input\n",
      "11:31:59 | /om/user/katiemc/continuous_mws/cmws/examples/scene_understanding/util.py:129 | INFO: Waiting for 1 seconds\n",
      "11:32:00 | /om/user/katiemc/continuous_mws/cmws/examples/scene_understanding/util.py:127 | INFO: Error Ran out of input\n",
      "11:32:00 | /om/user/katiemc/continuous_mws/cmws/examples/scene_understanding/util.py:129 | INFO: Waiting for 2 seconds\n",
      "11:32:02 | /om/user/katiemc/continuous_mws/cmws/examples/scene_understanding/util.py:127 | INFO: Error Ran out of input\n",
      "11:32:02 | /om/user/katiemc/continuous_mws/cmws/examples/scene_understanding/util.py:129 | INFO: Waiting for 4 seconds\n",
      "11:32:06 | /om/user/katiemc/continuous_mws/cmws/examples/scene_understanding/util.py:127 | INFO: Error Ran out of input\n",
      "11:32:06 | /om/user/katiemc/continuous_mws/cmws/examples/scene_understanding/util.py:129 | INFO: Waiting for 1 seconds\n",
      "11:32:07 | /om/user/katiemc/continuous_mws/cmws/examples/scene_understanding/util.py:127 | INFO: Error Ran out of input\n",
      "11:32:07 | /om/user/katiemc/continuous_mws/cmws/examples/scene_understanding/util.py:129 | INFO: Waiting for 2 seconds\n",
      "11:32:09 | /om/user/katiemc/continuous_mws/cmws/examples/scene_understanding/util.py:127 | INFO: Error Ran out of input\n",
      "11:32:09 | /om/user/katiemc/continuous_mws/cmws/examples/scene_understanding/util.py:129 | INFO: Waiting for 4 seconds\n"
     ]
    },
    {
     "name": "stderr",
     "output_type": "stream",
     "text": [
      "/home/katiemc/.conda/envs/cmws/lib/python3.7/site-packages/numpy/lib/nanfunctions.py:1114: RuntimeWarning: All-NaN slice encountered\n",
      "  overwrite_input=overwrite_input)\n",
      "/home/katiemc/.conda/envs/cmws/lib/python3.7/site-packages/numpy/lib/nanfunctions.py:1390: RuntimeWarning: All-NaN slice encountered\n",
      "  overwrite_input, interpolation)\n",
      "/home/katiemc/.conda/envs/cmws/lib/python3.7/site-packages/numpy/lib/nanfunctions.py:1114: RuntimeWarning: All-NaN slice encountered\n",
      "  overwrite_input=overwrite_input)\n",
      "/home/katiemc/.conda/envs/cmws/lib/python3.7/site-packages/numpy/lib/nanfunctions.py:1390: RuntimeWarning: All-NaN slice encountered\n",
      "  overwrite_input, interpolation)\n",
      "/home/katiemc/.conda/envs/cmws/lib/python3.7/site-packages/numpy/lib/nanfunctions.py:1114: RuntimeWarning: All-NaN slice encountered\n",
      "  overwrite_input=overwrite_input)\n",
      "/home/katiemc/.conda/envs/cmws/lib/python3.7/site-packages/numpy/lib/nanfunctions.py:1390: RuntimeWarning: All-NaN slice encountered\n",
      "  overwrite_input, interpolation)\n",
      "/home/katiemc/.conda/envs/cmws/lib/python3.7/site-packages/numpy/lib/nanfunctions.py:1114: RuntimeWarning: All-NaN slice encountered\n",
      "  overwrite_input=overwrite_input)\n",
      "/home/katiemc/.conda/envs/cmws/lib/python3.7/site-packages/numpy/lib/nanfunctions.py:1390: RuntimeWarning: All-NaN slice encountered\n",
      "  overwrite_input, interpolation)\n",
      "/home/katiemc/.conda/envs/cmws/lib/python3.7/site-packages/numpy/lib/nanfunctions.py:1114: RuntimeWarning: All-NaN slice encountered\n",
      "  overwrite_input=overwrite_input)\n",
      "/home/katiemc/.conda/envs/cmws/lib/python3.7/site-packages/numpy/lib/nanfunctions.py:1390: RuntimeWarning: All-NaN slice encountered\n",
      "  overwrite_input, interpolation)\n",
      "/home/katiemc/.conda/envs/cmws/lib/python3.7/site-packages/numpy/lib/nanfunctions.py:1114: RuntimeWarning: All-NaN slice encountered\n",
      "  overwrite_input=overwrite_input)\n",
      "/home/katiemc/.conda/envs/cmws/lib/python3.7/site-packages/numpy/lib/nanfunctions.py:1390: RuntimeWarning: All-NaN slice encountered\n",
      "  overwrite_input, interpolation)\n"
     ]
    },
    {
     "name": "stdout",
     "output_type": "stream",
     "text": [
      "11:32:16 | /om/user/katiemc/continuous_mws/cmws/util.py:293 | INFO: Saved to ../save/cmws_vs_rws_noColor/losses_2_overlay.png\n",
      "color status:  False\n",
      "path:  /om/user/katiemc/continuous_mws/cmws/examples/scene_understanding/data/1_1/cube_0.01/train.pt\n",
      "11:32:17 | /om/user/katiemc/continuous_mws/cmws/examples/scene_understanding/data.py:348 | INFO: Loading dataset (test = False)...\n",
      "11:32:17 | /om/user/katiemc/continuous_mws/cmws/examples/scene_understanding/data.py:352 | INFO: Dataset (test = False) loaded /om/user/katiemc/continuous_mws/cmws/examples/scene_understanding/data/1_1/cube_0.01/train.pt\n",
      "11:32:17 | /om/user/katiemc/continuous_mws/cmws/memory.py:20 | INFO: Initializing memory\n"
     ]
    },
    {
     "name": "stderr",
     "output_type": "stream",
     "text": [
      "100%|██████████| 100/100 [00:00<00:00, 437.77it/s]\n"
     ]
    },
    {
     "name": "stdout",
     "output_type": "stream",
     "text": [
      "color status:  False\n",
      "path:  /om/user/katiemc/continuous_mws/cmws/examples/scene_understanding/data/1_1/cube_0.01/train.pt\n",
      "11:32:17 | /om/user/katiemc/continuous_mws/cmws/examples/scene_understanding/data.py:348 | INFO: Loading dataset (test = False)...\n",
      "11:32:17 | /om/user/katiemc/continuous_mws/cmws/examples/scene_understanding/data.py:352 | INFO: Dataset (test = False) loaded /om/user/katiemc/continuous_mws/cmws/examples/scene_understanding/data/1_1/cube_0.01/train.pt\n",
      "11:32:17 | /om/user/katiemc/continuous_mws/cmws/memory.py:20 | INFO: Initializing memory\n"
     ]
    },
    {
     "name": "stderr",
     "output_type": "stream",
     "text": [
      "100%|██████████| 100/100 [00:00<00:00, 457.59it/s]\n"
     ]
    },
    {
     "name": "stdout",
     "output_type": "stream",
     "text": [
      "color status:  False\n",
      "path:  /om/user/katiemc/continuous_mws/cmws/examples/scene_understanding/data/1_1/cube_0.01/train.pt\n",
      "11:32:18 | /om/user/katiemc/continuous_mws/cmws/examples/scene_understanding/data.py:348 | INFO: Loading dataset (test = False)...\n",
      "11:32:18 | /om/user/katiemc/continuous_mws/cmws/examples/scene_understanding/data.py:352 | INFO: Dataset (test = False) loaded /om/user/katiemc/continuous_mws/cmws/examples/scene_understanding/data/1_1/cube_0.01/train.pt\n",
      "11:32:18 | /om/user/katiemc/continuous_mws/cmws/memory.py:20 | INFO: Initializing memory\n"
     ]
    },
    {
     "name": "stderr",
     "output_type": "stream",
     "text": [
      "100%|██████████| 100/100 [00:00<00:00, 694.32it/s]\n"
     ]
    },
    {
     "name": "stdout",
     "output_type": "stream",
     "text": [
      "color status:  False\n",
      "path:  /om/user/katiemc/continuous_mws/cmws/examples/scene_understanding/data/1_1/cube_0.01/train.pt\n",
      "11:32:18 | /om/user/katiemc/continuous_mws/cmws/examples/scene_understanding/data.py:348 | INFO: Loading dataset (test = False)...\n",
      "11:32:18 | /om/user/katiemc/continuous_mws/cmws/examples/scene_understanding/data.py:352 | INFO: Dataset (test = False) loaded /om/user/katiemc/continuous_mws/cmws/examples/scene_understanding/data/1_1/cube_0.01/train.pt\n",
      "11:32:18 | /om/user/katiemc/continuous_mws/cmws/memory.py:20 | INFO: Initializing memory\n"
     ]
    },
    {
     "name": "stderr",
     "output_type": "stream",
     "text": [
      "100%|██████████| 100/100 [00:00<00:00, 524.55it/s]\n"
     ]
    },
    {
     "name": "stdout",
     "output_type": "stream",
     "text": [
      "color status:  False\n",
      "path:  /om/user/katiemc/continuous_mws/cmws/examples/scene_understanding/data/1_1/cube_0.02/train.pt\n",
      "11:32:18 | /om/user/katiemc/continuous_mws/cmws/examples/scene_understanding/data.py:348 | INFO: Loading dataset (test = False)...\n",
      "11:32:18 | /om/user/katiemc/continuous_mws/cmws/examples/scene_understanding/data.py:352 | INFO: Dataset (test = False) loaded /om/user/katiemc/continuous_mws/cmws/examples/scene_understanding/data/1_1/cube_0.02/train.pt\n",
      "11:32:18 | /om/user/katiemc/continuous_mws/cmws/memory.py:20 | INFO: Initializing memory\n"
     ]
    },
    {
     "name": "stderr",
     "output_type": "stream",
     "text": [
      "100%|██████████| 100/100 [00:00<00:00, 476.05it/s]\n"
     ]
    },
    {
     "name": "stdout",
     "output_type": "stream",
     "text": [
      "color status:  False\n",
      "path:  /om/user/katiemc/continuous_mws/cmws/examples/scene_understanding/data/1_1/cube_0.02/train.pt\n",
      "11:32:19 | /om/user/katiemc/continuous_mws/cmws/examples/scene_understanding/data.py:348 | INFO: Loading dataset (test = False)...\n",
      "11:32:19 | /om/user/katiemc/continuous_mws/cmws/examples/scene_understanding/data.py:352 | INFO: Dataset (test = False) loaded /om/user/katiemc/continuous_mws/cmws/examples/scene_understanding/data/1_1/cube_0.02/train.pt\n",
      "11:32:19 | /om/user/katiemc/continuous_mws/cmws/memory.py:20 | INFO: Initializing memory\n"
     ]
    },
    {
     "name": "stderr",
     "output_type": "stream",
     "text": [
      "100%|██████████| 100/100 [00:00<00:00, 479.22it/s]\n"
     ]
    },
    {
     "name": "stdout",
     "output_type": "stream",
     "text": [
      "color status:  False\n",
      "path:  /om/user/katiemc/continuous_mws/cmws/examples/scene_understanding/data/1_1/cube_0.02/train.pt\n",
      "11:32:19 | /om/user/katiemc/continuous_mws/cmws/examples/scene_understanding/data.py:348 | INFO: Loading dataset (test = False)...\n",
      "11:32:19 | /om/user/katiemc/continuous_mws/cmws/examples/scene_understanding/data.py:352 | INFO: Dataset (test = False) loaded /om/user/katiemc/continuous_mws/cmws/examples/scene_understanding/data/1_1/cube_0.02/train.pt\n",
      "11:32:19 | /om/user/katiemc/continuous_mws/cmws/memory.py:20 | INFO: Initializing memory\n"
     ]
    },
    {
     "name": "stderr",
     "output_type": "stream",
     "text": [
      "100%|██████████| 100/100 [00:00<00:00, 529.64it/s]\n"
     ]
    },
    {
     "name": "stdout",
     "output_type": "stream",
     "text": [
      "color status:  False\n",
      "path:  /om/user/katiemc/continuous_mws/cmws/examples/scene_understanding/data/1_1/cube_0.02/train.pt\n",
      "11:32:20 | /om/user/katiemc/continuous_mws/cmws/examples/scene_understanding/data.py:348 | INFO: Loading dataset (test = False)...\n",
      "11:32:20 | /om/user/katiemc/continuous_mws/cmws/examples/scene_understanding/data.py:352 | INFO: Dataset (test = False) loaded /om/user/katiemc/continuous_mws/cmws/examples/scene_understanding/data/1_1/cube_0.02/train.pt\n",
      "11:32:20 | /om/user/katiemc/continuous_mws/cmws/memory.py:20 | INFO: Initializing memory\n"
     ]
    },
    {
     "name": "stderr",
     "output_type": "stream",
     "text": [
      "100%|██████████| 100/100 [00:00<00:00, 431.92it/s]\n"
     ]
    },
    {
     "name": "stdout",
     "output_type": "stream",
     "text": [
      "color status:  False\n",
      "path:  /om/user/katiemc/continuous_mws/cmws/examples/scene_understanding/data/1_1/cube_0.02/train.pt\n",
      "11:32:20 | /om/user/katiemc/continuous_mws/cmws/examples/scene_understanding/data.py:348 | INFO: Loading dataset (test = False)...\n",
      "11:32:20 | /om/user/katiemc/continuous_mws/cmws/examples/scene_understanding/data.py:352 | INFO: Dataset (test = False) loaded /om/user/katiemc/continuous_mws/cmws/examples/scene_understanding/data/1_1/cube_0.02/train.pt\n",
      "11:32:20 | /om/user/katiemc/continuous_mws/cmws/memory.py:20 | INFO: Initializing memory\n"
     ]
    },
    {
     "name": "stderr",
     "output_type": "stream",
     "text": [
      "100%|██████████| 100/100 [00:00<00:00, 528.10it/s]\n"
     ]
    },
    {
     "name": "stdout",
     "output_type": "stream",
     "text": [
      "color status:  False\n",
      "path:  /om/user/katiemc/continuous_mws/cmws/examples/scene_understanding/data/1_1/cube_0.05/train.pt\n",
      "11:32:20 | /om/user/katiemc/continuous_mws/cmws/examples/scene_understanding/data.py:348 | INFO: Loading dataset (test = False)...\n",
      "11:32:21 | /om/user/katiemc/continuous_mws/cmws/examples/scene_understanding/data.py:352 | INFO: Dataset (test = False) loaded /om/user/katiemc/continuous_mws/cmws/examples/scene_understanding/data/1_1/cube_0.05/train.pt\n",
      "11:32:21 | /om/user/katiemc/continuous_mws/cmws/memory.py:20 | INFO: Initializing memory\n"
     ]
    },
    {
     "name": "stderr",
     "output_type": "stream",
     "text": [
      "100%|██████████| 100/100 [00:00<00:00, 392.29it/s]\n"
     ]
    },
    {
     "name": "stdout",
     "output_type": "stream",
     "text": [
      "11:32:21 | /om/user/katiemc/continuous_mws/cmws/examples/scene_understanding/util.py:127 | INFO: Error Ran out of input\n",
      "11:32:21 | /om/user/katiemc/continuous_mws/cmws/examples/scene_understanding/util.py:129 | INFO: Waiting for 1 seconds\n",
      "11:32:22 | /om/user/katiemc/continuous_mws/cmws/examples/scene_understanding/util.py:127 | INFO: Error Ran out of input\n",
      "11:32:22 | /om/user/katiemc/continuous_mws/cmws/examples/scene_understanding/util.py:129 | INFO: Waiting for 2 seconds\n",
      "11:32:24 | /om/user/katiemc/continuous_mws/cmws/examples/scene_understanding/util.py:127 | INFO: Error Ran out of input\n",
      "11:32:24 | /om/user/katiemc/continuous_mws/cmws/examples/scene_understanding/util.py:129 | INFO: Waiting for 4 seconds\n",
      "color status:  False\n",
      "path:  /om/user/katiemc/continuous_mws/cmws/examples/scene_understanding/data/1_1/cube_0.05/train.pt\n",
      "11:32:28 | /om/user/katiemc/continuous_mws/cmws/examples/scene_understanding/data.py:348 | INFO: Loading dataset (test = False)...\n",
      "11:32:28 | /om/user/katiemc/continuous_mws/cmws/examples/scene_understanding/data.py:352 | INFO: Dataset (test = False) loaded /om/user/katiemc/continuous_mws/cmws/examples/scene_understanding/data/1_1/cube_0.05/train.pt\n",
      "11:32:28 | /om/user/katiemc/continuous_mws/cmws/memory.py:20 | INFO: Initializing memory\n"
     ]
    },
    {
     "name": "stderr",
     "output_type": "stream",
     "text": [
      "100%|██████████| 100/100 [00:00<00:00, 421.00it/s]\n"
     ]
    },
    {
     "name": "stdout",
     "output_type": "stream",
     "text": [
      "color status:  False\n",
      "path:  /om/user/katiemc/continuous_mws/cmws/examples/scene_understanding/data/1_1/cube_0.05/train.pt\n",
      "11:32:28 | /om/user/katiemc/continuous_mws/cmws/examples/scene_understanding/data.py:348 | INFO: Loading dataset (test = False)...\n",
      "11:32:28 | /om/user/katiemc/continuous_mws/cmws/examples/scene_understanding/data.py:352 | INFO: Dataset (test = False) loaded /om/user/katiemc/continuous_mws/cmws/examples/scene_understanding/data/1_1/cube_0.05/train.pt\n",
      "11:32:28 | /om/user/katiemc/continuous_mws/cmws/memory.py:20 | INFO: Initializing memory\n"
     ]
    },
    {
     "name": "stderr",
     "output_type": "stream",
     "text": [
      "100%|██████████| 100/100 [00:00<00:00, 468.25it/s]"
     ]
    },
    {
     "name": "stdout",
     "output_type": "stream",
     "text": [
      "color status:  False\n",
      "path:  /om/user/katiemc/continuous_mws/cmws/examples/scene_understanding/data/1_1/cube_0.05/train.pt\n",
      "11:32:29 | /om/user/katiemc/continuous_mws/cmws/examples/scene_understanding/data.py:348 | INFO: Loading dataset (test = False)...\n"
     ]
    },
    {
     "name": "stderr",
     "output_type": "stream",
     "text": [
      "\n"
     ]
    },
    {
     "name": "stdout",
     "output_type": "stream",
     "text": [
      "11:32:29 | /om/user/katiemc/continuous_mws/cmws/examples/scene_understanding/data.py:352 | INFO: Dataset (test = False) loaded /om/user/katiemc/continuous_mws/cmws/examples/scene_understanding/data/1_1/cube_0.05/train.pt\n",
      "11:32:29 | /om/user/katiemc/continuous_mws/cmws/memory.py:20 | INFO: Initializing memory\n"
     ]
    },
    {
     "name": "stderr",
     "output_type": "stream",
     "text": [
      "100%|██████████| 100/100 [00:00<00:00, 692.12it/s]\n"
     ]
    },
    {
     "name": "stdout",
     "output_type": "stream",
     "text": [
      "color status:  False\n",
      "path:  /om/user/katiemc/continuous_mws/cmws/examples/scene_understanding/data/1_1/cube_0.1/train.pt\n",
      "11:32:29 | /om/user/katiemc/continuous_mws/cmws/examples/scene_understanding/data.py:348 | INFO: Loading dataset (test = False)...\n",
      "11:32:29 | /om/user/katiemc/continuous_mws/cmws/examples/scene_understanding/data.py:352 | INFO: Dataset (test = False) loaded /om/user/katiemc/continuous_mws/cmws/examples/scene_understanding/data/1_1/cube_0.1/train.pt\n",
      "11:32:29 | /om/user/katiemc/continuous_mws/cmws/memory.py:20 | INFO: Initializing memory\n"
     ]
    },
    {
     "name": "stderr",
     "output_type": "stream",
     "text": [
      "100%|██████████| 100/100 [00:00<00:00, 674.91it/s]\n"
     ]
    },
    {
     "name": "stdout",
     "output_type": "stream",
     "text": [
      "color status:  False\n",
      "path:  /om/user/katiemc/continuous_mws/cmws/examples/scene_understanding/data/1_1/cube_0.1/train.pt\n",
      "11:32:29 | /om/user/katiemc/continuous_mws/cmws/examples/scene_understanding/data.py:348 | INFO: Loading dataset (test = False)...\n",
      "11:32:29 | /om/user/katiemc/continuous_mws/cmws/examples/scene_understanding/data.py:352 | INFO: Dataset (test = False) loaded /om/user/katiemc/continuous_mws/cmws/examples/scene_understanding/data/1_1/cube_0.1/train.pt\n",
      "11:32:29 | /om/user/katiemc/continuous_mws/cmws/memory.py:20 | INFO: Initializing memory\n"
     ]
    },
    {
     "name": "stderr",
     "output_type": "stream",
     "text": [
      "100%|██████████| 100/100 [00:00<00:00, 570.33it/s]\n"
     ]
    },
    {
     "name": "stdout",
     "output_type": "stream",
     "text": [
      "color status:  False\n",
      "path:  /om/user/katiemc/continuous_mws/cmws/examples/scene_understanding/data/1_1/cube_0.1/train.pt\n",
      "11:32:30 | /om/user/katiemc/continuous_mws/cmws/examples/scene_understanding/data.py:348 | INFO: Loading dataset (test = False)...\n",
      "11:32:30 | /om/user/katiemc/continuous_mws/cmws/examples/scene_understanding/data.py:352 | INFO: Dataset (test = False) loaded /om/user/katiemc/continuous_mws/cmws/examples/scene_understanding/data/1_1/cube_0.1/train.pt\n",
      "11:32:30 | /om/user/katiemc/continuous_mws/cmws/memory.py:20 | INFO: Initializing memory\n"
     ]
    },
    {
     "name": "stderr",
     "output_type": "stream",
     "text": [
      "100%|██████████| 100/100 [00:00<00:00, 549.58it/s]\n"
     ]
    },
    {
     "name": "stdout",
     "output_type": "stream",
     "text": [
      "color status:  False\n",
      "path:  /om/user/katiemc/continuous_mws/cmws/examples/scene_understanding/data/1_1/cube_0.1/train.pt\n",
      "11:32:30 | /om/user/katiemc/continuous_mws/cmws/examples/scene_understanding/data.py:348 | INFO: Loading dataset (test = False)...\n",
      "11:32:30 | /om/user/katiemc/continuous_mws/cmws/examples/scene_understanding/data.py:352 | INFO: Dataset (test = False) loaded /om/user/katiemc/continuous_mws/cmws/examples/scene_understanding/data/1_1/cube_0.1/train.pt\n",
      "11:32:30 | /om/user/katiemc/continuous_mws/cmws/memory.py:20 | INFO: Initializing memory\n"
     ]
    },
    {
     "name": "stderr",
     "output_type": "stream",
     "text": [
      "100%|██████████| 100/100 [00:00<00:00, 553.38it/s]\n"
     ]
    },
    {
     "name": "stdout",
     "output_type": "stream",
     "text": [
      "color status:  False\n",
      "path:  /om/user/katiemc/continuous_mws/cmws/examples/scene_understanding/data/1_1/cube_0.1/train.pt\n",
      "11:32:30 | /om/user/katiemc/continuous_mws/cmws/examples/scene_understanding/data.py:348 | INFO: Loading dataset (test = False)...\n",
      "11:32:30 | /om/user/katiemc/continuous_mws/cmws/examples/scene_understanding/data.py:352 | INFO: Dataset (test = False) loaded /om/user/katiemc/continuous_mws/cmws/examples/scene_understanding/data/1_1/cube_0.1/train.pt\n",
      "11:32:30 | /om/user/katiemc/continuous_mws/cmws/memory.py:20 | INFO: Initializing memory\n"
     ]
    },
    {
     "name": "stderr",
     "output_type": "stream",
     "text": [
      "100%|██████████| 100/100 [00:00<00:00, 567.18it/s]\n"
     ]
    },
    {
     "name": "stdout",
     "output_type": "stream",
     "text": [
      "color status:  False\n",
      "path:  /om/user/katiemc/continuous_mws/cmws/examples/scene_understanding/data/1_1/cube_0.2/train.pt\n",
      "11:32:31 | /om/user/katiemc/continuous_mws/cmws/examples/scene_understanding/data.py:348 | INFO: Loading dataset (test = False)...\n",
      "11:32:31 | /om/user/katiemc/continuous_mws/cmws/examples/scene_understanding/data.py:352 | INFO: Dataset (test = False) loaded /om/user/katiemc/continuous_mws/cmws/examples/scene_understanding/data/1_1/cube_0.2/train.pt\n",
      "11:32:31 | /om/user/katiemc/continuous_mws/cmws/memory.py:20 | INFO: Initializing memory\n"
     ]
    },
    {
     "name": "stderr",
     "output_type": "stream",
     "text": [
      "100%|██████████| 100/100 [00:00<00:00, 567.58it/s]\n"
     ]
    },
    {
     "name": "stdout",
     "output_type": "stream",
     "text": [
      "color status:  False\n",
      "path:  /om/user/katiemc/continuous_mws/cmws/examples/scene_understanding/data/1_1/cube_0.2/train.pt\n",
      "11:32:31 | /om/user/katiemc/continuous_mws/cmws/examples/scene_understanding/data.py:348 | INFO: Loading dataset (test = False)...\n",
      "11:32:31 | /om/user/katiemc/continuous_mws/cmws/examples/scene_understanding/data.py:352 | INFO: Dataset (test = False) loaded /om/user/katiemc/continuous_mws/cmws/examples/scene_understanding/data/1_1/cube_0.2/train.pt\n",
      "11:32:31 | /om/user/katiemc/continuous_mws/cmws/memory.py:20 | INFO: Initializing memory\n"
     ]
    },
    {
     "name": "stderr",
     "output_type": "stream",
     "text": [
      "100%|██████████| 100/100 [00:00<00:00, 547.00it/s]\n"
     ]
    },
    {
     "name": "stdout",
     "output_type": "stream",
     "text": [
      "color status:  False\n",
      "path:  /om/user/katiemc/continuous_mws/cmws/examples/scene_understanding/data/1_1/cube_0.2/train.pt\n",
      "11:32:31 | /om/user/katiemc/continuous_mws/cmws/examples/scene_understanding/data.py:348 | INFO: Loading dataset (test = False)...\n",
      "11:32:32 | /om/user/katiemc/continuous_mws/cmws/examples/scene_understanding/data.py:352 | INFO: Dataset (test = False) loaded /om/user/katiemc/continuous_mws/cmws/examples/scene_understanding/data/1_1/cube_0.2/train.pt\n",
      "11:32:32 | /om/user/katiemc/continuous_mws/cmws/memory.py:20 | INFO: Initializing memory\n"
     ]
    },
    {
     "name": "stderr",
     "output_type": "stream",
     "text": [
      "100%|██████████| 100/100 [00:00<00:00, 358.43it/s]\n"
     ]
    },
    {
     "name": "stdout",
     "output_type": "stream",
     "text": [
      "color status:  False\n",
      "path:  /om/user/katiemc/continuous_mws/cmws/examples/scene_understanding/data/1_1/cube_0.2/train.pt\n",
      "11:32:32 | /om/user/katiemc/continuous_mws/cmws/examples/scene_understanding/data.py:348 | INFO: Loading dataset (test = False)...\n",
      "11:32:32 | /om/user/katiemc/continuous_mws/cmws/examples/scene_understanding/data.py:352 | INFO: Dataset (test = False) loaded /om/user/katiemc/continuous_mws/cmws/examples/scene_understanding/data/1_1/cube_0.2/train.pt\n",
      "11:32:32 | /om/user/katiemc/continuous_mws/cmws/memory.py:20 | INFO: Initializing memory\n"
     ]
    },
    {
     "name": "stderr",
     "output_type": "stream",
     "text": [
      "100%|██████████| 100/100 [00:00<00:00, 430.81it/s]\n"
     ]
    },
    {
     "name": "stdout",
     "output_type": "stream",
     "text": [
      "color status:  False\n",
      "path:  /om/user/katiemc/continuous_mws/cmws/examples/scene_understanding/data/1_1/cube_0.2/train.pt\n",
      "11:32:32 | /om/user/katiemc/continuous_mws/cmws/examples/scene_understanding/data.py:348 | INFO: Loading dataset (test = False)...\n",
      "11:32:32 | /om/user/katiemc/continuous_mws/cmws/examples/scene_understanding/data.py:352 | INFO: Dataset (test = False) loaded /om/user/katiemc/continuous_mws/cmws/examples/scene_understanding/data/1_1/cube_0.2/train.pt\n",
      "11:32:32 | /om/user/katiemc/continuous_mws/cmws/memory.py:20 | INFO: Initializing memory\n"
     ]
    },
    {
     "name": "stderr",
     "output_type": "stream",
     "text": [
      "100%|██████████| 100/100 [00:00<00:00, 464.65it/s]\n"
     ]
    },
    {
     "name": "stdout",
     "output_type": "stream",
     "text": [
      "color status:  False\n",
      "path:  /om/user/katiemc/continuous_mws/cmws/examples/scene_understanding/data/1_1/cube_0.01/train.pt\n",
      "11:32:33 | /om/user/katiemc/continuous_mws/cmws/examples/scene_understanding/data.py:348 | INFO: Loading dataset (test = False)...\n",
      "11:32:33 | /om/user/katiemc/continuous_mws/cmws/examples/scene_understanding/data.py:352 | INFO: Dataset (test = False) loaded /om/user/katiemc/continuous_mws/cmws/examples/scene_understanding/data/1_1/cube_0.01/train.pt\n",
      "11:32:33 | /om/user/katiemc/continuous_mws/cmws/memory.py:20 | INFO: Initializing memory\n"
     ]
    },
    {
     "name": "stderr",
     "output_type": "stream",
     "text": [
      "100%|██████████| 100/100 [00:00<00:00, 466.37it/s]\n"
     ]
    },
    {
     "name": "stdout",
     "output_type": "stream",
     "text": [
      "color status:  False\n",
      "path:  /om/user/katiemc/continuous_mws/cmws/examples/scene_understanding/data/1_1/cube_0.01/train.pt\n",
      "11:32:33 | /om/user/katiemc/continuous_mws/cmws/examples/scene_understanding/data.py:348 | INFO: Loading dataset (test = False)...\n",
      "11:32:33 | /om/user/katiemc/continuous_mws/cmws/examples/scene_understanding/data.py:352 | INFO: Dataset (test = False) loaded /om/user/katiemc/continuous_mws/cmws/examples/scene_understanding/data/1_1/cube_0.01/train.pt\n",
      "11:32:33 | /om/user/katiemc/continuous_mws/cmws/memory.py:20 | INFO: Initializing memory\n"
     ]
    },
    {
     "name": "stderr",
     "output_type": "stream",
     "text": [
      "100%|██████████| 100/100 [00:00<00:00, 390.30it/s]\n"
     ]
    },
    {
     "name": "stdout",
     "output_type": "stream",
     "text": [
      "color status:  False\n",
      "path:  /om/user/katiemc/continuous_mws/cmws/examples/scene_understanding/data/1_1/cube_0.01/train.pt\n",
      "11:32:34 | /om/user/katiemc/continuous_mws/cmws/examples/scene_understanding/data.py:348 | INFO: Loading dataset (test = False)...\n",
      "11:32:34 | /om/user/katiemc/continuous_mws/cmws/examples/scene_understanding/data.py:352 | INFO: Dataset (test = False) loaded /om/user/katiemc/continuous_mws/cmws/examples/scene_understanding/data/1_1/cube_0.01/train.pt\n",
      "11:32:34 | /om/user/katiemc/continuous_mws/cmws/memory.py:20 | INFO: Initializing memory\n"
     ]
    },
    {
     "name": "stderr",
     "output_type": "stream",
     "text": [
      "100%|██████████| 100/100 [00:00<00:00, 529.05it/s]\n"
     ]
    },
    {
     "name": "stdout",
     "output_type": "stream",
     "text": [
      "color status:  False\n",
      "path:  /om/user/katiemc/continuous_mws/cmws/examples/scene_understanding/data/1_1/cube_0.01/train.pt\n",
      "11:32:34 | /om/user/katiemc/continuous_mws/cmws/examples/scene_understanding/data.py:348 | INFO: Loading dataset (test = False)...\n",
      "11:32:34 | /om/user/katiemc/continuous_mws/cmws/examples/scene_understanding/data.py:352 | INFO: Dataset (test = False) loaded /om/user/katiemc/continuous_mws/cmws/examples/scene_understanding/data/1_1/cube_0.01/train.pt\n",
      "11:32:34 | /om/user/katiemc/continuous_mws/cmws/memory.py:20 | INFO: Initializing memory\n"
     ]
    },
    {
     "name": "stderr",
     "output_type": "stream",
     "text": [
      "100%|██████████| 100/100 [00:00<00:00, 432.38it/s]\n"
     ]
    },
    {
     "name": "stdout",
     "output_type": "stream",
     "text": [
      "color status:  False\n",
      "path:  /om/user/katiemc/continuous_mws/cmws/examples/scene_understanding/data/1_1/cube_0.01/train.pt\n",
      "11:32:34 | /om/user/katiemc/continuous_mws/cmws/examples/scene_understanding/data.py:348 | INFO: Loading dataset (test = False)...\n",
      "11:32:34 | /om/user/katiemc/continuous_mws/cmws/examples/scene_understanding/data.py:352 | INFO: Dataset (test = False) loaded /om/user/katiemc/continuous_mws/cmws/examples/scene_understanding/data/1_1/cube_0.01/train.pt\n",
      "11:32:34 | /om/user/katiemc/continuous_mws/cmws/memory.py:20 | INFO: Initializing memory\n"
     ]
    },
    {
     "name": "stderr",
     "output_type": "stream",
     "text": [
      "100%|██████████| 100/100 [00:00<00:00, 373.54it/s]\n"
     ]
    },
    {
     "name": "stdout",
     "output_type": "stream",
     "text": [
      "color status:  False\n",
      "path:  /om/user/katiemc/continuous_mws/cmws/examples/scene_understanding/data/1_1/cube_0.01/train.pt\n",
      "11:32:35 | /om/user/katiemc/continuous_mws/cmws/examples/scene_understanding/data.py:348 | INFO: Loading dataset (test = False)...\n",
      "11:32:35 | /om/user/katiemc/continuous_mws/cmws/examples/scene_understanding/data.py:352 | INFO: Dataset (test = False) loaded /om/user/katiemc/continuous_mws/cmws/examples/scene_understanding/data/1_1/cube_0.01/train.pt\n",
      "11:32:35 | /om/user/katiemc/continuous_mws/cmws/memory.py:20 | INFO: Initializing memory\n"
     ]
    },
    {
     "name": "stderr",
     "output_type": "stream",
     "text": [
      "100%|██████████| 100/100 [00:00<00:00, 551.76it/s]\n"
     ]
    },
    {
     "name": "stdout",
     "output_type": "stream",
     "text": [
      "color status:  False\n",
      "path:  /om/user/katiemc/continuous_mws/cmws/examples/scene_understanding/data/1_1/cube_0.01/train.pt\n",
      "11:32:35 | /om/user/katiemc/continuous_mws/cmws/examples/scene_understanding/data.py:348 | INFO: Loading dataset (test = False)...\n",
      "11:32:35 | /om/user/katiemc/continuous_mws/cmws/examples/scene_understanding/data.py:352 | INFO: Dataset (test = False) loaded /om/user/katiemc/continuous_mws/cmws/examples/scene_understanding/data/1_1/cube_0.01/train.pt\n",
      "11:32:35 | /om/user/katiemc/continuous_mws/cmws/memory.py:20 | INFO: Initializing memory\n"
     ]
    },
    {
     "name": "stderr",
     "output_type": "stream",
     "text": [
      "100%|██████████| 100/100 [00:00<00:00, 511.44it/s]\n"
     ]
    },
    {
     "name": "stdout",
     "output_type": "stream",
     "text": [
      "color status:  False\n",
      "path:  /om/user/katiemc/continuous_mws/cmws/examples/scene_understanding/data/1_1/cube_0.01/train.pt\n",
      "11:32:36 | /om/user/katiemc/continuous_mws/cmws/examples/scene_understanding/data.py:348 | INFO: Loading dataset (test = False)...\n",
      "11:32:36 | /om/user/katiemc/continuous_mws/cmws/examples/scene_understanding/data.py:352 | INFO: Dataset (test = False) loaded /om/user/katiemc/continuous_mws/cmws/examples/scene_understanding/data/1_1/cube_0.01/train.pt\n",
      "11:32:36 | /om/user/katiemc/continuous_mws/cmws/memory.py:20 | INFO: Initializing memory\n"
     ]
    },
    {
     "name": "stderr",
     "output_type": "stream",
     "text": [
      "100%|██████████| 100/100 [00:00<00:00, 560.42it/s]\n"
     ]
    },
    {
     "name": "stdout",
     "output_type": "stream",
     "text": [
      "color status:  False\n",
      "path:  /om/user/katiemc/continuous_mws/cmws/examples/scene_understanding/data/1_1/cube_0.01/train.pt\n",
      "11:32:36 | /om/user/katiemc/continuous_mws/cmws/examples/scene_understanding/data.py:348 | INFO: Loading dataset (test = False)...\n",
      "11:32:36 | /om/user/katiemc/continuous_mws/cmws/examples/scene_understanding/data.py:352 | INFO: Dataset (test = False) loaded /om/user/katiemc/continuous_mws/cmws/examples/scene_understanding/data/1_1/cube_0.01/train.pt\n",
      "11:32:36 | /om/user/katiemc/continuous_mws/cmws/memory.py:20 | INFO: Initializing memory\n"
     ]
    },
    {
     "name": "stderr",
     "output_type": "stream",
     "text": [
      "100%|██████████| 100/100 [00:00<00:00, 342.27it/s]\n"
     ]
    },
    {
     "name": "stdout",
     "output_type": "stream",
     "text": [
      "color status:  False\n",
      "path:  /om/user/katiemc/continuous_mws/cmws/examples/scene_understanding/data/1_1/cube_0.01/train.pt\n",
      "11:32:37 | /om/user/katiemc/continuous_mws/cmws/examples/scene_understanding/data.py:348 | INFO: Loading dataset (test = False)...\n",
      "11:32:37 | /om/user/katiemc/continuous_mws/cmws/examples/scene_understanding/data.py:352 | INFO: Dataset (test = False) loaded /om/user/katiemc/continuous_mws/cmws/examples/scene_understanding/data/1_1/cube_0.01/train.pt\n",
      "11:32:37 | /om/user/katiemc/continuous_mws/cmws/memory.py:20 | INFO: Initializing memory\n"
     ]
    },
    {
     "name": "stderr",
     "output_type": "stream",
     "text": [
      "100%|██████████| 100/100 [00:00<00:00, 351.20it/s]\n"
     ]
    },
    {
     "name": "stdout",
     "output_type": "stream",
     "text": [
      "11:32:40 | /om/user/katiemc/continuous_mws/cmws/examples/scene_understanding/util.py:127 | INFO: Error Ran out of input\n",
      "11:32:40 | /om/user/katiemc/continuous_mws/cmws/examples/scene_understanding/util.py:129 | INFO: Waiting for 1 seconds\n",
      "11:32:41 | /om/user/katiemc/continuous_mws/cmws/examples/scene_understanding/util.py:127 | INFO: Error Ran out of input\n",
      "11:32:41 | /om/user/katiemc/continuous_mws/cmws/examples/scene_understanding/util.py:129 | INFO: Waiting for 2 seconds\n",
      "11:32:43 | /om/user/katiemc/continuous_mws/cmws/examples/scene_understanding/util.py:127 | INFO: Error Ran out of input\n",
      "11:32:43 | /om/user/katiemc/continuous_mws/cmws/examples/scene_understanding/util.py:129 | INFO: Waiting for 4 seconds\n",
      "11:32:49 | /om/user/katiemc/continuous_mws/cmws/examples/scene_understanding/util.py:127 | INFO: Error Ran out of input\n",
      "11:32:49 | /om/user/katiemc/continuous_mws/cmws/examples/scene_understanding/util.py:129 | INFO: Waiting for 1 seconds\n",
      "11:32:50 | /om/user/katiemc/continuous_mws/cmws/examples/scene_understanding/util.py:127 | INFO: Error Ran out of input\n",
      "11:32:50 | /om/user/katiemc/continuous_mws/cmws/examples/scene_understanding/util.py:129 | INFO: Waiting for 2 seconds\n",
      "11:32:52 | /om/user/katiemc/continuous_mws/cmws/examples/scene_understanding/util.py:127 | INFO: Error Ran out of input\n",
      "11:32:52 | /om/user/katiemc/continuous_mws/cmws/examples/scene_understanding/util.py:129 | INFO: Waiting for 4 seconds\n",
      "11:32:57 | /om/user/katiemc/continuous_mws/cmws/examples/scene_understanding/util.py:127 | INFO: Error Ran out of input\n",
      "11:32:57 | /om/user/katiemc/continuous_mws/cmws/examples/scene_understanding/util.py:129 | INFO: Waiting for 1 seconds\n",
      "11:32:58 | /om/user/katiemc/continuous_mws/cmws/examples/scene_understanding/util.py:127 | INFO: Error Ran out of input\n",
      "11:32:58 | /om/user/katiemc/continuous_mws/cmws/examples/scene_understanding/util.py:129 | INFO: Waiting for 2 seconds\n",
      "11:33:00 | /om/user/katiemc/continuous_mws/cmws/examples/scene_understanding/util.py:127 | INFO: Error Ran out of input\n",
      "11:33:00 | /om/user/katiemc/continuous_mws/cmws/examples/scene_understanding/util.py:129 | INFO: Waiting for 4 seconds\n",
      "11:33:04 | /om/user/katiemc/continuous_mws/cmws/examples/scene_understanding/util.py:127 | INFO: Error Ran out of input\n",
      "11:33:04 | /om/user/katiemc/continuous_mws/cmws/examples/scene_understanding/util.py:129 | INFO: Waiting for 1 seconds\n",
      "11:33:05 | /om/user/katiemc/continuous_mws/cmws/examples/scene_understanding/util.py:127 | INFO: Error Ran out of input\n",
      "11:33:05 | /om/user/katiemc/continuous_mws/cmws/examples/scene_understanding/util.py:129 | INFO: Waiting for 2 seconds\n",
      "11:33:07 | /om/user/katiemc/continuous_mws/cmws/examples/scene_understanding/util.py:127 | INFO: Error Ran out of input\n",
      "11:33:07 | /om/user/katiemc/continuous_mws/cmws/examples/scene_understanding/util.py:129 | INFO: Waiting for 4 seconds\n",
      "11:33:13 | /om/user/katiemc/continuous_mws/cmws/util.py:293 | INFO: Saved to ../save/cmws_vs_rws_learnColor/losses_2.png\n",
      "color status:  False\n",
      "path:  /om/user/katiemc/continuous_mws/cmws/examples/scene_understanding/data/1_1/cube_0.01/train.pt\n",
      "11:33:13 | /om/user/katiemc/continuous_mws/cmws/examples/scene_understanding/data.py:348 | INFO: Loading dataset (test = False)...\n",
      "11:33:13 | /om/user/katiemc/continuous_mws/cmws/examples/scene_understanding/data.py:352 | INFO: Dataset (test = False) loaded /om/user/katiemc/continuous_mws/cmws/examples/scene_understanding/data/1_1/cube_0.01/train.pt\n",
      "11:33:13 | /om/user/katiemc/continuous_mws/cmws/memory.py:20 | INFO: Initializing memory\n"
     ]
    },
    {
     "name": "stderr",
     "output_type": "stream",
     "text": [
      "100%|██████████| 100/100 [00:00<00:00, 307.73it/s]"
     ]
    },
    {
     "name": "stdout",
     "output_type": "stream",
     "text": [
      "color status:  False\n",
      "path:  /om/user/katiemc/continuous_mws/cmws/examples/scene_understanding/data/1_1/cube_0.01/train.pt\n",
      "11:33:13 | /om/user/katiemc/continuous_mws/cmws/examples/scene_understanding/data.py:348 | INFO: Loading dataset (test = False)...\n",
      "11:33:13 | /om/user/katiemc/continuous_mws/cmws/examples/scene_understanding/data.py:352 | INFO: Dataset (test = False) loaded /om/user/katiemc/continuous_mws/cmws/examples/scene_understanding/data/1_1/cube_0.01/train.pt\n",
      "11:33:13 | /om/user/katiemc/continuous_mws/cmws/memory.py:20 | INFO: Initializing memory\n"
     ]
    },
    {
     "name": "stderr",
     "output_type": "stream",
     "text": [
      "\n",
      "100%|██████████| 100/100 [00:00<00:00, 437.75it/s]\n"
     ]
    },
    {
     "name": "stdout",
     "output_type": "stream",
     "text": [
      "color status:  False\n",
      "path:  /om/user/katiemc/continuous_mws/cmws/examples/scene_understanding/data/1_1/cube_0.01/train.pt\n",
      "11:33:14 | /om/user/katiemc/continuous_mws/cmws/examples/scene_understanding/data.py:348 | INFO: Loading dataset (test = False)...\n",
      "11:33:14 | /om/user/katiemc/continuous_mws/cmws/examples/scene_understanding/data.py:352 | INFO: Dataset (test = False) loaded /om/user/katiemc/continuous_mws/cmws/examples/scene_understanding/data/1_1/cube_0.01/train.pt\n",
      "11:33:14 | /om/user/katiemc/continuous_mws/cmws/memory.py:20 | INFO: Initializing memory\n"
     ]
    },
    {
     "name": "stderr",
     "output_type": "stream",
     "text": [
      "100%|██████████| 100/100 [00:00<00:00, 424.31it/s]\n"
     ]
    },
    {
     "name": "stdout",
     "output_type": "stream",
     "text": [
      "color status:  False\n",
      "path:  /om/user/katiemc/continuous_mws/cmws/examples/scene_understanding/data/1_1/cube_0.01/train.pt\n",
      "11:33:14 | /om/user/katiemc/continuous_mws/cmws/examples/scene_understanding/data.py:348 | INFO: Loading dataset (test = False)...\n",
      "11:33:14 | /om/user/katiemc/continuous_mws/cmws/examples/scene_understanding/data.py:352 | INFO: Dataset (test = False) loaded /om/user/katiemc/continuous_mws/cmws/examples/scene_understanding/data/1_1/cube_0.01/train.pt\n",
      "11:33:14 | /om/user/katiemc/continuous_mws/cmws/memory.py:20 | INFO: Initializing memory\n"
     ]
    },
    {
     "name": "stderr",
     "output_type": "stream",
     "text": [
      "100%|██████████| 100/100 [00:00<00:00, 543.56it/s]\n"
     ]
    },
    {
     "name": "stdout",
     "output_type": "stream",
     "text": [
      "color status:  False\n",
      "path:  /om/user/katiemc/continuous_mws/cmws/examples/scene_understanding/data/1_1/cube_0.02/train.pt\n",
      "11:33:14 | /om/user/katiemc/continuous_mws/cmws/examples/scene_understanding/data.py:348 | INFO: Loading dataset (test = False)...\n",
      "11:33:14 | /om/user/katiemc/continuous_mws/cmws/examples/scene_understanding/data.py:352 | INFO: Dataset (test = False) loaded /om/user/katiemc/continuous_mws/cmws/examples/scene_understanding/data/1_1/cube_0.02/train.pt\n",
      "11:33:14 | /om/user/katiemc/continuous_mws/cmws/memory.py:20 | INFO: Initializing memory\n"
     ]
    },
    {
     "name": "stderr",
     "output_type": "stream",
     "text": [
      "100%|██████████| 100/100 [00:00<00:00, 713.42it/s]\n"
     ]
    },
    {
     "name": "stdout",
     "output_type": "stream",
     "text": [
      "color status:  False\n",
      "path:  /om/user/katiemc/continuous_mws/cmws/examples/scene_understanding/data/1_1/cube_0.02/train.pt\n",
      "11:33:15 | /om/user/katiemc/continuous_mws/cmws/examples/scene_understanding/data.py:348 | INFO: Loading dataset (test = False)...\n",
      "11:33:15 | /om/user/katiemc/continuous_mws/cmws/examples/scene_understanding/data.py:352 | INFO: Dataset (test = False) loaded /om/user/katiemc/continuous_mws/cmws/examples/scene_understanding/data/1_1/cube_0.02/train.pt\n",
      "11:33:15 | /om/user/katiemc/continuous_mws/cmws/memory.py:20 | INFO: Initializing memory\n"
     ]
    },
    {
     "name": "stderr",
     "output_type": "stream",
     "text": [
      "100%|██████████| 100/100 [00:00<00:00, 584.21it/s]\n"
     ]
    },
    {
     "name": "stdout",
     "output_type": "stream",
     "text": [
      "color status:  False\n",
      "path:  /om/user/katiemc/continuous_mws/cmws/examples/scene_understanding/data/1_1/cube_0.02/train.pt\n",
      "11:33:15 | /om/user/katiemc/continuous_mws/cmws/examples/scene_understanding/data.py:348 | INFO: Loading dataset (test = False)...\n",
      "11:33:15 | /om/user/katiemc/continuous_mws/cmws/examples/scene_understanding/data.py:352 | INFO: Dataset (test = False) loaded /om/user/katiemc/continuous_mws/cmws/examples/scene_understanding/data/1_1/cube_0.02/train.pt\n",
      "11:33:15 | /om/user/katiemc/continuous_mws/cmws/memory.py:20 | INFO: Initializing memory\n"
     ]
    },
    {
     "name": "stderr",
     "output_type": "stream",
     "text": [
      "100%|██████████| 100/100 [00:00<00:00, 574.80it/s]\n"
     ]
    },
    {
     "name": "stdout",
     "output_type": "stream",
     "text": [
      "color status:  False\n",
      "path:  /om/user/katiemc/continuous_mws/cmws/examples/scene_understanding/data/1_1/cube_0.02/train.pt\n",
      "11:33:15 | /om/user/katiemc/continuous_mws/cmws/examples/scene_understanding/data.py:348 | INFO: Loading dataset (test = False)...\n",
      "11:33:15 | /om/user/katiemc/continuous_mws/cmws/examples/scene_understanding/data.py:352 | INFO: Dataset (test = False) loaded /om/user/katiemc/continuous_mws/cmws/examples/scene_understanding/data/1_1/cube_0.02/train.pt\n",
      "11:33:15 | /om/user/katiemc/continuous_mws/cmws/memory.py:20 | INFO: Initializing memory\n"
     ]
    },
    {
     "name": "stderr",
     "output_type": "stream",
     "text": [
      "100%|██████████| 100/100 [00:00<00:00, 583.23it/s]\n"
     ]
    },
    {
     "name": "stdout",
     "output_type": "stream",
     "text": [
      "color status:  False\n",
      "path:  /om/user/katiemc/continuous_mws/cmws/examples/scene_understanding/data/1_1/cube_0.02/train.pt\n",
      "11:33:15 | /om/user/katiemc/continuous_mws/cmws/examples/scene_understanding/data.py:348 | INFO: Loading dataset (test = False)...\n",
      "11:33:15 | /om/user/katiemc/continuous_mws/cmws/examples/scene_understanding/data.py:352 | INFO: Dataset (test = False) loaded /om/user/katiemc/continuous_mws/cmws/examples/scene_understanding/data/1_1/cube_0.02/train.pt\n",
      "11:33:15 | /om/user/katiemc/continuous_mws/cmws/memory.py:20 | INFO: Initializing memory\n"
     ]
    },
    {
     "name": "stderr",
     "output_type": "stream",
     "text": [
      "100%|██████████| 100/100 [00:00<00:00, 566.26it/s]\n"
     ]
    },
    {
     "name": "stdout",
     "output_type": "stream",
     "text": [
      "color status:  False\n",
      "path:  /om/user/katiemc/continuous_mws/cmws/examples/scene_understanding/data/1_1/cube_0.05/train.pt\n",
      "11:33:16 | /om/user/katiemc/continuous_mws/cmws/examples/scene_understanding/data.py:348 | INFO: Loading dataset (test = False)...\n",
      "11:33:16 | /om/user/katiemc/continuous_mws/cmws/examples/scene_understanding/data.py:352 | INFO: Dataset (test = False) loaded /om/user/katiemc/continuous_mws/cmws/examples/scene_understanding/data/1_1/cube_0.05/train.pt\n",
      "11:33:16 | /om/user/katiemc/continuous_mws/cmws/memory.py:20 | INFO: Initializing memory\n"
     ]
    },
    {
     "name": "stderr",
     "output_type": "stream",
     "text": [
      "100%|██████████| 100/100 [00:00<00:00, 573.53it/s]"
     ]
    },
    {
     "name": "stdout",
     "output_type": "stream",
     "text": [
      "11:33:16 | /om/user/katiemc/continuous_mws/cmws/examples/scene_understanding/util.py:127 | INFO: Error Ran out of input\n",
      "11:33:16 | /om/user/katiemc/continuous_mws/cmws/examples/scene_understanding/util.py:129 | INFO: Waiting for 1 seconds\n"
     ]
    },
    {
     "name": "stderr",
     "output_type": "stream",
     "text": [
      "\n"
     ]
    },
    {
     "name": "stdout",
     "output_type": "stream",
     "text": [
      "11:33:17 | /om/user/katiemc/continuous_mws/cmws/examples/scene_understanding/util.py:127 | INFO: Error Ran out of input\n",
      "11:33:17 | /om/user/katiemc/continuous_mws/cmws/examples/scene_understanding/util.py:129 | INFO: Waiting for 2 seconds\n",
      "11:33:19 | /om/user/katiemc/continuous_mws/cmws/examples/scene_understanding/util.py:127 | INFO: Error Ran out of input\n",
      "11:33:19 | /om/user/katiemc/continuous_mws/cmws/examples/scene_understanding/util.py:129 | INFO: Waiting for 4 seconds\n",
      "color status:  False\n",
      "path:  /om/user/katiemc/continuous_mws/cmws/examples/scene_understanding/data/1_1/cube_0.05/train.pt\n",
      "11:33:23 | /om/user/katiemc/continuous_mws/cmws/examples/scene_understanding/data.py:348 | INFO: Loading dataset (test = False)...\n",
      "11:33:23 | /om/user/katiemc/continuous_mws/cmws/examples/scene_understanding/data.py:352 | INFO: Dataset (test = False) loaded /om/user/katiemc/continuous_mws/cmws/examples/scene_understanding/data/1_1/cube_0.05/train.pt\n",
      "11:33:23 | /om/user/katiemc/continuous_mws/cmws/memory.py:20 | INFO: Initializing memory\n"
     ]
    },
    {
     "name": "stderr",
     "output_type": "stream",
     "text": [
      "100%|██████████| 100/100 [00:00<00:00, 565.39it/s]\n"
     ]
    },
    {
     "name": "stdout",
     "output_type": "stream",
     "text": [
      "color status:  False\n",
      "path:  /om/user/katiemc/continuous_mws/cmws/examples/scene_understanding/data/1_1/cube_0.05/train.pt\n",
      "11:33:23 | /om/user/katiemc/continuous_mws/cmws/examples/scene_understanding/data.py:348 | INFO: Loading dataset (test = False)...\n",
      "11:33:23 | /om/user/katiemc/continuous_mws/cmws/examples/scene_understanding/data.py:352 | INFO: Dataset (test = False) loaded /om/user/katiemc/continuous_mws/cmws/examples/scene_understanding/data/1_1/cube_0.05/train.pt\n",
      "11:33:23 | /om/user/katiemc/continuous_mws/cmws/memory.py:20 | INFO: Initializing memory\n"
     ]
    },
    {
     "name": "stderr",
     "output_type": "stream",
     "text": [
      "100%|██████████| 100/100 [00:00<00:00, 559.33it/s]\n"
     ]
    },
    {
     "name": "stdout",
     "output_type": "stream",
     "text": [
      "color status:  False\n",
      "path:  /om/user/katiemc/continuous_mws/cmws/examples/scene_understanding/data/1_1/cube_0.05/train.pt\n",
      "11:33:23 | /om/user/katiemc/continuous_mws/cmws/examples/scene_understanding/data.py:348 | INFO: Loading dataset (test = False)...\n",
      "11:33:23 | /om/user/katiemc/continuous_mws/cmws/examples/scene_understanding/data.py:352 | INFO: Dataset (test = False) loaded /om/user/katiemc/continuous_mws/cmws/examples/scene_understanding/data/1_1/cube_0.05/train.pt\n",
      "11:33:23 | /om/user/katiemc/continuous_mws/cmws/memory.py:20 | INFO: Initializing memory\n"
     ]
    },
    {
     "name": "stderr",
     "output_type": "stream",
     "text": [
      "100%|██████████| 100/100 [00:00<00:00, 544.95it/s]\n"
     ]
    },
    {
     "name": "stdout",
     "output_type": "stream",
     "text": [
      "color status:  False\n",
      "path:  /om/user/katiemc/continuous_mws/cmws/examples/scene_understanding/data/1_1/cube_0.1/train.pt\n",
      "11:33:24 | /om/user/katiemc/continuous_mws/cmws/examples/scene_understanding/data.py:348 | INFO: Loading dataset (test = False)...\n",
      "11:33:24 | /om/user/katiemc/continuous_mws/cmws/examples/scene_understanding/data.py:352 | INFO: Dataset (test = False) loaded /om/user/katiemc/continuous_mws/cmws/examples/scene_understanding/data/1_1/cube_0.1/train.pt\n",
      "11:33:24 | /om/user/katiemc/continuous_mws/cmws/memory.py:20 | INFO: Initializing memory\n"
     ]
    },
    {
     "name": "stderr",
     "output_type": "stream",
     "text": [
      "100%|██████████| 100/100 [00:00<00:00, 581.24it/s]\n"
     ]
    },
    {
     "name": "stdout",
     "output_type": "stream",
     "text": [
      "color status:  False\n",
      "path:  /om/user/katiemc/continuous_mws/cmws/examples/scene_understanding/data/1_1/cube_0.1/train.pt\n",
      "11:33:24 | /om/user/katiemc/continuous_mws/cmws/examples/scene_understanding/data.py:348 | INFO: Loading dataset (test = False)...\n",
      "11:33:24 | /om/user/katiemc/continuous_mws/cmws/examples/scene_understanding/data.py:352 | INFO: Dataset (test = False) loaded /om/user/katiemc/continuous_mws/cmws/examples/scene_understanding/data/1_1/cube_0.1/train.pt\n",
      "11:33:24 | /om/user/katiemc/continuous_mws/cmws/memory.py:20 | INFO: Initializing memory\n"
     ]
    },
    {
     "name": "stderr",
     "output_type": "stream",
     "text": [
      "100%|██████████| 100/100 [00:00<00:00, 575.42it/s]\n"
     ]
    },
    {
     "name": "stdout",
     "output_type": "stream",
     "text": [
      "color status:  False\n",
      "path:  /om/user/katiemc/continuous_mws/cmws/examples/scene_understanding/data/1_1/cube_0.1/train.pt\n",
      "11:33:24 | /om/user/katiemc/continuous_mws/cmws/examples/scene_understanding/data.py:348 | INFO: Loading dataset (test = False)...\n",
      "11:33:24 | /om/user/katiemc/continuous_mws/cmws/examples/scene_understanding/data.py:352 | INFO: Dataset (test = False) loaded /om/user/katiemc/continuous_mws/cmws/examples/scene_understanding/data/1_1/cube_0.1/train.pt\n",
      "11:33:24 | /om/user/katiemc/continuous_mws/cmws/memory.py:20 | INFO: Initializing memory\n"
     ]
    },
    {
     "name": "stderr",
     "output_type": "stream",
     "text": [
      "100%|██████████| 100/100 [00:00<00:00, 561.73it/s]\n"
     ]
    },
    {
     "name": "stdout",
     "output_type": "stream",
     "text": [
      "color status:  False\n",
      "path:  /om/user/katiemc/continuous_mws/cmws/examples/scene_understanding/data/1_1/cube_0.1/train.pt\n",
      "11:33:25 | /om/user/katiemc/continuous_mws/cmws/examples/scene_understanding/data.py:348 | INFO: Loading dataset (test = False)...\n",
      "11:33:25 | /om/user/katiemc/continuous_mws/cmws/examples/scene_understanding/data.py:352 | INFO: Dataset (test = False) loaded /om/user/katiemc/continuous_mws/cmws/examples/scene_understanding/data/1_1/cube_0.1/train.pt\n",
      "11:33:25 | /om/user/katiemc/continuous_mws/cmws/memory.py:20 | INFO: Initializing memory\n"
     ]
    },
    {
     "name": "stderr",
     "output_type": "stream",
     "text": [
      "100%|██████████| 100/100 [00:00<00:00, 599.85it/s]\n"
     ]
    },
    {
     "name": "stdout",
     "output_type": "stream",
     "text": [
      "color status:  False\n",
      "path:  /om/user/katiemc/continuous_mws/cmws/examples/scene_understanding/data/1_1/cube_0.1/train.pt\n",
      "11:33:25 | /om/user/katiemc/continuous_mws/cmws/examples/scene_understanding/data.py:348 | INFO: Loading dataset (test = False)...\n",
      "11:33:25 | /om/user/katiemc/continuous_mws/cmws/examples/scene_understanding/data.py:352 | INFO: Dataset (test = False) loaded /om/user/katiemc/continuous_mws/cmws/examples/scene_understanding/data/1_1/cube_0.1/train.pt\n",
      "11:33:25 | /om/user/katiemc/continuous_mws/cmws/memory.py:20 | INFO: Initializing memory\n"
     ]
    },
    {
     "name": "stderr",
     "output_type": "stream",
     "text": [
      "100%|██████████| 100/100 [00:00<00:00, 551.19it/s]\n"
     ]
    },
    {
     "name": "stdout",
     "output_type": "stream",
     "text": [
      "color status:  False\n",
      "path:  /om/user/katiemc/continuous_mws/cmws/examples/scene_understanding/data/1_1/cube_0.2/train.pt\n",
      "11:33:25 | /om/user/katiemc/continuous_mws/cmws/examples/scene_understanding/data.py:348 | INFO: Loading dataset (test = False)...\n",
      "11:33:25 | /om/user/katiemc/continuous_mws/cmws/examples/scene_understanding/data.py:352 | INFO: Dataset (test = False) loaded /om/user/katiemc/continuous_mws/cmws/examples/scene_understanding/data/1_1/cube_0.2/train.pt\n",
      "11:33:25 | /om/user/katiemc/continuous_mws/cmws/memory.py:20 | INFO: Initializing memory\n"
     ]
    },
    {
     "name": "stderr",
     "output_type": "stream",
     "text": [
      "100%|██████████| 100/100 [00:00<00:00, 535.35it/s]\n"
     ]
    },
    {
     "name": "stdout",
     "output_type": "stream",
     "text": [
      "color status:  False\n",
      "path:  /om/user/katiemc/continuous_mws/cmws/examples/scene_understanding/data/1_1/cube_0.2/train.pt\n",
      "11:33:25 | /om/user/katiemc/continuous_mws/cmws/examples/scene_understanding/data.py:348 | INFO: Loading dataset (test = False)...\n",
      "11:33:26 | /om/user/katiemc/continuous_mws/cmws/examples/scene_understanding/data.py:352 | INFO: Dataset (test = False) loaded /om/user/katiemc/continuous_mws/cmws/examples/scene_understanding/data/1_1/cube_0.2/train.pt\n",
      "11:33:26 | /om/user/katiemc/continuous_mws/cmws/memory.py:20 | INFO: Initializing memory\n"
     ]
    },
    {
     "name": "stderr",
     "output_type": "stream",
     "text": [
      "100%|██████████| 100/100 [00:00<00:00, 430.46it/s]\n"
     ]
    },
    {
     "name": "stdout",
     "output_type": "stream",
     "text": [
      "color status:  False\n",
      "path:  /om/user/katiemc/continuous_mws/cmws/examples/scene_understanding/data/1_1/cube_0.2/train.pt\n",
      "11:33:26 | /om/user/katiemc/continuous_mws/cmws/examples/scene_understanding/data.py:348 | INFO: Loading dataset (test = False)...\n",
      "11:33:26 | /om/user/katiemc/continuous_mws/cmws/examples/scene_understanding/data.py:352 | INFO: Dataset (test = False) loaded /om/user/katiemc/continuous_mws/cmws/examples/scene_understanding/data/1_1/cube_0.2/train.pt\n",
      "11:33:26 | /om/user/katiemc/continuous_mws/cmws/memory.py:20 | INFO: Initializing memory\n"
     ]
    },
    {
     "name": "stderr",
     "output_type": "stream",
     "text": [
      "100%|██████████| 100/100 [00:00<00:00, 518.87it/s]\n"
     ]
    },
    {
     "name": "stdout",
     "output_type": "stream",
     "text": [
      "color status:  False\n",
      "path:  /om/user/katiemc/continuous_mws/cmws/examples/scene_understanding/data/1_1/cube_0.2/train.pt\n",
      "11:33:26 | /om/user/katiemc/continuous_mws/cmws/examples/scene_understanding/data.py:348 | INFO: Loading dataset (test = False)...\n",
      "11:33:26 | /om/user/katiemc/continuous_mws/cmws/examples/scene_understanding/data.py:352 | INFO: Dataset (test = False) loaded /om/user/katiemc/continuous_mws/cmws/examples/scene_understanding/data/1_1/cube_0.2/train.pt\n",
      "11:33:26 | /om/user/katiemc/continuous_mws/cmws/memory.py:20 | INFO: Initializing memory\n"
     ]
    },
    {
     "name": "stderr",
     "output_type": "stream",
     "text": [
      "100%|██████████| 100/100 [00:00<00:00, 534.47it/s]\n"
     ]
    },
    {
     "name": "stdout",
     "output_type": "stream",
     "text": [
      "color status:  False\n",
      "path:  /om/user/katiemc/continuous_mws/cmws/examples/scene_understanding/data/1_1/cube_0.2/train.pt\n",
      "11:33:26 | /om/user/katiemc/continuous_mws/cmws/examples/scene_understanding/data.py:348 | INFO: Loading dataset (test = False)...\n",
      "11:33:26 | /om/user/katiemc/continuous_mws/cmws/examples/scene_understanding/data.py:352 | INFO: Dataset (test = False) loaded /om/user/katiemc/continuous_mws/cmws/examples/scene_understanding/data/1_1/cube_0.2/train.pt\n",
      "11:33:26 | /om/user/katiemc/continuous_mws/cmws/memory.py:20 | INFO: Initializing memory\n"
     ]
    },
    {
     "name": "stderr",
     "output_type": "stream",
     "text": [
      "100%|██████████| 100/100 [00:00<00:00, 319.43it/s]\n"
     ]
    },
    {
     "name": "stdout",
     "output_type": "stream",
     "text": [
      "color status:  False\n",
      "path:  /om/user/katiemc/continuous_mws/cmws/examples/scene_understanding/data/1_1/cube_0.01/train.pt\n",
      "11:33:27 | /om/user/katiemc/continuous_mws/cmws/examples/scene_understanding/data.py:348 | INFO: Loading dataset (test = False)...\n",
      "11:33:27 | /om/user/katiemc/continuous_mws/cmws/examples/scene_understanding/data.py:352 | INFO: Dataset (test = False) loaded /om/user/katiemc/continuous_mws/cmws/examples/scene_understanding/data/1_1/cube_0.01/train.pt\n",
      "11:33:27 | /om/user/katiemc/continuous_mws/cmws/memory.py:20 | INFO: Initializing memory\n"
     ]
    },
    {
     "name": "stderr",
     "output_type": "stream",
     "text": [
      "100%|██████████| 100/100 [00:00<00:00, 573.72it/s]\n"
     ]
    },
    {
     "name": "stdout",
     "output_type": "stream",
     "text": [
      "color status:  False\n",
      "path:  /om/user/katiemc/continuous_mws/cmws/examples/scene_understanding/data/1_1/cube_0.01/train.pt\n",
      "11:33:27 | /om/user/katiemc/continuous_mws/cmws/examples/scene_understanding/data.py:348 | INFO: Loading dataset (test = False)...\n",
      "11:33:27 | /om/user/katiemc/continuous_mws/cmws/examples/scene_understanding/data.py:352 | INFO: Dataset (test = False) loaded /om/user/katiemc/continuous_mws/cmws/examples/scene_understanding/data/1_1/cube_0.01/train.pt\n",
      "11:33:27 | /om/user/katiemc/continuous_mws/cmws/memory.py:20 | INFO: Initializing memory\n"
     ]
    },
    {
     "name": "stderr",
     "output_type": "stream",
     "text": [
      "100%|██████████| 100/100 [00:00<00:00, 676.26it/s]\n"
     ]
    },
    {
     "name": "stdout",
     "output_type": "stream",
     "text": [
      "color status:  False\n",
      "path:  /om/user/katiemc/continuous_mws/cmws/examples/scene_understanding/data/1_1/cube_0.01/train.pt\n",
      "11:33:27 | /om/user/katiemc/continuous_mws/cmws/examples/scene_understanding/data.py:348 | INFO: Loading dataset (test = False)...\n",
      "11:33:27 | /om/user/katiemc/continuous_mws/cmws/examples/scene_understanding/data.py:352 | INFO: Dataset (test = False) loaded /om/user/katiemc/continuous_mws/cmws/examples/scene_understanding/data/1_1/cube_0.01/train.pt\n",
      "11:33:27 | /om/user/katiemc/continuous_mws/cmws/memory.py:20 | INFO: Initializing memory\n"
     ]
    },
    {
     "name": "stderr",
     "output_type": "stream",
     "text": [
      "100%|██████████| 100/100 [00:00<00:00, 474.03it/s]"
     ]
    },
    {
     "name": "stdout",
     "output_type": "stream",
     "text": [
      "color status:  False\n",
      "path:  /om/user/katiemc/continuous_mws/cmws/examples/scene_understanding/data/1_1/cube_0.01/train.pt\n",
      "11:33:28 | /om/user/katiemc/continuous_mws/cmws/examples/scene_understanding/data.py:348 | INFO: Loading dataset (test = False)...\n",
      "11:33:28 | /om/user/katiemc/continuous_mws/cmws/examples/scene_understanding/data.py:352 | INFO: Dataset (test = False) loaded /om/user/katiemc/continuous_mws/cmws/examples/scene_understanding/data/1_1/cube_0.01/train.pt\n"
     ]
    },
    {
     "name": "stderr",
     "output_type": "stream",
     "text": [
      "\n"
     ]
    },
    {
     "name": "stdout",
     "output_type": "stream",
     "text": [
      "11:33:28 | /om/user/katiemc/continuous_mws/cmws/memory.py:20 | INFO: Initializing memory\n"
     ]
    },
    {
     "name": "stderr",
     "output_type": "stream",
     "text": [
      "100%|██████████| 100/100 [00:00<00:00, 473.77it/s]"
     ]
    },
    {
     "name": "stdout",
     "output_type": "stream",
     "text": [
      "color status:  False\n",
      "path:  /om/user/katiemc/continuous_mws/cmws/examples/scene_understanding/data/1_1/cube_0.01/train.pt\n",
      "11:33:28 | /om/user/katiemc/continuous_mws/cmws/examples/scene_understanding/data.py:348 | INFO: Loading dataset (test = False)...\n",
      "11:33:28 | /om/user/katiemc/continuous_mws/cmws/examples/scene_understanding/data.py:352 | INFO: Dataset (test = False) loaded /om/user/katiemc/continuous_mws/cmws/examples/scene_understanding/data/1_1/cube_0.01/train.pt\n"
     ]
    },
    {
     "name": "stderr",
     "output_type": "stream",
     "text": [
      "\n"
     ]
    },
    {
     "name": "stdout",
     "output_type": "stream",
     "text": [
      "11:33:28 | /om/user/katiemc/continuous_mws/cmws/memory.py:20 | INFO: Initializing memory\n"
     ]
    },
    {
     "name": "stderr",
     "output_type": "stream",
     "text": [
      "100%|██████████| 100/100 [00:00<00:00, 485.64it/s]"
     ]
    },
    {
     "name": "stdout",
     "output_type": "stream",
     "text": [
      "color status:  False\n",
      "path:  /om/user/katiemc/continuous_mws/cmws/examples/scene_understanding/data/1_1/cube_0.01/train.pt\n",
      "11:33:28 | /om/user/katiemc/continuous_mws/cmws/examples/scene_understanding/data.py:348 | INFO: Loading dataset (test = False)...\n",
      "11:33:28 | /om/user/katiemc/continuous_mws/cmws/examples/scene_understanding/data.py:352 | INFO: Dataset (test = False) loaded /om/user/katiemc/continuous_mws/cmws/examples/scene_understanding/data/1_1/cube_0.01/train.pt\n",
      "11:33:28 | /om/user/katiemc/continuous_mws/cmws/memory.py:20 | INFO: Initializing memory\n"
     ]
    },
    {
     "name": "stderr",
     "output_type": "stream",
     "text": [
      "\n",
      "100%|██████████| 100/100 [00:00<00:00, 494.54it/s]"
     ]
    },
    {
     "name": "stdout",
     "output_type": "stream",
     "text": [
      "color status:  False\n",
      "path:  /om/user/katiemc/continuous_mws/cmws/examples/scene_understanding/data/1_1/cube_0.01/train.pt\n",
      "11:33:29 | /om/user/katiemc/continuous_mws/cmws/examples/scene_understanding/data.py:348 | INFO: Loading dataset (test = False)...\n",
      "11:33:29 | /om/user/katiemc/continuous_mws/cmws/examples/scene_understanding/data.py:352 | INFO: Dataset (test = False) loaded /om/user/katiemc/continuous_mws/cmws/examples/scene_understanding/data/1_1/cube_0.01/train.pt\n",
      "11:33:29 | /om/user/katiemc/continuous_mws/cmws/memory.py:20 | INFO: Initializing memory\n"
     ]
    },
    {
     "name": "stderr",
     "output_type": "stream",
     "text": [
      "\n",
      "100%|██████████| 100/100 [00:00<00:00, 491.14it/s]"
     ]
    },
    {
     "name": "stdout",
     "output_type": "stream",
     "text": [
      "color status:  False\n",
      "path:  /om/user/katiemc/continuous_mws/cmws/examples/scene_understanding/data/1_1/cube_0.01/train.pt\n",
      "11:33:29 | /om/user/katiemc/continuous_mws/cmws/examples/scene_understanding/data.py:348 | INFO: Loading dataset (test = False)...\n"
     ]
    },
    {
     "name": "stderr",
     "output_type": "stream",
     "text": [
      "\n"
     ]
    },
    {
     "name": "stdout",
     "output_type": "stream",
     "text": [
      "11:33:29 | /om/user/katiemc/continuous_mws/cmws/examples/scene_understanding/data.py:352 | INFO: Dataset (test = False) loaded /om/user/katiemc/continuous_mws/cmws/examples/scene_understanding/data/1_1/cube_0.01/train.pt\n",
      "11:33:29 | /om/user/katiemc/continuous_mws/cmws/memory.py:20 | INFO: Initializing memory\n"
     ]
    },
    {
     "name": "stderr",
     "output_type": "stream",
     "text": [
      "100%|██████████| 100/100 [00:00<00:00, 321.80it/s]"
     ]
    },
    {
     "name": "stdout",
     "output_type": "stream",
     "text": [
      "color status:  False\n",
      "path:  /om/user/katiemc/continuous_mws/cmws/examples/scene_understanding/data/1_1/cube_0.01/train.pt\n",
      "11:33:29 | /om/user/katiemc/continuous_mws/cmws/examples/scene_understanding/data.py:348 | INFO: Loading dataset (test = False)...\n"
     ]
    },
    {
     "name": "stderr",
     "output_type": "stream",
     "text": [
      "\n"
     ]
    },
    {
     "name": "stdout",
     "output_type": "stream",
     "text": [
      "11:33:29 | /om/user/katiemc/continuous_mws/cmws/examples/scene_understanding/data.py:352 | INFO: Dataset (test = False) loaded /om/user/katiemc/continuous_mws/cmws/examples/scene_understanding/data/1_1/cube_0.01/train.pt\n",
      "11:33:29 | /om/user/katiemc/continuous_mws/cmws/memory.py:20 | INFO: Initializing memory\n"
     ]
    },
    {
     "name": "stderr",
     "output_type": "stream",
     "text": [
      "100%|██████████| 100/100 [00:00<00:00, 315.13it/s]"
     ]
    },
    {
     "name": "stdout",
     "output_type": "stream",
     "text": [
      "color status:  False\n",
      "path:  /om/user/katiemc/continuous_mws/cmws/examples/scene_understanding/data/1_1/cube_0.01/train.pt\n",
      "11:33:30 | /om/user/katiemc/continuous_mws/cmws/examples/scene_understanding/data.py:348 | INFO: Loading dataset (test = False)...\n"
     ]
    },
    {
     "name": "stderr",
     "output_type": "stream",
     "text": [
      "\n"
     ]
    },
    {
     "name": "stdout",
     "output_type": "stream",
     "text": [
      "11:33:30 | /om/user/katiemc/continuous_mws/cmws/examples/scene_understanding/data.py:352 | INFO: Dataset (test = False) loaded /om/user/katiemc/continuous_mws/cmws/examples/scene_understanding/data/1_1/cube_0.01/train.pt\n",
      "11:33:30 | /om/user/katiemc/continuous_mws/cmws/memory.py:20 | INFO: Initializing memory\n"
     ]
    },
    {
     "name": "stderr",
     "output_type": "stream",
     "text": [
      "100%|██████████| 100/100 [00:00<00:00, 301.23it/s]\n"
     ]
    },
    {
     "name": "stdout",
     "output_type": "stream",
     "text": [
      "11:33:32 | /om/user/katiemc/continuous_mws/cmws/examples/scene_understanding/util.py:127 | INFO: Error Ran out of input\n",
      "11:33:32 | /om/user/katiemc/continuous_mws/cmws/examples/scene_understanding/util.py:129 | INFO: Waiting for 1 seconds\n",
      "11:33:33 | /om/user/katiemc/continuous_mws/cmws/examples/scene_understanding/util.py:127 | INFO: Error Ran out of input\n",
      "11:33:33 | /om/user/katiemc/continuous_mws/cmws/examples/scene_understanding/util.py:129 | INFO: Waiting for 2 seconds\n",
      "11:33:35 | /om/user/katiemc/continuous_mws/cmws/examples/scene_understanding/util.py:127 | INFO: Error Ran out of input\n",
      "11:33:35 | /om/user/katiemc/continuous_mws/cmws/examples/scene_understanding/util.py:129 | INFO: Waiting for 4 seconds\n",
      "11:33:40 | /om/user/katiemc/continuous_mws/cmws/examples/scene_understanding/util.py:127 | INFO: Error Ran out of input\n",
      "11:33:40 | /om/user/katiemc/continuous_mws/cmws/examples/scene_understanding/util.py:129 | INFO: Waiting for 1 seconds\n",
      "11:33:41 | /om/user/katiemc/continuous_mws/cmws/examples/scene_understanding/util.py:127 | INFO: Error Ran out of input\n",
      "11:33:41 | /om/user/katiemc/continuous_mws/cmws/examples/scene_understanding/util.py:129 | INFO: Waiting for 2 seconds\n",
      "11:33:43 | /om/user/katiemc/continuous_mws/cmws/examples/scene_understanding/util.py:127 | INFO: Error Ran out of input\n",
      "11:33:43 | /om/user/katiemc/continuous_mws/cmws/examples/scene_understanding/util.py:129 | INFO: Waiting for 4 seconds\n",
      "11:33:48 | /om/user/katiemc/continuous_mws/cmws/examples/scene_understanding/util.py:127 | INFO: Error Ran out of input\n",
      "11:33:48 | /om/user/katiemc/continuous_mws/cmws/examples/scene_understanding/util.py:129 | INFO: Waiting for 1 seconds\n",
      "11:33:49 | /om/user/katiemc/continuous_mws/cmws/examples/scene_understanding/util.py:127 | INFO: Error Ran out of input\n",
      "11:33:49 | /om/user/katiemc/continuous_mws/cmws/examples/scene_understanding/util.py:129 | INFO: Waiting for 2 seconds\n",
      "11:33:51 | /om/user/katiemc/continuous_mws/cmws/examples/scene_understanding/util.py:127 | INFO: Error Ran out of input\n",
      "11:33:51 | /om/user/katiemc/continuous_mws/cmws/examples/scene_understanding/util.py:129 | INFO: Waiting for 4 seconds\n",
      "11:33:55 | /om/user/katiemc/continuous_mws/cmws/examples/scene_understanding/util.py:127 | INFO: Error Ran out of input\n",
      "11:33:55 | /om/user/katiemc/continuous_mws/cmws/examples/scene_understanding/util.py:129 | INFO: Waiting for 1 seconds\n",
      "11:33:56 | /om/user/katiemc/continuous_mws/cmws/examples/scene_understanding/util.py:127 | INFO: Error Ran out of input\n",
      "11:33:56 | /om/user/katiemc/continuous_mws/cmws/examples/scene_understanding/util.py:129 | INFO: Waiting for 2 seconds\n",
      "11:33:58 | /om/user/katiemc/continuous_mws/cmws/examples/scene_understanding/util.py:127 | INFO: Error Ran out of input\n",
      "11:33:58 | /om/user/katiemc/continuous_mws/cmws/examples/scene_understanding/util.py:129 | INFO: Waiting for 4 seconds\n"
     ]
    },
    {
     "name": "stderr",
     "output_type": "stream",
     "text": [
      "/home/katiemc/.conda/envs/cmws/lib/python3.7/site-packages/numpy/lib/nanfunctions.py:1114: RuntimeWarning: All-NaN slice encountered\n",
      "  overwrite_input=overwrite_input)\n",
      "/home/katiemc/.conda/envs/cmws/lib/python3.7/site-packages/numpy/lib/nanfunctions.py:1390: RuntimeWarning: All-NaN slice encountered\n",
      "  overwrite_input, interpolation)\n",
      "/home/katiemc/.conda/envs/cmws/lib/python3.7/site-packages/numpy/lib/nanfunctions.py:1114: RuntimeWarning: All-NaN slice encountered\n",
      "  overwrite_input=overwrite_input)\n",
      "/home/katiemc/.conda/envs/cmws/lib/python3.7/site-packages/numpy/lib/nanfunctions.py:1390: RuntimeWarning: All-NaN slice encountered\n",
      "  overwrite_input, interpolation)\n",
      "/home/katiemc/.conda/envs/cmws/lib/python3.7/site-packages/numpy/lib/nanfunctions.py:1114: RuntimeWarning: All-NaN slice encountered\n",
      "  overwrite_input=overwrite_input)\n",
      "/home/katiemc/.conda/envs/cmws/lib/python3.7/site-packages/numpy/lib/nanfunctions.py:1390: RuntimeWarning: All-NaN slice encountered\n",
      "  overwrite_input, interpolation)\n",
      "/home/katiemc/.conda/envs/cmws/lib/python3.7/site-packages/numpy/lib/nanfunctions.py:1114: RuntimeWarning: All-NaN slice encountered\n",
      "  overwrite_input=overwrite_input)\n",
      "/home/katiemc/.conda/envs/cmws/lib/python3.7/site-packages/numpy/lib/nanfunctions.py:1390: RuntimeWarning: All-NaN slice encountered\n",
      "  overwrite_input, interpolation)\n",
      "/home/katiemc/.conda/envs/cmws/lib/python3.7/site-packages/numpy/lib/nanfunctions.py:1114: RuntimeWarning: All-NaN slice encountered\n",
      "  overwrite_input=overwrite_input)\n",
      "/home/katiemc/.conda/envs/cmws/lib/python3.7/site-packages/numpy/lib/nanfunctions.py:1390: RuntimeWarning: All-NaN slice encountered\n",
      "  overwrite_input, interpolation)\n",
      "/home/katiemc/.conda/envs/cmws/lib/python3.7/site-packages/numpy/lib/nanfunctions.py:1114: RuntimeWarning: All-NaN slice encountered\n",
      "  overwrite_input=overwrite_input)\n",
      "/home/katiemc/.conda/envs/cmws/lib/python3.7/site-packages/numpy/lib/nanfunctions.py:1390: RuntimeWarning: All-NaN slice encountered\n",
      "  overwrite_input, interpolation)\n"
     ]
    },
    {
     "name": "stdout",
     "output_type": "stream",
     "text": [
      "11:34:05 | /om/user/katiemc/continuous_mws/cmws/util.py:293 | INFO: Saved to ../save/cmws_vs_rws_learnColor/losses_2_overlay.png\n"
     ]
    }
   ],
   "source": [
    "experiment_names = [\"all_algs_noColor_block\",\"cmws_vs_rws_noColor\", \"cmws_vs_rws_learnColor\"]#, \"cmws_vs_rws_noColor_block\", \"cmws_vs_rws_learnColor_diffShrink\",\"cmws_vs_rws_noColor\",\"cmws_vs_rws_noColor_block\", \"cmws_vs_rws_block_learnColor\"]#[\"cmws_vs_rws_learnColor\",\"cmws_vs_rws_noColor\"]\n",
    "\n",
    "for experiment_name in experiment_names: \n",
    "    get_analysis_plots(experiment_name, grid_sizes=[2], algorithms=[\"cmws_5\", \"rws\", \"vimco_2\", \"reinforce\"])#, \"reinforce\"])#[\"cmws_2\", \"cmws_4\", \"rws\"])\n",
    "#     get_analysis_plots(experiment_name, grid_sizes=[2, 3], algorithms=[\"cmws_4\", \"rws\"])#[\"cmws_2\", \"cmws_4\", \"rws\"])"
   ]
  },
  {
   "cell_type": "code",
   "execution_count": 6,
   "id": "22a05e6e",
   "metadata": {
    "scrolled": true
   },
   "outputs": [],
   "source": [
    "label_map = {\"cmws_5\": \"HMWS\", \"rws\": \"RWS\",\n",
    "            \"reinforce\": \"REINFORCE\", \"vimco_2\": \"VIMCO\"}\n",
    "\n",
    "# get figures for paper \n",
    "def get_formal_overlay_plots(experiment_name, file_tag, grid_sizes=[2, 3], algorithms=[\"cmws_2\", \"cmws_4\", \"rws\"],\n",
    "                      aggregate_shrink=True, shrink_factors=[0.01], num_iters_show=5000):\n",
    "    save_dir = f\"../save/{experiment_name}\"\n",
    "    checkpoint_paths = []\n",
    "    for config_name in sorted(os.listdir(save_dir)):\n",
    "        checkpoint_paths.append(util.get_checkpoint_path(experiment_name, config_name, -1))\n",
    "\n",
    "    for grid_size in grid_sizes:  # grid size\n",
    "        for shrink_factor in shrink_factors: \n",
    "            # Load\n",
    "            x = []\n",
    "            log_ps = {alg: [] for idx, alg in enumerate(algorithms)}\n",
    "            kls = {alg: [] for idx, alg in enumerate(algorithms)}\n",
    "            colors = {\"cmws_5\": \"C0\", \"rws\": \"C1\", \"vimco\": \"C2\", \"reinforce\": \"C3\", \"vimco_2\": \"C4\"}\n",
    "            #colors = {alg: f'C{idx}' for idx, alg in enumerate(algorithms)}\n",
    "            for checkpoint_path in checkpoint_paths:\n",
    "                checkpoint_path = f\"../{checkpoint_path}\"\n",
    "                if os.path.exists(checkpoint_path):\n",
    "                    # Load checkpoint\n",
    "                    try:\n",
    "                        model, optimizer, stats, run_args = scene3d_util.load_checkpoint(\n",
    "                            checkpoint_path, device=\"cpu\"\n",
    "                        )\n",
    "                    except:\n",
    "                        continue\n",
    "                    if run_args.num_grid_cols != grid_size: continue\n",
    "                    if run_args.shrink_factor != 0.01: continue # PATCH\n",
    "                    if not aggregate_shrink and run_args.shrink_factor != shrink_factor: continue \n",
    "                    if run_args.algorithm not in set(algorithms): continue \n",
    "                    #if len(stats.losses) < num_iters_show: continue\n",
    "\n",
    "                    x_new = [x[0] for x in stats.log_ps]\n",
    "                    if len(x_new) > len(x):\n",
    "                        x = x_new\n",
    "                    log_ps[run_args.algorithm].append([x[1] for x in stats.log_ps])\n",
    "                    kls[run_args.algorithm].append([x[1] for x in stats.kls])\n",
    "            # Make numpy arrays\n",
    "            max_len = len(x)\n",
    "            if grid_size == 2:\n",
    "                num_seeds = 5  # 10\n",
    "            else:\n",
    "                num_seeds = 5\n",
    "            log_ps_np = dict(\n",
    "                [[algorithm, np.full((num_seeds, max_len), np.nan)] for algorithm in algorithms]\n",
    "            )\n",
    "            kls_np = dict([[algorithm, np.full((num_seeds, max_len), np.nan)] for algorithm in algorithms])\n",
    "            for algorithm in algorithms:\n",
    "                for seed in range(num_seeds):\n",
    "                    try:\n",
    "                        log_p = log_ps[algorithm][seed]\n",
    "                        kl = kls[algorithm][seed]\n",
    "                    except Exception:\n",
    "                        log_p = []\n",
    "                        kl = []\n",
    "                    log_ps_np[algorithm][seed][: len(log_p)] = log_p\n",
    "                    kls_np[algorithm][seed][: len(kl)] = kl\n",
    "\n",
    "            # Plot\n",
    "            fig, ax = plt.subplots(1, 1, figsize=(6, 4))\n",
    "            for algorithm in algorithms:\n",
    "                label = label_map[algorithm]\n",
    "                linestyle = \"solid\"\n",
    "                color = colors[algorithm]\n",
    "                plot_kwargs = {\"color\": color, \"linestyle\": linestyle, \"label\": label}\n",
    "\n",
    "                # Logp\n",
    "                log_p = log_ps_np[algorithm]\n",
    "                plot_with_error_bars(ax, x, log_p, **plot_kwargs)\n",
    "\n",
    "            ax.set_xlim([0,num_iters_show])\n",
    "            ax.set_xticks([0, num_iters_show])\n",
    "            ax.set_xlabel(\"Iteration\", labelpad=-10)\n",
    "            ax.set_ylabel(f\"$\\\\log p_\\\\theta(x)$\")\n",
    "            ax.legend(loc='lower right')\n",
    "            sns.despine(ax=ax, trim=True)\n",
    "\n",
    "            util.save_fig(fig, f\"{save_dir}/losses_{file_tag}_overlay.pdf\", dpi=400)"
   ]
  },
  {
   "cell_type": "code",
   "execution_count": 7,
   "id": "afb2a4c2",
   "metadata": {},
   "outputs": [
    {
     "name": "stdout",
     "output_type": "stream",
     "text": [
      "color status:  False\n",
      "path:  /om/user/katiemc/continuous_mws/cmws/examples/scene_understanding/data/1_1/cube_0.01/train.pt\n",
      "11:36:48 | /om/user/katiemc/continuous_mws/cmws/examples/scene_understanding/data.py:348 | INFO: Loading dataset (test = False)...\n",
      "11:36:48 | /om/user/katiemc/continuous_mws/cmws/examples/scene_understanding/data.py:352 | INFO: Dataset (test = False) loaded /om/user/katiemc/continuous_mws/cmws/examples/scene_understanding/data/1_1/cube_0.01/train.pt\n",
      "11:36:48 | /om/user/katiemc/continuous_mws/cmws/memory.py:20 | INFO: Initializing memory\n"
     ]
    },
    {
     "name": "stderr",
     "output_type": "stream",
     "text": [
      "100%|██████████| 100/100 [00:00<00:00, 361.45it/s]\n"
     ]
    },
    {
     "name": "stdout",
     "output_type": "stream",
     "text": [
      "color status:  False\n",
      "path:  /om/user/katiemc/continuous_mws/cmws/examples/scene_understanding/data/1_1/cube_0.01/train.pt\n",
      "11:36:49 | /om/user/katiemc/continuous_mws/cmws/examples/scene_understanding/data.py:348 | INFO: Loading dataset (test = False)...\n",
      "11:36:49 | /om/user/katiemc/continuous_mws/cmws/examples/scene_understanding/data.py:352 | INFO: Dataset (test = False) loaded /om/user/katiemc/continuous_mws/cmws/examples/scene_understanding/data/1_1/cube_0.01/train.pt\n",
      "11:36:49 | /om/user/katiemc/continuous_mws/cmws/memory.py:20 | INFO: Initializing memory\n"
     ]
    },
    {
     "name": "stderr",
     "output_type": "stream",
     "text": [
      "100%|██████████| 100/100 [00:00<00:00, 441.17it/s]\n"
     ]
    },
    {
     "name": "stdout",
     "output_type": "stream",
     "text": [
      "color status:  False\n",
      "path:  /om/user/katiemc/continuous_mws/cmws/examples/scene_understanding/data/1_1/cube_0.01/train.pt\n",
      "11:36:49 | /om/user/katiemc/continuous_mws/cmws/examples/scene_understanding/data.py:348 | INFO: Loading dataset (test = False)...\n",
      "11:36:49 | /om/user/katiemc/continuous_mws/cmws/examples/scene_understanding/data.py:352 | INFO: Dataset (test = False) loaded /om/user/katiemc/continuous_mws/cmws/examples/scene_understanding/data/1_1/cube_0.01/train.pt\n",
      "11:36:49 | /om/user/katiemc/continuous_mws/cmws/memory.py:20 | INFO: Initializing memory\n"
     ]
    },
    {
     "name": "stderr",
     "output_type": "stream",
     "text": [
      "100%|██████████| 100/100 [00:00<00:00, 387.68it/s]\n"
     ]
    },
    {
     "name": "stdout",
     "output_type": "stream",
     "text": [
      "color status:  False\n",
      "path:  /om/user/katiemc/continuous_mws/cmws/examples/scene_understanding/data/1_1/cube_0.01/train.pt\n",
      "11:36:49 | /om/user/katiemc/continuous_mws/cmws/examples/scene_understanding/data.py:348 | INFO: Loading dataset (test = False)...\n",
      "11:36:49 | /om/user/katiemc/continuous_mws/cmws/examples/scene_understanding/data.py:352 | INFO: Dataset (test = False) loaded /om/user/katiemc/continuous_mws/cmws/examples/scene_understanding/data/1_1/cube_0.01/train.pt\n",
      "11:36:49 | /om/user/katiemc/continuous_mws/cmws/memory.py:20 | INFO: Initializing memory\n"
     ]
    },
    {
     "name": "stderr",
     "output_type": "stream",
     "text": [
      "100%|██████████| 100/100 [00:00<00:00, 362.85it/s]\n"
     ]
    },
    {
     "name": "stdout",
     "output_type": "stream",
     "text": [
      "color status:  False\n",
      "path:  /om/user/katiemc/continuous_mws/cmws/examples/scene_understanding/data/1_1/cube_0.02/train.pt\n",
      "11:36:50 | /om/user/katiemc/continuous_mws/cmws/examples/scene_understanding/data.py:348 | INFO: Loading dataset (test = False)...\n",
      "11:36:50 | /om/user/katiemc/continuous_mws/cmws/examples/scene_understanding/data.py:352 | INFO: Dataset (test = False) loaded /om/user/katiemc/continuous_mws/cmws/examples/scene_understanding/data/1_1/cube_0.02/train.pt\n",
      "11:36:50 | /om/user/katiemc/continuous_mws/cmws/memory.py:20 | INFO: Initializing memory\n"
     ]
    },
    {
     "name": "stderr",
     "output_type": "stream",
     "text": [
      "100%|██████████| 100/100 [00:00<00:00, 338.62it/s]\n"
     ]
    },
    {
     "name": "stdout",
     "output_type": "stream",
     "text": [
      "color status:  False\n",
      "path:  /om/user/katiemc/continuous_mws/cmws/examples/scene_understanding/data/1_1/cube_0.02/train.pt\n",
      "11:36:50 | /om/user/katiemc/continuous_mws/cmws/examples/scene_understanding/data.py:348 | INFO: Loading dataset (test = False)...\n",
      "11:36:50 | /om/user/katiemc/continuous_mws/cmws/examples/scene_understanding/data.py:352 | INFO: Dataset (test = False) loaded /om/user/katiemc/continuous_mws/cmws/examples/scene_understanding/data/1_1/cube_0.02/train.pt\n",
      "11:36:50 | /om/user/katiemc/continuous_mws/cmws/memory.py:20 | INFO: Initializing memory\n"
     ]
    },
    {
     "name": "stderr",
     "output_type": "stream",
     "text": [
      "100%|██████████| 100/100 [00:00<00:00, 452.23it/s]\n"
     ]
    },
    {
     "name": "stdout",
     "output_type": "stream",
     "text": [
      "color status:  False\n",
      "path:  /om/user/katiemc/continuous_mws/cmws/examples/scene_understanding/data/1_1/cube_0.02/train.pt\n",
      "11:36:51 | /om/user/katiemc/continuous_mws/cmws/examples/scene_understanding/data.py:348 | INFO: Loading dataset (test = False)...\n",
      "11:36:51 | /om/user/katiemc/continuous_mws/cmws/examples/scene_understanding/data.py:352 | INFO: Dataset (test = False) loaded /om/user/katiemc/continuous_mws/cmws/examples/scene_understanding/data/1_1/cube_0.02/train.pt\n",
      "11:36:51 | /om/user/katiemc/continuous_mws/cmws/memory.py:20 | INFO: Initializing memory\n"
     ]
    },
    {
     "name": "stderr",
     "output_type": "stream",
     "text": [
      "100%|██████████| 100/100 [00:00<00:00, 707.70it/s]\n"
     ]
    },
    {
     "name": "stdout",
     "output_type": "stream",
     "text": [
      "color status:  False\n",
      "path:  /om/user/katiemc/continuous_mws/cmws/examples/scene_understanding/data/1_1/cube_0.02/train.pt\n",
      "11:36:51 | /om/user/katiemc/continuous_mws/cmws/examples/scene_understanding/data.py:348 | INFO: Loading dataset (test = False)...\n",
      "11:36:51 | /om/user/katiemc/continuous_mws/cmws/examples/scene_understanding/data.py:352 | INFO: Dataset (test = False) loaded /om/user/katiemc/continuous_mws/cmws/examples/scene_understanding/data/1_1/cube_0.02/train.pt\n",
      "11:36:51 | /om/user/katiemc/continuous_mws/cmws/memory.py:20 | INFO: Initializing memory\n"
     ]
    },
    {
     "name": "stderr",
     "output_type": "stream",
     "text": [
      "100%|██████████| 100/100 [00:00<00:00, 470.60it/s]\n"
     ]
    },
    {
     "name": "stdout",
     "output_type": "stream",
     "text": [
      "color status:  False\n",
      "path:  /om/user/katiemc/continuous_mws/cmws/examples/scene_understanding/data/1_1/cube_0.02/train.pt\n",
      "11:36:51 | /om/user/katiemc/continuous_mws/cmws/examples/scene_understanding/data.py:348 | INFO: Loading dataset (test = False)...\n",
      "11:36:51 | /om/user/katiemc/continuous_mws/cmws/examples/scene_understanding/data.py:352 | INFO: Dataset (test = False) loaded /om/user/katiemc/continuous_mws/cmws/examples/scene_understanding/data/1_1/cube_0.02/train.pt\n",
      "11:36:51 | /om/user/katiemc/continuous_mws/cmws/memory.py:20 | INFO: Initializing memory\n"
     ]
    },
    {
     "name": "stderr",
     "output_type": "stream",
     "text": [
      "100%|██████████| 100/100 [00:00<00:00, 510.67it/s]\n"
     ]
    },
    {
     "name": "stdout",
     "output_type": "stream",
     "text": [
      "color status:  False\n",
      "path:  /om/user/katiemc/continuous_mws/cmws/examples/scene_understanding/data/1_1/cube_0.05/train.pt\n",
      "11:36:51 | /om/user/katiemc/continuous_mws/cmws/examples/scene_understanding/data.py:348 | INFO: Loading dataset (test = False)...\n",
      "11:36:52 | /om/user/katiemc/continuous_mws/cmws/examples/scene_understanding/data.py:352 | INFO: Dataset (test = False) loaded /om/user/katiemc/continuous_mws/cmws/examples/scene_understanding/data/1_1/cube_0.05/train.pt\n",
      "11:36:52 | /om/user/katiemc/continuous_mws/cmws/memory.py:20 | INFO: Initializing memory\n"
     ]
    },
    {
     "name": "stderr",
     "output_type": "stream",
     "text": [
      "100%|██████████| 100/100 [00:00<00:00, 439.14it/s]"
     ]
    },
    {
     "name": "stdout",
     "output_type": "stream",
     "text": [
      "11:36:52 | /om/user/katiemc/continuous_mws/cmws/examples/scene_understanding/util.py:127 | INFO: Error Ran out of input\n",
      "11:36:52 | /om/user/katiemc/continuous_mws/cmws/examples/scene_understanding/util.py:129 | INFO: Waiting for 1 seconds\n"
     ]
    },
    {
     "name": "stderr",
     "output_type": "stream",
     "text": [
      "\n"
     ]
    },
    {
     "name": "stdout",
     "output_type": "stream",
     "text": [
      "11:36:53 | /om/user/katiemc/continuous_mws/cmws/examples/scene_understanding/util.py:127 | INFO: Error Ran out of input\n",
      "11:36:53 | /om/user/katiemc/continuous_mws/cmws/examples/scene_understanding/util.py:129 | INFO: Waiting for 2 seconds\n",
      "11:36:55 | /om/user/katiemc/continuous_mws/cmws/examples/scene_understanding/util.py:127 | INFO: Error Ran out of input\n",
      "11:36:55 | /om/user/katiemc/continuous_mws/cmws/examples/scene_understanding/util.py:129 | INFO: Waiting for 4 seconds\n",
      "color status:  False\n",
      "path:  /om/user/katiemc/continuous_mws/cmws/examples/scene_understanding/data/1_1/cube_0.05/train.pt\n",
      "11:36:59 | /om/user/katiemc/continuous_mws/cmws/examples/scene_understanding/data.py:348 | INFO: Loading dataset (test = False)...\n",
      "11:36:59 | /om/user/katiemc/continuous_mws/cmws/examples/scene_understanding/data.py:352 | INFO: Dataset (test = False) loaded /om/user/katiemc/continuous_mws/cmws/examples/scene_understanding/data/1_1/cube_0.05/train.pt\n",
      "11:36:59 | /om/user/katiemc/continuous_mws/cmws/memory.py:20 | INFO: Initializing memory\n"
     ]
    },
    {
     "name": "stderr",
     "output_type": "stream",
     "text": [
      "100%|██████████| 100/100 [00:00<00:00, 377.14it/s]\n"
     ]
    },
    {
     "name": "stdout",
     "output_type": "stream",
     "text": [
      "color status:  False\n",
      "path:  /om/user/katiemc/continuous_mws/cmws/examples/scene_understanding/data/1_1/cube_0.05/train.pt\n",
      "11:36:59 | /om/user/katiemc/continuous_mws/cmws/examples/scene_understanding/data.py:348 | INFO: Loading dataset (test = False)...\n",
      "11:36:59 | /om/user/katiemc/continuous_mws/cmws/examples/scene_understanding/data.py:352 | INFO: Dataset (test = False) loaded /om/user/katiemc/continuous_mws/cmws/examples/scene_understanding/data/1_1/cube_0.05/train.pt\n",
      "11:36:59 | /om/user/katiemc/continuous_mws/cmws/memory.py:20 | INFO: Initializing memory\n"
     ]
    },
    {
     "name": "stderr",
     "output_type": "stream",
     "text": [
      "100%|██████████| 100/100 [00:00<00:00, 589.81it/s]\n"
     ]
    },
    {
     "name": "stdout",
     "output_type": "stream",
     "text": [
      "color status:  False\n",
      "path:  /om/user/katiemc/continuous_mws/cmws/examples/scene_understanding/data/1_1/cube_0.05/train.pt\n",
      "11:36:59 | /om/user/katiemc/continuous_mws/cmws/examples/scene_understanding/data.py:348 | INFO: Loading dataset (test = False)...\n",
      "11:37:00 | /om/user/katiemc/continuous_mws/cmws/examples/scene_understanding/data.py:352 | INFO: Dataset (test = False) loaded /om/user/katiemc/continuous_mws/cmws/examples/scene_understanding/data/1_1/cube_0.05/train.pt\n",
      "11:37:00 | /om/user/katiemc/continuous_mws/cmws/memory.py:20 | INFO: Initializing memory\n"
     ]
    },
    {
     "name": "stderr",
     "output_type": "stream",
     "text": [
      "100%|██████████| 100/100 [00:00<00:00, 556.40it/s]\n"
     ]
    },
    {
     "name": "stdout",
     "output_type": "stream",
     "text": [
      "color status:  False\n",
      "path:  /om/user/katiemc/continuous_mws/cmws/examples/scene_understanding/data/1_1/cube_0.1/train.pt\n",
      "11:37:00 | /om/user/katiemc/continuous_mws/cmws/examples/scene_understanding/data.py:348 | INFO: Loading dataset (test = False)...\n",
      "11:37:00 | /om/user/katiemc/continuous_mws/cmws/examples/scene_understanding/data.py:352 | INFO: Dataset (test = False) loaded /om/user/katiemc/continuous_mws/cmws/examples/scene_understanding/data/1_1/cube_0.1/train.pt\n",
      "11:37:00 | /om/user/katiemc/continuous_mws/cmws/memory.py:20 | INFO: Initializing memory\n"
     ]
    },
    {
     "name": "stderr",
     "output_type": "stream",
     "text": [
      "100%|██████████| 100/100 [00:00<00:00, 505.47it/s]"
     ]
    },
    {
     "name": "stdout",
     "output_type": "stream",
     "text": [
      "color status:  False\n",
      "path:  /om/user/katiemc/continuous_mws/cmws/examples/scene_understanding/data/1_1/cube_0.1/train.pt\n",
      "11:37:00 | /om/user/katiemc/continuous_mws/cmws/examples/scene_understanding/data.py:348 | INFO: Loading dataset (test = False)...\n",
      "11:37:00 | /om/user/katiemc/continuous_mws/cmws/examples/scene_understanding/data.py:352 | INFO: Dataset (test = False) loaded /om/user/katiemc/continuous_mws/cmws/examples/scene_understanding/data/1_1/cube_0.1/train.pt\n",
      "11:37:00 | /om/user/katiemc/continuous_mws/cmws/memory.py:20 | INFO: Initializing memory\n"
     ]
    },
    {
     "name": "stderr",
     "output_type": "stream",
     "text": [
      "\n",
      "100%|██████████| 100/100 [00:00<00:00, 507.10it/s]"
     ]
    },
    {
     "name": "stdout",
     "output_type": "stream",
     "text": [
      "color status:  False\n",
      "path:  /om/user/katiemc/continuous_mws/cmws/examples/scene_understanding/data/1_1/cube_0.1/train.pt\n",
      "11:37:00 | /om/user/katiemc/continuous_mws/cmws/examples/scene_understanding/data.py:348 | INFO: Loading dataset (test = False)...\n"
     ]
    },
    {
     "name": "stderr",
     "output_type": "stream",
     "text": [
      "\n"
     ]
    },
    {
     "name": "stdout",
     "output_type": "stream",
     "text": [
      "11:37:00 | /om/user/katiemc/continuous_mws/cmws/examples/scene_understanding/data.py:352 | INFO: Dataset (test = False) loaded /om/user/katiemc/continuous_mws/cmws/examples/scene_understanding/data/1_1/cube_0.1/train.pt\n",
      "11:37:00 | /om/user/katiemc/continuous_mws/cmws/memory.py:20 | INFO: Initializing memory\n"
     ]
    },
    {
     "name": "stderr",
     "output_type": "stream",
     "text": [
      "100%|██████████| 100/100 [00:00<00:00, 399.18it/s]\n"
     ]
    },
    {
     "name": "stdout",
     "output_type": "stream",
     "text": [
      "color status:  False\n",
      "path:  /om/user/katiemc/continuous_mws/cmws/examples/scene_understanding/data/1_1/cube_0.1/train.pt\n",
      "11:37:01 | /om/user/katiemc/continuous_mws/cmws/examples/scene_understanding/data.py:348 | INFO: Loading dataset (test = False)...\n",
      "11:37:01 | /om/user/katiemc/continuous_mws/cmws/examples/scene_understanding/data.py:352 | INFO: Dataset (test = False) loaded /om/user/katiemc/continuous_mws/cmws/examples/scene_understanding/data/1_1/cube_0.1/train.pt\n",
      "11:37:01 | /om/user/katiemc/continuous_mws/cmws/memory.py:20 | INFO: Initializing memory\n"
     ]
    },
    {
     "name": "stderr",
     "output_type": "stream",
     "text": [
      "100%|██████████| 100/100 [00:00<00:00, 565.82it/s]\n"
     ]
    },
    {
     "name": "stdout",
     "output_type": "stream",
     "text": [
      "color status:  False\n",
      "path:  /om/user/katiemc/continuous_mws/cmws/examples/scene_understanding/data/1_1/cube_0.1/train.pt\n",
      "11:37:01 | /om/user/katiemc/continuous_mws/cmws/examples/scene_understanding/data.py:348 | INFO: Loading dataset (test = False)...\n",
      "11:37:01 | /om/user/katiemc/continuous_mws/cmws/examples/scene_understanding/data.py:352 | INFO: Dataset (test = False) loaded /om/user/katiemc/continuous_mws/cmws/examples/scene_understanding/data/1_1/cube_0.1/train.pt\n",
      "11:37:01 | /om/user/katiemc/continuous_mws/cmws/memory.py:20 | INFO: Initializing memory\n"
     ]
    },
    {
     "name": "stderr",
     "output_type": "stream",
     "text": [
      "100%|██████████| 100/100 [00:00<00:00, 410.53it/s]\n"
     ]
    },
    {
     "name": "stdout",
     "output_type": "stream",
     "text": [
      "color status:  False\n",
      "path:  /om/user/katiemc/continuous_mws/cmws/examples/scene_understanding/data/1_1/cube_0.2/train.pt\n",
      "11:37:01 | /om/user/katiemc/continuous_mws/cmws/examples/scene_understanding/data.py:348 | INFO: Loading dataset (test = False)...\n",
      "11:37:01 | /om/user/katiemc/continuous_mws/cmws/examples/scene_understanding/data.py:352 | INFO: Dataset (test = False) loaded /om/user/katiemc/continuous_mws/cmws/examples/scene_understanding/data/1_1/cube_0.2/train.pt\n",
      "11:37:01 | /om/user/katiemc/continuous_mws/cmws/memory.py:20 | INFO: Initializing memory\n"
     ]
    },
    {
     "name": "stderr",
     "output_type": "stream",
     "text": [
      "100%|██████████| 100/100 [00:00<00:00, 605.16it/s]\n"
     ]
    },
    {
     "name": "stdout",
     "output_type": "stream",
     "text": [
      "color status:  False\n",
      "path:  /om/user/katiemc/continuous_mws/cmws/examples/scene_understanding/data/1_1/cube_0.2/train.pt\n",
      "11:37:02 | /om/user/katiemc/continuous_mws/cmws/examples/scene_understanding/data.py:348 | INFO: Loading dataset (test = False)...\n",
      "11:37:02 | /om/user/katiemc/continuous_mws/cmws/examples/scene_understanding/data.py:352 | INFO: Dataset (test = False) loaded /om/user/katiemc/continuous_mws/cmws/examples/scene_understanding/data/1_1/cube_0.2/train.pt\n",
      "11:37:02 | /om/user/katiemc/continuous_mws/cmws/memory.py:20 | INFO: Initializing memory\n"
     ]
    },
    {
     "name": "stderr",
     "output_type": "stream",
     "text": [
      "100%|██████████| 100/100 [00:00<00:00, 357.68it/s]\n"
     ]
    },
    {
     "name": "stdout",
     "output_type": "stream",
     "text": [
      "color status:  False\n",
      "path:  /om/user/katiemc/continuous_mws/cmws/examples/scene_understanding/data/1_1/cube_0.2/train.pt\n",
      "11:37:02 | /om/user/katiemc/continuous_mws/cmws/examples/scene_understanding/data.py:348 | INFO: Loading dataset (test = False)...\n",
      "11:37:02 | /om/user/katiemc/continuous_mws/cmws/examples/scene_understanding/data.py:352 | INFO: Dataset (test = False) loaded /om/user/katiemc/continuous_mws/cmws/examples/scene_understanding/data/1_1/cube_0.2/train.pt\n",
      "11:37:02 | /om/user/katiemc/continuous_mws/cmws/memory.py:20 | INFO: Initializing memory\n"
     ]
    },
    {
     "name": "stderr",
     "output_type": "stream",
     "text": [
      "100%|██████████| 100/100 [00:00<00:00, 533.57it/s]\n"
     ]
    },
    {
     "name": "stdout",
     "output_type": "stream",
     "text": [
      "color status:  False\n",
      "path:  /om/user/katiemc/continuous_mws/cmws/examples/scene_understanding/data/1_1/cube_0.2/train.pt\n",
      "11:37:02 | /om/user/katiemc/continuous_mws/cmws/examples/scene_understanding/data.py:348 | INFO: Loading dataset (test = False)...\n",
      "11:37:02 | /om/user/katiemc/continuous_mws/cmws/examples/scene_understanding/data.py:352 | INFO: Dataset (test = False) loaded /om/user/katiemc/continuous_mws/cmws/examples/scene_understanding/data/1_1/cube_0.2/train.pt\n",
      "11:37:02 | /om/user/katiemc/continuous_mws/cmws/memory.py:20 | INFO: Initializing memory\n"
     ]
    },
    {
     "name": "stderr",
     "output_type": "stream",
     "text": [
      "100%|██████████| 100/100 [00:00<00:00, 637.91it/s]\n"
     ]
    },
    {
     "name": "stdout",
     "output_type": "stream",
     "text": [
      "color status:  False\n",
      "path:  /om/user/katiemc/continuous_mws/cmws/examples/scene_understanding/data/1_1/cube_0.2/train.pt\n",
      "11:37:03 | /om/user/katiemc/continuous_mws/cmws/examples/scene_understanding/data.py:348 | INFO: Loading dataset (test = False)...\n",
      "11:37:03 | /om/user/katiemc/continuous_mws/cmws/examples/scene_understanding/data.py:352 | INFO: Dataset (test = False) loaded /om/user/katiemc/continuous_mws/cmws/examples/scene_understanding/data/1_1/cube_0.2/train.pt\n",
      "11:37:03 | /om/user/katiemc/continuous_mws/cmws/memory.py:20 | INFO: Initializing memory\n"
     ]
    },
    {
     "name": "stderr",
     "output_type": "stream",
     "text": [
      "100%|██████████| 100/100 [00:00<00:00, 453.99it/s]"
     ]
    },
    {
     "name": "stdout",
     "output_type": "stream",
     "text": [
      "color status:  False\n",
      "path:  /om/user/katiemc/continuous_mws/cmws/examples/scene_understanding/data/1_1/cube_0.01/train.pt\n",
      "11:37:03 | /om/user/katiemc/continuous_mws/cmws/examples/scene_understanding/data.py:348 | INFO: Loading dataset (test = False)...\n",
      "11:37:03 | /om/user/katiemc/continuous_mws/cmws/examples/scene_understanding/data.py:352 | INFO: Dataset (test = False) loaded /om/user/katiemc/continuous_mws/cmws/examples/scene_understanding/data/1_1/cube_0.01/train.pt\n",
      "11:37:03 | /om/user/katiemc/continuous_mws/cmws/memory.py:20 | INFO: Initializing memory\n"
     ]
    },
    {
     "name": "stderr",
     "output_type": "stream",
     "text": [
      "\n",
      "100%|██████████| 100/100 [00:00<00:00, 418.89it/s]\n"
     ]
    },
    {
     "name": "stdout",
     "output_type": "stream",
     "text": [
      "color status:  False\n",
      "path:  /om/user/katiemc/continuous_mws/cmws/examples/scene_understanding/data/1_1/cube_0.01/train.pt\n",
      "11:37:03 | /om/user/katiemc/continuous_mws/cmws/examples/scene_understanding/data.py:348 | INFO: Loading dataset (test = False)...\n",
      "11:37:03 | /om/user/katiemc/continuous_mws/cmws/examples/scene_understanding/data.py:352 | INFO: Dataset (test = False) loaded /om/user/katiemc/continuous_mws/cmws/examples/scene_understanding/data/1_1/cube_0.01/train.pt\n",
      "11:37:03 | /om/user/katiemc/continuous_mws/cmws/memory.py:20 | INFO: Initializing memory\n"
     ]
    },
    {
     "name": "stderr",
     "output_type": "stream",
     "text": [
      "100%|██████████| 100/100 [00:00<00:00, 428.07it/s]\n"
     ]
    },
    {
     "name": "stdout",
     "output_type": "stream",
     "text": [
      "color status:  False\n",
      "path:  /om/user/katiemc/continuous_mws/cmws/examples/scene_understanding/data/1_1/cube_0.01/train.pt\n",
      "11:37:04 | /om/user/katiemc/continuous_mws/cmws/examples/scene_understanding/data.py:348 | INFO: Loading dataset (test = False)...\n",
      "11:37:04 | /om/user/katiemc/continuous_mws/cmws/examples/scene_understanding/data.py:352 | INFO: Dataset (test = False) loaded /om/user/katiemc/continuous_mws/cmws/examples/scene_understanding/data/1_1/cube_0.01/train.pt\n",
      "11:37:04 | /om/user/katiemc/continuous_mws/cmws/memory.py:20 | INFO: Initializing memory\n"
     ]
    },
    {
     "name": "stderr",
     "output_type": "stream",
     "text": [
      "100%|██████████| 100/100 [00:00<00:00, 529.12it/s]\n"
     ]
    },
    {
     "name": "stdout",
     "output_type": "stream",
     "text": [
      "color status:  False\n",
      "path:  /om/user/katiemc/continuous_mws/cmws/examples/scene_understanding/data/1_1/cube_0.01/train.pt\n",
      "11:37:04 | /om/user/katiemc/continuous_mws/cmws/examples/scene_understanding/data.py:348 | INFO: Loading dataset (test = False)...\n",
      "11:37:04 | /om/user/katiemc/continuous_mws/cmws/examples/scene_understanding/data.py:352 | INFO: Dataset (test = False) loaded /om/user/katiemc/continuous_mws/cmws/examples/scene_understanding/data/1_1/cube_0.01/train.pt\n",
      "11:37:04 | /om/user/katiemc/continuous_mws/cmws/memory.py:20 | INFO: Initializing memory\n"
     ]
    },
    {
     "name": "stderr",
     "output_type": "stream",
     "text": [
      "100%|██████████| 100/100 [00:00<00:00, 422.75it/s]\n"
     ]
    },
    {
     "name": "stdout",
     "output_type": "stream",
     "text": [
      "color status:  False\n",
      "path:  /om/user/katiemc/continuous_mws/cmws/examples/scene_understanding/data/1_1/cube_0.01/train.pt\n",
      "11:37:04 | /om/user/katiemc/continuous_mws/cmws/examples/scene_understanding/data.py:348 | INFO: Loading dataset (test = False)...\n",
      "11:37:04 | /om/user/katiemc/continuous_mws/cmws/examples/scene_understanding/data.py:352 | INFO: Dataset (test = False) loaded /om/user/katiemc/continuous_mws/cmws/examples/scene_understanding/data/1_1/cube_0.01/train.pt\n",
      "11:37:04 | /om/user/katiemc/continuous_mws/cmws/memory.py:20 | INFO: Initializing memory\n"
     ]
    },
    {
     "name": "stderr",
     "output_type": "stream",
     "text": [
      "100%|██████████| 100/100 [00:00<00:00, 525.10it/s]\n"
     ]
    },
    {
     "name": "stdout",
     "output_type": "stream",
     "text": [
      "color status:  False\n",
      "path:  /om/user/katiemc/continuous_mws/cmws/examples/scene_understanding/data/1_1/cube_0.01/train.pt\n",
      "11:37:05 | /om/user/katiemc/continuous_mws/cmws/examples/scene_understanding/data.py:348 | INFO: Loading dataset (test = False)...\n",
      "11:37:05 | /om/user/katiemc/continuous_mws/cmws/examples/scene_understanding/data.py:352 | INFO: Dataset (test = False) loaded /om/user/katiemc/continuous_mws/cmws/examples/scene_understanding/data/1_1/cube_0.01/train.pt\n",
      "11:37:05 | /om/user/katiemc/continuous_mws/cmws/memory.py:20 | INFO: Initializing memory\n"
     ]
    },
    {
     "name": "stderr",
     "output_type": "stream",
     "text": [
      "100%|██████████| 100/100 [00:00<00:00, 679.91it/s]"
     ]
    },
    {
     "name": "stdout",
     "output_type": "stream",
     "text": [
      "color status:  False\n",
      "path:  /om/user/katiemc/continuous_mws/cmws/examples/scene_understanding/data/1_1/cube_0.01/train.pt\n",
      "11:37:05 | /om/user/katiemc/continuous_mws/cmws/examples/scene_understanding/data.py:348 | INFO: Loading dataset (test = False)...\n"
     ]
    },
    {
     "name": "stderr",
     "output_type": "stream",
     "text": [
      "\n"
     ]
    },
    {
     "name": "stdout",
     "output_type": "stream",
     "text": [
      "11:37:05 | /om/user/katiemc/continuous_mws/cmws/examples/scene_understanding/data.py:352 | INFO: Dataset (test = False) loaded /om/user/katiemc/continuous_mws/cmws/examples/scene_understanding/data/1_1/cube_0.01/train.pt\n",
      "11:37:05 | /om/user/katiemc/continuous_mws/cmws/memory.py:20 | INFO: Initializing memory\n"
     ]
    },
    {
     "name": "stderr",
     "output_type": "stream",
     "text": [
      "100%|██████████| 100/100 [00:00<00:00, 712.23it/s]"
     ]
    },
    {
     "name": "stdout",
     "output_type": "stream",
     "text": [
      "color status:  False\n",
      "path:  /om/user/katiemc/continuous_mws/cmws/examples/scene_understanding/data/1_1/cube_0.01/train.pt\n",
      "11:37:05 | /om/user/katiemc/continuous_mws/cmws/examples/scene_understanding/data.py:348 | INFO: Loading dataset (test = False)...\n"
     ]
    },
    {
     "name": "stderr",
     "output_type": "stream",
     "text": [
      "\n"
     ]
    },
    {
     "name": "stdout",
     "output_type": "stream",
     "text": [
      "11:37:05 | /om/user/katiemc/continuous_mws/cmws/examples/scene_understanding/data.py:352 | INFO: Dataset (test = False) loaded /om/user/katiemc/continuous_mws/cmws/examples/scene_understanding/data/1_1/cube_0.01/train.pt\n",
      "11:37:05 | /om/user/katiemc/continuous_mws/cmws/memory.py:20 | INFO: Initializing memory\n"
     ]
    },
    {
     "name": "stderr",
     "output_type": "stream",
     "text": [
      "100%|██████████| 100/100 [00:00<00:00, 691.08it/s]"
     ]
    },
    {
     "name": "stdout",
     "output_type": "stream",
     "text": [
      "color status:  False\n",
      "path:  /om/user/katiemc/continuous_mws/cmws/examples/scene_understanding/data/1_1/cube_0.01/train.pt\n",
      "11:37:05 | /om/user/katiemc/continuous_mws/cmws/examples/scene_understanding/data.py:348 | INFO: Loading dataset (test = False)...\n"
     ]
    },
    {
     "name": "stderr",
     "output_type": "stream",
     "text": [
      "\n"
     ]
    },
    {
     "name": "stdout",
     "output_type": "stream",
     "text": [
      "11:37:05 | /om/user/katiemc/continuous_mws/cmws/examples/scene_understanding/data.py:352 | INFO: Dataset (test = False) loaded /om/user/katiemc/continuous_mws/cmws/examples/scene_understanding/data/1_1/cube_0.01/train.pt\n",
      "11:37:05 | /om/user/katiemc/continuous_mws/cmws/memory.py:20 | INFO: Initializing memory\n"
     ]
    },
    {
     "name": "stderr",
     "output_type": "stream",
     "text": [
      "100%|██████████| 100/100 [00:00<00:00, 701.37it/s]"
     ]
    },
    {
     "name": "stdout",
     "output_type": "stream",
     "text": [
      "color status:  False\n",
      "path:  /om/user/katiemc/continuous_mws/cmws/examples/scene_understanding/data/1_1/cube_0.01/train.pt\n",
      "11:37:05 | /om/user/katiemc/continuous_mws/cmws/examples/scene_understanding/data.py:348 | INFO: Loading dataset (test = False)...\n"
     ]
    },
    {
     "name": "stderr",
     "output_type": "stream",
     "text": [
      "\n"
     ]
    },
    {
     "name": "stdout",
     "output_type": "stream",
     "text": [
      "11:37:06 | /om/user/katiemc/continuous_mws/cmws/examples/scene_understanding/data.py:352 | INFO: Dataset (test = False) loaded /om/user/katiemc/continuous_mws/cmws/examples/scene_understanding/data/1_1/cube_0.01/train.pt\n",
      "11:37:06 | /om/user/katiemc/continuous_mws/cmws/memory.py:20 | INFO: Initializing memory\n"
     ]
    },
    {
     "name": "stderr",
     "output_type": "stream",
     "text": [
      "100%|██████████| 100/100 [00:00<00:00, 597.10it/s]\n"
     ]
    },
    {
     "name": "stdout",
     "output_type": "stream",
     "text": [
      "11:37:08 | /om/user/katiemc/continuous_mws/cmws/examples/scene_understanding/util.py:127 | INFO: Error Ran out of input\n",
      "11:37:08 | /om/user/katiemc/continuous_mws/cmws/examples/scene_understanding/util.py:129 | INFO: Waiting for 1 seconds\n",
      "11:37:09 | /om/user/katiemc/continuous_mws/cmws/examples/scene_understanding/util.py:127 | INFO: Error Ran out of input\n",
      "11:37:09 | /om/user/katiemc/continuous_mws/cmws/examples/scene_understanding/util.py:129 | INFO: Waiting for 2 seconds\n",
      "11:37:11 | /om/user/katiemc/continuous_mws/cmws/examples/scene_understanding/util.py:127 | INFO: Error Ran out of input\n",
      "11:37:11 | /om/user/katiemc/continuous_mws/cmws/examples/scene_understanding/util.py:129 | INFO: Waiting for 4 seconds\n",
      "11:37:16 | /om/user/katiemc/continuous_mws/cmws/examples/scene_understanding/util.py:127 | INFO: Error Ran out of input\n",
      "11:37:16 | /om/user/katiemc/continuous_mws/cmws/examples/scene_understanding/util.py:129 | INFO: Waiting for 1 seconds\n",
      "11:37:17 | /om/user/katiemc/continuous_mws/cmws/examples/scene_understanding/util.py:127 | INFO: Error Ran out of input\n",
      "11:37:17 | /om/user/katiemc/continuous_mws/cmws/examples/scene_understanding/util.py:129 | INFO: Waiting for 2 seconds\n",
      "11:37:19 | /om/user/katiemc/continuous_mws/cmws/examples/scene_understanding/util.py:127 | INFO: Error Ran out of input\n",
      "11:37:19 | /om/user/katiemc/continuous_mws/cmws/examples/scene_understanding/util.py:129 | INFO: Waiting for 4 seconds\n",
      "11:37:23 | /om/user/katiemc/continuous_mws/cmws/examples/scene_understanding/util.py:127 | INFO: Error Ran out of input\n",
      "11:37:23 | /om/user/katiemc/continuous_mws/cmws/examples/scene_understanding/util.py:129 | INFO: Waiting for 1 seconds\n",
      "11:37:24 | /om/user/katiemc/continuous_mws/cmws/examples/scene_understanding/util.py:127 | INFO: Error Ran out of input\n",
      "11:37:24 | /om/user/katiemc/continuous_mws/cmws/examples/scene_understanding/util.py:129 | INFO: Waiting for 2 seconds\n",
      "11:37:26 | /om/user/katiemc/continuous_mws/cmws/examples/scene_understanding/util.py:127 | INFO: Error Ran out of input\n",
      "11:37:26 | /om/user/katiemc/continuous_mws/cmws/examples/scene_understanding/util.py:129 | INFO: Waiting for 4 seconds\n",
      "11:37:30 | /om/user/katiemc/continuous_mws/cmws/examples/scene_understanding/util.py:127 | INFO: Error Ran out of input\n",
      "11:37:30 | /om/user/katiemc/continuous_mws/cmws/examples/scene_understanding/util.py:129 | INFO: Waiting for 1 seconds\n",
      "11:37:31 | /om/user/katiemc/continuous_mws/cmws/examples/scene_understanding/util.py:127 | INFO: Error Ran out of input\n",
      "11:37:31 | /om/user/katiemc/continuous_mws/cmws/examples/scene_understanding/util.py:129 | INFO: Waiting for 2 seconds\n",
      "11:37:33 | /om/user/katiemc/continuous_mws/cmws/examples/scene_understanding/util.py:127 | INFO: Error Ran out of input\n",
      "11:37:33 | /om/user/katiemc/continuous_mws/cmws/examples/scene_understanding/util.py:129 | INFO: Waiting for 4 seconds\n"
     ]
    },
    {
     "name": "stderr",
     "output_type": "stream",
     "text": [
      "/home/katiemc/.conda/envs/cmws/lib/python3.7/site-packages/numpy/lib/nanfunctions.py:1114: RuntimeWarning: All-NaN slice encountered\n",
      "  overwrite_input=overwrite_input)\n",
      "/home/katiemc/.conda/envs/cmws/lib/python3.7/site-packages/numpy/lib/nanfunctions.py:1390: RuntimeWarning: All-NaN slice encountered\n",
      "  overwrite_input, interpolation)\n",
      "/home/katiemc/.conda/envs/cmws/lib/python3.7/site-packages/numpy/lib/nanfunctions.py:1114: RuntimeWarning: All-NaN slice encountered\n",
      "  overwrite_input=overwrite_input)\n",
      "/home/katiemc/.conda/envs/cmws/lib/python3.7/site-packages/numpy/lib/nanfunctions.py:1390: RuntimeWarning: All-NaN slice encountered\n",
      "  overwrite_input, interpolation)\n",
      "/home/katiemc/.conda/envs/cmws/lib/python3.7/site-packages/numpy/lib/nanfunctions.py:1114: RuntimeWarning: All-NaN slice encountered\n",
      "  overwrite_input=overwrite_input)\n",
      "/home/katiemc/.conda/envs/cmws/lib/python3.7/site-packages/numpy/lib/nanfunctions.py:1390: RuntimeWarning: All-NaN slice encountered\n",
      "  overwrite_input, interpolation)\n"
     ]
    },
    {
     "name": "stdout",
     "output_type": "stream",
     "text": [
      "11:37:39 | /om/user/katiemc/continuous_mws/cmws/util.py:293 | INFO: Saved to ../save/cmws_vs_rws_learnColor/losses_learnColor_overlay.pdf\n",
      "color status:  True\n",
      "path:  /om/user/katiemc/continuous_mws/cmws/examples/scene_understanding/data/1_1/cube_0.01/colorless/train.pt\n",
      "11:37:39 | /om/user/katiemc/continuous_mws/cmws/examples/scene_understanding/data.py:348 | INFO: Loading dataset (test = False)...\n",
      "11:37:39 | /om/user/katiemc/continuous_mws/cmws/examples/scene_understanding/data.py:352 | INFO: Dataset (test = False) loaded /om/user/katiemc/continuous_mws/cmws/examples/scene_understanding/data/1_1/cube_0.01/colorless/train.pt\n",
      "11:37:39 | /om/user/katiemc/continuous_mws/cmws/memory.py:20 | INFO: Initializing memory\n"
     ]
    },
    {
     "name": "stderr",
     "output_type": "stream",
     "text": [
      "100%|██████████| 100/100 [00:00<00:00, 479.64it/s]"
     ]
    },
    {
     "name": "stdout",
     "output_type": "stream",
     "text": [
      "color status:  True\n",
      "path:  /om/user/katiemc/continuous_mws/cmws/examples/scene_understanding/data/1_1/cube_0.01/colorless/train.pt\n",
      "11:37:39 | /om/user/katiemc/continuous_mws/cmws/examples/scene_understanding/data.py:348 | INFO: Loading dataset (test = False)...\n",
      "11:37:39 | /om/user/katiemc/continuous_mws/cmws/examples/scene_understanding/data.py:352 | INFO: Dataset (test = False) loaded /om/user/katiemc/continuous_mws/cmws/examples/scene_understanding/data/1_1/cube_0.01/colorless/train.pt\n",
      "11:37:39 | /om/user/katiemc/continuous_mws/cmws/memory.py:20 | INFO: Initializing memory\n"
     ]
    },
    {
     "name": "stderr",
     "output_type": "stream",
     "text": [
      "\n",
      "100%|██████████| 100/100 [00:00<00:00, 444.24it/s]\n"
     ]
    },
    {
     "name": "stdout",
     "output_type": "stream",
     "text": [
      "color status:  True\n",
      "path:  /om/user/katiemc/continuous_mws/cmws/examples/scene_understanding/data/1_1/cube_0.01/colorless/train.pt\n",
      "11:37:39 | /om/user/katiemc/continuous_mws/cmws/examples/scene_understanding/data.py:348 | INFO: Loading dataset (test = False)...\n",
      "11:37:40 | /om/user/katiemc/continuous_mws/cmws/examples/scene_understanding/data.py:352 | INFO: Dataset (test = False) loaded /om/user/katiemc/continuous_mws/cmws/examples/scene_understanding/data/1_1/cube_0.01/colorless/train.pt\n",
      "11:37:40 | /om/user/katiemc/continuous_mws/cmws/memory.py:20 | INFO: Initializing memory\n"
     ]
    },
    {
     "name": "stderr",
     "output_type": "stream",
     "text": [
      "100%|██████████| 100/100 [00:00<00:00, 392.70it/s]\n"
     ]
    },
    {
     "name": "stdout",
     "output_type": "stream",
     "text": [
      "color status:  True\n",
      "path:  /om/user/katiemc/continuous_mws/cmws/examples/scene_understanding/data/1_1/cube_0.01/colorless/train.pt\n",
      "11:37:40 | /om/user/katiemc/continuous_mws/cmws/examples/scene_understanding/data.py:348 | INFO: Loading dataset (test = False)...\n",
      "11:37:40 | /om/user/katiemc/continuous_mws/cmws/examples/scene_understanding/data.py:352 | INFO: Dataset (test = False) loaded /om/user/katiemc/continuous_mws/cmws/examples/scene_understanding/data/1_1/cube_0.01/colorless/train.pt\n",
      "11:37:40 | /om/user/katiemc/continuous_mws/cmws/memory.py:20 | INFO: Initializing memory\n"
     ]
    },
    {
     "name": "stderr",
     "output_type": "stream",
     "text": [
      "100%|██████████| 100/100 [00:00<00:00, 473.57it/s]\n"
     ]
    },
    {
     "name": "stdout",
     "output_type": "stream",
     "text": [
      "color status:  True\n",
      "path:  /om/user/katiemc/continuous_mws/cmws/examples/scene_understanding/data/1_1/cube_0.01/colorless/train.pt\n",
      "11:37:40 | /om/user/katiemc/continuous_mws/cmws/examples/scene_understanding/data.py:348 | INFO: Loading dataset (test = False)...\n",
      "11:37:40 | /om/user/katiemc/continuous_mws/cmws/examples/scene_understanding/data.py:352 | INFO: Dataset (test = False) loaded /om/user/katiemc/continuous_mws/cmws/examples/scene_understanding/data/1_1/cube_0.01/colorless/train.pt\n",
      "11:37:40 | /om/user/katiemc/continuous_mws/cmws/memory.py:20 | INFO: Initializing memory\n"
     ]
    },
    {
     "name": "stderr",
     "output_type": "stream",
     "text": [
      "100%|██████████| 100/100 [00:00<00:00, 539.91it/s]\n"
     ]
    },
    {
     "name": "stdout",
     "output_type": "stream",
     "text": [
      "color status:  True\n",
      "path:  /om/user/katiemc/continuous_mws/cmws/examples/scene_understanding/data/1_1/cube_0.01/colorless/train.pt\n",
      "11:37:40 | /om/user/katiemc/continuous_mws/cmws/examples/scene_understanding/data.py:348 | INFO: Loading dataset (test = False)...\n",
      "11:37:40 | /om/user/katiemc/continuous_mws/cmws/examples/scene_understanding/data.py:352 | INFO: Dataset (test = False) loaded /om/user/katiemc/continuous_mws/cmws/examples/scene_understanding/data/1_1/cube_0.01/colorless/train.pt\n",
      "11:37:40 | /om/user/katiemc/continuous_mws/cmws/memory.py:20 | INFO: Initializing memory\n"
     ]
    },
    {
     "name": "stderr",
     "output_type": "stream",
     "text": [
      "100%|██████████| 100/100 [00:00<00:00, 343.64it/s]"
     ]
    },
    {
     "name": "stdout",
     "output_type": "stream",
     "text": [
      "color status:  True\n",
      "path:  /om/user/katiemc/continuous_mws/cmws/examples/scene_understanding/data/1_1/cube_0.01/colorless/train.pt\n",
      "11:37:41 | /om/user/katiemc/continuous_mws/cmws/examples/scene_understanding/data.py:348 | INFO: Loading dataset (test = False)...\n"
     ]
    },
    {
     "name": "stderr",
     "output_type": "stream",
     "text": [
      "\n"
     ]
    },
    {
     "name": "stdout",
     "output_type": "stream",
     "text": [
      "11:37:41 | /om/user/katiemc/continuous_mws/cmws/examples/scene_understanding/data.py:352 | INFO: Dataset (test = False) loaded /om/user/katiemc/continuous_mws/cmws/examples/scene_understanding/data/1_1/cube_0.01/colorless/train.pt\n",
      "11:37:41 | /om/user/katiemc/continuous_mws/cmws/memory.py:20 | INFO: Initializing memory\n"
     ]
    },
    {
     "name": "stderr",
     "output_type": "stream",
     "text": [
      "100%|██████████| 100/100 [00:00<00:00, 485.83it/s]\n"
     ]
    },
    {
     "name": "stdout",
     "output_type": "stream",
     "text": [
      "color status:  True\n",
      "path:  /om/user/katiemc/continuous_mws/cmws/examples/scene_understanding/data/1_1/cube_0.01/colorless/train.pt\n",
      "11:37:41 | /om/user/katiemc/continuous_mws/cmws/examples/scene_understanding/data.py:348 | INFO: Loading dataset (test = False)...\n",
      "11:37:41 | /om/user/katiemc/continuous_mws/cmws/examples/scene_understanding/data.py:352 | INFO: Dataset (test = False) loaded /om/user/katiemc/continuous_mws/cmws/examples/scene_understanding/data/1_1/cube_0.01/colorless/train.pt\n",
      "11:37:41 | /om/user/katiemc/continuous_mws/cmws/memory.py:20 | INFO: Initializing memory\n"
     ]
    },
    {
     "name": "stderr",
     "output_type": "stream",
     "text": [
      "100%|██████████| 100/100 [00:00<00:00, 396.32it/s]\n"
     ]
    },
    {
     "name": "stdout",
     "output_type": "stream",
     "text": [
      "color status:  True\n",
      "path:  /om/user/katiemc/continuous_mws/cmws/examples/scene_understanding/data/1_1/cube_0.01/colorless/train.pt\n",
      "11:37:42 | /om/user/katiemc/continuous_mws/cmws/examples/scene_understanding/data.py:348 | INFO: Loading dataset (test = False)...\n",
      "11:37:42 | /om/user/katiemc/continuous_mws/cmws/examples/scene_understanding/data.py:352 | INFO: Dataset (test = False) loaded /om/user/katiemc/continuous_mws/cmws/examples/scene_understanding/data/1_1/cube_0.01/colorless/train.pt\n",
      "11:37:42 | /om/user/katiemc/continuous_mws/cmws/memory.py:20 | INFO: Initializing memory\n"
     ]
    },
    {
     "name": "stderr",
     "output_type": "stream",
     "text": [
      "100%|██████████| 100/100 [00:00<00:00, 674.50it/s]\n"
     ]
    },
    {
     "name": "stdout",
     "output_type": "stream",
     "text": [
      "color status:  True\n",
      "path:  /om/user/katiemc/continuous_mws/cmws/examples/scene_understanding/data/1_1/cube_0.01/colorless/train.pt\n",
      "11:37:42 | /om/user/katiemc/continuous_mws/cmws/examples/scene_understanding/data.py:348 | INFO: Loading dataset (test = False)...\n",
      "11:37:42 | /om/user/katiemc/continuous_mws/cmws/examples/scene_understanding/data.py:352 | INFO: Dataset (test = False) loaded /om/user/katiemc/continuous_mws/cmws/examples/scene_understanding/data/1_1/cube_0.01/colorless/train.pt\n",
      "11:37:42 | /om/user/katiemc/continuous_mws/cmws/memory.py:20 | INFO: Initializing memory\n"
     ]
    },
    {
     "name": "stderr",
     "output_type": "stream",
     "text": [
      "100%|██████████| 100/100 [00:00<00:00, 318.07it/s]\n"
     ]
    },
    {
     "name": "stdout",
     "output_type": "stream",
     "text": [
      "color status:  True\n",
      "path:  /om/user/katiemc/continuous_mws/cmws/examples/scene_understanding/data/1_1/cube_0.01/colorless/train.pt\n",
      "11:37:42 | /om/user/katiemc/continuous_mws/cmws/examples/scene_understanding/data.py:348 | INFO: Loading dataset (test = False)...\n",
      "11:37:42 | /om/user/katiemc/continuous_mws/cmws/examples/scene_understanding/data.py:352 | INFO: Dataset (test = False) loaded /om/user/katiemc/continuous_mws/cmws/examples/scene_understanding/data/1_1/cube_0.01/colorless/train.pt\n",
      "11:37:42 | /om/user/katiemc/continuous_mws/cmws/memory.py:20 | INFO: Initializing memory\n"
     ]
    },
    {
     "name": "stderr",
     "output_type": "stream",
     "text": [
      "100%|██████████| 100/100 [00:00<00:00, 332.24it/s]"
     ]
    },
    {
     "name": "stdout",
     "output_type": "stream",
     "text": [
      "color status:  True\n",
      "path:  /om/user/katiemc/continuous_mws/cmws/examples/scene_understanding/data/1_1/cube_0.01/colorless/train.pt\n",
      "11:37:43 | /om/user/katiemc/continuous_mws/cmws/examples/scene_understanding/data.py:348 | INFO: Loading dataset (test = False)...\n"
     ]
    },
    {
     "name": "stderr",
     "output_type": "stream",
     "text": [
      "\n"
     ]
    },
    {
     "name": "stdout",
     "output_type": "stream",
     "text": [
      "11:37:43 | /om/user/katiemc/continuous_mws/cmws/examples/scene_understanding/data.py:352 | INFO: Dataset (test = False) loaded /om/user/katiemc/continuous_mws/cmws/examples/scene_understanding/data/1_1/cube_0.01/colorless/train.pt\n",
      "11:37:43 | /om/user/katiemc/continuous_mws/cmws/memory.py:20 | INFO: Initializing memory\n"
     ]
    },
    {
     "name": "stderr",
     "output_type": "stream",
     "text": [
      "100%|██████████| 100/100 [00:00<00:00, 494.17it/s]"
     ]
    },
    {
     "name": "stdout",
     "output_type": "stream",
     "text": [
      "color status:  True\n",
      "path:  /om/user/katiemc/continuous_mws/cmws/examples/scene_understanding/data/1_1/cube_0.01/colorless/train.pt\n",
      "11:37:43 | /om/user/katiemc/continuous_mws/cmws/examples/scene_understanding/data.py:348 | INFO: Loading dataset (test = False)...\n",
      "11:37:43 | /om/user/katiemc/continuous_mws/cmws/examples/scene_understanding/data.py:352 | INFO: Dataset (test = False) loaded /om/user/katiemc/continuous_mws/cmws/examples/scene_understanding/data/1_1/cube_0.01/colorless/train.pt\n",
      "11:37:43 | /om/user/katiemc/continuous_mws/cmws/memory.py:20 | INFO: Initializing memory\n"
     ]
    },
    {
     "name": "stderr",
     "output_type": "stream",
     "text": [
      "\n",
      "100%|██████████| 100/100 [00:00<00:00, 318.43it/s]\n"
     ]
    },
    {
     "name": "stdout",
     "output_type": "stream",
     "text": [
      "color status:  True\n",
      "path:  /om/user/katiemc/continuous_mws/cmws/examples/scene_understanding/data/1_1/cube_0.01/colorless/train.pt\n",
      "11:37:44 | /om/user/katiemc/continuous_mws/cmws/examples/scene_understanding/data.py:348 | INFO: Loading dataset (test = False)...\n",
      "11:37:44 | /om/user/katiemc/continuous_mws/cmws/examples/scene_understanding/data.py:352 | INFO: Dataset (test = False) loaded /om/user/katiemc/continuous_mws/cmws/examples/scene_understanding/data/1_1/cube_0.01/colorless/train.pt\n",
      "11:37:44 | /om/user/katiemc/continuous_mws/cmws/memory.py:20 | INFO: Initializing memory\n"
     ]
    },
    {
     "name": "stderr",
     "output_type": "stream",
     "text": [
      "100%|██████████| 100/100 [00:00<00:00, 304.94it/s]\n"
     ]
    },
    {
     "name": "stdout",
     "output_type": "stream",
     "text": [
      "color status:  True\n",
      "path:  /om/user/katiemc/continuous_mws/cmws/examples/scene_understanding/data/1_1/cube_0.01/colorless/train.pt\n",
      "11:37:44 | /om/user/katiemc/continuous_mws/cmws/examples/scene_understanding/data.py:348 | INFO: Loading dataset (test = False)...\n",
      "11:37:44 | /om/user/katiemc/continuous_mws/cmws/examples/scene_understanding/data.py:352 | INFO: Dataset (test = False) loaded /om/user/katiemc/continuous_mws/cmws/examples/scene_understanding/data/1_1/cube_0.01/colorless/train.pt\n",
      "11:37:44 | /om/user/katiemc/continuous_mws/cmws/memory.py:20 | INFO: Initializing memory\n"
     ]
    },
    {
     "name": "stderr",
     "output_type": "stream",
     "text": [
      "100%|██████████| 100/100 [00:00<00:00, 340.13it/s]\n"
     ]
    },
    {
     "name": "stdout",
     "output_type": "stream",
     "text": [
      "color status:  True\n",
      "path:  /om/user/katiemc/continuous_mws/cmws/examples/scene_understanding/data/1_1/cube_0.01/colorless/train.pt\n",
      "11:37:45 | /om/user/katiemc/continuous_mws/cmws/examples/scene_understanding/data.py:348 | INFO: Loading dataset (test = False)...\n",
      "11:37:45 | /om/user/katiemc/continuous_mws/cmws/examples/scene_understanding/data.py:352 | INFO: Dataset (test = False) loaded /om/user/katiemc/continuous_mws/cmws/examples/scene_understanding/data/1_1/cube_0.01/colorless/train.pt\n",
      "11:37:45 | /om/user/katiemc/continuous_mws/cmws/memory.py:20 | INFO: Initializing memory\n"
     ]
    },
    {
     "name": "stderr",
     "output_type": "stream",
     "text": [
      "100%|██████████| 100/100 [00:00<00:00, 331.60it/s]"
     ]
    },
    {
     "name": "stdout",
     "output_type": "stream",
     "text": [
      "color status:  True\n",
      "path:  /om/user/katiemc/continuous_mws/cmws/examples/scene_understanding/data/1_1/cube_0.01/colorless/train.pt\n",
      "11:37:45 | /om/user/katiemc/continuous_mws/cmws/examples/scene_understanding/data.py:348 | INFO: Loading dataset (test = False)...\n"
     ]
    },
    {
     "name": "stderr",
     "output_type": "stream",
     "text": [
      "\n"
     ]
    },
    {
     "name": "stdout",
     "output_type": "stream",
     "text": [
      "11:37:45 | /om/user/katiemc/continuous_mws/cmws/examples/scene_understanding/data.py:352 | INFO: Dataset (test = False) loaded /om/user/katiemc/continuous_mws/cmws/examples/scene_understanding/data/1_1/cube_0.01/colorless/train.pt\n",
      "11:37:45 | /om/user/katiemc/continuous_mws/cmws/memory.py:20 | INFO: Initializing memory\n"
     ]
    },
    {
     "name": "stderr",
     "output_type": "stream",
     "text": [
      "100%|██████████| 100/100 [00:00<00:00, 359.06it/s]\n"
     ]
    },
    {
     "name": "stdout",
     "output_type": "stream",
     "text": [
      "color status:  True\n",
      "path:  /om/user/katiemc/continuous_mws/cmws/examples/scene_understanding/data/1_1/cube_0.01/colorless/train.pt\n",
      "11:37:45 | /om/user/katiemc/continuous_mws/cmws/examples/scene_understanding/data.py:348 | INFO: Loading dataset (test = False)...\n",
      "11:37:45 | /om/user/katiemc/continuous_mws/cmws/examples/scene_understanding/data.py:352 | INFO: Dataset (test = False) loaded /om/user/katiemc/continuous_mws/cmws/examples/scene_understanding/data/1_1/cube_0.01/colorless/train.pt\n",
      "11:37:45 | /om/user/katiemc/continuous_mws/cmws/memory.py:20 | INFO: Initializing memory\n"
     ]
    },
    {
     "name": "stderr",
     "output_type": "stream",
     "text": [
      "100%|██████████| 100/100 [00:00<00:00, 335.17it/s]"
     ]
    },
    {
     "name": "stdout",
     "output_type": "stream",
     "text": [
      "color status:  True\n",
      "path:  /om/user/katiemc/continuous_mws/cmws/examples/scene_understanding/data/1_1/cube_0.01/colorless/train.pt\n",
      "11:37:46 | /om/user/katiemc/continuous_mws/cmws/examples/scene_understanding/data.py:348 | INFO: Loading dataset (test = False)...\n",
      "11:37:46 | /om/user/katiemc/continuous_mws/cmws/examples/scene_understanding/data.py:352 | INFO: Dataset (test = False) loaded /om/user/katiemc/continuous_mws/cmws/examples/scene_understanding/data/1_1/cube_0.01/colorless/train.pt\n",
      "11:37:46 | /om/user/katiemc/continuous_mws/cmws/memory.py:20 | INFO: Initializing memory\n"
     ]
    },
    {
     "name": "stderr",
     "output_type": "stream",
     "text": [
      "\n",
      "100%|██████████| 100/100 [00:00<00:00, 517.40it/s]"
     ]
    },
    {
     "name": "stdout",
     "output_type": "stream",
     "text": [
      "color status:  True\n",
      "path:  /om/user/katiemc/continuous_mws/cmws/examples/scene_understanding/data/1_1/cube_0.01/colorless/train.pt\n",
      "11:37:46 | /om/user/katiemc/continuous_mws/cmws/examples/scene_understanding/data.py:348 | INFO: Loading dataset (test = False)...\n",
      "11:37:46 | /om/user/katiemc/continuous_mws/cmws/examples/scene_understanding/data.py:352 | INFO: Dataset (test = False) loaded /om/user/katiemc/continuous_mws/cmws/examples/scene_understanding/data/1_1/cube_0.01/colorless/train.pt\n",
      "11:37:46 | /om/user/katiemc/continuous_mws/cmws/memory.py:20 | INFO: Initializing memory\n"
     ]
    },
    {
     "name": "stderr",
     "output_type": "stream",
     "text": [
      "\n",
      "100%|██████████| 100/100 [00:00<00:00, 486.42it/s]"
     ]
    },
    {
     "name": "stdout",
     "output_type": "stream",
     "text": [
      "11:37:46 | /om/user/katiemc/continuous_mws/cmws/examples/scene_understanding/util.py:127 | INFO: Error Ran out of input\n",
      "11:37:46 | /om/user/katiemc/continuous_mws/cmws/examples/scene_understanding/util.py:129 | INFO: Waiting for 1 seconds\n"
     ]
    },
    {
     "name": "stderr",
     "output_type": "stream",
     "text": [
      "\n"
     ]
    },
    {
     "name": "stdout",
     "output_type": "stream",
     "text": [
      "11:37:47 | /om/user/katiemc/continuous_mws/cmws/examples/scene_understanding/util.py:127 | INFO: Error Ran out of input\n",
      "11:37:47 | /om/user/katiemc/continuous_mws/cmws/examples/scene_understanding/util.py:129 | INFO: Waiting for 2 seconds\n",
      "11:37:49 | /om/user/katiemc/continuous_mws/cmws/examples/scene_understanding/util.py:127 | INFO: Error Ran out of input\n",
      "11:37:49 | /om/user/katiemc/continuous_mws/cmws/examples/scene_understanding/util.py:129 | INFO: Waiting for 4 seconds\n",
      "11:37:53 | /om/user/katiemc/continuous_mws/cmws/examples/scene_understanding/util.py:127 | INFO: Error Ran out of input\n",
      "11:37:53 | /om/user/katiemc/continuous_mws/cmws/examples/scene_understanding/util.py:129 | INFO: Waiting for 1 seconds\n",
      "11:37:54 | /om/user/katiemc/continuous_mws/cmws/examples/scene_understanding/util.py:127 | INFO: Error Ran out of input\n",
      "11:37:54 | /om/user/katiemc/continuous_mws/cmws/examples/scene_understanding/util.py:129 | INFO: Waiting for 2 seconds\n",
      "11:37:56 | /om/user/katiemc/continuous_mws/cmws/examples/scene_understanding/util.py:127 | INFO: Error Ran out of input\n",
      "11:37:56 | /om/user/katiemc/continuous_mws/cmws/examples/scene_understanding/util.py:129 | INFO: Waiting for 4 seconds\n",
      "11:38:03 | /om/user/katiemc/continuous_mws/cmws/examples/scene_understanding/util.py:127 | INFO: Error Ran out of input\n",
      "11:38:03 | /om/user/katiemc/continuous_mws/cmws/examples/scene_understanding/util.py:129 | INFO: Waiting for 1 seconds\n",
      "11:38:04 | /om/user/katiemc/continuous_mws/cmws/examples/scene_understanding/util.py:127 | INFO: Error Ran out of input\n",
      "11:38:04 | /om/user/katiemc/continuous_mws/cmws/examples/scene_understanding/util.py:129 | INFO: Waiting for 2 seconds\n",
      "11:38:06 | /om/user/katiemc/continuous_mws/cmws/examples/scene_understanding/util.py:127 | INFO: Error Ran out of input\n",
      "11:38:06 | /om/user/katiemc/continuous_mws/cmws/examples/scene_understanding/util.py:129 | INFO: Waiting for 4 seconds\n",
      "11:38:10 | /om/user/katiemc/continuous_mws/cmws/examples/scene_understanding/util.py:127 | INFO: Error Ran out of input\n",
      "11:38:10 | /om/user/katiemc/continuous_mws/cmws/examples/scene_understanding/util.py:129 | INFO: Waiting for 1 seconds\n",
      "11:38:11 | /om/user/katiemc/continuous_mws/cmws/examples/scene_understanding/util.py:127 | INFO: Error Ran out of input\n",
      "11:38:11 | /om/user/katiemc/continuous_mws/cmws/examples/scene_understanding/util.py:129 | INFO: Waiting for 2 seconds\n",
      "11:38:13 | /om/user/katiemc/continuous_mws/cmws/examples/scene_understanding/util.py:127 | INFO: Error Ran out of input\n",
      "11:38:13 | /om/user/katiemc/continuous_mws/cmws/examples/scene_understanding/util.py:129 | INFO: Waiting for 4 seconds\n"
     ]
    },
    {
     "name": "stderr",
     "output_type": "stream",
     "text": [
      "/home/katiemc/.conda/envs/cmws/lib/python3.7/site-packages/numpy/lib/nanfunctions.py:1114: RuntimeWarning: All-NaN slice encountered\n",
      "  overwrite_input=overwrite_input)\n",
      "/home/katiemc/.conda/envs/cmws/lib/python3.7/site-packages/numpy/lib/nanfunctions.py:1390: RuntimeWarning: All-NaN slice encountered\n",
      "  overwrite_input, interpolation)\n",
      "/home/katiemc/.conda/envs/cmws/lib/python3.7/site-packages/numpy/lib/nanfunctions.py:1114: RuntimeWarning: All-NaN slice encountered\n",
      "  overwrite_input=overwrite_input)\n",
      "/home/katiemc/.conda/envs/cmws/lib/python3.7/site-packages/numpy/lib/nanfunctions.py:1390: RuntimeWarning: All-NaN slice encountered\n",
      "  overwrite_input, interpolation)\n",
      "/home/katiemc/.conda/envs/cmws/lib/python3.7/site-packages/numpy/lib/nanfunctions.py:1114: RuntimeWarning: All-NaN slice encountered\n",
      "  overwrite_input=overwrite_input)\n",
      "/home/katiemc/.conda/envs/cmws/lib/python3.7/site-packages/numpy/lib/nanfunctions.py:1390: RuntimeWarning: All-NaN slice encountered\n",
      "  overwrite_input, interpolation)\n"
     ]
    },
    {
     "name": "stdout",
     "output_type": "stream",
     "text": [
      "11:38:19 | /om/user/katiemc/continuous_mws/cmws/util.py:293 | INFO: Saved to ../save/cmws_vs_rws_noColor/losses_noColor_overlay.pdf\n",
      "color status:  True\n",
      "path:  /om/user/katiemc/continuous_mws/cmws/examples/scene_understanding/data/1_1/block_0.01/colorless/train.pt\n",
      "11:38:19 | /om/user/katiemc/continuous_mws/cmws/examples/scene_understanding/data.py:348 | INFO: Loading dataset (test = False)...\n",
      "11:38:19 | /om/user/katiemc/continuous_mws/cmws/examples/scene_understanding/data.py:352 | INFO: Dataset (test = False) loaded /om/user/katiemc/continuous_mws/cmws/examples/scene_understanding/data/1_1/block_0.01/colorless/train.pt\n",
      "11:38:19 | /om/user/katiemc/continuous_mws/cmws/memory.py:20 | INFO: Initializing memory\n"
     ]
    },
    {
     "name": "stderr",
     "output_type": "stream",
     "text": [
      "100%|██████████| 100/100 [00:00<00:00, 408.43it/s]\n"
     ]
    },
    {
     "name": "stdout",
     "output_type": "stream",
     "text": [
      "color status:  True\n",
      "path:  /om/user/katiemc/continuous_mws/cmws/examples/scene_understanding/data/1_1/block_0.01/colorless/train.pt\n",
      "11:38:19 | /om/user/katiemc/continuous_mws/cmws/examples/scene_understanding/data.py:348 | INFO: Loading dataset (test = False)...\n",
      "11:38:19 | /om/user/katiemc/continuous_mws/cmws/examples/scene_understanding/data.py:352 | INFO: Dataset (test = False) loaded /om/user/katiemc/continuous_mws/cmws/examples/scene_understanding/data/1_1/block_0.01/colorless/train.pt\n",
      "11:38:19 | /om/user/katiemc/continuous_mws/cmws/memory.py:20 | INFO: Initializing memory\n"
     ]
    },
    {
     "name": "stderr",
     "output_type": "stream",
     "text": [
      "100%|██████████| 100/100 [00:00<00:00, 537.34it/s]\n"
     ]
    },
    {
     "name": "stdout",
     "output_type": "stream",
     "text": [
      "color status:  True\n",
      "path:  /om/user/katiemc/continuous_mws/cmws/examples/scene_understanding/data/1_1/block_0.01/colorless/train.pt\n",
      "11:38:20 | /om/user/katiemc/continuous_mws/cmws/examples/scene_understanding/data.py:348 | INFO: Loading dataset (test = False)...\n",
      "11:38:20 | /om/user/katiemc/continuous_mws/cmws/examples/scene_understanding/data.py:352 | INFO: Dataset (test = False) loaded /om/user/katiemc/continuous_mws/cmws/examples/scene_understanding/data/1_1/block_0.01/colorless/train.pt\n",
      "11:38:20 | /om/user/katiemc/continuous_mws/cmws/memory.py:20 | INFO: Initializing memory\n"
     ]
    },
    {
     "name": "stderr",
     "output_type": "stream",
     "text": [
      "100%|██████████| 100/100 [00:00<00:00, 384.62it/s]\n"
     ]
    },
    {
     "name": "stdout",
     "output_type": "stream",
     "text": [
      "color status:  True\n",
      "path:  /om/user/katiemc/continuous_mws/cmws/examples/scene_understanding/data/1_1/block_0.01/colorless/train.pt\n",
      "11:38:20 | /om/user/katiemc/continuous_mws/cmws/examples/scene_understanding/data.py:348 | INFO: Loading dataset (test = False)...\n",
      "11:38:20 | /om/user/katiemc/continuous_mws/cmws/examples/scene_understanding/data.py:352 | INFO: Dataset (test = False) loaded /om/user/katiemc/continuous_mws/cmws/examples/scene_understanding/data/1_1/block_0.01/colorless/train.pt\n",
      "11:38:20 | /om/user/katiemc/continuous_mws/cmws/memory.py:20 | INFO: Initializing memory\n"
     ]
    },
    {
     "name": "stderr",
     "output_type": "stream",
     "text": [
      "100%|██████████| 100/100 [00:00<00:00, 392.90it/s]\n"
     ]
    },
    {
     "name": "stdout",
     "output_type": "stream",
     "text": [
      "color status:  True\n",
      "path:  /om/user/katiemc/continuous_mws/cmws/examples/scene_understanding/data/1_1/block_0.01/colorless/train.pt\n",
      "11:38:21 | /om/user/katiemc/continuous_mws/cmws/examples/scene_understanding/data.py:348 | INFO: Loading dataset (test = False)...\n",
      "11:38:21 | /om/user/katiemc/continuous_mws/cmws/examples/scene_understanding/data.py:352 | INFO: Dataset (test = False) loaded /om/user/katiemc/continuous_mws/cmws/examples/scene_understanding/data/1_1/block_0.01/colorless/train.pt\n",
      "11:38:21 | /om/user/katiemc/continuous_mws/cmws/memory.py:20 | INFO: Initializing memory\n"
     ]
    },
    {
     "name": "stderr",
     "output_type": "stream",
     "text": [
      "100%|██████████| 100/100 [00:00<00:00, 503.34it/s]"
     ]
    },
    {
     "name": "stdout",
     "output_type": "stream",
     "text": [
      "11:38:21 | /om/user/katiemc/continuous_mws/cmws/examples/scene_understanding/util.py:127 | INFO: Error Ran out of input\n",
      "11:38:21 | /om/user/katiemc/continuous_mws/cmws/examples/scene_understanding/util.py:129 | INFO: Waiting for 1 seconds\n"
     ]
    },
    {
     "name": "stderr",
     "output_type": "stream",
     "text": [
      "\n"
     ]
    },
    {
     "name": "stdout",
     "output_type": "stream",
     "text": [
      "11:38:22 | /om/user/katiemc/continuous_mws/cmws/examples/scene_understanding/util.py:127 | INFO: Error Ran out of input\n",
      "11:38:22 | /om/user/katiemc/continuous_mws/cmws/examples/scene_understanding/util.py:129 | INFO: Waiting for 2 seconds\n",
      "11:38:24 | /om/user/katiemc/continuous_mws/cmws/examples/scene_understanding/util.py:127 | INFO: Error Ran out of input\n",
      "11:38:24 | /om/user/katiemc/continuous_mws/cmws/examples/scene_understanding/util.py:129 | INFO: Waiting for 4 seconds\n",
      "color status:  True\n",
      "path:  /om/user/katiemc/continuous_mws/cmws/examples/scene_understanding/data/1_1/block_0.01/colorless/train.pt\n",
      "11:38:28 | /om/user/katiemc/continuous_mws/cmws/examples/scene_understanding/data.py:348 | INFO: Loading dataset (test = False)...\n",
      "11:38:28 | /om/user/katiemc/continuous_mws/cmws/examples/scene_understanding/data.py:352 | INFO: Dataset (test = False) loaded /om/user/katiemc/continuous_mws/cmws/examples/scene_understanding/data/1_1/block_0.01/colorless/train.pt\n",
      "11:38:28 | /om/user/katiemc/continuous_mws/cmws/memory.py:20 | INFO: Initializing memory\n"
     ]
    },
    {
     "name": "stderr",
     "output_type": "stream",
     "text": [
      "100%|██████████| 100/100 [00:00<00:00, 393.88it/s]\n"
     ]
    },
    {
     "name": "stdout",
     "output_type": "stream",
     "text": [
      "color status:  True\n",
      "path:  /om/user/katiemc/continuous_mws/cmws/examples/scene_understanding/data/1_1/block_0.01/colorless/train.pt\n",
      "11:38:29 | /om/user/katiemc/continuous_mws/cmws/examples/scene_understanding/data.py:348 | INFO: Loading dataset (test = False)...\n",
      "11:38:29 | /om/user/katiemc/continuous_mws/cmws/examples/scene_understanding/data.py:352 | INFO: Dataset (test = False) loaded /om/user/katiemc/continuous_mws/cmws/examples/scene_understanding/data/1_1/block_0.01/colorless/train.pt\n",
      "11:38:29 | /om/user/katiemc/continuous_mws/cmws/memory.py:20 | INFO: Initializing memory\n"
     ]
    },
    {
     "name": "stderr",
     "output_type": "stream",
     "text": [
      "100%|██████████| 100/100 [00:00<00:00, 574.36it/s]\n"
     ]
    },
    {
     "name": "stdout",
     "output_type": "stream",
     "text": [
      "color status:  True\n",
      "path:  /om/user/katiemc/continuous_mws/cmws/examples/scene_understanding/data/1_1/block_0.01/colorless/train.pt\n",
      "11:38:29 | /om/user/katiemc/continuous_mws/cmws/examples/scene_understanding/data.py:348 | INFO: Loading dataset (test = False)...\n",
      "11:38:29 | /om/user/katiemc/continuous_mws/cmws/examples/scene_understanding/data.py:352 | INFO: Dataset (test = False) loaded /om/user/katiemc/continuous_mws/cmws/examples/scene_understanding/data/1_1/block_0.01/colorless/train.pt\n",
      "11:38:29 | /om/user/katiemc/continuous_mws/cmws/memory.py:20 | INFO: Initializing memory\n"
     ]
    },
    {
     "name": "stderr",
     "output_type": "stream",
     "text": [
      "100%|██████████| 100/100 [00:00<00:00, 596.74it/s]\n"
     ]
    },
    {
     "name": "stdout",
     "output_type": "stream",
     "text": [
      "color status:  True\n",
      "path:  /om/user/katiemc/continuous_mws/cmws/examples/scene_understanding/data/1_1/block_0.01/colorless/train.pt\n",
      "11:38:29 | /om/user/katiemc/continuous_mws/cmws/examples/scene_understanding/data.py:348 | INFO: Loading dataset (test = False)...\n",
      "11:38:29 | /om/user/katiemc/continuous_mws/cmws/examples/scene_understanding/data.py:352 | INFO: Dataset (test = False) loaded /om/user/katiemc/continuous_mws/cmws/examples/scene_understanding/data/1_1/block_0.01/colorless/train.pt\n",
      "11:38:29 | /om/user/katiemc/continuous_mws/cmws/memory.py:20 | INFO: Initializing memory\n"
     ]
    },
    {
     "name": "stderr",
     "output_type": "stream",
     "text": [
      "100%|██████████| 100/100 [00:00<00:00, 551.91it/s]\n"
     ]
    },
    {
     "name": "stdout",
     "output_type": "stream",
     "text": [
      "11:38:31 | /om/user/katiemc/continuous_mws/cmws/examples/scene_understanding/util.py:127 | INFO: Error Ran out of input\n",
      "11:38:31 | /om/user/katiemc/continuous_mws/cmws/examples/scene_understanding/util.py:129 | INFO: Waiting for 1 seconds\n",
      "11:38:32 | /om/user/katiemc/continuous_mws/cmws/examples/scene_understanding/util.py:127 | INFO: Error Ran out of input\n",
      "11:38:32 | /om/user/katiemc/continuous_mws/cmws/examples/scene_understanding/util.py:129 | INFO: Waiting for 2 seconds\n",
      "11:38:34 | /om/user/katiemc/continuous_mws/cmws/examples/scene_understanding/util.py:127 | INFO: Error Ran out of input\n",
      "11:38:34 | /om/user/katiemc/continuous_mws/cmws/examples/scene_understanding/util.py:129 | INFO: Waiting for 4 seconds\n",
      "11:38:39 | /om/user/katiemc/continuous_mws/cmws/examples/scene_understanding/util.py:127 | INFO: Error Ran out of input\n",
      "11:38:39 | /om/user/katiemc/continuous_mws/cmws/examples/scene_understanding/util.py:129 | INFO: Waiting for 1 seconds\n",
      "11:38:40 | /om/user/katiemc/continuous_mws/cmws/examples/scene_understanding/util.py:127 | INFO: Error Ran out of input\n",
      "11:38:40 | /om/user/katiemc/continuous_mws/cmws/examples/scene_understanding/util.py:129 | INFO: Waiting for 2 seconds\n",
      "11:38:42 | /om/user/katiemc/continuous_mws/cmws/examples/scene_understanding/util.py:127 | INFO: Error Ran out of input\n",
      "11:38:42 | /om/user/katiemc/continuous_mws/cmws/examples/scene_understanding/util.py:129 | INFO: Waiting for 4 seconds\n",
      "11:38:47 | /om/user/katiemc/continuous_mws/cmws/examples/scene_understanding/util.py:127 | INFO: Error Ran out of input\n",
      "11:38:47 | /om/user/katiemc/continuous_mws/cmws/examples/scene_understanding/util.py:129 | INFO: Waiting for 1 seconds\n",
      "11:38:48 | /om/user/katiemc/continuous_mws/cmws/examples/scene_understanding/util.py:127 | INFO: Error Ran out of input\n",
      "11:38:48 | /om/user/katiemc/continuous_mws/cmws/examples/scene_understanding/util.py:129 | INFO: Waiting for 2 seconds\n",
      "11:38:50 | /om/user/katiemc/continuous_mws/cmws/examples/scene_understanding/util.py:127 | INFO: Error Ran out of input\n",
      "11:38:50 | /om/user/katiemc/continuous_mws/cmws/examples/scene_understanding/util.py:129 | INFO: Waiting for 4 seconds\n"
     ]
    },
    {
     "name": "stderr",
     "output_type": "stream",
     "text": [
      "/home/katiemc/.conda/envs/cmws/lib/python3.7/site-packages/numpy/lib/nanfunctions.py:1114: RuntimeWarning: All-NaN slice encountered\n",
      "  overwrite_input=overwrite_input)\n",
      "/home/katiemc/.conda/envs/cmws/lib/python3.7/site-packages/numpy/lib/nanfunctions.py:1390: RuntimeWarning: All-NaN slice encountered\n",
      "  overwrite_input, interpolation)\n",
      "/home/katiemc/.conda/envs/cmws/lib/python3.7/site-packages/numpy/lib/nanfunctions.py:1114: RuntimeWarning: All-NaN slice encountered\n",
      "  overwrite_input=overwrite_input)\n",
      "/home/katiemc/.conda/envs/cmws/lib/python3.7/site-packages/numpy/lib/nanfunctions.py:1390: RuntimeWarning: All-NaN slice encountered\n",
      "  overwrite_input, interpolation)\n",
      "/home/katiemc/.conda/envs/cmws/lib/python3.7/site-packages/numpy/lib/nanfunctions.py:1114: RuntimeWarning: All-NaN slice encountered\n",
      "  overwrite_input=overwrite_input)\n",
      "/home/katiemc/.conda/envs/cmws/lib/python3.7/site-packages/numpy/lib/nanfunctions.py:1390: RuntimeWarning: All-NaN slice encountered\n",
      "  overwrite_input, interpolation)\n"
     ]
    },
    {
     "name": "stdout",
     "output_type": "stream",
     "text": [
      "11:38:56 | /om/user/katiemc/continuous_mws/cmws/util.py:293 | INFO: Saved to ../save/all_algs_noColor_block/losses_noColorBlocks_overlay.pdf\n"
     ]
    }
   ],
   "source": [
    "experiment_names = [\"cmws_vs_rws_learnColor\",\"cmws_vs_rws_noColor\",\"all_algs_noColor_block\"]\n",
    "file_tags = [\"learnColor\", \"noColor\",\"noColorBlocks\"]\n",
    "num_iters_show=5000\n",
    "for experiment_name,file_tag in zip(experiment_names,file_tags): \n",
    "    get_formal_overlay_plots(experiment_name, file_tag, grid_sizes=[2], algorithms=[\"cmws_5\", \"rws\", \"vimco_2\",\"reinforce\"],\n",
    "                       num_iters_show=num_iters_show)\n"
   ]
  },
  {
   "cell_type": "code",
   "execution_count": 3,
   "id": "b6646d29",
   "metadata": {},
   "outputs": [],
   "source": [
    "# # get unaggregated shrink_factors\n",
    "# experiment_name = \"cmws_vs_rws_learnColor_diffShrink\"\n",
    "# shrink_factors = [0.02, 0.05, 0.1, 0.2]\n",
    "# get_analysis_plots(experiment_name, grid_sizes=[2], algorithms=[\"cmws_4\", \"rws\"],\n",
    "#                   aggregate_shrink=False, shrink_factors=shrink_factors)\n"
   ]
  },
  {
   "cell_type": "code",
   "execution_count": null,
   "id": "3b8f7db4",
   "metadata": {},
   "outputs": [],
   "source": []
  }
 ],
 "metadata": {
  "kernelspec": {
   "display_name": "Python 3",
   "language": "python",
   "name": "python3"
  },
  "language_info": {
   "codemirror_mode": {
    "name": "ipython",
    "version": 3
   },
   "file_extension": ".py",
   "mimetype": "text/x-python",
   "name": "python",
   "nbconvert_exporter": "python",
   "pygments_lexer": "ipython3",
   "version": "3.7.4"
  }
 },
 "nbformat": 4,
 "nbformat_minor": 5
}
