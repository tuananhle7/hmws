{
 "cells": [
  {
   "cell_type": "code",
   "execution_count": 1,
   "id": "d5c18b7f",
   "metadata": {},
   "outputs": [],
   "source": [
    "'''\n",
    "Notebook to debug figure plots, e.g. sampling from memory\n",
    "'''\n",
    "\n",
    "import os\n",
    "\n",
    "import cmws\n",
    "import matplotlib.pyplot as plt\n",
    "import seaborn as sns\n",
    "import torch\n",
    "from cmws import util\n",
    "from cmws.examples.scene_understanding import data, render, run\n",
    "from cmws.examples.scene_understanding import util as scene3d_util \n",
    "import seaborn as sns\n",
    "import numpy as np\n",
    "from cmws.examples.scene_understanding.plot import *\n",
    "\n",
    "\n",
    "def importance_sample_memory(\n",
    "    num_particles, obs, obs_id, generative_model, guide, memory, img_size=256\n",
    "):\n",
    "    # modifed from: https://github.com/tuananhle7/continuous_mws/blob/a43dd325e1e2c765d9811773ff5885b6f5f400e4/cmws/examples/timeseries/inference.py#L239\n",
    "    \"\"\"\n",
    "    Args\n",
    "        num_particles\n",
    "        num_svi_iterations\n",
    "        obs [batch_size, num_timesteps]\n",
    "        obs_id [batch_size]\n",
    "        generative_model\n",
    "        guide\n",
    "        memory\n",
    "    Returns\n",
    "        latent\n",
    "            raw_expression [memory_size, batch_size, max_num_chars]\n",
    "            eos [memory_size, batch_size, max_num_chars]\n",
    "            raw_gp_params [memory_size, batch_size, max_num_chars, gp_params_dim]\n",
    "        log_marginal_joint [memory_size, batch_size]\n",
    "    \"\"\"\n",
    "    # Extract\n",
    "    batch_size = obs.shape[0]\n",
    "    memory_size = memory.size\n",
    "    \n",
    "    print(\"sampling discrete\")\n",
    "\n",
    "    # Sample discrete latent\n",
    "    # [memory_size, batch_size, ...]\n",
    "    discrete_latent = memory.select(obs_id)\n",
    "    \n",
    "    print(\"computing scores\")\n",
    "\n",
    "    # COMPUTE SCORES s_i = log p(d_i, x) for i  {1, ..., M}\n",
    "    # [memory_size, batch_size]\n",
    "    log_marginal_joint = cmws.losses.get_log_marginal_joint(\n",
    "        generative_model, guide, discrete_latent, obs, num_particles\n",
    "    )\n",
    "    \n",
    "    print(\"expanding and getting continuous\")\n",
    "\n",
    "    # Sample svi-optimized q(z_c | z_d, x)\n",
    "    # -- Expand obs\n",
    "    # [memory_size, batch_size, 3, img_size, img_size]\n",
    "    obs_expanded = obs[None].expand([memory_size, batch_size, 3, img_size, img_size])\n",
    "    # -- SVI\n",
    "    continuous_latent = guide.sample_continuous(obs_expanded, discrete_latent)\n",
    "\n",
    "    # Combine latents\n",
    "    latent = discrete_latent[0], discrete_latent[1], continuous_latent\n",
    "\n",
    "    return latent, log_marginal_joint\n"
   ]
  },
  {
   "cell_type": "code",
   "execution_count": 2,
   "id": "0850ae75",
   "metadata": {},
   "outputs": [
    {
     "name": "stdout",
     "output_type": "stream",
     "text": [
      "color status:  False\n",
      "path:  /om/user/katiemc/continuous_mws/cmws/examples/scene_understanding/data/1_1/cube_0.01/train.pt\n",
      "23:37:12 | /om/user/katiemc/continuous_mws/cmws/examples/scene_understanding/data.py:348 | INFO: Loading dataset (test = False)...\n",
      "23:37:12 | /om/user/katiemc/continuous_mws/cmws/examples/scene_understanding/data.py:352 | INFO: Dataset (test = False) loaded /om/user/katiemc/continuous_mws/cmws/examples/scene_understanding/data/1_1/cube_0.01/train.pt\n",
      "23:37:12 | /om/user/katiemc/continuous_mws/cmws/memory.py:20 | INFO: Initializing memory\n"
     ]
    },
    {
     "name": "stderr",
     "output_type": "stream",
     "text": [
      "100%|██████████| 100/100 [00:00<00:00, 982.87it/s]\n"
     ]
    },
    {
     "name": "stdout",
     "output_type": "stream",
     "text": [
      "23:37:13 | /om/user/katiemc/continuous_mws/cmws/util.py:293 | INFO: Saved to save/cmws_vs_rws_learnColor/cmws_4_2_0.01_2/stats.png\n",
      "color status:  False\n",
      "path:  /om/user/katiemc/continuous_mws/cmws/examples/scene_understanding/data/2_2/cube_0.01/train.pt\n",
      "23:37:13 | /om/user/katiemc/continuous_mws/cmws/examples/scene_understanding/data.py:348 | INFO: Loading dataset (test = False)...\n",
      "23:37:13 | /om/user/katiemc/continuous_mws/cmws/examples/scene_understanding/data.py:352 | INFO: Dataset (test = False) loaded /om/user/katiemc/continuous_mws/cmws/examples/scene_understanding/data/2_2/cube_0.01/train.pt\n"
     ]
    }
   ],
   "source": [
    "experiment_name = \"cmws_vs_rws_learnColor\"\n",
    "device = \"cpu\"\n",
    "save_dir = f\"../save/{experiment_name}\"\n",
    "checkpoint_paths = []\n",
    "for config_name in sorted(os.listdir(save_dir)):\n",
    "    checkpoint_paths.append(util.get_checkpoint_path(experiment_name, config_name, -1))\n",
    "checkpoint_path = 'save/cmws_vs_rws_learnColor/cmws_4_2_0.01_2/checkpoints/latest.pt'#checkpoint_paths[0]\n",
    "checkpoint_path = f\"../{checkpoint_path}\"\n",
    "model, optimizer, stats, run_args = scene3d_util.load_checkpoint(\n",
    "                            checkpoint_path, device=\"cpu\"\n",
    "                        )\n",
    "generative_model, guide = model[\"generative_model\"], model[\"guide\"]\n",
    "num_iterations = len(stats.losses) # note: can use to filter out jobs!\n",
    "save_dir = util.get_save_dir(run_args.experiment_name, run.get_config_name(run_args))\n",
    "\n",
    "# Plot stats\n",
    "plot_stats(f\"{save_dir}/stats.png\", stats)\n",
    "\n",
    "# Plot reconstructions and other things\n",
    "# Test data\n",
    "# NOTE: Plotting the train dataset only\n",
    "train_dataset = data.SceneUnderstandingDataset(\n",
    "    device, run_args.num_grid_rows, run_args.num_grid_cols, test=False,\n",
    "    remove_color=(run_args.remove_color == 1),\n",
    "    mode=run_args.mode\n",
    ")\n",
    "obs, obs_id = train_dataset[:10]\n"
   ]
  },
  {
   "cell_type": "code",
   "execution_count": 3,
   "id": "3b8f7db4",
   "metadata": {},
   "outputs": [],
   "source": [
    "memory = model[\"memory\"]"
   ]
  },
  {
   "cell_type": "code",
   "execution_count": 4,
   "id": "df81288f",
   "metadata": {},
   "outputs": [
    {
     "name": "stdout",
     "output_type": "stream",
     "text": [
      "sampling discrete\n",
      "computing scores\n",
      "raw locations OBS:  torch.Size([5, 5, 10, 2, 2, 3])\n",
      "SIZES:  torch.Size([250, 4, 3])\n",
      "expanding and getting continuous\n"
     ]
    }
   ],
   "source": [
    "obs = obs.squeeze(1)\n",
    "num_test_obs, num_channels, im_size, _ = obs.shape\n",
    "im_size = 128\n",
    "num_samples = 1\n",
    "\n",
    "num_particles = memory.size\n",
    "latent, log_weight = importance_sample_memory(\n",
    "    num_particles, obs, obs_id, generative_model, guide, memory, im_size\n",
    ")\n",
    "\n",
    "num_blocks, stacking_program, raw_locations = latent\n",
    "\n",
    "# Sort by log weight\n",
    "# [num_test_obs, num_particles], [num_test_obs, num_particles]\n",
    "_, sorted_indices = torch.sort(log_weight.T, descending=True)\n",
    "\n",
    "# Sample predictions\n",
    "# -- Expand obs\n",
    "obs_expanded = obs[None].expand(num_particles, num_test_obs, 3, im_size, im_size)"
   ]
  },
  {
   "cell_type": "code",
   "execution_count": 5,
   "id": "593e80bb",
   "metadata": {},
   "outputs": [],
   "source": [
    "# # -- Sample predictions\n",
    "# obs_predictions = generative_model.sample_obs_predictions(latent, obs_expanded, [num_samples])\n",
    "# predictive_dist = generative_model.get_predictive_dist(latent, obs_expanded)\n",
    "# predictive_mean = predictive_dist.loc\n",
    "# predictive_std = predictive_dist.covariance_matrix.diagonal(dim1=-2, dim2=-1).sqrt()\n",
    "# predictive_low = predictive_mean - 2 * predictive_std\n",
    "# predictive_high = predictive_mean + 2 * predictive_std"
   ]
  },
  {
   "cell_type": "code",
   "execution_count": 6,
   "id": "84f67d1f",
   "metadata": {},
   "outputs": [],
   "source": [
    "test_obs_id = 8\n",
    "particle_id = 4 \n",
    "\n",
    "sorted_particle_id = sorted_indices[test_obs_id, particle_id]\n"
   ]
  },
  {
   "cell_type": "code",
   "execution_count": 7,
   "id": "5530a472",
   "metadata": {},
   "outputs": [],
   "source": [
    "num_blocks_selected = num_blocks[sorted_particle_id, test_obs_id]\n",
    "stacking_program_selected = stacking_program[sorted_particle_id, test_obs_id]\n",
    "raw_locations_selected = raw_locations[sorted_particle_id, test_obs_id]"
   ]
  },
  {
   "cell_type": "code",
   "execution_count": 8,
   "id": "dfad8a61",
   "metadata": {},
   "outputs": [
    {
     "data": {
      "text/plain": [
       "<matplotlib.image.AxesImage at 0x2ae4be021f90>"
      ]
     },
     "execution_count": 8,
     "metadata": {},
     "output_type": "execute_result"
    },
    {
     "data": {
      "image/png": "[encoded data removed]",
      "text/plain": [
       "<Figure size 432x288 with 1 Axes>"
      ]
     },
     "metadata": {
      "needs_background": "light"
     },
     "output_type": "display_data"
    }
   ],
   "source": [
    "img = obs_expanded[0][test_obs_id].permute(1,2,0)\n",
    "plt.imshow(img)"
   ]
  },
  {
   "cell_type": "code",
   "execution_count": 9,
   "id": "6fddb161",
   "metadata": {},
   "outputs": [
    {
     "data": {
      "text/plain": [
       "torch.Size([5, 10, 3, 128, 128])"
      ]
     },
     "execution_count": 9,
     "metadata": {},
     "output_type": "execute_result"
    }
   ],
   "source": [
    "obs_expanded.shape"
   ]
  },
  {
   "cell_type": "code",
   "execution_count": 10,
   "id": "e954e4bc",
   "metadata": {},
   "outputs": [
    {
     "name": "stdout",
     "output_type": "stream",
     "text": [
      "raw locations OBS:  torch.Size([2, 2, 3])\n",
      "SIZES:  torch.Size([1, 4, 3])\n"
     ]
    }
   ],
   "source": [
    "sampled_latent = (num_blocks_selected, stacking_program_selected, raw_locations_selected)\n",
    "sampled_obs = generative_model.get_obs_loc(sampled_latent)"
   ]
  },
  {
   "cell_type": "code",
   "execution_count": 11,
   "id": "6885a028",
   "metadata": {},
   "outputs": [
    {
     "data": {
      "text/plain": [
       "<matplotlib.image.AxesImage at 0x2ae4be40e6d0>"
      ]
     },
     "execution_count": 11,
     "metadata": {},
     "output_type": "execute_result"
    },
    {
     "data": {
      "image/png": "[encoded data removed]",
      "text/plain": [
       "<Figure size 432x288 with 1 Axes>"
      ]
     },
     "metadata": {
      "needs_background": "light"
     },
     "output_type": "display_data"
    }
   ],
   "source": [
    "img = sampled_obs.permute(1,2,0).detach().numpy()\n",
    "plt.imshow(img)"
   ]
  },
  {
   "cell_type": "code",
   "execution_count": 12,
   "id": "72dd6577",
   "metadata": {},
   "outputs": [
    {
     "data": {
      "text/plain": [
       "torch.Size([5, 10, 3, 128, 128])"
      ]
     },
     "execution_count": 12,
     "metadata": {},
     "output_type": "execute_result"
    }
   ],
   "source": [
    "obs_expanded.shape"
   ]
  },
  {
   "cell_type": "code",
   "execution_count": 13,
   "id": "e492773c",
   "metadata": {},
   "outputs": [
    {
     "data": {
      "text/plain": [
       "tensor([[-45282.5391, -45274.8594, -45267.8789, -45226.4375, -45186.2148],\n",
       "        [-45248.0195, -45242.9102, -45240.2031, -45225.9805, -45207.3398],\n",
       "        [-45254.2305, -45253.1992, -45258.4922, -45247.9414, -45196.4492],\n",
       "        [-45275.6250, -45264.5547, -45259.4492, -45253.2617, -45210.2070],\n",
       "        [-45319.5273, -45307.2305, -45308.7969, -45284.0703, -45271.2500],\n",
       "        [-45254.2656, -45252.7812, -45254.2617, -45236.0000, -45228.0195],\n",
       "        [-45278.0078, -45288.3438, -45272.6055, -45270.9570, -45218.9648],\n",
       "        [-45268.9609, -45261.8594, -45252.3438, -45238.4258, -45234.2734],\n",
       "        [-45250.4023, -45247.6797, -45239.2891, -45239.5859, -45212.2188],\n",
       "        [-45243.9727, -45238.0547, -45224.7422, -45207.0469, -45206.9336]],\n",
       "       grad_fn=<PermuteBackward>)"
      ]
     },
     "execution_count": 13,
     "metadata": {},
     "output_type": "execute_result"
    }
   ],
   "source": [
    "log_weight.T"
   ]
  },
  {
   "cell_type": "code",
   "execution_count": 14,
   "id": "e49e99b9",
   "metadata": {},
   "outputs": [
    {
     "data": {
      "text/plain": [
       "True"
      ]
     },
     "execution_count": 14,
     "metadata": {},
     "output_type": "execute_result"
    }
   ],
   "source": [
    "log_weight.T[0][0].item() < log_weight.T[0][1].item()"
   ]
  },
  {
   "cell_type": "code",
   "execution_count": 15,
   "id": "45b4470c",
   "metadata": {},
   "outputs": [
    {
     "data": {
      "image/png": "[encoded data removed]",
      "text/plain": [
       "<Figure size 1080x576 with 20 Axes>"
      ]
     },
     "metadata": {
      "needs_background": "light"
     },
     "output_type": "display_data"
    }
   ],
   "source": [
    "num_rows = 4\n",
    "num_cols = 5 # number to show\n",
    "fig, axss = plt.subplots(\n",
    "    num_rows,\n",
    "    num_cols,\n",
    "    figsize=(3 * num_cols, 2 * num_rows),\n",
    "    sharex=True,\n",
    "    sharey=True,\n",
    "    squeeze=False,\n",
    ")"
   ]
  },
  {
   "cell_type": "code",
   "execution_count": 16,
   "id": "e3b82fd3",
   "metadata": {},
   "outputs": [
    {
     "name": "stdout",
     "output_type": "stream",
     "text": [
      "raw locations OBS:  torch.Size([2, 2, 3])\n",
      "SIZES:  torch.Size([1, 4, 3])\n",
      "raw locations OBS:  torch.Size([2, 2, 3])\n",
      "SIZES:  torch.Size([1, 4, 3])\n",
      "raw locations OBS:  torch.Size([2, 2, 3])\n",
      "SIZES:  torch.Size([1, 4, 3])\n",
      "raw locations OBS:  torch.Size([2, 2, 3])\n",
      "SIZES:  torch.Size([1, 4, 3])\n",
      "raw locations OBS:  torch.Size([2, 2, 3])\n",
      "SIZES:  torch.Size([1, 4, 3])\n",
      "raw locations OBS:  torch.Size([2, 2, 3])\n",
      "SIZES:  torch.Size([1, 4, 3])\n",
      "raw locations OBS:  torch.Size([2, 2, 3])\n",
      "SIZES:  torch.Size([1, 4, 3])\n",
      "raw locations OBS:  torch.Size([2, 2, 3])\n",
      "SIZES:  torch.Size([1, 4, 3])\n",
      "raw locations OBS:  torch.Size([2, 2, 3])\n",
      "SIZES:  torch.Size([1, 4, 3])\n",
      "raw locations OBS:  torch.Size([2, 2, 3])\n",
      "SIZES:  torch.Size([1, 4, 3])\n",
      "raw locations OBS:  torch.Size([2, 2, 3])\n",
      "SIZES:  torch.Size([1, 4, 3])\n",
      "raw locations OBS:  torch.Size([2, 2, 3])\n",
      "SIZES:  torch.Size([1, 4, 3])\n",
      "raw locations OBS:  torch.Size([2, 2, 3])\n",
      "SIZES:  torch.Size([1, 4, 3])\n",
      "raw locations OBS:  torch.Size([2, 2, 3])\n",
      "SIZES:  torch.Size([1, 4, 3])\n",
      "raw locations OBS:  torch.Size([2, 2, 3])\n",
      "SIZES:  torch.Size([1, 4, 3])\n",
      "23:39:34 | /om/user/katiemc/continuous_mws/cmws/util.py:293 | INFO: Saved to sample_memory.png\n"
     ]
    }
   ],
   "source": [
    "for row in range(num_rows): \n",
    "    for test_obs_id in range(num_cols): \n",
    "        ax = axss[row][test_obs_id]\n",
    "        if row == 0: # pull from observations \n",
    "            img = obs_expanded[0][test_obs_id].permute(1,2,0)\n",
    "        else: \n",
    "            particle_id = row - 1\n",
    "            sorted_particle_id = sorted_indices[test_obs_id, particle_id]\n",
    "            \n",
    "            num_blocks_selected = num_blocks[sorted_particle_id, test_obs_id]\n",
    "            stacking_program_selected = stacking_program[sorted_particle_id, test_obs_id]\n",
    "            raw_locations_selected = raw_locations[sorted_particle_id, test_obs_id]\n",
    "            \n",
    "            sampled_latent = (num_blocks_selected, stacking_program_selected, raw_locations_selected)\n",
    "            \n",
    "            camera_elevation = 30\n",
    "            camera_azimuth = -40 # 40\n",
    "            \n",
    "            sampled_obs = generative_model.get_obs_loc(sampled_latent, (camera_elevation, camera_azimuth))\n",
    "            \n",
    "            img = sampled_obs.permute(1,2,0).detach().numpy()\n",
    "            ax.text(\n",
    "                0.95,\n",
    "                0.95,\n",
    "                f\"{log_weight[sorted_particle_id, test_obs_id].item():.0f}\",\n",
    "                transform=ax.transAxes,\n",
    "                fontsize=7,\n",
    "                va=\"top\",\n",
    "                ha=\"right\",\n",
    "                color=\"black\",\n",
    "            )\n",
    "        ax.imshow(img)\n",
    "        ax.set_xticks([])\n",
    "        ax.set_yticks([])\n",
    "\n",
    "path = \"sample_memory.png\"\n",
    "util.save_fig(fig, path)"
   ]
  },
  {
   "cell_type": "code",
   "execution_count": 18,
   "id": "4ec84896",
   "metadata": {},
   "outputs": [
    {
     "data": {
      "text/plain": [
       "[<matplotlib.lines.Line2D at 0x2ae4beae0790>]"
      ]
     },
     "execution_count": 18,
     "metadata": {},
     "output_type": "execute_result"
    },
    {
     "data": {
      "image/png": "[encoded data removed]",
      "text/plain": [
       "<Figure size 792x432 with 4 Axes>"
      ]
     },
     "metadata": {
      "needs_background": "light"
     },
     "output_type": "display_data"
    }
   ],
   "source": [
    "fig = plt.figure(figsize=(11, 6))\n",
    "\n",
    "x = np.linspace(0., 5., 100)\n",
    "y = np.sin(x)\n",
    "\n",
    "rows = 2\n",
    "columns = 3\n",
    "\n",
    "x = np.linspace(0., 5., 100)\n",
    "y = np.sin(x)\n",
    "\n",
    "grid = plt.GridSpec(rows, columns, wspace = .25, hspace = .25)\n",
    "\n",
    "plt.subplot(grid[0, :])\n",
    "plt.annotate('sub1', xy = (0.5, -0.5), va = 'center', ha = 'center',  weight='bold', fontsize = 15)\n",
    "plt.plot(x, y)\n",
    "\n",
    "plt.subplot(grid[1, 0])\n",
    "plt.annotate('sub2', xy = (0.5, -0.5), va = 'center', ha = 'center',  weight='bold', fontsize = 15)\n",
    "plt.plot(x, y)\n",
    "\n",
    "plt.subplot(grid[1, 1])\n",
    "plt.annotate('sub3', xy = (0.5, -0.5), va = 'center', ha = 'center',  weight='bold', fontsize = 15)\n",
    "plt.plot(x, y)\n",
    "\n",
    "plt.subplot(grid[1, 2])\n",
    "plt.annotate('sub4', xy = (0.5, -0.5), va = 'center', ha = 'center',  weight='bold', fontsize = 15)\n",
    "plt.plot(x, y)"
   ]
  },
  {
   "cell_type": "code",
   "execution_count": null,
   "id": "b611b639",
   "metadata": {},
   "outputs": [
    {
     "name": "stdout",
     "output_type": "stream",
     "text": [
      "yy:  0\n",
      "raw locations OBS:  torch.Size([2, 2, 3])\n",
      "SIZES:  torch.Size([1, 4, 3])\n",
      "yy:  1\n",
      "raw locations OBS:  torch.Size([2, 2, 3])\n",
      "SIZES:  torch.Size([1, 4, 3])\n",
      "yy:  0\n",
      "raw locations OBS:  torch.Size([2, 2, 3])\n",
      "SIZES:  torch.Size([1, 4, 3])\n",
      "yy:  1\n",
      "raw locations OBS:  torch.Size([2, 2, 3])\n",
      "SIZES:  torch.Size([1, 4, 3])\n",
      "yy:  0\n",
      "raw locations OBS:  torch.Size([2, 2, 3])\n",
      "SIZES:  torch.Size([1, 4, 3])\n",
      "yy:  1\n",
      "raw locations OBS:  torch.Size([2, 2, 3])\n",
      "SIZES:  torch.Size([1, 4, 3])\n",
      "yy:  0\n",
      "raw locations OBS:  torch.Size([2, 2, 3])\n",
      "SIZES:  torch.Size([1, 4, 3])\n",
      "yy:  1\n",
      "raw locations OBS:  torch.Size([2, 2, 3])\n",
      "SIZES:  torch.Size([1, 4, 3])\n"
     ]
    }
   ],
   "source": [
    "import matplotlib.gridspec as gridspec\n",
    "text_width = 6.75\n",
    "column_width = 6.5 / 2.\n",
    "text_height = 9.\n",
    "golden = (1 + 5 ** 0.5) / 2 # golden ratio\n",
    "\n",
    "rows = 4\n",
    "cols = 3#5\n",
    "\n",
    "# for the samples from memory\n",
    "views = [-40, 40] # azimuths\n",
    "num_views = len(views)\n",
    "num_samples = 3 \n",
    "\n",
    "num_primitives = generative_model.num_primitives\n",
    "\n",
    "# gridspec inside gridspec\n",
    "f = plt.figure(figsize=(12,6), dpi=600)\n",
    "# f = plt.figure(figsize=(text_width, rows/cols * text_width), dpi=600)\n",
    "gs0 = gridspec.GridSpec(rows, cols, figure=f)\n",
    "\n",
    "high_res_img = 256\n",
    "\n",
    "generative_model.im_size = high_res_img#512 # change for higher res\n",
    "\n",
    "for x in range(rows):\n",
    "    if x >= 2: \n",
    "        if x == 3: # show primitives\n",
    "            # 1 row, num primitives = num cols\n",
    "            print(\"in grid spec\")\n",
    "            gs00 = gridspec.GridSpecFromSubplotSpec(1, num_primitives, subplot_spec=gs0[x, 0:],\n",
    "                                               wspace=0.025, hspace=0)\n",
    "            # Init\n",
    "            location = torch.tensor([0, 0, -1], device=device).float()\n",
    "            for i in range(num_primitives): \n",
    "                print(\"primitive: \", i)\n",
    "                ax = f.add_subplot(gs00[0, i])\n",
    "                obs = render.render_block(\n",
    "                    generative_model.primitives[i].size,\n",
    "                    generative_model.primitives[i].color,\n",
    "                    location,\n",
    "                    im_size=high_res_img,\n",
    "                    remove_color=False,\n",
    "                    mode=\"cube\",\n",
    "#                     camera_elevation=30,\n",
    "#                     camera_azimuth=40\n",
    "                )\n",
    "                ax.imshow(obs.detach().numpy())\n",
    "                print(\"created image: \", obs.shape)\n",
    "                ax.set_xticks([])\n",
    "                ax.set_yticks([])\n",
    "                if i == 0: # middle entry\n",
    "                    ax.set_ylabel(f'Primitives', fontsize=10, fontfamily='serif')\n",
    "            continue # skip the inner loop of cols \n",
    "        else: continue \n",
    "    for y in range(cols):\n",
    "        test_obs_id = y \n",
    "        if x == 0: # observations \n",
    "            ax = f.add_subplot(gs0[x, y])\n",
    "            img = obs_expanded[0][test_obs_id].permute(1,2,0)\n",
    "            ax.imshow(img)\n",
    "            ax.set_xticks([])\n",
    "            ax.set_yticks([])\n",
    "            if y == 0: # middle entry\n",
    "                ax.set_ylabel(f'Observations', fontsize=10, fontfamily='serif')\n",
    "        else: \n",
    "            gs00 = gridspec.GridSpecFromSubplotSpec(num_samples, num_views, subplot_spec=gs0[x:-1, y],\n",
    "                                               wspace=0.025, hspace=0)\n",
    "            for xx in range(num_samples): \n",
    "                for yy in range(num_views): \n",
    "                    print(\"yy: \", yy)\n",
    "                    ax = f.add_subplot(gs00[xx, yy])\n",
    "                    \n",
    "                    particle_id = xx\n",
    "                    sorted_particle_id = sorted_indices[test_obs_id, particle_id]\n",
    "\n",
    "                    num_blocks_selected = num_blocks[sorted_particle_id, test_obs_id]\n",
    "                    stacking_program_selected = stacking_program[sorted_particle_id, test_obs_id]\n",
    "                    raw_locations_selected = raw_locations[sorted_particle_id, test_obs_id]\n",
    "\n",
    "                    sampled_latent = (num_blocks_selected, stacking_program_selected, raw_locations_selected)\n",
    "\n",
    "                    camera_elevation = 30\n",
    "                    camera_azimuth = views[yy]\n",
    "\n",
    "                    sampled_obs = generative_model.get_obs_loc(sampled_latent, (camera_elevation, camera_azimuth))\n",
    "\n",
    "                    img = sampled_obs.permute(1,2,0).detach().numpy()\n",
    "#                     ax.text(\n",
    "#                         0.95,\n",
    "#                         0.95,\n",
    "#                         f\"{log_weight[sorted_particle_id, test_obs_id].item():.0f}\",\n",
    "#                         transform=ax.transAxes,\n",
    "#                         fontsize=7,\n",
    "#                         va=\"top\",\n",
    "#                         ha=\"right\",\n",
    "#                         color=\"black\",\n",
    "#                     )\n",
    "                    ax.imshow(img)\n",
    "                    ax.set_xticks([])\n",
    "                    ax.set_yticks([])\n",
    "                if y == 0 and yy == 0 and xx == 1: # middle entry\n",
    "                    ax.set_ylabel(f'Posterior Samples', fontsize=10, fontfamily='serif')\n",
    "\n",
    "path = \"sample_memory.pdf\"\n",
    "util.save_fig(f, path, dpi=200)\n",
    "\n"
   ]
  },
  {
   "cell_type": "code",
   "execution_count": 24,
   "id": "66f59de2",
   "metadata": {},
   "outputs": [
    {
     "name": "stdout",
     "output_type": "stream",
     "text": [
      "23:55:41 | /om/user/katiemc/continuous_mws/cmws/util.py:293 | INFO: Saved to sample_memory2.png\n"
     ]
    }
   ],
   "source": [
    "util.save_fig(f, path)"
   ]
  },
  {
   "cell_type": "code",
   "execution_count": 40,
   "id": "af729541",
   "metadata": {},
   "outputs": [
    {
     "data": {
      "text/plain": [
       "5"
      ]
     },
     "execution_count": 40,
     "metadata": {},
     "output_type": "execute_result"
    }
   ],
   "source": [
    "num_primitives"
   ]
  },
  {
   "cell_type": "code",
   "execution_count": null,
   "id": "d6fd2266",
   "metadata": {},
   "outputs": [],
   "source": []
  }
 ],
 "metadata": {
  "kernelspec": {
   "display_name": "Python 3",
   "language": "python",
   "name": "python3"
  },
  "language_info": {
   "codemirror_mode": {
    "name": "ipython",
    "version": 3
   },
   "file_extension": ".py",
   "mimetype": "text/x-python",
   "name": "python",
   "nbconvert_exporter": "python",
   "pygments_lexer": "ipython3",
   "version": "3.7.4"
  }
 },
 "nbformat": 4,
 "nbformat_minor": 5
}
