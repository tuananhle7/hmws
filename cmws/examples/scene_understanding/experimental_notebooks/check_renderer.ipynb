{
 "cells": [
  {
   "cell_type": "code",
   "execution_count": 1,
   "metadata": {},
   "outputs": [],
   "source": [
    "from cmws.examples.scene_understanding.models import scene_understanding\n",
    "import matplotlib.pyplot as plt\n",
    "import math\n",
    "import numpy as np\n",
    "import torch\n",
    "import cmws.examples.scene_understanding.render"
   ]
  },
  {
   "cell_type": "code",
   "execution_count": 2,
   "metadata": {},
   "outputs": [],
   "source": [
    "device = \"cuda\"\n",
    "num_grid_rows, num_grid_cols, num_primitives, max_num_blocks = 3, 3, 3, 3\n",
    "shape = [2, 3]\n",
    "\n",
    "generative_model = scene_understanding.GenerativeModel(num_grid_rows, num_grid_cols, num_primitives, \n",
    "                                                       max_num_blocks, im_size=512)\n",
    "\n",
    "generative_model.primitives[0].color = torch.tensor([1., 0., 0.], device=device)\n",
    "generative_model.primitives[0].size = torch.tensor(0.3, device=device)\n",
    "generative_model.primitives[1].color = torch.tensor([0., 1., 0.], device=device)\n",
    "generative_model.primitives[1].size = torch.tensor(0.4, device=device)\n",
    "generative_model.primitives[2].color = torch.tensor([0., 0., 1.], device=device)\n",
    "generative_model.primitives[2].size = torch.tensor(0.5, device=device)\n",
    "generative_model.sigma.data = torch.tensor(1e-10, device=device)\n",
    "generative_model.gamma.data = torch.tensor(1e-10, device=device)\n",
    "\n",
    "def latent_to_str(latent):\n",
    "    primitive_id_to_str = {0: \"R\", 1: \"G\", 2: \"B\"}\n",
    "    num_blocks, stacking_program, raw_locations = latent\n",
    "    num_grid_rows, num_grid_cols, max_num_blocks = stacking_program.shape\n",
    "    locations = cmws.examples.scene_understanding.render.convert_raw_locations_batched(\n",
    "        raw_locations,\n",
    "        stacking_program,\n",
    "        generative_model.primitives\n",
    "    ).view(num_grid_rows, num_grid_cols, max_num_blocks, 3)\n",
    "    latent_str = []\n",
    "    for row in reversed(range(num_grid_rows)):\n",
    "        tmp = []\n",
    "        for col in reversed(range(num_grid_cols)):\n",
    "            s = [\".\" for _ in range(max_num_blocks)]\n",
    "            s[:num_blocks[row, col]] = \"\".join(\n",
    "                [primitive_id_to_str[x.item()] for x in stacking_program[row, col, :num_blocks[row, col]]]\n",
    "            )\n",
    "            tmp.append(\"\".join(s))\n",
    "        latent_str.append(\"|\".join(tmp))\n",
    "\n",
    "    return \"\\n\".join(latent_str)\n",
    "\n",
    "def latent_to_str_with_locations(latent):\n",
    "    primitive_id_to_str = {0: \"R\", 1: \"G\", 2: \"B\"}\n",
    "    num_blocks, stacking_program, raw_locations = latent\n",
    "    num_grid_rows, num_grid_cols, max_num_blocks = stacking_program.shape\n",
    "    locations = cmws.examples.scene_understanding.render.convert_raw_locations_batched(\n",
    "        raw_locations,\n",
    "        stacking_program,\n",
    "        generative_model.primitives\n",
    "    ).view(num_grid_rows, num_grid_cols, max_num_blocks, 3)\n",
    "    latent_str = []\n",
    "    for row in reversed(range(num_grid_rows)):\n",
    "        tmp = []\n",
    "        for col in reversed(range(num_grid_cols)):\n",
    "            s = []\n",
    "            for block_id in range(num_blocks[row, col]):\n",
    "                primitive_id = stacking_program[row, col, block_id].item()\n",
    "                primitive_str = primitive_id_to_str[primitive_id]\n",
    "                loc = locations[row, col, block_id]\n",
    "                s.append(f\"{primitive_str}({loc[0].item():.1f}, {loc[1].item():.1f}, {loc[2].item():.1f})\")\n",
    "            tmp.append(\"\".join(s))\n",
    "        latent_str.append(\" | \".join(tmp))\n",
    "\n",
    "    return \"\\n\".join(latent_str)\n",
    "\n",
    "\n",
    "def plot_latent_obs(latent, obs):\n",
    "    fig, ax = plt.subplots(1, 1)\n",
    "    ax.imshow(obs.permute(1, 2, 0).detach().cpu())\n",
    "    ax.text(\n",
    "        0.95,\n",
    "        0.95,\n",
    "        latent_to_str(latent),\n",
    "        transform=ax.transAxes,\n",
    "        fontsize=12,\n",
    "        va=\"top\",\n",
    "        ha=\"right\",\n",
    "        color=\"black\",\n",
    "    )\n",
    "    plt.show()"
   ]
  },
  {
   "cell_type": "code",
   "execution_count": 3,
   "metadata": {
    "scrolled": true
   },
   "outputs": [
    {
     "name": "stdout",
     "output_type": "stream",
     "text": [
      "raw locations OBS:  torch.Size([3, 3, 3])\n"
     ]
    },
    {
     "data": {
      "image/png": "[encoded data removed]",
      "text/plain": [
       "<Figure size 432x288 with 1 Axes>"
      ]
     },
     "metadata": {
      "needs_background": "light"
     },
     "output_type": "display_data"
    },
    {
     "name": "stdout",
     "output_type": "stream",
     "text": [
      "R(1.8, -1.0, 2.0)R(1.8, -0.7, 2.0) |  | G(-2.1, -1.0, 2.0)\n",
      "R(1.8, -1.0, 1.0)R(1.8, -0.7, 1.0)G(1.7, -0.4, 1.0) |  | B(-2.2, -1.0, 1.0)B(-2.2, -0.5, 1.0)\n",
      "R(1.8, -1.0, 0.0)R(1.8, -0.7, 0.0) |  | \n"
     ]
    }
   ],
   "source": [
    "latent, obs = generative_model.sample()\n",
    "num_blocks, stacking_program, raw_locations = latent\n",
    "plot_latent_obs(latent, obs)\n",
    "print(latent_to_str_with_locations(latent))"
   ]
  },
  {
   "cell_type": "code",
   "execution_count": 4,
   "metadata": {},
   "outputs": [
    {
     "name": "stdout",
     "output_type": "stream",
     "text": [
      "raw locations OBS:  torch.Size([3, 3, 3])\n"
     ]
    },
    {
     "data": {
      "image/png": "[encoded data removed]",
      "text/plain": [
       "<Figure size 432x288 with 1 Axes>"
      ]
     },
     "metadata": {
      "needs_background": "light"
     },
     "output_type": "display_data"
    }
   ],
   "source": [
    "num_blocks = torch.ones(num_grid_rows, num_grid_cols, device=device).long()\n",
    "stacking_program = torch.zeros(num_grid_rows, num_grid_cols, max_num_blocks, device=device).long()\n",
    "raw_locations = 10 * torch.randn(num_grid_rows, num_grid_cols, max_num_blocks, device=device)\n",
    "latent = num_blocks, stacking_program, raw_locations\n",
    "obs = generative_model.get_obs_loc(latent).detach()\n",
    "\n",
    "plot_latent_obs(latent, obs)"
   ]
  },
  {
   "cell_type": "code",
   "execution_count": 5,
   "metadata": {},
   "outputs": [
    {
     "name": "stdout",
     "output_type": "stream",
     "text": [
      "raw locations OBS:  torch.Size([3, 3, 3])\n"
     ]
    },
    {
     "data": {
      "image/png": "[encoded data removed]",
      "text/plain": [
       "<Figure size 432x288 with 1 Axes>"
      ]
     },
     "metadata": {
      "needs_background": "light"
     },
     "output_type": "display_data"
    }
   ],
   "source": [
    "num_blocks = 2 * torch.ones(num_grid_rows, num_grid_cols, device=device).long()\n",
    "stacking_program = torch.ones(num_grid_rows, num_grid_cols, max_num_blocks, device=device).long()\n",
    "raw_locations = 10 * torch.randn(num_grid_rows, num_grid_cols, max_num_blocks, device=device)\n",
    "latent = num_blocks, stacking_program, raw_locations\n",
    "obs = generative_model.get_obs_loc(latent).detach()\n",
    "\n",
    "plot_latent_obs(latent, obs)"
   ]
  },
  {
   "cell_type": "code",
   "execution_count": 6,
   "metadata": {},
   "outputs": [
    {
     "name": "stdout",
     "output_type": "stream",
     "text": [
      "raw locations OBS:  torch.Size([3, 3, 3])\n"
     ]
    },
    {
     "data": {
      "image/png": "[encoded data removed]",
      "text/plain": [
       "<Figure size 432x288 with 1 Axes>"
      ]
     },
     "metadata": {
      "needs_background": "light"
     },
     "output_type": "display_data"
    }
   ],
   "source": [
    "num_blocks = 3 * torch.ones(num_grid_rows, num_grid_cols, device=device).long()\n",
    "stacking_program = 2 * torch.ones(num_grid_rows, num_grid_cols, max_num_blocks, device=device).long()\n",
    "raw_locations = 10 * torch.randn(num_grid_rows, num_grid_cols, max_num_blocks, device=device)\n",
    "latent = num_blocks, stacking_program, raw_locations\n",
    "obs = generative_model.get_obs_loc(latent).detach()\n",
    "\n",
    "plot_latent_obs(latent, obs)"
   ]
  }
 ],
 "metadata": {
  "kernelspec": {
   "display_name": "Python 3",
   "language": "python",
   "name": "python3"
  },
  "language_info": {
   "codemirror_mode": {
    "name": "ipython",
    "version": 3
   },
   "file_extension": ".py",
   "mimetype": "text/x-python",
   "name": "python",
   "nbconvert_exporter": "python",
   "pygments_lexer": "ipython3",
   "version": "3.7.4"
  }
 },
 "nbformat": 4,
 "nbformat_minor": 2
}
