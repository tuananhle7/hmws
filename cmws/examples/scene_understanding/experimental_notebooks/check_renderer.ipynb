{
 "cells": [
  {
   "cell_type": "code",
   "execution_count": 1,
   "metadata": {},
   "outputs": [],
   "source": [
    "from cmws.examples.scene_understanding.models import scene_understanding\n",
    "import matplotlib.pyplot as plt\n",
    "import math\n",
    "import numpy as np\n",
    "import torch"
   ]
  },
  {
   "cell_type": "code",
   "execution_count": 2,
   "metadata": {},
   "outputs": [
    {
     "ename": "RuntimeError",
     "evalue": "The NVIDIA driver on your system is too old (found version 10010). Please update your GPU driver by downloading and installing a new version from the URL: http://www.nvidia.com/Download/index.aspx Alternatively, go to: https://pytorch.org to install a PyTorch version that has been compiled with your version of the CUDA driver.",
     "output_type": "error",
     "traceback": [
      "\u001b[0;31m---------------------------------------------------------------------------\u001b[0m",
      "\u001b[0;31mRuntimeError\u001b[0m                              Traceback (most recent call last)",
      "\u001b[0;32m<ipython-input-2-d7392d22349d>\u001b[0m in \u001b[0;36m<module>\u001b[0;34m\u001b[0m\n\u001b[1;32m      6\u001b[0m                                                        max_num_blocks, im_size=256)\n\u001b[1;32m      7\u001b[0m \u001b[0;34m\u001b[0m\u001b[0m\n\u001b[0;32m----> 8\u001b[0;31m \u001b[0mgenerative_model\u001b[0m\u001b[0;34m.\u001b[0m\u001b[0mprimitives\u001b[0m\u001b[0;34m[\u001b[0m\u001b[0;36m0\u001b[0m\u001b[0;34m]\u001b[0m\u001b[0;34m.\u001b[0m\u001b[0mcolor\u001b[0m \u001b[0;34m=\u001b[0m \u001b[0mtorch\u001b[0m\u001b[0;34m.\u001b[0m\u001b[0mtensor\u001b[0m\u001b[0;34m(\u001b[0m\u001b[0;34m[\u001b[0m\u001b[0;36m1.\u001b[0m\u001b[0;34m,\u001b[0m \u001b[0;36m0.\u001b[0m\u001b[0;34m,\u001b[0m \u001b[0;36m0.\u001b[0m\u001b[0;34m]\u001b[0m\u001b[0;34m,\u001b[0m \u001b[0mdevice\u001b[0m\u001b[0;34m=\u001b[0m\u001b[0mdevice\u001b[0m\u001b[0;34m)\u001b[0m\u001b[0;34m\u001b[0m\u001b[0;34m\u001b[0m\u001b[0m\n\u001b[0m\u001b[1;32m      9\u001b[0m \u001b[0mgenerative_model\u001b[0m\u001b[0;34m.\u001b[0m\u001b[0mprimitives\u001b[0m\u001b[0;34m[\u001b[0m\u001b[0;36m0\u001b[0m\u001b[0;34m]\u001b[0m\u001b[0;34m.\u001b[0m\u001b[0msize\u001b[0m \u001b[0;34m=\u001b[0m \u001b[0mtorch\u001b[0m\u001b[0;34m.\u001b[0m\u001b[0mtensor\u001b[0m\u001b[0;34m(\u001b[0m\u001b[0;36m0.3\u001b[0m\u001b[0;34m,\u001b[0m \u001b[0mdevice\u001b[0m\u001b[0;34m=\u001b[0m\u001b[0mdevice\u001b[0m\u001b[0;34m)\u001b[0m\u001b[0;34m\u001b[0m\u001b[0;34m\u001b[0m\u001b[0m\n\u001b[1;32m     10\u001b[0m \u001b[0mgenerative_model\u001b[0m\u001b[0;34m.\u001b[0m\u001b[0mprimitives\u001b[0m\u001b[0;34m[\u001b[0m\u001b[0;36m1\u001b[0m\u001b[0;34m]\u001b[0m\u001b[0;34m.\u001b[0m\u001b[0mcolor\u001b[0m \u001b[0;34m=\u001b[0m \u001b[0mtorch\u001b[0m\u001b[0;34m.\u001b[0m\u001b[0mtensor\u001b[0m\u001b[0;34m(\u001b[0m\u001b[0;34m[\u001b[0m\u001b[0;36m0.\u001b[0m\u001b[0;34m,\u001b[0m \u001b[0;36m1.\u001b[0m\u001b[0;34m,\u001b[0m \u001b[0;36m0.\u001b[0m\u001b[0;34m]\u001b[0m\u001b[0;34m,\u001b[0m \u001b[0mdevice\u001b[0m\u001b[0;34m=\u001b[0m\u001b[0mdevice\u001b[0m\u001b[0;34m)\u001b[0m\u001b[0;34m\u001b[0m\u001b[0;34m\u001b[0m\u001b[0m\n",
      "\u001b[0;32m~/.conda/envs/cmws/lib/python3.7/site-packages/torch/cuda/__init__.py\u001b[0m in \u001b[0;36m_lazy_init\u001b[0;34m()\u001b[0m\n\u001b[1;32m    170\u001b[0m         \u001b[0;31m# This function throws if there's a driver initialization error, no GPUs\u001b[0m\u001b[0;34m\u001b[0m\u001b[0;34m\u001b[0m\u001b[0;34m\u001b[0m\u001b[0m\n\u001b[1;32m    171\u001b[0m         \u001b[0;31m# are found or any other error occurs\u001b[0m\u001b[0;34m\u001b[0m\u001b[0;34m\u001b[0m\u001b[0;34m\u001b[0m\u001b[0m\n\u001b[0;32m--> 172\u001b[0;31m         \u001b[0mtorch\u001b[0m\u001b[0;34m.\u001b[0m\u001b[0m_C\u001b[0m\u001b[0;34m.\u001b[0m\u001b[0m_cuda_init\u001b[0m\u001b[0;34m(\u001b[0m\u001b[0;34m)\u001b[0m\u001b[0;34m\u001b[0m\u001b[0;34m\u001b[0m\u001b[0m\n\u001b[0m\u001b[1;32m    173\u001b[0m         \u001b[0;31m# Some of the queued calls may reentrantly call _lazy_init();\u001b[0m\u001b[0;34m\u001b[0m\u001b[0;34m\u001b[0m\u001b[0;34m\u001b[0m\u001b[0m\n\u001b[1;32m    174\u001b[0m         \u001b[0;31m# we need to just return without initializing in that case.\u001b[0m\u001b[0;34m\u001b[0m\u001b[0;34m\u001b[0m\u001b[0;34m\u001b[0m\u001b[0m\n",
      "\u001b[0;31mRuntimeError\u001b[0m: The NVIDIA driver on your system is too old (found version 10010). Please update your GPU driver by downloading and installing a new version from the URL: http://www.nvidia.com/Download/index.aspx Alternatively, go to: https://pytorch.org to install a PyTorch version that has been compiled with your version of the CUDA driver."
     ]
    }
   ],
   "source": [
    "device = \"cuda\"\n",
    "num_grid_rows, num_grid_cols, num_primitives, max_num_blocks = 3, 3, 3, 3\n",
    "shape = [2, 3]\n",
    "\n",
    "generative_model = scene_understanding.GenerativeModel(num_grid_rows, num_grid_cols, num_primitives, \n",
    "                                                       max_num_blocks, im_size=256)\n",
    "\n",
    "generative_model.primitives[0].color = torch.tensor([1., 0., 0.], device=device)\n",
    "generative_model.primitives[0].size = torch.tensor(0.3, device=device)\n",
    "generative_model.primitives[1].color = torch.tensor([0., 1., 0.], device=device)\n",
    "generative_model.primitives[1].size = torch.tensor(0.4, device=device)\n",
    "generative_model.primitives[2].color = torch.tensor([0., 0., 1.], device=device)\n",
    "generative_model.primitives[2].size = torch.tensor(0.5, device=device)\n",
    "\n",
    "def latent_to_str(latent):\n",
    "    primitive_id_to_str = {0: \"R\", 1: \"G\", 2: \"B\"}\n",
    "    num_blocks, stacking_program, raw_locations = latent\n",
    "    num_grid_rows, num_grid_cols, max_num_blocks = stacking_program.shape\n",
    "    latent_str = []\n",
    "    for row in reversed(range(num_grid_rows)):\n",
    "        tmp = []\n",
    "        for col in reversed(range(num_grid_cols)):\n",
    "            s = [\".\" for _ in range(max_num_blocks)]\n",
    "            s[:num_blocks[row, col]] = \"\".join([primitive_id_to_str[x.item()] for x in stacking_program[row, col, :num_blocks[row, col]]])\n",
    "            tmp.append(\"\".join(s))\n",
    "        latent_str.append(\"|\".join(tmp))\n",
    "\n",
    "    return \"\\n\".join(latent_str)\n",
    "\n",
    "\n",
    "def plot_latent_obs(latent, obs):\n",
    "    fig, ax = plt.subplots(1, 1)\n",
    "    ax.imshow(obs.permute(1, 2, 0).detach().cpu())\n",
    "    ax.text(\n",
    "        0.95,\n",
    "        0.95,\n",
    "        latent_to_str(latent),\n",
    "        transform=ax.transAxes,\n",
    "        fontsize=12,\n",
    "        va=\"top\",\n",
    "        ha=\"right\",\n",
    "        color=\"black\",\n",
    "    )\n",
    "    plt.show()"
   ]
  },
  {
   "cell_type": "code",
   "execution_count": null,
   "metadata": {
    "scrolled": true
   },
   "outputs": [],
   "source": [
    "latent, obs = generative_model.sample()\n",
    "num_blocks, stacking_program, raw_locations = latent\n",
    "\n",
    "plot_latent_obs(latent, obs)"
   ]
  },
  {
   "cell_type": "code",
   "execution_count": 4,
   "metadata": {},
   "outputs": [
    {
     "data": {
      "image/png": "[encoded data removed]",
      "text/plain": [
       "<Figure size 432x288 with 1 Axes>"
      ]
     },
     "metadata": {
      "needs_background": "light"
     },
     "output_type": "display_data"
    }
   ],
   "source": [
    "num_blocks = torch.ones(num_grid_rows, num_grid_cols, device=device).long()\n",
    "stacking_program = torch.zeros(num_grid_rows, num_grid_cols, max_num_blocks, device=device).long()\n",
    "raw_locations = 10 * torch.randn(num_grid_rows, num_grid_cols, max_num_blocks, device=device)\n",
    "latent = num_blocks, stacking_program, raw_locations\n",
    "obs = generative_model.get_obs_loc(latent).detach()\n",
    "\n",
    "plot_latent_obs(latent, obs)"
   ]
  },
  {
   "cell_type": "code",
   "execution_count": 5,
   "metadata": {},
   "outputs": [
    {
     "data": {
      "image/png": "[encoded data removed]",
      "text/plain": [
       "<Figure size 432x288 with 1 Axes>"
      ]
     },
     "metadata": {
      "needs_background": "light"
     },
     "output_type": "display_data"
    }
   ],
   "source": [
    "num_blocks = 2 * torch.ones(num_grid_rows, num_grid_cols, device=device).long()\n",
    "stacking_program = torch.ones(num_grid_rows, num_grid_cols, max_num_blocks, device=device).long()\n",
    "raw_locations = 10 * torch.randn(num_grid_rows, num_grid_cols, max_num_blocks, device=device)\n",
    "latent = num_blocks, stacking_program, raw_locations\n",
    "obs = generative_model.get_obs_loc(latent).detach()\n",
    "\n",
    "plot_latent_obs(latent, obs)"
   ]
  },
  {
   "cell_type": "code",
   "execution_count": 54,
   "metadata": {},
   "outputs": [
    {
     "data": {
      "image/png": "[encoded data removed]",
      "text/plain": [
       "<Figure size 432x288 with 1 Axes>"
      ]
     },
     "metadata": {
      "needs_background": "light"
     },
     "output_type": "display_data"
    }
   ],
   "source": [
    "num_blocks = 3 * torch.ones(num_grid_rows, num_grid_cols, device=device).long()\n",
    "stacking_program = 2 * torch.ones(num_grid_rows, num_grid_cols, max_num_blocks, device=device).long()\n",
    "raw_locations = 10 * torch.randn(num_grid_rows, num_grid_cols, max_num_blocks, device=device)\n",
    "latent = num_blocks, stacking_program, raw_locations\n",
    "obs = generative_model.get_obs_loc(latent).detach()\n",
    "\n",
    "plot_latent_obs(latent, obs)"
   ]
  }
 ],
 "metadata": {
  "kernelspec": {
   "display_name": "Python 3",
   "language": "python",
   "name": "python3"
  },
  "language_info": {
   "codemirror_mode": {
    "name": "ipython",
    "version": 3
   },
   "file_extension": ".py",
   "mimetype": "text/x-python",
   "name": "python",
   "nbconvert_exporter": "python",
   "pygments_lexer": "ipython3",
   "version": "3.7.4"
  }
 },
 "nbformat": 4,
 "nbformat_minor": 2
}
