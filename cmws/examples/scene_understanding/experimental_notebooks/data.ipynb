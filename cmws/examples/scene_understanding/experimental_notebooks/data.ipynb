{
 "cells": [
  {
   "cell_type": "code",
   "execution_count": 1,
   "metadata": {},
   "outputs": [],
   "source": [
    "from cmws.examples.scene_understanding.models import scene_understanding\n",
    "import matplotlib.pyplot as plt\n",
    "import math\n",
    "import numpy as np\n"
   ]
  },
  {
   "cell_type": "code",
   "execution_count": 2,
   "metadata": {},
   "outputs": [],
   "source": [
    "num_grid_rows, num_grid_cols, num_primitives, max_num_blocks = 3,3, 5, 3\n",
    "shape = [2, 3]\n",
    "\n",
    "generative_model = scene_understanding.GenerativeModel(num_grid_rows, num_grid_cols, num_primitives, \n",
    "                                                       max_num_blocks, im_size=256)"
   ]
  },
  {
   "cell_type": "code",
   "execution_count": 3,
   "metadata": {
    "scrolled": true
   },
   "outputs": [
    {
     "name": "stdout",
     "output_type": "stream",
     "text": [
      "x cell:  0  z cell:  0\n",
      "4.800000000000001 6\n",
      "new loc:  tensor(-1.9603) tensor(-1.) tensor(0.)\n",
      "new loc:  tensor(-1.9917) tensor(-0.7156) tensor(0.)\n",
      "new loc:  tensor(-1.9917) tensor(-0.3683) tensor(0.)\n",
      "x cell:  0  z cell:  1\n",
      "4.800000000000001 6\n",
      "new loc:  tensor(-2.1935) tensor(-1.) tensor(2.)\n",
      "new loc:  tensor(-2.1935) tensor(-0.6528) tensor(2.)\n",
      "new loc:  tensor(-2.1935) tensor(-0.3055) tensor(2.)\n",
      "x cell:  0  z cell:  2\n",
      "4.800000000000001 6\n",
      "new loc:  tensor(-2.2857) tensor(-1.) tensor(4.)\n",
      "new loc:  tensor(-2.2920) tensor(-0.6528) tensor(4.)\n",
      "new loc:  tensor(-2.2713) tensor(-0.3055) tensor(4.)\n",
      "x cell:  1  z cell:  0\n",
      "4.800000000000001 6\n",
      "new loc:  tensor(0.2272) tensor(-1.) tensor(0.)\n",
      "new loc:  tensor(0.3229) tensor(-0.4613) tensor(0.)\n",
      "new loc:  tensor(0.3229) tensor(-0.1140) tensor(0.)\n",
      "x cell:  1  z cell:  1\n",
      "4.800000000000001 6\n",
      "new loc:  tensor(-0.1736) tensor(-1.) tensor(2.)\n",
      "new loc:  tensor(-0.1736) tensor(-0.6528) tensor(2.)\n",
      "new loc:  tensor(-0.1736) tensor(-0.3055) tensor(2.)\n",
      "x cell:  1  z cell:  2\n",
      "4.800000000000001 6\n",
      "new loc:  tensor(-0.0466) tensor(-1.) tensor(4.)\n",
      "new loc:  tensor(-0.1369) tensor(-0.6260) tensor(4.)\n",
      "new loc:  tensor(0.0654) tensor(-0.0873) tensor(4.)\n",
      "x cell:  2  z cell:  0\n",
      "4.800000000000001 6\n",
      "new loc:  tensor(1.5920) tensor(-1.) tensor(0.)\n",
      "new loc:  tensor(1.8916) tensor(-0.4613) tensor(0.)\n",
      "new loc:  tensor(1.9305) tensor(-0.1140) tensor(0.)\n",
      "x cell:  2  z cell:  1\n",
      "4.800000000000001 6\n",
      "new loc:  tensor(1.7464) tensor(-1.) tensor(2.)\n",
      "new loc:  tensor(1.7464) tensor(-0.6528) tensor(2.)\n",
      "new loc:  tensor(1.7464) tensor(-0.3055) tensor(2.)\n",
      "x cell:  2  z cell:  2\n",
      "4.800000000000001 6\n",
      "new loc:  tensor(1.7464) tensor(-1.) tensor(4.)\n",
      "new loc:  tensor(1.7464) tensor(-0.6528) tensor(4.)\n",
      "new loc:  tensor(1.7464) tensor(-0.3055) tensor(4.)\n"
     ]
    }
   ],
   "source": [
    "latent, obs = generative_model.sample()"
   ]
  },
  {
   "cell_type": "code",
   "execution_count": 4,
   "metadata": {},
   "outputs": [],
   "source": [
    "num_blocks, stacking_program, raw_locations = latent"
   ]
  },
  {
   "cell_type": "code",
   "execution_count": 5,
   "metadata": {},
   "outputs": [
    {
     "data": {
      "text/plain": [
       "tensor([[[ 0.3306,  0.0000,  0.0000],\n",
       "         [-0.3080,  0.0000,  0.0000],\n",
       "         [-0.6057, -0.0360,  0.1191]],\n",
       "\n",
       "        [[ 1.5948,  0.0000,  0.0000],\n",
       "         [ 0.0000,  0.0000,  0.0000],\n",
       "         [ 0.4272, -0.0346,  0.4907]],\n",
       "\n",
       "        [[-0.1567,  0.9948,  0.2919],\n",
       "         [ 0.0000,  0.0000,  0.0000],\n",
       "         [ 0.0000,  0.0000,  0.0000]]])"
      ]
     },
     "execution_count": 5,
     "metadata": {},
     "output_type": "execute_result"
    }
   ],
   "source": [
    "raw_locations"
   ]
  },
  {
   "cell_type": "code",
   "execution_count": 6,
   "metadata": {},
   "outputs": [
    {
     "data": {
      "text/plain": [
       "tensor([[1, 1, 3],\n",
       "        [1, 0, 3],\n",
       "        [3, 0, 0]])"
      ]
     },
     "execution_count": 6,
     "metadata": {},
     "output_type": "execute_result"
    }
   ],
   "source": [
    "num_blocks"
   ]
  },
  {
   "cell_type": "code",
   "execution_count": 7,
   "metadata": {},
   "outputs": [],
   "source": [
    "# for row in range(num_grid_rows):\n",
    "#     for col in range(num_grid_cols):\n",
    "#         print(\"row: \", row, \" col: \", col, \" num blocks: \", num_blocks[row][col])"
   ]
  },
  {
   "cell_type": "code",
   "execution_count": 8,
   "metadata": {},
   "outputs": [
    {
     "data": {
      "text/plain": [
       "<matplotlib.image.AxesImage at 0x2b954763ed50>"
      ]
     },
     "execution_count": 8,
     "metadata": {},
     "output_type": "execute_result"
    },
    {
     "data": {
      "image/png": "[encoded data removed]",
      "text/plain": [
       "<Figure size 432x288 with 1 Axes>"
      ]
     },
     "metadata": {
      "needs_background": "light"
     },
     "output_type": "display_data"
    }
   ],
   "source": [
    "plt.imshow(obs.permute(1, 2, 0))"
   ]
  },
  {
   "cell_type": "code",
   "execution_count": 9,
   "metadata": {},
   "outputs": [
    {
     "data": {
      "text/plain": [
       "tensor([[[ 0.3306,  0.0000,  0.0000],\n",
       "         [-0.3080,  0.0000,  0.0000],\n",
       "         [-0.6057, -0.0360,  0.1191]],\n",
       "\n",
       "        [[ 1.5948,  0.0000,  0.0000],\n",
       "         [ 0.0000,  0.0000,  0.0000],\n",
       "         [ 0.4272, -0.0346,  0.4907]],\n",
       "\n",
       "        [[-0.1567,  0.9948,  0.2919],\n",
       "         [ 0.0000,  0.0000,  0.0000],\n",
       "         [ 0.0000,  0.0000,  0.0000]]])"
      ]
     },
     "execution_count": 9,
     "metadata": {},
     "output_type": "execute_result"
    }
   ],
   "source": [
    "raw_locations"
   ]
  },
  {
   "cell_type": "code",
   "execution_count": 10,
   "metadata": {},
   "outputs": [],
   "source": [
    "# num_grid_rows, num_grid_cols, num_primitives, max_num_blocks = 1, 1, 5, 3\n",
    "# shape = [2, 3]\n",
    "\n",
    "# generative_model = scene_understanding.GenerativeModel(num_grid_rows, num_grid_cols, num_primitives, \n",
    "#                                                        max_num_blocks, im_size=256)\n",
    "# latent, obs = generative_model.sample()\n",
    "# num_blocks, stacking_program, raw_locations = latent\n",
    "# plt.imshow(obs.permute(1, 2, 0))"
   ]
  },
  {
   "cell_type": "code",
   "execution_count": 11,
   "metadata": {},
   "outputs": [
    {
     "data": {
      "text/plain": [
       "(tensor([[1, 1, 3],\n",
       "         [1, 0, 3],\n",
       "         [3, 0, 0]]),\n",
       " tensor([[[3, 0, 0],\n",
       "          [0, 0, 0],\n",
       "          [0, 0, 0]],\n",
       " \n",
       "         [[1, 0, 0],\n",
       "          [0, 0, 0],\n",
       "          [4, 1, 0]],\n",
       " \n",
       "         [[1, 0, 4],\n",
       "          [0, 0, 0],\n",
       "          [0, 0, 0]]]),\n",
       " tensor([[[ 0.3306,  0.0000,  0.0000],\n",
       "          [-0.3080,  0.0000,  0.0000],\n",
       "          [-0.6057, -0.0360,  0.1191]],\n",
       " \n",
       "         [[ 1.5948,  0.0000,  0.0000],\n",
       "          [ 0.0000,  0.0000,  0.0000],\n",
       "          [ 0.4272, -0.0346,  0.4907]],\n",
       " \n",
       "         [[-0.1567,  0.9948,  0.2919],\n",
       "          [ 0.0000,  0.0000,  0.0000],\n",
       "          [ 0.0000,  0.0000,  0.0000]]]))"
      ]
     },
     "execution_count": 11,
     "metadata": {},
     "output_type": "execute_result"
    }
   ],
   "source": [
    "latent\n"
   ]
  },
  {
   "cell_type": "code",
   "execution_count": 12,
   "metadata": {},
   "outputs": [
    {
     "data": {
      "text/plain": [
       "-1"
      ]
     },
     "execution_count": 12,
     "metadata": {},
     "output_type": "execute_result"
    }
   ],
   "source": [
    "1-math.ceil(3/2)"
   ]
  },
  {
   "cell_type": "code",
   "execution_count": 13,
   "metadata": {},
   "outputs": [
    {
     "data": {
      "text/plain": [
       "2"
      ]
     },
     "execution_count": 13,
     "metadata": {},
     "output_type": "execute_result"
    }
   ],
   "source": [
    "math.ceil(3/2)"
   ]
  },
  {
   "cell_type": "code",
   "execution_count": 14,
   "metadata": {},
   "outputs": [
    {
     "data": {
      "text/plain": [
       "1.6"
      ]
     },
     "execution_count": 14,
     "metadata": {},
     "output_type": "execute_result"
    }
   ],
   "source": [
    "min_x = -0.8\n",
    "max_x = 0.8\n",
    "num_rows=1\n",
    "screen_width = (max_x - min_x) * num_rows\n",
    "screen_width"
   ]
  },
  {
   "cell_type": "code",
   "execution_count": 15,
   "metadata": {},
   "outputs": [
    {
     "data": {
      "text/plain": [
       "array([-0.8,  0.8])"
      ]
     },
     "execution_count": 15,
     "metadata": {},
     "output_type": "execute_result"
    }
   ],
   "source": [
    "x_bounds = np.linspace(-screen_width/2, screen_width/2, num_rows*2)\n",
    "x_bounds"
   ]
  },
  {
   "cell_type": "code",
   "execution_count": 16,
   "metadata": {},
   "outputs": [],
   "source": [
    "cell_idx = 0"
   ]
  },
  {
   "cell_type": "code",
   "execution_count": 17,
   "metadata": {},
   "outputs": [
    {
     "data": {
      "text/plain": [
       "-0.8"
      ]
     },
     "execution_count": 17,
     "metadata": {},
     "output_type": "execute_result"
    }
   ],
   "source": [
    "x_bounds[cell_idx*2]"
   ]
  },
  {
   "cell_type": "code",
   "execution_count": 18,
   "metadata": {},
   "outputs": [
    {
     "ename": "NameError",
     "evalue": "name 'sigmoid' is not defined",
     "output_type": "error",
     "traceback": [
      "\u001b[0;31m---------------------------------------------------------------------------\u001b[0m",
      "\u001b[0;31mNameError\u001b[0m                                 Traceback (most recent call last)",
      "\u001b[0;32m<ipython-input-18-cd2954ba43a4>\u001b[0m in \u001b[0;36m<module>\u001b[0;34m\u001b[0m\n\u001b[0;32m----> 1\u001b[0;31m \u001b[0msigmoid\u001b[0m\u001b[0;34m\u001b[0m\u001b[0;34m\u001b[0m\u001b[0m\n\u001b[0m",
      "\u001b[0;31mNameError\u001b[0m: name 'sigmoid' is not defined"
     ]
    }
   ],
   "source": [
    "sigmoid"
   ]
  },
  {
   "cell_type": "code",
   "execution_count": null,
   "metadata": {},
   "outputs": [],
   "source": []
  }
 ],
 "metadata": {
  "kernelspec": {
   "display_name": "Python 3",
   "language": "python",
   "name": "python3"
  },
  "language_info": {
   "codemirror_mode": {
    "name": "ipython",
    "version": 3
   },
   "file_extension": ".py",
   "mimetype": "text/x-python",
   "name": "python",
   "nbconvert_exporter": "python",
   "pygments_lexer": "ipython3",
   "version": "3.7.4"
  }
 },
 "nbformat": 4,
 "nbformat_minor": 2
}
