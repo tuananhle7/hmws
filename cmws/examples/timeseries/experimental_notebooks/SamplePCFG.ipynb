{
 "cells": [
  {
   "cell_type": "code",
   "execution_count": 1,
   "metadata": {},
   "outputs": [],
   "source": [
    "import torch\n",
    "import torch.nn as nn\n",
    "import json\n",
    "import itertools"
   ]
  },
  {
   "cell_type": "code",
   "execution_count": 98,
   "metadata": {},
   "outputs": [],
   "source": [
    "def read_pcfg(pcfg_path, device):\n",
    "    with open(pcfg_path) as json_data:\n",
    "        data = json.load(json_data)\n",
    "\n",
    "    grammar = {\n",
    "        'terminals': set(data['terminals']),\n",
    "        'non_terminals': set(data['non_terminals']),\n",
    "        'productions': data['productions'],\n",
    "        'start_symbol': data['start_symbol'],\n",
    "        'name': data['name']\n",
    "    }\n",
    "    production_probs = production_probs_to_tensor(\n",
    "        data['production_probs'], device)\n",
    "\n",
    "    return grammar, production_probs\n",
    "\n",
    "\n",
    "def production_probs_to_tensor(production_probs, device):\n",
    "    \"\"\"Convert production_probs in list to tensor.\n",
    "\n",
    "    Args:\n",
    "        production_probs: dict whose keys are non-terminals and values are\n",
    "            probabilities of productions represented as list of shape\n",
    "            [num_productions]\n",
    "    Returns: same as production_probs but values are tensors instead of\n",
    "    lists.\n",
    "    \"\"\"\n",
    "    return {k: torch.tensor(v, dtype=torch.float, device=device)\n",
    "            for k, v in production_probs.items()}\n",
    "\n",
    "\n",
    "def sample_tree(pcfg, symbol=None, depth=0, max_depth=20):\n",
    "    \"\"\"Sample tree from prior.\n",
    "    Args:\n",
    "        pcfg\n",
    "            grammar\n",
    "            production_probs\n",
    "        symbol (str)\n",
    "        depth (int)\n",
    "        max_depth (int)\n",
    "    Returns: list of lists or string\n",
    "    \"\"\"\n",
    "    grammar, production_probs = pcfg\n",
    "\n",
    "    if symbol is None:\n",
    "        symbol = grammar['start_symbol']\n",
    "\n",
    "    if symbol in grammar['terminals']:\n",
    "        return symbol\n",
    "    elif depth > max_depth:\n",
    "        raise RuntimeError(\"Max depth reached\")\n",
    "    else:\n",
    "        production_index = torch.distributions.Categorical(probs=production_probs[symbol]).sample()\n",
    "        production = grammar['productions'][symbol][production_index]\n",
    "        return [symbol] + [sample_tree(pcfg, s, depth=depth + 1, max_depth=max_depth) for s in production]\n",
    "\n",
    "\n",
    "def get_leaves(tree):\n",
    "    \"\"\"Return leaves of a tree.\n",
    "    Args: list of lists or string\n",
    "    Returns: list of strings\n",
    "    \"\"\"\n",
    "    if isinstance(tree, list):\n",
    "        return list(itertools.chain.from_iterable(\n",
    "            [get_leaves(subtree) for subtree in tree[1:]]))\n",
    "    else:\n",
    "        return [tree]"
   ]
  },
  {
   "cell_type": "code",
   "execution_count": 146,
   "metadata": {},
   "outputs": [
    {
     "data": {
      "text/plain": [
       "'R*C*E+W*E'"
      ]
     },
     "execution_count": 146,
     "metadata": {},
     "output_type": "execute_result"
    }
   ],
   "source": [
    "device = \"cpu\"\n",
    "pcfg = read_pcfg(\"kernel_pcfg.json\", device)\n",
    "sample_expression(pcfg)"
   ]
  },
  {
   "cell_type": "code",
   "execution_count": 136,
   "metadata": {},
   "outputs": [],
   "source": [
    "def sample_expression(pcfg):\n",
    "    return \"\".join(get_leaves(sample_tree(pcfg)))"
   ]
  },
  {
   "cell_type": "code",
   "execution_count": 143,
   "metadata": {},
   "outputs": [
    {
     "data": {
      "text/plain": [
       "'C'"
      ]
     },
     "execution_count": 143,
     "metadata": {},
     "output_type": "execute_result"
    }
   ],
   "source": []
  }
 ],
 "metadata": {
  "kernelspec": {
   "display_name": "Python 3",
   "language": "python",
   "name": "python3"
  },
  "language_info": {
   "codemirror_mode": {
    "name": "ipython",
    "version": 3
   },
   "file_extension": ".py",
   "mimetype": "text/x-python",
   "name": "python",
   "nbconvert_exporter": "python",
   "pygments_lexer": "ipython3",
   "version": "3.7.4"
  }
 },
 "nbformat": 4,
 "nbformat_minor": 2
}
