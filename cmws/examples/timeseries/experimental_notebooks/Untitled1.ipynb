{
 "cells": [
  {
   "cell_type": "code",
   "execution_count": 72,
   "metadata": {},
   "outputs": [],
   "source": [
    "import torch\n",
    "from cmws.examples.timeseries.data import TimeseriesDataset, get_timeseries_data_loader\n",
    "import matplotlib.pyplot as plt\n",
    "import cmws"
   ]
  },
  {
   "cell_type": "code",
   "execution_count": 70,
   "metadata": {},
   "outputs": [
    {
     "name": "stdout",
     "output_type": "stream",
     "text": [
      "Loaded 4001 timeseries\n",
      "Loaded 4001 timeseries\n"
     ]
    }
   ],
   "source": [
    "device = torch.device(\"cuda\")\n",
    "\n",
    "timeseries_dataset = {}\n",
    "# Train\n",
    "timeseries_dataset[\"train\"] = TimeseriesDataset(device)\n",
    "# assert list(timeseries_dataset.obs.shape) == [timeseries_dataset.num_data, 256]\n",
    "# assert list(timeseries_dataset.obs_id.shape) == [timeseries_dataset.num_data]\n",
    "\n",
    "# Test\n",
    "timeseries_dataset[\"test\"] = TimeseriesDataset(device, test=True)\n",
    "# assert list(timeseries_dataset.obs.shape) == [timeseries_dataset.num_data, 256]\n",
    "# assert list(timeseries_dataset.obs_id.shape) == [timeseries_dataset.num_data]\n"
   ]
  },
  {
   "cell_type": "code",
   "execution_count": 79,
   "metadata": {},
   "outputs": [
    {
     "name": "stdout",
     "output_type": "stream",
     "text": [
      "21:39:11 | /rdma/vast-rdma/vast/tenenbaum/tuananh/git/continuous_mws_refactor/cmws/util.py:184 | INFO: Saved to ./data/plots/train/0000_0100.pdf\n",
      "21:39:16 | /rdma/vast-rdma/vast/tenenbaum/tuananh/git/continuous_mws_refactor/cmws/util.py:184 | INFO: Saved to ./data/plots/train/0100_0200.pdf\n",
      "21:39:24 | /rdma/vast-rdma/vast/tenenbaum/tuananh/git/continuous_mws_refactor/cmws/util.py:184 | INFO: Saved to ./data/plots/train/0200_0300.pdf\n",
      "21:39:28 | /rdma/vast-rdma/vast/tenenbaum/tuananh/git/continuous_mws_refactor/cmws/util.py:184 | INFO: Saved to ./data/plots/train/0300_0400.pdf\n",
      "21:39:33 | /rdma/vast-rdma/vast/tenenbaum/tuananh/git/continuous_mws_refactor/cmws/util.py:184 | INFO: Saved to ./data/plots/train/0400_0500.pdf\n",
      "21:39:37 | /rdma/vast-rdma/vast/tenenbaum/tuananh/git/continuous_mws_refactor/cmws/util.py:184 | INFO: Saved to ./data/plots/train/0500_0600.pdf\n",
      "21:39:42 | /rdma/vast-rdma/vast/tenenbaum/tuananh/git/continuous_mws_refactor/cmws/util.py:184 | INFO: Saved to ./data/plots/train/0600_0700.pdf\n",
      "21:39:46 | /rdma/vast-rdma/vast/tenenbaum/tuananh/git/continuous_mws_refactor/cmws/util.py:184 | INFO: Saved to ./data/plots/train/0700_0800.pdf\n",
      "21:39:51 | /rdma/vast-rdma/vast/tenenbaum/tuananh/git/continuous_mws_refactor/cmws/util.py:184 | INFO: Saved to ./data/plots/train/0800_0900.pdf\n",
      "21:39:55 | /rdma/vast-rdma/vast/tenenbaum/tuananh/git/continuous_mws_refactor/cmws/util.py:184 | INFO: Saved to ./data/plots/train/0900_1000.pdf\n",
      "21:40:00 | /rdma/vast-rdma/vast/tenenbaum/tuananh/git/continuous_mws_refactor/cmws/util.py:184 | INFO: Saved to ./data/plots/train/1000_1100.pdf\n",
      "21:40:04 | /rdma/vast-rdma/vast/tenenbaum/tuananh/git/continuous_mws_refactor/cmws/util.py:184 | INFO: Saved to ./data/plots/train/1100_1200.pdf\n",
      "21:40:09 | /rdma/vast-rdma/vast/tenenbaum/tuananh/git/continuous_mws_refactor/cmws/util.py:184 | INFO: Saved to ./data/plots/train/1200_1300.pdf\n",
      "21:40:14 | /rdma/vast-rdma/vast/tenenbaum/tuananh/git/continuous_mws_refactor/cmws/util.py:184 | INFO: Saved to ./data/plots/train/1300_1400.pdf\n",
      "21:40:19 | /rdma/vast-rdma/vast/tenenbaum/tuananh/git/continuous_mws_refactor/cmws/util.py:184 | INFO: Saved to ./data/plots/train/1400_1500.pdf\n",
      "21:40:23 | /rdma/vast-rdma/vast/tenenbaum/tuananh/git/continuous_mws_refactor/cmws/util.py:184 | INFO: Saved to ./data/plots/train/1500_1600.pdf\n",
      "21:40:27 | /rdma/vast-rdma/vast/tenenbaum/tuananh/git/continuous_mws_refactor/cmws/util.py:184 | INFO: Saved to ./data/plots/train/1600_1700.pdf\n",
      "21:40:33 | /rdma/vast-rdma/vast/tenenbaum/tuananh/git/continuous_mws_refactor/cmws/util.py:184 | INFO: Saved to ./data/plots/train/1700_1800.pdf\n",
      "21:40:37 | /rdma/vast-rdma/vast/tenenbaum/tuananh/git/continuous_mws_refactor/cmws/util.py:184 | INFO: Saved to ./data/plots/train/1800_1900.pdf\n",
      "21:40:42 | /rdma/vast-rdma/vast/tenenbaum/tuananh/git/continuous_mws_refactor/cmws/util.py:184 | INFO: Saved to ./data/plots/train/1900_2000.pdf\n"
     ]
    }
   ],
   "source": [
    "for mode in [\"train\", \"test\"]:\n",
    "    start = 0\n",
    "    end = 100\n",
    "\n",
    "    while start < len(timeseries_dataset[mode]):\n",
    "        obs, obs_id = timeseries_dataset[mode][start:end]\n",
    "        path = f\"./data/plots/{mode}/{start:04.0f}_{end:04.0f}.pdf\"\n",
    "\n",
    "        fig, axss = plt.subplots(10, 10, sharex=True, sharey=True, figsize=(10 * 3, 10 * 2))\n",
    "\n",
    "        for i in range(len(obs)):\n",
    "            axss.flat[i].plot(obs[i].cpu().numpy(), color=\"black\")\n",
    "\n",
    "        for ax in axss.flat:\n",
    "            ax.set_ylim(-4, 4)\n",
    "            ax.set_xticks([])\n",
    "            ax.set_yticks([-4, 4])\n",
    "\n",
    "        cmws.util.save_fig(fig, path)\n",
    "\n",
    "        start = end\n",
    "        end += 100"
   ]
  },
  {
   "cell_type": "code",
   "execution_count": null,
   "metadata": {},
   "outputs": [],
   "source": []
  }
 ],
 "metadata": {
  "kernelspec": {
   "display_name": "Python 3",
   "language": "python",
   "name": "python3"
  },
  "language_info": {
   "codemirror_mode": {
    "name": "ipython",
    "version": 3
   },
   "file_extension": ".py",
   "mimetype": "text/x-python",
   "name": "python",
   "nbconvert_exporter": "python",
   "pygments_lexer": "ipython3",
   "version": "3.7.4"
  }
 },
 "nbformat": 4,
 "nbformat_minor": 2
}
