{
 "cells": [
  {
   "cell_type": "code",
   "execution_count": 1,
   "id": "b3885dc4",
   "metadata": {},
   "outputs": [],
   "source": [
    "from pathlib import Path\n",
    "\n",
    "from cmws import train, util\n",
    "from cmws.examples.timeseries import util as timeseries_util"
   ]
  },
  {
   "cell_type": "code",
   "execution_count": 2,
   "id": "ac67299b",
   "metadata": {},
   "outputs": [],
   "source": [
    "# from cmws.examples.timeseries.data import get_train_test_data\n",
    "# train_data, test_data = get_train_test_data()\n",
    "\n",
    "# from matplotlib import pyplot as plt\n",
    "# for i in range(10):\n",
    "#     plt.figure()\n",
    "#     plt.plot(train_data[i])"
   ]
  },
  {
   "cell_type": "code",
   "execution_count": null,
   "id": "62992dca",
   "metadata": {
    "scrolled": true
   },
   "outputs": [
    {
     "name": "stdout",
     "output_type": "stream",
     "text": [
      "20:07:05 | /Users/lbh/github/continuous_mws/cmws/util.py:316 | INFO: Using CPU\n",
      "20:07:05 | /Users/lbh/github/continuous_mws/cmws/examples/timeseries/run.py:17 | INFO: Training from scratch\n",
      "20:07:05 | /Users/lbh/github/continuous_mws/cmws/examples/timeseries/expression_prior_pretraining.py:37 | INFO: Pretraining the expression prior\n",
      "20:07:05 | /Users/lbh/github/continuous_mws/cmws/examples/timeseries/data.py:46 | INFO: Loaded 191 timeseries\n"
     ]
    },
    {
     "name": "stderr",
     "output_type": "stream",
     "text": [
      "\r",
      "  0%|          | 0/4000 [00:00<?, ?it/s]"
     ]
    },
    {
     "name": "stdout",
     "output_type": "stream",
     "text": [
      "20:07:05 | /Users/lbh/github/continuous_mws/cmws/examples/timeseries/expression_prior_pretraining.py:24 | INFO: C*R*L\n",
      "20:07:05 | /Users/lbh/github/continuous_mws/cmws/examples/timeseries/expression_prior_pretraining.py:24 | INFO: C*W*R\n",
      "20:07:05 | /Users/lbh/github/continuous_mws/cmws/examples/timeseries/expression_prior_pretraining.py:24 | INFO: C*R*5+C*R*L+C*L*b\n",
      "20:07:05 | /Users/lbh/github/continuous_mws/cmws/examples/timeseries/expression_prior_pretraining.py:24 | INFO: C*5*e+C*R+C*L*b\n",
      "20:07:05 | /Users/lbh/github/continuous_mws/cmws/examples/timeseries/expression_prior_pretraining.py:24 | INFO: C*R*3+C*W+C*R*L\n",
      "20:07:05 | /Users/lbh/github/continuous_mws/cmws/examples/timeseries/expression_prior_pretraining.py:24 | INFO: C*W*L+C*W*R\n",
      "20:07:05 | /Users/lbh/github/continuous_mws/cmws/examples/timeseries/expression_prior_pretraining.py:24 | INFO: C*R*L+C*3*c+C*d\n",
      "20:07:05 | /Users/lbh/github/continuous_mws/cmws/examples/timeseries/expression_prior_pretraining.py:24 | INFO: C*2*e+C*W*3\n",
      "20:07:05 | /Users/lbh/github/continuous_mws/cmws/examples/timeseries/expression_prior_pretraining.py:24 | INFO: C*W*L+C*2*d+C*R*L\n",
      "20:07:05 | /Users/lbh/github/continuous_mws/cmws/examples/timeseries/expression_prior_pretraining.py:24 | INFO: C*R*3\n",
      "20:07:05 | /Users/lbh/github/continuous_mws/cmws/examples/timeseries/expression_prior_pretraining.py:24 | INFO: C*W*R+C*3*d+C*W*L\n",
      "20:07:05 | /Users/lbh/github/continuous_mws/cmws/examples/timeseries/expression_prior_pretraining.py:24 | INFO: C*W*R+C*L*e+C*L*d\n",
      "20:07:05 | /Users/lbh/github/continuous_mws/cmws/examples/timeseries/expression_prior_pretraining.py:24 | INFO: C*W*c\n",
      "20:07:05 | /Users/lbh/github/continuous_mws/cmws/examples/timeseries/expression_prior_pretraining.py:24 | INFO: C*R*3+C*W*1\n",
      "20:07:05 | /Users/lbh/github/continuous_mws/cmws/examples/timeseries/expression_prior_pretraining.py:24 | INFO: C*e\n",
      "20:07:05 | /Users/lbh/github/continuous_mws/cmws/examples/timeseries/expression_prior_pretraining.py:24 | INFO: C*b\n",
      "20:07:05 | /Users/lbh/github/continuous_mws/cmws/examples/timeseries/expression_prior_pretraining.py:24 | INFO: C*L*c\n",
      "20:07:05 | /Users/lbh/github/continuous_mws/cmws/examples/timeseries/expression_prior_pretraining.py:24 | INFO: C*R*a+C*L\n",
      "20:07:05 | /Users/lbh/github/continuous_mws/cmws/examples/timeseries/expression_prior_pretraining.py:24 | INFO: C*L*a+C*L+C*a\n",
      "20:07:05 | /Users/lbh/github/continuous_mws/cmws/examples/timeseries/expression_prior_pretraining.py:24 | INFO: C*W*R+C*W*1+C*d\n",
      "20:07:05 | /Users/lbh/github/continuous_mws/cmws/examples/timeseries/expression_prior_pretraining.py:24 | INFO: C*R\n",
      "20:07:05 | /Users/lbh/github/continuous_mws/cmws/examples/timeseries/expression_prior_pretraining.py:24 | INFO: C*R*L\n"
     ]
    },
    {
     "name": "stderr",
     "output_type": "stream",
     "text": [
      " 30%|██▉       | 1190/4000 [00:38<01:25, 32.82it/s]"
     ]
    }
   ],
   "source": [
    "from cmws.examples.timeseries.run import main, get_args_parser\n",
    "\n",
    "parser = get_args_parser()\n",
    "args = parser.parse_args([\n",
    "    \"--continue-training\",\n",
    "    \"--experiment-name=scratch4\",\n",
    "    \"--algorithm=cmws_5\",\n",
    "    \"--num-particles=30\",\n",
    "    \"--full-training-data\",\n",
    "    \"--generative-model-lstm-hidden-dim=10\",\n",
    "    \"--guide-lstm-hidden-dim=10\",\n",
    "    \"--memory-size=5\",\n",
    "    \"--num-proposals-mws=5\",\n",
    "    \"--num-sleep-pretraining-iterations=1000\",\n",
    "    \"--max-num-chars=10\",\n",
    "    \"--lr=0.001\",\n",
    "    \"--lr-continuous-latents=0.02\",\n",
    "    \"--lr-sleep-pretraining=0.01\"#,\n",
    "#     \"--fast\"\n",
    "])\n",
    "main(args)\n"
   ]
  },
  {
   "cell_type": "code",
   "execution_count": null,
   "id": "12e81370",
   "metadata": {},
   "outputs": [],
   "source": []
  }
 ],
 "metadata": {
  "kernelspec": {
   "display_name": "Python 3",
   "language": "python",
   "name": "python3"
  },
  "language_info": {
   "codemirror_mode": {
    "name": "ipython",
    "version": 3
   },
   "file_extension": ".py",
   "mimetype": "text/x-python",
   "name": "python",
   "nbconvert_exporter": "python",
   "pygments_lexer": "ipython3",
   "version": "3.7.4"
  }
 },
 "nbformat": 4,
 "nbformat_minor": 5
}
