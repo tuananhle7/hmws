{
 "cells": [
  {
   "cell_type": "code",
   "execution_count": 1,
   "id": "b3885dc4",
   "metadata": {},
   "outputs": [],
   "source": [
    "from pathlib import Path\n",
    "\n",
    "from cmws import train, util\n",
    "from cmws.examples.timeseries import util as timeseries_util"
   ]
  },
  {
   "cell_type": "code",
   "execution_count": 2,
   "id": "ac67299b",
   "metadata": {},
   "outputs": [],
   "source": [
    "# from cmws.examples.timeseries.data import get_train_test_data\n",
    "# train_data, test_data = get_train_test_data()\n",
    "\n",
    "# from matplotlib import pyplot as plt\n",
    "# for i in range(10):\n",
    "#     plt.figure()\n",
    "#     plt.plot(train_data[i])"
   ]
  },
  {
   "cell_type": "code",
   "execution_count": null,
   "id": "62992dca",
   "metadata": {},
   "outputs": [
    {
     "name": "stdout",
     "output_type": "stream",
     "text": [
      "17:20:39 | /Users/lbh/github/continuous_mws/cmws/util.py:313 | INFO: Using CPU\n",
      "17:20:39 | /Users/lbh/github/continuous_mws/cmws/examples/timeseries/run.py:17 | INFO: Training from scratch\n",
      "17:20:39 | /Users/lbh/github/continuous_mws/cmws/examples/timeseries/expression_prior_pretraining.py:34 | INFO: Pretraining the expression prior\n",
      "17:20:40 | /Users/lbh/github/continuous_mws/cmws/examples/timeseries/data.py:40 | INFO: Loaded 32291 timeseries\n"
     ]
    },
    {
     "name": "stderr",
     "output_type": "stream",
     "text": [
      "\r",
      "  0%|          | 0/2000 [00:00<?, ?it/s]"
     ]
    },
    {
     "name": "stdout",
     "output_type": "stream",
     "text": [
      "17:20:41 | /Users/lbh/github/continuous_mws/cmws/examples/timeseries/expression_prior_pretraining.py:21 | INFO: C*L+C*R*L+C*R*L\n",
      "17:20:41 | /Users/lbh/github/continuous_mws/cmws/examples/timeseries/expression_prior_pretraining.py:21 | INFO: C*L+C*L+C*R\n",
      "17:20:41 | /Users/lbh/github/continuous_mws/cmws/examples/timeseries/expression_prior_pretraining.py:21 | INFO: C*R+C*R\n",
      "17:20:41 | /Users/lbh/github/continuous_mws/cmws/examples/timeseries/expression_prior_pretraining.py:21 | INFO: C*W*E+C*L\n",
      "17:20:41 | /Users/lbh/github/continuous_mws/cmws/examples/timeseries/expression_prior_pretraining.py:21 | INFO: C*L*E+C*L+C*E*E\n",
      "17:20:41 | /Users/lbh/github/continuous_mws/cmws/examples/timeseries/expression_prior_pretraining.py:21 | INFO: C*R+C*R+C*R\n",
      "17:20:41 | /Users/lbh/github/continuous_mws/cmws/examples/timeseries/expression_prior_pretraining.py:21 | INFO: C*L*E+C*W*E\n",
      "17:20:41 | /Users/lbh/github/continuous_mws/cmws/examples/timeseries/expression_prior_pretraining.py:21 | INFO: C*R+C*L*R+C*L\n",
      "17:20:41 | /Users/lbh/github/continuous_mws/cmws/examples/timeseries/expression_prior_pretraining.py:21 | INFO: C*E+C*R\n",
      "17:20:41 | /Users/lbh/github/continuous_mws/cmws/examples/timeseries/expression_prior_pretraining.py:21 | INFO: C*L+C*L+C*L*R\n",
      "17:20:41 | /Users/lbh/github/continuous_mws/cmws/examples/timeseries/expression_prior_pretraining.py:21 | INFO: C*L+C*L*L+C*E\n",
      "17:20:41 | /Users/lbh/github/continuous_mws/cmws/examples/timeseries/expression_prior_pretraining.py:21 | INFO: C*L*W\n",
      "17:20:41 | /Users/lbh/github/continuous_mws/cmws/examples/timeseries/expression_prior_pretraining.py:21 | INFO: C*W*W\n",
      "17:20:41 | /Users/lbh/github/continuous_mws/cmws/examples/timeseries/expression_prior_pretraining.py:21 | INFO: C*R*W+C*L\n",
      "17:20:41 | /Users/lbh/github/continuous_mws/cmws/examples/timeseries/expression_prior_pretraining.py:21 | INFO: C*W*W+C*W\n",
      "17:20:41 | /Users/lbh/github/continuous_mws/cmws/examples/timeseries/expression_prior_pretraining.py:21 | INFO: C*W*W+C*E+C*L*L\n",
      "17:20:41 | /Users/lbh/github/continuous_mws/cmws/examples/timeseries/expression_prior_pretraining.py:21 | INFO: C*E+C*L\n",
      "17:20:41 | /Users/lbh/github/continuous_mws/cmws/examples/timeseries/expression_prior_pretraining.py:21 | INFO: C*E+C*L\n",
      "17:20:41 | /Users/lbh/github/continuous_mws/cmws/examples/timeseries/expression_prior_pretraining.py:21 | INFO: C*L*E\n",
      "17:20:41 | /Users/lbh/github/continuous_mws/cmws/examples/timeseries/expression_prior_pretraining.py:21 | INFO: C*E+C*L\n",
      "17:20:41 | /Users/lbh/github/continuous_mws/cmws/examples/timeseries/expression_prior_pretraining.py:21 | INFO: C*R*R+C*E*L\n",
      "17:20:41 | /Users/lbh/github/continuous_mws/cmws/examples/timeseries/expression_prior_pretraining.py:21 | INFO: C*L\n",
      "17:20:41 | /Users/lbh/github/continuous_mws/cmws/examples/timeseries/expression_prior_pretraining.py:21 | INFO: C*W*E+C*E*W\n",
      "17:20:41 | /Users/lbh/github/continuous_mws/cmws/examples/timeseries/expression_prior_pretraining.py:21 | INFO: C*R*R+C*W\n",
      "17:20:41 | /Users/lbh/github/continuous_mws/cmws/examples/timeseries/expression_prior_pretraining.py:21 | INFO: C*W\n"
     ]
    },
    {
     "name": "stderr",
     "output_type": "stream",
     "text": [
      " 16%|█▌        | 319/2000 [00:25<02:38, 10.61it/s]"
     ]
    }
   ],
   "source": [
    "from cmws.examples.timeseries.run import main, get_args_parser\n",
    "\n",
    "parser = get_args_parser()\n",
    "args = parser.parse_args([\n",
    "    \"--continue-training\",\n",
    "    \"--experiment-name=scratch\",\n",
    "    \"--algorithm=cmws_3\",\n",
    "    \"--num-particles=15\",\n",
    "    \"--full-training-data\",\n",
    "    \"--lstm-hidden-dim=5\",\n",
    "    \"--memory-size=5\",\n",
    "    \"--num-proposals-mws=5\",\n",
    "#     \"--num-sleep-pretraining-iterations=2000\",\n",
    "    \"--max-num-chars=7\",\n",
    "    \"--lr=0\",\n",
    "    \"--lr-continuous-latents=0\",\n",
    "#     \"--fast\"\n",
    "])\n",
    "main(args)\n"
   ]
  }
 ],
 "metadata": {
  "kernelspec": {
   "display_name": "Python 3",
   "language": "python",
   "name": "python3"
  },
  "language_info": {
   "codemirror_mode": {
    "name": "ipython",
    "version": 3
   },
   "file_extension": ".py",
   "mimetype": "text/x-python",
   "name": "python",
   "nbconvert_exporter": "python",
   "pygments_lexer": "ipython3",
   "version": "3.7.4"
  }
 },
 "nbformat": 4,
 "nbformat_minor": 5
}
