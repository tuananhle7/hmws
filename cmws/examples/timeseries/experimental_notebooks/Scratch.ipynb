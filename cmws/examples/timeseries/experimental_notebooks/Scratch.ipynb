{
 "cells": [
  {
   "cell_type": "code",
   "execution_count": 1,
   "id": "b3885dc4",
   "metadata": {},
   "outputs": [],
   "source": [
    "from pathlib import Path\n",
    "\n",
    "from cmws import train, util\n",
    "from cmws.examples.timeseries import util as timeseries_util"
   ]
  },
  {
   "cell_type": "code",
   "execution_count": 2,
   "id": "ac67299b",
   "metadata": {},
   "outputs": [],
   "source": [
    "# from cmws.examples.timeseries.data import get_train_test_data\n",
    "# train_data, test_data = get_train_test_data()\n",
    "\n",
    "# from matplotlib import pyplot as plt\n",
    "# for i in range(10):\n",
    "#     plt.figure()\n",
    "#     plt.plot(train_data[i])"
   ]
  },
  {
   "cell_type": "code",
   "execution_count": null,
   "id": "62992dca",
   "metadata": {
    "scrolled": true
   },
   "outputs": [
    {
     "name": "stdout",
     "output_type": "stream",
     "text": [
      "12:01:36 | /Users/lbh/github/continuous_mws/cmws/util.py:313 | INFO: Using CPU\n",
      "12:01:36 | /Users/lbh/github/continuous_mws/cmws/examples/timeseries/run.py:17 | INFO: Training from scratch\n",
      "12:01:36 | /Users/lbh/github/continuous_mws/cmws/examples/timeseries/expression_prior_pretraining.py:34 | INFO: Pretraining the expression prior\n",
      "12:01:36 | /Users/lbh/github/continuous_mws/cmws/examples/timeseries/data.py:44 | INFO: Loaded 191 timeseries\n"
     ]
    },
    {
     "name": "stderr",
     "output_type": "stream",
     "text": [
      "\r",
      "  0%|          | 0/2000 [00:00<?, ?it/s]"
     ]
    },
    {
     "name": "stdout",
     "output_type": "stream",
     "text": [
      "12:01:36 | /Users/lbh/github/continuous_mws/cmws/examples/timeseries/expression_prior_pretraining.py:21 | INFO: C*W*4+C*R\n",
      "12:01:36 | /Users/lbh/github/continuous_mws/cmws/examples/timeseries/expression_prior_pretraining.py:21 | INFO: C*L\n",
      "12:01:36 | /Users/lbh/github/continuous_mws/cmws/examples/timeseries/expression_prior_pretraining.py:21 | INFO: C*W\n",
      "12:01:36 | /Users/lbh/github/continuous_mws/cmws/examples/timeseries/expression_prior_pretraining.py:21 | INFO: C*W*R\n",
      "12:01:36 | /Users/lbh/github/continuous_mws/cmws/examples/timeseries/expression_prior_pretraining.py:21 | INFO: C*L+C*W+C*R*3\n",
      "12:01:36 | /Users/lbh/github/continuous_mws/cmws/examples/timeseries/expression_prior_pretraining.py:21 | INFO: C*2\n",
      "12:01:36 | /Users/lbh/github/continuous_mws/cmws/examples/timeseries/expression_prior_pretraining.py:21 | INFO: C*R*5+C*W*R+C*3\n",
      "12:01:36 | /Users/lbh/github/continuous_mws/cmws/examples/timeseries/expression_prior_pretraining.py:21 | INFO: C*R\n",
      "12:01:36 | /Users/lbh/github/continuous_mws/cmws/examples/timeseries/expression_prior_pretraining.py:21 | INFO: C*4*5\n",
      "12:01:36 | /Users/lbh/github/continuous_mws/cmws/examples/timeseries/expression_prior_pretraining.py:21 | INFO: C*W+C*R\n",
      "12:01:36 | /Users/lbh/github/continuous_mws/cmws/examples/timeseries/expression_prior_pretraining.py:21 | INFO: C*L+C*W*R+C*R*1\n",
      "12:01:36 | /Users/lbh/github/continuous_mws/cmws/examples/timeseries/expression_prior_pretraining.py:21 | INFO: C*L*R+C*R*L+C*2\n",
      "12:01:36 | /Users/lbh/github/continuous_mws/cmws/examples/timeseries/expression_prior_pretraining.py:21 | INFO: C*L*3+C*W*2\n",
      "12:01:36 | /Users/lbh/github/continuous_mws/cmws/examples/timeseries/expression_prior_pretraining.py:21 | INFO: C*5+C*L*L+C*R\n",
      "12:01:36 | /Users/lbh/github/continuous_mws/cmws/examples/timeseries/expression_prior_pretraining.py:21 | INFO: C*L+C*2\n",
      "12:01:36 | /Users/lbh/github/continuous_mws/cmws/examples/timeseries/expression_prior_pretraining.py:21 | INFO: C*4+C*L*L\n"
     ]
    },
    {
     "name": "stderr",
     "output_type": "stream",
     "text": [
      "100%|██████████| 2000/2000 [00:47<00:00, 42.17it/s]"
     ]
    },
    {
     "name": "stdout",
     "output_type": "stream",
     "text": [
      "12:02:23 | /Users/lbh/github/continuous_mws/cmws/memory.py:20 | INFO: Initializing memory\n"
     ]
    },
    {
     "name": "stderr",
     "output_type": "stream",
     "text": [
      "\n",
      "100%|██████████| 140/140 [00:01<00:00, 79.61it/s]\n",
      "  0%|          | 0/2000 [00:00<?, ?it/s]"
     ]
    },
    {
     "name": "stdout",
     "output_type": "stream",
     "text": [
      "12:02:25 | /Users/lbh/github/continuous_mws/cmws/train.py:87 | INFO: Sleep Pretraining Iteration 0 | Loss = 64 | Max GPU memory allocated = 0 MB\n"
     ]
    },
    {
     "name": "stderr",
     "output_type": "stream",
     "text": [
      "  5%|▌         | 100/2000 [00:22<06:55,  4.57it/s]"
     ]
    },
    {
     "name": "stdout",
     "output_type": "stream",
     "text": [
      "12:02:48 | /Users/lbh/github/continuous_mws/cmws/train.py:87 | INFO: Sleep Pretraining Iteration 100 | Loss = 73 | Max GPU memory allocated = 0 MB\n"
     ]
    },
    {
     "name": "stderr",
     "output_type": "stream",
     "text": [
      " 10%|█         | 200/2000 [00:46<07:39,  3.92it/s]"
     ]
    },
    {
     "name": "stdout",
     "output_type": "stream",
     "text": [
      "12:03:12 | /Users/lbh/github/continuous_mws/cmws/train.py:87 | INFO: Sleep Pretraining Iteration 200 | Loss = 69 | Max GPU memory allocated = 0 MB\n"
     ]
    },
    {
     "name": "stderr",
     "output_type": "stream",
     "text": [
      " 15%|█▌        | 300/2000 [01:08<06:48,  4.17it/s]"
     ]
    },
    {
     "name": "stdout",
     "output_type": "stream",
     "text": [
      "12:03:34 | /Users/lbh/github/continuous_mws/cmws/train.py:87 | INFO: Sleep Pretraining Iteration 300 | Loss = 70 | Max GPU memory allocated = 0 MB\n"
     ]
    },
    {
     "name": "stderr",
     "output_type": "stream",
     "text": [
      " 20%|██        | 400/2000 [01:31<05:38,  4.72it/s]"
     ]
    },
    {
     "name": "stdout",
     "output_type": "stream",
     "text": [
      "12:03:57 | /Users/lbh/github/continuous_mws/cmws/train.py:87 | INFO: Sleep Pretraining Iteration 400 | Loss = 61 | Max GPU memory allocated = 0 MB\n"
     ]
    },
    {
     "name": "stderr",
     "output_type": "stream",
     "text": [
      " 25%|██▌       | 500/2000 [01:54<06:29,  3.85it/s]"
     ]
    },
    {
     "name": "stdout",
     "output_type": "stream",
     "text": [
      "12:04:20 | /Users/lbh/github/continuous_mws/cmws/train.py:87 | INFO: Sleep Pretraining Iteration 500 | Loss = 67 | Max GPU memory allocated = 0 MB\n"
     ]
    },
    {
     "name": "stderr",
     "output_type": "stream",
     "text": [
      " 30%|███       | 600/2000 [02:15<05:38,  4.14it/s]"
     ]
    },
    {
     "name": "stdout",
     "output_type": "stream",
     "text": [
      "12:04:41 | /Users/lbh/github/continuous_mws/cmws/train.py:87 | INFO: Sleep Pretraining Iteration 600 | Loss = 64 | Max GPU memory allocated = 0 MB\n"
     ]
    },
    {
     "name": "stderr",
     "output_type": "stream",
     "text": [
      " 35%|███▌      | 700/2000 [02:39<04:59,  4.34it/s]"
     ]
    },
    {
     "name": "stdout",
     "output_type": "stream",
     "text": [
      "12:05:05 | /Users/lbh/github/continuous_mws/cmws/train.py:87 | INFO: Sleep Pretraining Iteration 700 | Loss = 67 | Max GPU memory allocated = 0 MB\n"
     ]
    },
    {
     "name": "stderr",
     "output_type": "stream",
     "text": [
      " 40%|████      | 800/2000 [03:02<04:50,  4.14it/s]"
     ]
    },
    {
     "name": "stdout",
     "output_type": "stream",
     "text": [
      "12:05:28 | /Users/lbh/github/continuous_mws/cmws/train.py:87 | INFO: Sleep Pretraining Iteration 800 | Loss = 67 | Max GPU memory allocated = 0 MB\n"
     ]
    },
    {
     "name": "stderr",
     "output_type": "stream",
     "text": [
      " 45%|████▌     | 900/2000 [03:24<04:06,  4.46it/s]"
     ]
    },
    {
     "name": "stdout",
     "output_type": "stream",
     "text": [
      "12:05:50 | /Users/lbh/github/continuous_mws/cmws/train.py:87 | INFO: Sleep Pretraining Iteration 900 | Loss = 68 | Max GPU memory allocated = 0 MB\n"
     ]
    },
    {
     "name": "stderr",
     "output_type": "stream",
     "text": [
      " 50%|█████     | 1000/2000 [03:48<05:14,  3.18it/s]"
     ]
    },
    {
     "name": "stdout",
     "output_type": "stream",
     "text": [
      "12:06:14 | /Users/lbh/github/continuous_mws/cmws/train.py:87 | INFO: Sleep Pretraining Iteration 1000 | Loss = 65 | Max GPU memory allocated = 0 MB\n"
     ]
    },
    {
     "name": "stderr",
     "output_type": "stream",
     "text": [
      " 55%|█████▌    | 1100/2000 [04:12<03:11,  4.70it/s]"
     ]
    },
    {
     "name": "stdout",
     "output_type": "stream",
     "text": [
      "12:06:38 | /Users/lbh/github/continuous_mws/cmws/train.py:87 | INFO: Sleep Pretraining Iteration 1100 | Loss = 74 | Max GPU memory allocated = 0 MB\n"
     ]
    },
    {
     "name": "stderr",
     "output_type": "stream",
     "text": [
      " 60%|██████    | 1200/2000 [04:34<02:38,  5.03it/s]"
     ]
    },
    {
     "name": "stdout",
     "output_type": "stream",
     "text": [
      "12:07:00 | /Users/lbh/github/continuous_mws/cmws/train.py:87 | INFO: Sleep Pretraining Iteration 1200 | Loss = 68 | Max GPU memory allocated = 0 MB\n"
     ]
    },
    {
     "name": "stderr",
     "output_type": "stream",
     "text": [
      " 65%|██████▌   | 1300/2000 [04:55<02:45,  4.23it/s]"
     ]
    },
    {
     "name": "stdout",
     "output_type": "stream",
     "text": [
      "12:07:21 | /Users/lbh/github/continuous_mws/cmws/train.py:87 | INFO: Sleep Pretraining Iteration 1300 | Loss = 70 | Max GPU memory allocated = 0 MB\n"
     ]
    },
    {
     "name": "stderr",
     "output_type": "stream",
     "text": [
      " 70%|███████   | 1400/2000 [05:19<02:23,  4.19it/s]"
     ]
    },
    {
     "name": "stdout",
     "output_type": "stream",
     "text": [
      "12:07:45 | /Users/lbh/github/continuous_mws/cmws/train.py:87 | INFO: Sleep Pretraining Iteration 1400 | Loss = 69 | Max GPU memory allocated = 0 MB\n"
     ]
    },
    {
     "name": "stderr",
     "output_type": "stream",
     "text": [
      " 75%|███████▌  | 1500/2000 [05:43<01:57,  4.26it/s]"
     ]
    },
    {
     "name": "stdout",
     "output_type": "stream",
     "text": [
      "12:08:09 | /Users/lbh/github/continuous_mws/cmws/train.py:87 | INFO: Sleep Pretraining Iteration 1500 | Loss = 68 | Max GPU memory allocated = 0 MB\n"
     ]
    },
    {
     "name": "stderr",
     "output_type": "stream",
     "text": [
      " 80%|████████  | 1600/2000 [06:08<01:22,  4.85it/s]"
     ]
    },
    {
     "name": "stdout",
     "output_type": "stream",
     "text": [
      "12:08:33 | /Users/lbh/github/continuous_mws/cmws/train.py:87 | INFO: Sleep Pretraining Iteration 1600 | Loss = 61 | Max GPU memory allocated = 0 MB\n"
     ]
    },
    {
     "name": "stderr",
     "output_type": "stream",
     "text": [
      " 85%|████████▌ | 1700/2000 [06:29<01:13,  4.10it/s]"
     ]
    },
    {
     "name": "stdout",
     "output_type": "stream",
     "text": [
      "12:08:54 | /Users/lbh/github/continuous_mws/cmws/train.py:87 | INFO: Sleep Pretraining Iteration 1700 | Loss = 71 | Max GPU memory allocated = 0 MB\n"
     ]
    },
    {
     "name": "stderr",
     "output_type": "stream",
     "text": [
      " 90%|█████████ | 1800/2000 [06:52<00:40,  4.96it/s]"
     ]
    },
    {
     "name": "stdout",
     "output_type": "stream",
     "text": [
      "12:09:18 | /Users/lbh/github/continuous_mws/cmws/train.py:87 | INFO: Sleep Pretraining Iteration 1800 | Loss = 70 | Max GPU memory allocated = 0 MB\n"
     ]
    },
    {
     "name": "stderr",
     "output_type": "stream",
     "text": [
      " 95%|█████████▌| 1900/2000 [07:14<00:20,  4.90it/s]"
     ]
    },
    {
     "name": "stdout",
     "output_type": "stream",
     "text": [
      "12:09:39 | /Users/lbh/github/continuous_mws/cmws/train.py:87 | INFO: Sleep Pretraining Iteration 1900 | Loss = 60 | Max GPU memory allocated = 0 MB\n"
     ]
    },
    {
     "name": "stderr",
     "output_type": "stream",
     "text": [
      "100%|██████████| 2000/2000 [07:35<00:00,  4.39it/s]\n"
     ]
    },
    {
     "name": "stdout",
     "output_type": "stream",
     "text": [
      "12:10:06 | /Users/lbh/github/continuous_mws/cmws/train.py:308 | INFO: Computing logp and KL\n",
      "12:10:06 | /Users/lbh/github/continuous_mws/cmws/train.py:339 | INFO: Iteration 0 | Loss = 361 | Log p = -11 | KL = 74820 | Max GPU memory allocated = 0 MB\n",
      "12:10:06 | /Users/lbh/github/continuous_mws/cmws/examples/timeseries/util.py:431 | INFO: Saved checkpoint to save/scratch3/cmws_4_1/checkpoints/latest.pt\n",
      "12:10:06 | /Users/lbh/github/continuous_mws/cmws/examples/timeseries/util.py:431 | INFO: Saved checkpoint to save/scratch3/cmws_4_1/checkpoints/0.pt\n",
      "12:10:12 | /Users/lbh/github/continuous_mws/cmws/train.py:339 | INFO: Iteration 1 | Loss = 290 | Log p = -11 | KL = 74820 | Max GPU memory allocated = 0 MB\n",
      "12:10:18 | /Users/lbh/github/continuous_mws/cmws/train.py:339 | INFO: Iteration 2 | Loss = 275 | Log p = -11 | KL = 74820 | Max GPU memory allocated = 0 MB\n",
      "12:10:23 | /Users/lbh/github/continuous_mws/cmws/train.py:339 | INFO: Iteration 3 | Loss = 409 | Log p = -11 | KL = 74820 | Max GPU memory allocated = 0 MB\n",
      "12:10:28 | /Users/lbh/github/continuous_mws/cmws/train.py:339 | INFO: Iteration 4 | Loss = 335 | Log p = -11 | KL = 74820 | Max GPU memory allocated = 0 MB\n",
      "12:10:34 | /Users/lbh/github/continuous_mws/cmws/train.py:339 | INFO: Iteration 5 | Loss = 308 | Log p = -11 | KL = 74820 | Max GPU memory allocated = 0 MB\n",
      "12:10:39 | /Users/lbh/github/continuous_mws/cmws/train.py:339 | INFO: Iteration 6 | Loss = 355 | Log p = -11 | KL = 74820 | Max GPU memory allocated = 0 MB\n",
      "12:10:44 | /Users/lbh/github/continuous_mws/cmws/train.py:339 | INFO: Iteration 7 | Loss = 303 | Log p = -11 | KL = 74820 | Max GPU memory allocated = 0 MB\n",
      "12:10:49 | /Users/lbh/github/continuous_mws/cmws/train.py:339 | INFO: Iteration 8 | Loss = 312 | Log p = -11 | KL = 74820 | Max GPU memory allocated = 0 MB\n",
      "12:10:54 | /Users/lbh/github/continuous_mws/cmws/train.py:339 | INFO: Iteration 9 | Loss = 362 | Log p = -11 | KL = 74820 | Max GPU memory allocated = 0 MB\n",
      "12:10:59 | /Users/lbh/github/continuous_mws/cmws/train.py:339 | INFO: Iteration 10 | Loss = 288 | Log p = -11 | KL = 74820 | Max GPU memory allocated = 0 MB\n",
      "12:10:59 | /Users/lbh/github/continuous_mws/cmws/examples/timeseries/util.py:431 | INFO: Saved checkpoint to save/scratch3/cmws_4_1/checkpoints/latest.pt\n",
      "12:11:04 | /Users/lbh/github/continuous_mws/cmws/train.py:339 | INFO: Iteration 11 | Loss = 321 | Log p = -11 | KL = 74820 | Max GPU memory allocated = 0 MB\n",
      "12:11:09 | /Users/lbh/github/continuous_mws/cmws/train.py:339 | INFO: Iteration 12 | Loss = 299 | Log p = -11 | KL = 74820 | Max GPU memory allocated = 0 MB\n",
      "12:11:14 | /Users/lbh/github/continuous_mws/cmws/train.py:339 | INFO: Iteration 13 | Loss = 454 | Log p = -11 | KL = 74820 | Max GPU memory allocated = 0 MB\n",
      "12:11:19 | /Users/lbh/github/continuous_mws/cmws/train.py:339 | INFO: Iteration 14 | Loss = 418 | Log p = -11 | KL = 74820 | Max GPU memory allocated = 0 MB\n",
      "12:11:23 | /Users/lbh/github/continuous_mws/cmws/train.py:339 | INFO: Iteration 15 | Loss = 375 | Log p = -11 | KL = 74820 | Max GPU memory allocated = 0 MB\n",
      "12:11:28 | /Users/lbh/github/continuous_mws/cmws/train.py:339 | INFO: Iteration 16 | Loss = 286 | Log p = -11 | KL = 74820 | Max GPU memory allocated = 0 MB\n",
      "12:11:32 | /Users/lbh/github/continuous_mws/cmws/train.py:339 | INFO: Iteration 17 | Loss = 530 | Log p = -11 | KL = 74820 | Max GPU memory allocated = 0 MB\n",
      "12:11:37 | /Users/lbh/github/continuous_mws/cmws/train.py:339 | INFO: Iteration 18 | Loss = 361 | Log p = -11 | KL = 74820 | Max GPU memory allocated = 0 MB\n",
      "12:11:41 | /Users/lbh/github/continuous_mws/cmws/train.py:339 | INFO: Iteration 19 | Loss = 410 | Log p = -11 | KL = 74820 | Max GPU memory allocated = 0 MB\n",
      "12:11:46 | /Users/lbh/github/continuous_mws/cmws/train.py:339 | INFO: Iteration 20 | Loss = 330 | Log p = -11 | KL = 74820 | Max GPU memory allocated = 0 MB\n",
      "12:11:46 | /Users/lbh/github/continuous_mws/cmws/examples/timeseries/util.py:431 | INFO: Saved checkpoint to save/scratch3/cmws_4_1/checkpoints/latest.pt\n",
      "12:11:51 | /Users/lbh/github/continuous_mws/cmws/train.py:339 | INFO: Iteration 21 | Loss = 221 | Log p = -11 | KL = 74820 | Max GPU memory allocated = 0 MB\n",
      "12:11:55 | /Users/lbh/github/continuous_mws/cmws/train.py:339 | INFO: Iteration 22 | Loss = 315 | Log p = -11 | KL = 74820 | Max GPU memory allocated = 0 MB\n",
      "12:12:00 | /Users/lbh/github/continuous_mws/cmws/train.py:339 | INFO: Iteration 23 | Loss = 332 | Log p = -11 | KL = 74820 | Max GPU memory allocated = 0 MB\n",
      "12:12:04 | /Users/lbh/github/continuous_mws/cmws/train.py:339 | INFO: Iteration 24 | Loss = 327 | Log p = -11 | KL = 74820 | Max GPU memory allocated = 0 MB\n",
      "12:12:10 | /Users/lbh/github/continuous_mws/cmws/train.py:339 | INFO: Iteration 25 | Loss = 295 | Log p = -11 | KL = 74820 | Max GPU memory allocated = 0 MB\n"
     ]
    }
   ],
   "source": [
    "from cmws.examples.timeseries.run import main, get_args_parser\n",
    "\n",
    "parser = get_args_parser()\n",
    "args = parser.parse_args([\n",
    "    \"--continue-training\",\n",
    "    \"--experiment-name=scratch3\",\n",
    "    \"--algorithm=cmws_4\",\n",
    "    \"--num-particles=15\",\n",
    "    \"--full-training-data\",\n",
    "    \"--lstm-hidden-dim=10\",\n",
    "    \"--memory-size=10\",\n",
    "    \"--num-proposals-mws=15\",\n",
    "    \"--num-sleep-pretraining-iterations=2000\",\n",
    "    \"--max-num-chars=9\",\n",
    "    \"--lr=0.0\",\n",
    "    \"--lr-continuous-latents=0.02\",\n",
    "    \"--lr-sleep-pretraining=0.01\"#,\n",
    "#     \"--fast\"\n",
    "])\n",
    "main(args)\n"
   ]
  }
 ],
 "metadata": {
  "kernelspec": {
   "display_name": "Python 3",
   "language": "python",
   "name": "python3"
  },
  "language_info": {
   "codemirror_mode": {
    "name": "ipython",
    "version": 3
   },
   "file_extension": ".py",
   "mimetype": "text/x-python",
   "name": "python",
   "nbconvert_exporter": "python",
   "pygments_lexer": "ipython3",
   "version": "3.7.4"
  }
 },
 "nbformat": 4,
 "nbformat_minor": 5
}
