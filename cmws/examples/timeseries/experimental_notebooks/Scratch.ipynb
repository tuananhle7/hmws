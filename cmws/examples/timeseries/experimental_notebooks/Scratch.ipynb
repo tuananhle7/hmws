{
 "cells": [
  {
   "cell_type": "code",
   "execution_count": 1,
   "id": "b3885dc4",
   "metadata": {},
   "outputs": [],
   "source": [
    "from pathlib import Path\n",
    "\n",
    "from cmws import train, util\n",
    "from cmws.examples.timeseries import util as timeseries_util"
   ]
  },
  {
   "cell_type": "code",
   "execution_count": 2,
   "id": "ac67299b",
   "metadata": {},
   "outputs": [],
   "source": [
    "# from cmws.examples.timeseries.data import get_train_test_data\n",
    "# train_data, test_data = get_train_test_data()\n",
    "\n",
    "# from matplotlib import pyplot as plt\n",
    "# for i in range(10):\n",
    "#     plt.figure()\n",
    "#     plt.plot(train_data[i])"
   ]
  },
  {
   "cell_type": "code",
   "execution_count": null,
   "id": "62992dca",
   "metadata": {
    "scrolled": true
   },
   "outputs": [
    {
     "name": "stdout",
     "output_type": "stream",
     "text": [
      "20:35:34 | /Users/lbh/github/continuous_mws/cmws/util.py:316 | INFO: Using CPU\n",
      "20:35:34 | /Users/lbh/github/continuous_mws/cmws/examples/timeseries/run.py:17 | INFO: Training from scratch\n",
      "20:35:34 | /Users/lbh/github/continuous_mws/cmws/examples/timeseries/expression_prior_pretraining.py:37 | INFO: Pretraining the expression prior\n",
      "20:35:34 | /Users/lbh/github/continuous_mws/cmws/examples/timeseries/data.py:46 | INFO: Loaded 191 timeseries\n"
     ]
    },
    {
     "name": "stderr",
     "output_type": "stream",
     "text": [
      "\r",
      "  0%|          | 0/4000 [00:00<?, ?it/s]"
     ]
    },
    {
     "name": "stdout",
     "output_type": "stream",
     "text": [
      "20:35:34 | /Users/lbh/github/continuous_mws/cmws/examples/timeseries/expression_prior_pretraining.py:24 | INFO: C*W*5+C*W*$+C*W\n",
      "20:35:34 | /Users/lbh/github/continuous_mws/cmws/examples/timeseries/expression_prior_pretraining.py:24 | INFO: C*W*%+C*W*2+C*a\n",
      "20:35:34 | /Users/lbh/github/continuous_mws/cmws/examples/timeseries/expression_prior_pretraining.py:24 | INFO: C*!*a+C*R*5+C*4*d\n",
      "20:35:34 | /Users/lbh/github/continuous_mws/cmws/examples/timeseries/expression_prior_pretraining.py:24 | INFO: C*W\n",
      "20:35:34 | /Users/lbh/github/continuous_mws/cmws/examples/timeseries/expression_prior_pretraining.py:24 | INFO: C*R*2\n",
      "20:35:34 | /Users/lbh/github/continuous_mws/cmws/examples/timeseries/expression_prior_pretraining.py:24 | INFO: C*R*4\n",
      "20:35:34 | /Users/lbh/github/continuous_mws/cmws/examples/timeseries/expression_prior_pretraining.py:24 | INFO: C*4*%+C*e+C*W*a\n",
      "20:35:34 | /Users/lbh/github/continuous_mws/cmws/examples/timeseries/expression_prior_pretraining.py:24 | INFO: C*R+C*W*#+C*W*2\n",
      "20:35:34 | /Users/lbh/github/continuous_mws/cmws/examples/timeseries/expression_prior_pretraining.py:24 | INFO: C*R*b+C*R*d+C*R\n",
      "20:35:34 | /Users/lbh/github/continuous_mws/cmws/examples/timeseries/expression_prior_pretraining.py:24 | INFO: C*W*d+C*4*#\n",
      "20:35:34 | /Users/lbh/github/continuous_mws/cmws/examples/timeseries/expression_prior_pretraining.py:24 | INFO: C*2*#+C*R*e\n",
      "20:35:34 | /Users/lbh/github/continuous_mws/cmws/examples/timeseries/expression_prior_pretraining.py:24 | INFO: C*1*a+C*R*$+C*@*e\n",
      "20:35:34 | /Users/lbh/github/continuous_mws/cmws/examples/timeseries/expression_prior_pretraining.py:24 | INFO: C*R*3+C*3*a+C*W*R\n",
      "20:35:34 | /Users/lbh/github/continuous_mws/cmws/examples/timeseries/expression_prior_pretraining.py:24 | INFO: C*!*b+C*W*@\n",
      "20:35:34 | /Users/lbh/github/continuous_mws/cmws/examples/timeseries/expression_prior_pretraining.py:24 | INFO: C*W*e\n",
      "20:35:34 | /Users/lbh/github/continuous_mws/cmws/examples/timeseries/expression_prior_pretraining.py:24 | INFO: C*W*R+C*W*5\n",
      "20:35:34 | /Users/lbh/github/continuous_mws/cmws/examples/timeseries/expression_prior_pretraining.py:24 | INFO: C*W*R+C*R*5\n",
      "20:35:34 | /Users/lbh/github/continuous_mws/cmws/examples/timeseries/expression_prior_pretraining.py:24 | INFO: C*R*b+C*W*3+C*R\n",
      "20:35:34 | /Users/lbh/github/continuous_mws/cmws/examples/timeseries/expression_prior_pretraining.py:24 | INFO: C*3*a+C*W*d\n",
      "20:35:34 | /Users/lbh/github/continuous_mws/cmws/examples/timeseries/expression_prior_pretraining.py:24 | INFO: C*@*d+C*W*$+C*4*@\n",
      "20:35:34 | /Users/lbh/github/continuous_mws/cmws/examples/timeseries/expression_prior_pretraining.py:24 | INFO: C*3*d\n",
      "20:35:34 | /Users/lbh/github/continuous_mws/cmws/examples/timeseries/expression_prior_pretraining.py:24 | INFO: C*W+C*W*R\n",
      "20:35:34 | /Users/lbh/github/continuous_mws/cmws/examples/timeseries/expression_prior_pretraining.py:24 | INFO: C*W*b+C*4\n",
      "20:35:34 | /Users/lbh/github/continuous_mws/cmws/examples/timeseries/expression_prior_pretraining.py:24 | INFO: C*4*#+C*W*@+C*R*5\n",
      "20:35:34 | /Users/lbh/github/continuous_mws/cmws/examples/timeseries/expression_prior_pretraining.py:24 | INFO: C*W+C*W*@+C*W*R\n",
      "20:35:34 | /Users/lbh/github/continuous_mws/cmws/examples/timeseries/expression_prior_pretraining.py:24 | INFO: C*W*3+C*W*b+C*W*@\n",
      "20:35:34 | /Users/lbh/github/continuous_mws/cmws/examples/timeseries/expression_prior_pretraining.py:24 | INFO: C*W*%+C*5+C*R*e\n",
      "20:35:34 | /Users/lbh/github/continuous_mws/cmws/examples/timeseries/expression_prior_pretraining.py:24 | INFO: C*R*%+C*W*R\n",
      "20:35:34 | /Users/lbh/github/continuous_mws/cmws/examples/timeseries/expression_prior_pretraining.py:24 | INFO: C*3*a+C*R*c+C*W*d\n",
      "20:35:34 | /Users/lbh/github/continuous_mws/cmws/examples/timeseries/expression_prior_pretraining.py:24 | INFO: C*W*d+C*W*R\n",
      "20:35:34 | /Users/lbh/github/continuous_mws/cmws/examples/timeseries/expression_prior_pretraining.py:24 | INFO: C*R*b+C*3\n",
      "20:35:34 | /Users/lbh/github/continuous_mws/cmws/examples/timeseries/expression_prior_pretraining.py:24 | INFO: C*W*$+C*c+C*W*@\n",
      "20:35:34 | /Users/lbh/github/continuous_mws/cmws/examples/timeseries/expression_prior_pretraining.py:24 | INFO: C*W*!+C*R+C*R*$\n",
      "20:35:34 | /Users/lbh/github/continuous_mws/cmws/examples/timeseries/expression_prior_pretraining.py:24 | INFO: C*2*#\n",
      "20:35:34 | /Users/lbh/github/continuous_mws/cmws/examples/timeseries/expression_prior_pretraining.py:24 | INFO: C*a+C*R*!\n",
      "20:35:34 | /Users/lbh/github/continuous_mws/cmws/examples/timeseries/expression_prior_pretraining.py:24 | INFO: C*R+C*$*a+C*W*3\n",
      "20:35:34 | /Users/lbh/github/continuous_mws/cmws/examples/timeseries/expression_prior_pretraining.py:24 | INFO: C*R*3+C*R+C*a\n",
      "20:35:34 | /Users/lbh/github/continuous_mws/cmws/examples/timeseries/expression_prior_pretraining.py:24 | INFO: C*@+C*3+C*!\n",
      "20:35:34 | /Users/lbh/github/continuous_mws/cmws/examples/timeseries/expression_prior_pretraining.py:24 | INFO: C*e+C*W\n",
      "20:35:34 | /Users/lbh/github/continuous_mws/cmws/examples/timeseries/expression_prior_pretraining.py:24 | INFO: C*3+C*W*c+C*c\n",
      "20:35:34 | /Users/lbh/github/continuous_mws/cmws/examples/timeseries/expression_prior_pretraining.py:24 | INFO: C*R*b+C*@*e+C*1\n",
      "20:35:34 | /Users/lbh/github/continuous_mws/cmws/examples/timeseries/expression_prior_pretraining.py:24 | INFO: C*1*b+C*R*4+C*R*#\n",
      "20:35:34 | /Users/lbh/github/continuous_mws/cmws/examples/timeseries/expression_prior_pretraining.py:24 | INFO: C*W*$+C*@*b+C*R*e\n",
      "20:35:34 | /Users/lbh/github/continuous_mws/cmws/examples/timeseries/expression_prior_pretraining.py:24 | INFO: C*W+C*$*e+C*R*e\n",
      "20:35:34 | /Users/lbh/github/continuous_mws/cmws/examples/timeseries/expression_prior_pretraining.py:24 | INFO: C*$*b+C*W*R+C*W*!\n",
      "20:35:34 | /Users/lbh/github/continuous_mws/cmws/examples/timeseries/expression_prior_pretraining.py:24 | INFO: C*W*c+C*W*2\n",
      "20:35:34 | /Users/lbh/github/continuous_mws/cmws/examples/timeseries/expression_prior_pretraining.py:24 | INFO: C*W*%+C*1*$\n",
      "20:35:34 | /Users/lbh/github/continuous_mws/cmws/examples/timeseries/expression_prior_pretraining.py:24 | INFO: C*$*c+C*!*b+C*R*a\n",
      "20:35:34 | /Users/lbh/github/continuous_mws/cmws/examples/timeseries/expression_prior_pretraining.py:24 | INFO: C*W*R\n",
      "20:35:34 | /Users/lbh/github/continuous_mws/cmws/examples/timeseries/expression_prior_pretraining.py:24 | INFO: C*!*d+C*R*@+C*R\n",
      "20:35:34 | /Users/lbh/github/continuous_mws/cmws/examples/timeseries/expression_prior_pretraining.py:24 | INFO: C*#*e+C*1\n",
      "20:35:34 | /Users/lbh/github/continuous_mws/cmws/examples/timeseries/expression_prior_pretraining.py:24 | INFO: C*1*a+C*3*c+C*2*%\n",
      "20:35:34 | /Users/lbh/github/continuous_mws/cmws/examples/timeseries/expression_prior_pretraining.py:24 | INFO: C*W*5+C*R*!+C*R\n",
      "20:35:34 | /Users/lbh/github/continuous_mws/cmws/examples/timeseries/expression_prior_pretraining.py:24 | INFO: C*W*R+C*W*5+C*W*@\n",
      "20:35:34 | /Users/lbh/github/continuous_mws/cmws/examples/timeseries/expression_prior_pretraining.py:24 | INFO: C*R+C*W\n",
      "20:35:34 | /Users/lbh/github/continuous_mws/cmws/examples/timeseries/expression_prior_pretraining.py:24 | INFO: C*W*d\n"
     ]
    },
    {
     "name": "stderr",
     "output_type": "stream",
     "text": [
      "  7%|▋         | 278/4000 [00:09<02:52, 21.57it/s]"
     ]
    }
   ],
   "source": [
    "from cmws.examples.timeseries.run import main, get_args_parser\n",
    "\n",
    "parser = get_args_parser()\n",
    "args = parser.parse_args([\n",
    "    \"--continue-training\",\n",
    "    \"--experiment-name=scratch4\",\n",
    "    \"--algorithm=cmws_5\",\n",
    "    \"--num-particles=25\",\n",
    "    \"--full-training-data\",\n",
    "    \"--generative-model-lstm-hidden-dim=10\",\n",
    "    \"--guide-lstm-hidden-dim=10\",\n",
    "    \"--memory-size=5\",\n",
    "    \"--num-proposals-mws=15\",\n",
    "#     \"--num-sleep-pretraining-iterations=1000\",\n",
    "    \"--max-num-chars=7\",\n",
    "    \"--lr=0.001\",\n",
    "    \"--lr-continuous-latents=0.02\",\n",
    "    \"--lr-sleep-pretraining=0.01\"#,\n",
    "#     \"--fast\"\n",
    "])\n",
    "main(args)\n"
   ]
  },
  {
   "cell_type": "code",
   "execution_count": null,
   "id": "758f76df",
   "metadata": {},
   "outputs": [],
   "source": []
  }
 ],
 "metadata": {
  "kernelspec": {
   "display_name": "Python 3",
   "language": "python",
   "name": "python3"
  },
  "language_info": {
   "codemirror_mode": {
    "name": "ipython",
    "version": 3
   },
   "file_extension": ".py",
   "mimetype": "text/x-python",
   "name": "python",
   "nbconvert_exporter": "python",
   "pygments_lexer": "ipython3",
   "version": "3.7.4"
  }
 },
 "nbformat": 4,
 "nbformat_minor": 5
}
