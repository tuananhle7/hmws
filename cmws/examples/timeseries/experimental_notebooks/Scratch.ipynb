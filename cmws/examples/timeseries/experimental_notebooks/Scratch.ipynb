{
 "cells": [
  {
   "cell_type": "code",
   "execution_count": 1,
   "id": "b3885dc4",
   "metadata": {},
   "outputs": [],
   "source": [
    "from pathlib import Path\n",
    "\n",
    "from cmws import train, util\n",
    "from cmws.examples.timeseries import util as timeseries_util"
   ]
  },
  {
   "cell_type": "code",
   "execution_count": 2,
   "id": "ac67299b",
   "metadata": {},
   "outputs": [],
   "source": [
    "# from cmws.examples.timeseries.data import get_train_test_data\n",
    "# train_data, test_data = get_train_test_data()\n",
    "\n",
    "# from matplotlib import pyplot as plt\n",
    "# for i in range(10):\n",
    "#     plt.figure()\n",
    "#     plt.plot(train_data[i])"
   ]
  },
  {
   "cell_type": "code",
   "execution_count": null,
   "id": "62992dca",
   "metadata": {
    "scrolled": true
   },
   "outputs": [
    {
     "name": "stdout",
     "output_type": "stream",
     "text": [
      "19:39:41 | /Users/lbh/github/continuous_mws/cmws/util.py:316 | INFO: Using CPU\n",
      "19:39:41 | /Users/lbh/github/continuous_mws/cmws/examples/timeseries/run.py:17 | INFO: Training from scratch\n",
      "19:39:41 | /Users/lbh/github/continuous_mws/cmws/examples/timeseries/expression_prior_pretraining.py:34 | INFO: Pretraining the expression prior\n",
      "19:39:41 | /Users/lbh/github/continuous_mws/cmws/examples/timeseries/data.py:46 | INFO: Loaded 191 timeseries\n"
     ]
    },
    {
     "name": "stderr",
     "output_type": "stream",
     "text": [
      "\r",
      "  0%|          | 0/4000 [00:00<?, ?it/s]"
     ]
    },
    {
     "name": "stdout",
     "output_type": "stream",
     "text": [
      "Ignoring terminals:  ['1', '2', '3', '4', '5', 'a', 'b', 'c', 'd', 'e', '!', '@', '#', '$', '%']\n",
      "19:39:41 | /Users/lbh/github/continuous_mws/cmws/examples/timeseries/expression_prior_pretraining.py:21 | INFO: C*x+C*W*p+C*R*x\n",
      "19:39:41 | /Users/lbh/github/continuous_mws/cmws/examples/timeseries/expression_prior_pretraining.py:21 | INFO: C*W*R+C*W*x+C*R\n",
      "19:39:41 | /Users/lbh/github/continuous_mws/cmws/examples/timeseries/expression_prior_pretraining.py:21 | INFO: C*p*l+C*R*l\n",
      "19:39:41 | /Users/lbh/github/continuous_mws/cmws/examples/timeseries/expression_prior_pretraining.py:21 | INFO: C*R*x+C*R*x\n",
      "19:39:41 | /Users/lbh/github/continuous_mws/cmws/examples/timeseries/expression_prior_pretraining.py:21 | INFO: C*R*x+C*R*x+C*R*l\n",
      "19:39:41 | /Users/lbh/github/continuous_mws/cmws/examples/timeseries/expression_prior_pretraining.py:21 | INFO: C*W*p+C*R*p+C*R*x\n",
      "19:39:41 | /Users/lbh/github/continuous_mws/cmws/examples/timeseries/expression_prior_pretraining.py:21 | INFO: C*p*x+C*R*l+C*R*p\n",
      "19:39:41 | /Users/lbh/github/continuous_mws/cmws/examples/timeseries/expression_prior_pretraining.py:21 | INFO: C*R*l+C*R*l\n",
      "19:39:41 | /Users/lbh/github/continuous_mws/cmws/examples/timeseries/expression_prior_pretraining.py:21 | INFO: C*R*l+C*l*x+C*R*l\n",
      "19:39:41 | /Users/lbh/github/continuous_mws/cmws/examples/timeseries/expression_prior_pretraining.py:21 | INFO: C*p*x+C*R*p\n",
      "19:39:41 | /Users/lbh/github/continuous_mws/cmws/examples/timeseries/expression_prior_pretraining.py:21 | INFO: C*R*p+C*p*x\n",
      "19:39:41 | /Users/lbh/github/continuous_mws/cmws/examples/timeseries/expression_prior_pretraining.py:21 | INFO: C*p*x+C*W*R\n",
      "19:39:41 | /Users/lbh/github/continuous_mws/cmws/examples/timeseries/expression_prior_pretraining.py:21 | INFO: C*W*p+C*R*l+C*W\n",
      "19:39:41 | /Users/lbh/github/continuous_mws/cmws/examples/timeseries/expression_prior_pretraining.py:21 | INFO: C*W*x+C*l+C*l*x\n",
      "19:39:41 | /Users/lbh/github/continuous_mws/cmws/examples/timeseries/expression_prior_pretraining.py:21 | INFO: C*R*l+C*R*l\n",
      "19:39:41 | /Users/lbh/github/continuous_mws/cmws/examples/timeseries/expression_prior_pretraining.py:21 | INFO: C*p+C*W*p\n",
      "19:39:41 | /Users/lbh/github/continuous_mws/cmws/examples/timeseries/expression_prior_pretraining.py:21 | INFO: C*W*x+C*W\n",
      "19:39:41 | /Users/lbh/github/continuous_mws/cmws/examples/timeseries/expression_prior_pretraining.py:21 | INFO: C*l*x\n",
      "19:39:41 | /Users/lbh/github/continuous_mws/cmws/examples/timeseries/expression_prior_pretraining.py:21 | INFO: C*W*R+C*W+C*W*l\n",
      "19:39:41 | /Users/lbh/github/continuous_mws/cmws/examples/timeseries/expression_prior_pretraining.py:21 | INFO: C*W*R+C*W*x\n",
      "19:39:41 | /Users/lbh/github/continuous_mws/cmws/examples/timeseries/expression_prior_pretraining.py:21 | INFO: C*W*l+C*W*R+C*l*x\n",
      "19:39:41 | /Users/lbh/github/continuous_mws/cmws/examples/timeseries/expression_prior_pretraining.py:21 | INFO: C*x+C*p*l\n",
      "19:39:41 | /Users/lbh/github/continuous_mws/cmws/examples/timeseries/expression_prior_pretraining.py:21 | INFO: C*R\n",
      "19:39:41 | /Users/lbh/github/continuous_mws/cmws/examples/timeseries/expression_prior_pretraining.py:21 | INFO: C*R*l+C*x\n",
      "19:39:41 | /Users/lbh/github/continuous_mws/cmws/examples/timeseries/expression_prior_pretraining.py:21 | INFO: C*l\n",
      "19:39:41 | /Users/lbh/github/continuous_mws/cmws/examples/timeseries/expression_prior_pretraining.py:21 | INFO: C*W*R+C*W*R+C*l\n",
      "19:39:41 | /Users/lbh/github/continuous_mws/cmws/examples/timeseries/expression_prior_pretraining.py:21 | INFO: C*l*x+C*R*p+C*W*x\n",
      "19:39:41 | /Users/lbh/github/continuous_mws/cmws/examples/timeseries/expression_prior_pretraining.py:21 | INFO: C*p*x+C*R*p+C*W*R\n",
      "19:39:41 | /Users/lbh/github/continuous_mws/cmws/examples/timeseries/expression_prior_pretraining.py:21 | INFO: C*p*x+C*R*x\n",
      "19:39:41 | /Users/lbh/github/continuous_mws/cmws/examples/timeseries/expression_prior_pretraining.py:21 | INFO: C*W*p\n",
      "19:39:41 | /Users/lbh/github/continuous_mws/cmws/examples/timeseries/expression_prior_pretraining.py:21 | INFO: C*x\n",
      "19:39:41 | /Users/lbh/github/continuous_mws/cmws/examples/timeseries/expression_prior_pretraining.py:21 | INFO: C*R*x+C*p*x+C*W\n",
      "19:39:41 | /Users/lbh/github/continuous_mws/cmws/examples/timeseries/expression_prior_pretraining.py:21 | INFO: C*W*R+C*p*l+C*W*R\n",
      "19:39:41 | /Users/lbh/github/continuous_mws/cmws/examples/timeseries/expression_prior_pretraining.py:21 | INFO: C*l+C*R*p+C*p*l\n",
      "19:39:41 | /Users/lbh/github/continuous_mws/cmws/examples/timeseries/expression_prior_pretraining.py:21 | INFO: C*W*R+C*W*l+C*x\n",
      "19:39:41 | /Users/lbh/github/continuous_mws/cmws/examples/timeseries/expression_prior_pretraining.py:21 | INFO: C*W*R+C*R+C*W*p\n",
      "19:39:41 | /Users/lbh/github/continuous_mws/cmws/examples/timeseries/expression_prior_pretraining.py:21 | INFO: C*R+C*p*l+C*W*R\n",
      "19:39:41 | /Users/lbh/github/continuous_mws/cmws/examples/timeseries/expression_prior_pretraining.py:21 | INFO: C*R*p\n",
      "19:39:41 | /Users/lbh/github/continuous_mws/cmws/examples/timeseries/expression_prior_pretraining.py:21 | INFO: C*p*x+C*R*x\n",
      "19:39:41 | /Users/lbh/github/continuous_mws/cmws/examples/timeseries/expression_prior_pretraining.py:21 | INFO: C*W*x\n",
      "19:39:41 | /Users/lbh/github/continuous_mws/cmws/examples/timeseries/expression_prior_pretraining.py:21 | INFO: C*p+C*p*l+C*W\n",
      "19:39:41 | /Users/lbh/github/continuous_mws/cmws/examples/timeseries/expression_prior_pretraining.py:21 | INFO: C*R*p\n",
      "19:39:41 | /Users/lbh/github/continuous_mws/cmws/examples/timeseries/expression_prior_pretraining.py:21 | INFO: C*W+C*l*x+C*l*x\n",
      "19:39:41 | /Users/lbh/github/continuous_mws/cmws/examples/timeseries/expression_prior_pretraining.py:21 | INFO: C*R*p+C*R\n",
      "19:39:41 | /Users/lbh/github/continuous_mws/cmws/examples/timeseries/expression_prior_pretraining.py:21 | INFO: C*W+C*R*l+C*R*x\n",
      "19:39:41 | /Users/lbh/github/continuous_mws/cmws/examples/timeseries/expression_prior_pretraining.py:21 | INFO: C*p*x+C*R*l\n",
      "19:39:41 | /Users/lbh/github/continuous_mws/cmws/examples/timeseries/expression_prior_pretraining.py:21 | INFO: C*R*l+C*p*x+C*x\n",
      "19:39:41 | /Users/lbh/github/continuous_mws/cmws/examples/timeseries/expression_prior_pretraining.py:21 | INFO: C*p*l+C*W*x\n",
      "19:39:41 | /Users/lbh/github/continuous_mws/cmws/examples/timeseries/expression_prior_pretraining.py:21 | INFO: C*p+C*R*l+C*W\n",
      "19:39:41 | /Users/lbh/github/continuous_mws/cmws/examples/timeseries/expression_prior_pretraining.py:21 | INFO: C*W*x\n",
      "19:39:41 | /Users/lbh/github/continuous_mws/cmws/examples/timeseries/expression_prior_pretraining.py:21 | INFO: C*W+C*W*l+C*W*x\n",
      "19:39:41 | /Users/lbh/github/continuous_mws/cmws/examples/timeseries/expression_prior_pretraining.py:21 | INFO: C*W*p+C*p*x+C*p*x\n",
      "19:39:41 | /Users/lbh/github/continuous_mws/cmws/examples/timeseries/expression_prior_pretraining.py:21 | INFO: C*x+C*R\n"
     ]
    },
    {
     "name": "stderr",
     "output_type": "stream",
     "text": [
      "100%|██████████| 4000/4000 [01:51<00:00, 35.95it/s]"
     ]
    },
    {
     "name": "stdout",
     "output_type": "stream",
     "text": [
      "19:41:32 | /Users/lbh/github/continuous_mws/cmws/memory.py:20 | INFO: Initializing memory\n"
     ]
    },
    {
     "name": "stderr",
     "output_type": "stream",
     "text": [
      "\n",
      "100%|██████████| 140/140 [00:00<00:00, 159.08it/s]\n",
      "0it [00:00, ?it/s]\n"
     ]
    },
    {
     "name": "stdout",
     "output_type": "stream",
     "text": [
      "19:41:38 | /Users/lbh/github/continuous_mws/cmws/train.py:325 | INFO: Computing logp and KL\n",
      "19:41:39 | /Users/lbh/github/continuous_mws/cmws/train.py:356 | INFO: Iteration 0 | Loss = 295 | Log p = 5 | KL = 31129 | Max GPU memory allocated = 0 MB\n",
      "19:41:39 | /Users/lbh/github/continuous_mws/cmws/examples/timeseries/util.py:479 | INFO: Saved checkpoint to save/scratchX1/cmws_5_1/checkpoints/latest.pt\n",
      "19:41:39 | /Users/lbh/github/continuous_mws/cmws/examples/timeseries/util.py:479 | INFO: Saved checkpoint to save/scratchX1/cmws_5_1/checkpoints/0.pt\n",
      "19:41:45 | /Users/lbh/github/continuous_mws/cmws/train.py:356 | INFO: Iteration 1 | Loss = 264 | Log p = 5 | KL = 31129 | Max GPU memory allocated = 0 MB\n",
      "19:41:51 | /Users/lbh/github/continuous_mws/cmws/train.py:356 | INFO: Iteration 2 | Loss = 178 | Log p = 5 | KL = 31129 | Max GPU memory allocated = 0 MB\n",
      "19:41:58 | /Users/lbh/github/continuous_mws/cmws/train.py:356 | INFO: Iteration 3 | Loss = 301 | Log p = 5 | KL = 31129 | Max GPU memory allocated = 0 MB\n",
      "19:42:04 | /Users/lbh/github/continuous_mws/cmws/train.py:356 | INFO: Iteration 4 | Loss = 270 | Log p = 5 | KL = 31129 | Max GPU memory allocated = 0 MB\n",
      "19:42:09 | /Users/lbh/github/continuous_mws/cmws/train.py:356 | INFO: Iteration 5 | Loss = 152 | Log p = 5 | KL = 31129 | Max GPU memory allocated = 0 MB\n",
      "19:42:15 | /Users/lbh/github/continuous_mws/cmws/train.py:356 | INFO: Iteration 6 | Loss = 256 | Log p = 5 | KL = 31129 | Max GPU memory allocated = 0 MB\n",
      "19:42:20 | /Users/lbh/github/continuous_mws/cmws/train.py:356 | INFO: Iteration 7 | Loss = 166 | Log p = 5 | KL = 31129 | Max GPU memory allocated = 0 MB\n",
      "19:42:26 | /Users/lbh/github/continuous_mws/cmws/train.py:356 | INFO: Iteration 8 | Loss = 138 | Log p = 5 | KL = 31129 | Max GPU memory allocated = 0 MB\n",
      "19:42:31 | /Users/lbh/github/continuous_mws/cmws/train.py:356 | INFO: Iteration 9 | Loss = 156 | Log p = 5 | KL = 31129 | Max GPU memory allocated = 0 MB\n",
      "19:42:37 | /Users/lbh/github/continuous_mws/cmws/train.py:356 | INFO: Iteration 10 | Loss = 119 | Log p = 5 | KL = 31129 | Max GPU memory allocated = 0 MB\n",
      "19:42:37 | /Users/lbh/github/continuous_mws/cmws/examples/timeseries/util.py:479 | INFO: Saved checkpoint to save/scratchX1/cmws_5_1/checkpoints/latest.pt\n",
      "19:42:42 | /Users/lbh/github/continuous_mws/cmws/train.py:356 | INFO: Iteration 11 | Loss = 196 | Log p = 5 | KL = 31129 | Max GPU memory allocated = 0 MB\n",
      "19:42:48 | /Users/lbh/github/continuous_mws/cmws/train.py:356 | INFO: Iteration 12 | Loss = 143 | Log p = 5 | KL = 31129 | Max GPU memory allocated = 0 MB\n",
      "19:42:54 | /Users/lbh/github/continuous_mws/cmws/train.py:356 | INFO: Iteration 13 | Loss = 282 | Log p = 5 | KL = 31129 | Max GPU memory allocated = 0 MB\n",
      "19:42:59 | /Users/lbh/github/continuous_mws/cmws/train.py:356 | INFO: Iteration 14 | Loss = 277 | Log p = 5 | KL = 31129 | Max GPU memory allocated = 0 MB\n",
      "19:43:05 | /Users/lbh/github/continuous_mws/cmws/train.py:356 | INFO: Iteration 15 | Loss = 183 | Log p = 5 | KL = 31129 | Max GPU memory allocated = 0 MB\n",
      "19:43:10 | /Users/lbh/github/continuous_mws/cmws/train.py:356 | INFO: Iteration 16 | Loss = 225 | Log p = 5 | KL = 31129 | Max GPU memory allocated = 0 MB\n",
      "19:43:16 | /Users/lbh/github/continuous_mws/cmws/train.py:356 | INFO: Iteration 17 | Loss = 363 | Log p = 5 | KL = 31129 | Max GPU memory allocated = 0 MB\n",
      "19:43:21 | /Users/lbh/github/continuous_mws/cmws/train.py:356 | INFO: Iteration 18 | Loss = 248 | Log p = 5 | KL = 31129 | Max GPU memory allocated = 0 MB\n",
      "19:43:27 | /Users/lbh/github/continuous_mws/cmws/train.py:356 | INFO: Iteration 19 | Loss = 202 | Log p = 5 | KL = 31129 | Max GPU memory allocated = 0 MB\n",
      "19:43:32 | /Users/lbh/github/continuous_mws/cmws/train.py:356 | INFO: Iteration 20 | Loss = 188 | Log p = 5 | KL = 31129 | Max GPU memory allocated = 0 MB\n",
      "19:43:32 | /Users/lbh/github/continuous_mws/cmws/examples/timeseries/util.py:479 | INFO: Saved checkpoint to save/scratchX1/cmws_5_1/checkpoints/latest.pt\n",
      "19:43:38 | /Users/lbh/github/continuous_mws/cmws/train.py:356 | INFO: Iteration 21 | Loss = 146 | Log p = 5 | KL = 31129 | Max GPU memory allocated = 0 MB\n",
      "19:43:44 | /Users/lbh/github/continuous_mws/cmws/train.py:356 | INFO: Iteration 22 | Loss = 221 | Log p = 5 | KL = 31129 | Max GPU memory allocated = 0 MB\n",
      "19:43:50 | /Users/lbh/github/continuous_mws/cmws/train.py:356 | INFO: Iteration 23 | Loss = 271 | Log p = 5 | KL = 31129 | Max GPU memory allocated = 0 MB\n",
      "19:43:56 | /Users/lbh/github/continuous_mws/cmws/train.py:356 | INFO: Iteration 24 | Loss = 175 | Log p = 5 | KL = 31129 | Max GPU memory allocated = 0 MB\n",
      "19:44:02 | /Users/lbh/github/continuous_mws/cmws/train.py:356 | INFO: Iteration 25 | Loss = 155 | Log p = 5 | KL = 31129 | Max GPU memory allocated = 0 MB\n",
      "19:44:07 | /Users/lbh/github/continuous_mws/cmws/train.py:356 | INFO: Iteration 26 | Loss = 255 | Log p = 5 | KL = 31129 | Max GPU memory allocated = 0 MB\n",
      "19:44:13 | /Users/lbh/github/continuous_mws/cmws/train.py:356 | INFO: Iteration 27 | Loss = 161 | Log p = 5 | KL = 31129 | Max GPU memory allocated = 0 MB\n",
      "19:44:19 | /Users/lbh/github/continuous_mws/cmws/train.py:356 | INFO: Iteration 28 | Loss = 234 | Log p = 5 | KL = 31129 | Max GPU memory allocated = 0 MB\n",
      "19:44:24 | /Users/lbh/github/continuous_mws/cmws/train.py:356 | INFO: Iteration 29 | Loss = 269 | Log p = 5 | KL = 31129 | Max GPU memory allocated = 0 MB\n",
      "19:44:29 | /Users/lbh/github/continuous_mws/cmws/train.py:356 | INFO: Iteration 30 | Loss = 131 | Log p = 5 | KL = 31129 | Max GPU memory allocated = 0 MB\n",
      "19:44:29 | /Users/lbh/github/continuous_mws/cmws/examples/timeseries/util.py:479 | INFO: Saved checkpoint to save/scratchX1/cmws_5_1/checkpoints/latest.pt\n",
      "19:44:35 | /Users/lbh/github/continuous_mws/cmws/train.py:356 | INFO: Iteration 31 | Loss = 255 | Log p = 5 | KL = 31129 | Max GPU memory allocated = 0 MB\n",
      "19:44:41 | /Users/lbh/github/continuous_mws/cmws/train.py:356 | INFO: Iteration 32 | Loss = 236 | Log p = 5 | KL = 31129 | Max GPU memory allocated = 0 MB\n",
      "19:44:46 | /Users/lbh/github/continuous_mws/cmws/train.py:356 | INFO: Iteration 33 | Loss = 102 | Log p = 5 | KL = 31129 | Max GPU memory allocated = 0 MB\n"
     ]
    }
   ],
   "source": [
    "from cmws.examples.timeseries.run import main, get_args_parser\n",
    "\n",
    "parser = get_args_parser()\n",
    "args = parser.parse_args([\n",
    "    \"--continue-training\",\n",
    "    \"--experiment-name=scratchX1\",\n",
    "    \"--algorithm=cmws_5\",\n",
    "    \"--num-particles=25\",\n",
    "    \"--full-training-data\",\n",
    "    \"--generative-model-lstm-hidden-dim=10\",\n",
    "    \"--guide-lstm-hidden-dim=10\",\n",
    "    \"--memory-size=5\",\n",
    "    \"--num-proposals-mws=15\",\n",
    "#     \"--num-sleep-pretraining-iterations=1000\",\n",
    "    \"--max-num-chars=7\",\n",
    "    \"--lr=0.001\",\n",
    "    \"--lr-continuous-latents=0.02\",\n",
    "    \"--lr-sleep-pretraining=0.01\",\n",
    "    \"--include-symbols=WRC\"\n",
    "        \"Pp\" # periodic p12345\n",
    "        \"Xx\" # cosine   xabcde\n",
    "        \"Ll\" #linear    l!@#$%\n",
    "    #,\n",
    "    \n",
    "#     \"--fast\"\n",
    "])\n",
    "main(args)\n"
   ]
  },
  {
   "cell_type": "code",
   "execution_count": null,
   "id": "2d715002",
   "metadata": {},
   "outputs": [],
   "source": []
  }
 ],
 "metadata": {
  "kernelspec": {
   "display_name": "Python 3",
   "language": "python",
   "name": "python3"
  },
  "language_info": {
   "codemirror_mode": {
    "name": "ipython",
    "version": 3
   },
   "file_extension": ".py",
   "mimetype": "text/x-python",
   "name": "python",
   "nbconvert_exporter": "python",
   "pygments_lexer": "ipython3",
   "version": "3.7.4"
  }
 },
 "nbformat": 4,
 "nbformat_minor": 5
}
