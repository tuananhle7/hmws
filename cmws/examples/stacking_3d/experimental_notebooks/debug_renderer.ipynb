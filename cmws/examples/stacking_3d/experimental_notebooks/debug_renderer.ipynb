{
 "cells": [
  {
   "cell_type": "code",
   "execution_count": null,
   "id": "edb34cc8",
   "metadata": {},
   "outputs": [],
   "source": [
    "import random\n",
    "\n",
    "import torch\n",
    "import torch.nn as nn\n",
    "from cmws import util\n",
    "import torch\n",
    "from pytorch3d.renderer import (\n",
    "    look_at_view_transform,\n",
    "    FoVPerspectiveCameras,\n",
    "    PointLights,\n",
    "    DirectionalLights,\n",
    "    Materials,\n",
    "    RasterizationSettings,\n",
    "    MeshRenderer,\n",
    "    MeshRasterizer,\n",
    "    SoftPhongShader,\n",
    "    HardPhongShader,\n",
    "    TexturesUV,\n",
    "    TexturesVertex,\n",
    "    BlendParams,\n",
    "    softmax_rgb_blend\n",
    ")\n",
    "from pytorch3d.structures.meshes import (\n",
    "    Meshes,\n",
    "    join_meshes_as_batch,\n",
    "    join_meshes_as_scene,\n",
    ")\n",
    "import numpy as np\n",
    "from cmws.examples.stacking_3d import data, render\n",
    "from cmws import util\n",
    "import matplotlib.pyplot as plt\n",
    "\n",
    "device = 'cpu'"
   ]
  },
  {
   "cell_type": "code",
   "execution_count": 220,
   "id": "ce7c5065",
   "metadata": {},
   "outputs": [],
   "source": [
    "num_primitives = 3\n",
    "primitives = [\n",
    "    render.Cube(\n",
    "        \"A\", torch.tensor([1.0, 0.0, 0.0], device=device), torch.tensor(0.3, device=device)\n",
    "    ),\n",
    "    render.Cube(\n",
    "        \"B\", torch.tensor([0.0, 1.0, 0.0], device=device), torch.tensor(0.4, device=device)\n",
    "    ),\n",
    "    render.Cube(\n",
    "        \"C\", torch.tensor([0.0, 0.0, 1.0], device=device), torch.tensor(0.5, device=device)\n",
    "    ),\n",
    "][:num_primitives]\n",
    "# num_primitives = len(primitives)\n",
    "\n",
    "# Sample\n",
    "stacking_program = data.sample_stacking_program(\n",
    "    num_primitives, device, fixed_num_blocks=False\n",
    ")\n",
    "raw_locations = data.sample_raw_locations(stacking_program)"
   ]
  },
  {
   "cell_type": "code",
   "execution_count": 221,
   "id": "17c984bc",
   "metadata": {},
   "outputs": [],
   "source": [
    "im_size = 32\n",
    "\n",
    "shape = stacking_program.shape[:-1]\n",
    "max_num_blocks = stacking_program.shape[-1]\n",
    "num_elements = util.get_num_elements(shape)\n",
    "num_channels = 3\n",
    "num_blocks = torch.tensor(len(stacking_program), device=device).long()\n",
    "\n",
    "# [num_primitives]\n",
    "square_size = torch.stack([primitive.size for primitive in primitives])\n",
    "# [num_primitives, 3]\n",
    "square_color = torch.stack([primitive.color for primitive in primitives])\n",
    "\n",
    "# Convert [*shape, max_num_blocks, 3]\n",
    "locations = render.convert_raw_locations_batched(raw_locations, stacking_program, primitives)\n",
    "\n",
    "# Flatten\n",
    "num_blocks_flattened = num_blocks.reshape(num_elements)\n",
    "stacking_program_flattened = stacking_program.reshape((num_elements, max_num_blocks))\n",
    "locations_flattened = locations.view((num_elements, max_num_blocks, 3))\n",
    "\n",
    "imgs = render.render_cubes(num_blocks_flattened, square_size[stacking_program_flattened], square_color[stacking_program_flattened], locations_flattened, im_size)\n",
    "imgs = imgs.permute(0, 3, 1, 2)\n",
    "imgs = imgs.view(*[*shape, num_channels, *imgs.shape[-2:]])"
   ]
  },
  {
   "cell_type": "code",
   "execution_count": 222,
   "id": "5808dc82",
   "metadata": {},
   "outputs": [],
   "source": [
    "num_cubes = num_blocks_flattened\n",
    "sizes = square_size[stacking_program_flattened]\n",
    "colors = square_color[stacking_program_flattened]\n",
    "positions = locations_flattened"
   ]
  },
  {
   "cell_type": "code",
   "execution_count": 313,
   "id": "c0e335fc",
   "metadata": {},
   "outputs": [],
   "source": [
    "\n",
    "im_size = 512\n",
    "\n",
    "# Create camera\n",
    "R, T = look_at_view_transform(1.0, 90, 180,\n",
    "                              up=((0.0, -1.0, 0.0),),\n",
    "                              at=((0.0, 1, -0.2),))  # view top to see stacking\n",
    "cameras = FoVPerspectiveCameras(device=device, R=R, T=T,\n",
    "                               fov=60.0)\n",
    "\n",
    "# Settings for rasterizer (optional blur)\n",
    "# \n",
    "blend_params = BlendParams( sigma = 1e-4, gamma = 1e-4,background_color=(0.0,0.0,0.0))\n",
    "raster_settings = RasterizationSettings(\n",
    "    image_size=im_size, # crisper objects + texture w/ higher resolution\n",
    "    blur_radius = np.log(1. / 1e-4 - 1.) * blend_params.sigma, \n",
    "    faces_per_pixel=2, # increase at cost of GPU memory,\n",
    "    bin_size=0\n",
    ")\n",
    "\n",
    "# Add light from the front\n",
    "lights = PointLights(device=device, location=[[0.0, 3.0, 0.0]]) # top light\n",
    "\n",
    "# Compose renderer and shader\n",
    "renderer = MeshRenderer(\n",
    "    rasterizer=MeshRasterizer(\n",
    "        cameras=cameras,\n",
    "        raster_settings=raster_settings\n",
    "    ),\n",
    "    shader=SoftPhongShader(\n",
    "        device=device,\n",
    "        cameras=cameras,\n",
    "        lights=lights,\n",
    "        blend_params=blend_params\n",
    "    )\n",
    ")\n",
    "\n",
    "# create one mesh per elmt in batch\n",
    "\n",
    "meshes = []\n",
    "for batch_idx, n_cubes in enumerate(num_cubes):\n",
    "    # Combine obj meshes into single mesh from rendering\n",
    "    # https://github.com/facebookresearch/pytorch3d/issues/15\n",
    "    vertices = []\n",
    "    faces = []\n",
    "    textures = []\n",
    "    vert_offset = 0 # offset by vertices from prior meshes\n",
    "    for i, (position, size,color) in enumerate(zip(positions[batch_idx, :n_cubes, :], sizes[batch_idx, :n_cubes],\n",
    "                                                   colors[batch_idx, :n_cubes, :])):\n",
    "        cube_vertices, cube_faces = render.get_cube_mesh(position, size)\n",
    "        # For now, apply same color to each mesh vertex (v \\in V)\n",
    "        texture = torch.ones_like(cube_vertices) * color# [V, 3]\n",
    "        # Offset faces (account for diff indexing, b/c treating as one mesh)\n",
    "        cube_faces = cube_faces + vert_offset\n",
    "        vert_offset = cube_vertices.shape[0]\n",
    "        vertices.append(cube_vertices)\n",
    "        faces.append(cube_faces)\n",
    "        textures.append(texture)\n",
    "\n",
    "    # Concatenate data into single mesh\n",
    "    vertices = torch.cat(vertices)\n",
    "    faces = torch.cat(faces)\n",
    "    textures = torch.cat(textures)[None]  # (1, num_verts, 3)\n",
    "    textures = TexturesVertex(verts_features=textures)\n",
    "    # each elmt of verts array is diff mesh in batch\n",
    "    mesh = Meshes(verts=[vertices], faces=[faces], textures=textures)\n",
    "    meshes.append(mesh)\n",
    "\n",
    "batched_mesh = join_meshes_as_batch(meshes)\n",
    "\n",
    "# Render image\n",
    "img = renderer(batched_mesh)   # (B, H, W, 4)\n",
    "\n",
    "# Remove alpha channel and return (B, im_size, im_size, 3)\n",
    "img = img[:, ..., :3]#.detach().squeeze().cpu().numpy()"
   ]
  },
  {
   "cell_type": "code",
   "execution_count": 308,
   "id": "7fbb65f4",
   "metadata": {},
   "outputs": [
    {
     "data": {
      "text/plain": [
       "<matplotlib.image.AxesImage at 0x2ba80b7efa10>"
      ]
     },
     "execution_count": 308,
     "metadata": {},
     "output_type": "execute_result"
    },
    {
     "data": {
      "image/png": "[encoded data removed]",
      "text/plain": [
       "<Figure size 432x288 with 1 Axes>"
      ]
     },
     "metadata": {
      "needs_background": "light"
     },
     "output_type": "display_data"
    }
   ],
   "source": [
    "plt.imshow(img[0])\n",
    "#plt.axis('off')"
   ]
  },
  {
   "cell_type": "code",
   "execution_count": 314,
   "id": "37d6cfa1",
   "metadata": {},
   "outputs": [
    {
     "data": {
      "text/plain": [
       "<matplotlib.image.AxesImage at 0x2ba80b9307d0>"
      ]
     },
     "execution_count": 314,
     "metadata": {},
     "output_type": "execute_result"
    },
    {
     "data": {
      "image/png": "[encoded data removed]",
      "text/plain": [
       "<Figure size 432x288 with 1 Axes>"
      ]
     },
     "metadata": {
      "needs_background": "light"
     },
     "output_type": "display_data"
    }
   ],
   "source": [
    "plt.imshow(img[0])\n",
    "#plt.axis('off')"
   ]
  },
  {
   "cell_type": "code",
   "execution_count": 175,
   "id": "638e765f",
   "metadata": {},
   "outputs": [
    {
     "data": {
      "text/plain": [
       "9.21024036697585e-05"
      ]
     },
     "execution_count": 175,
     "metadata": {},
     "output_type": "execute_result"
    }
   ],
   "source": [
    "np.log(1.0 / 1e-4 - 1.0) * 1e-5"
   ]
  },
  {
   "cell_type": "code",
   "execution_count": 26,
   "id": "ee2b10f9",
   "metadata": {},
   "outputs": [],
   "source": []
  },
  {
   "cell_type": "code",
   "execution_count": 139,
   "id": "e3102c61",
   "metadata": {},
   "outputs": [],
   "source": [
    "blend_params = BlendParams(sigma=1e-5, gamma=1e-4)"
   ]
  },
  {
   "cell_type": "code",
   "execution_count": null,
   "id": "a599d4bf",
   "metadata": {},
   "outputs": [],
   "source": []
  }
 ],
 "metadata": {
  "kernelspec": {
   "display_name": "Python 3",
   "language": "python",
   "name": "python3"
  },
  "language_info": {
   "codemirror_mode": {
    "name": "ipython",
    "version": 3
   },
   "file_extension": ".py",
   "mimetype": "text/x-python",
   "name": "python",
   "nbconvert_exporter": "python",
   "pygments_lexer": "ipython3",
   "version": "3.7.4"
  }
 },
 "nbformat": 4,
 "nbformat_minor": 5
}
