{
 "cells": [
  {
   "cell_type": "code",
   "execution_count": 11,
   "metadata": {},
   "outputs": [],
   "source": [
    "import cmws.examples.timeseries.models.timeseries as timeseries\n",
    "import cmws.examples.timeseries.pcfg_util as pcfg_util\n",
    "import cmws\n",
    "import cmws.examples.timeseries.util as timeseries_util\n",
    "import torch\n",
    "import itertools\n",
    "import matplotlib.pyplot as plt\n",
    "from tqdm import tqdm"
   ]
  },
  {
   "cell_type": "code",
   "execution_count": 99,
   "metadata": {},
   "outputs": [],
   "source": [
    "def generate_data(batch_size, max_num_chars, device):\n",
    "    pcfg = pcfg_util.read_pcfg(\"kernel_pcfg.json\", device)\n",
    "\n",
    "    x = torch.zeros((batch_size, max_num_chars), device=device).long()\n",
    "    eos = torch.zeros((batch_size, max_num_chars), device=device).long()\n",
    "\n",
    "    for batch_id in range(batch_size):\n",
    "        done = False\n",
    "        while not done:\n",
    "            raw_expression = timeseries_util.get_raw_expression(pcfg_util.sample_expression(pcfg), device)\n",
    "            expression_len = len(raw_expression)\n",
    "            if expression_len > max_num_chars:\n",
    "                continue\n",
    "            x[batch_id, :expression_len] = raw_expression\n",
    "            eos[batch_id, expression_len - 1] = 1\n",
    "            done = True\n",
    "    return x, eos"
   ]
  },
  {
   "cell_type": "code",
   "execution_count": 100,
   "metadata": {},
   "outputs": [
    {
     "data": {
      "text/plain": [
       "(tensor([[1, 0, 0, 0, 0, 0, 0, 0, 0, 0, 0, 0, 0, 0, 0, 0, 0, 0, 0, 0],\n",
       "         [3, 0, 0, 0, 0, 0, 0, 0, 0, 0, 0, 0, 0, 0, 0, 0, 0, 0, 0, 0],\n",
       "         [2, 0, 0, 0, 0, 0, 0, 0, 0, 0, 0, 0, 0, 0, 0, 0, 0, 0, 0, 0],\n",
       "         [2, 0, 0, 0, 0, 0, 0, 0, 0, 0, 0, 0, 0, 0, 0, 0, 0, 0, 0, 0],\n",
       "         [1, 0, 0, 0, 0, 0, 0, 0, 0, 0, 0, 0, 0, 0, 0, 0, 0, 0, 0, 0],\n",
       "         [3, 0, 0, 0, 0, 0, 0, 0, 0, 0, 0, 0, 0, 0, 0, 0, 0, 0, 0, 0],\n",
       "         [6, 6, 2, 7, 7, 5, 1, 0, 0, 0, 0, 0, 0, 0, 0, 0, 0, 0, 0, 0],\n",
       "         [1, 0, 0, 0, 0, 0, 0, 0, 0, 0, 0, 0, 0, 0, 0, 0, 0, 0, 0, 0],\n",
       "         [0, 5, 1, 0, 0, 0, 0, 0, 0, 0, 0, 0, 0, 0, 0, 0, 0, 0, 0, 0],\n",
       "         [6, 0, 7, 0, 0, 0, 0, 0, 0, 0, 0, 0, 0, 0, 0, 0, 0, 0, 0, 0]],\n",
       "        device='cuda:0'),\n",
       " tensor([[1, 0, 0, 0, 0, 0, 0, 0, 0, 0, 0, 0, 0, 0, 0, 0, 0, 0, 0, 0],\n",
       "         [1, 0, 0, 0, 0, 0, 0, 0, 0, 0, 0, 0, 0, 0, 0, 0, 0, 0, 0, 0],\n",
       "         [1, 0, 0, 0, 0, 0, 0, 0, 0, 0, 0, 0, 0, 0, 0, 0, 0, 0, 0, 0],\n",
       "         [1, 0, 0, 0, 0, 0, 0, 0, 0, 0, 0, 0, 0, 0, 0, 0, 0, 0, 0, 0],\n",
       "         [1, 0, 0, 0, 0, 0, 0, 0, 0, 0, 0, 0, 0, 0, 0, 0, 0, 0, 0, 0],\n",
       "         [1, 0, 0, 0, 0, 0, 0, 0, 0, 0, 0, 0, 0, 0, 0, 0, 0, 0, 0, 0],\n",
       "         [0, 0, 0, 0, 0, 0, 1, 0, 0, 0, 0, 0, 0, 0, 0, 0, 0, 0, 0, 0],\n",
       "         [1, 0, 0, 0, 0, 0, 0, 0, 0, 0, 0, 0, 0, 0, 0, 0, 0, 0, 0, 0],\n",
       "         [0, 0, 1, 0, 0, 0, 0, 0, 0, 0, 0, 0, 0, 0, 0, 0, 0, 0, 0, 0],\n",
       "         [0, 0, 1, 0, 0, 0, 0, 0, 0, 0, 0, 0, 0, 0, 0, 0, 0, 0, 0, 0]],\n",
       "        device='cuda:0'))"
      ]
     },
     "execution_count": 100,
     "metadata": {},
     "output_type": "execute_result"
    }
   ],
   "source": [
    "generate_data(batch_size, max_num_chars, device)"
   ]
  },
  {
   "cell_type": "code",
   "execution_count": 101,
   "metadata": {},
   "outputs": [],
   "source": [
    "def pretrain_expression_prior(generative_model, batch_size, num_iterations):\n",
    "    cmws.util.logging.info(\"Pretraining the expression prior\")\n",
    "    optimizer = torch.optim.Adam(itertools.chain(generative_model.expression_lstm.parameters(),\n",
    "                                                 generative_model.expression_extractor.parameters()))\n",
    "    losses = []\n",
    "    for i in tqdm(range(num_iterations)):\n",
    "        x, eos = generate_data(batch_size, max_num_chars, generative_model.device)\n",
    "\n",
    "        optimizer.zero_grad()\n",
    "        loss = -generative_model.expression_dist.log_prob(x, eos).mean()\n",
    "        loss.backward()\n",
    "        optimizer.step()\n",
    "\n",
    "        losses.append(loss.item())\n",
    "    plt.plot(losses)"
   ]
  },
  {
   "cell_type": "code",
   "execution_count": 109,
   "metadata": {},
   "outputs": [
    {
     "name": "stdout",
     "output_type": "stream",
     "text": [
      "23:56:42 | /rdma/vast-rdma/vast/tenenbaum/tuananh/git/continuous_mws_refactor/cmws/util.py:201 | INFO: Using CUDA\n",
      "23:56:42 | <ipython-input-101-7accadaeac3a>:2 | INFO: Pretraining the expression prior\n"
     ]
    },
    {
     "name": "stderr",
     "output_type": "stream",
     "text": [
      "100%|██████████| 2000/2000 [00:18<00:00, 105.92it/s]\n"
     ]
    },
    {
     "data": {
      "image/png": "[encoded data removed]",
      "text/plain": [
       "<Figure size 432x288 with 1 Axes>"
      ]
     },
     "metadata": {
      "needs_background": "light"
     },
     "output_type": "display_data"
    }
   ],
   "source": [
    "device = cmws.util.get_device()\n",
    "\n",
    "max_num_chars, lstm_hidden_dim = 20, 128\n",
    "generative_model = timeseries.GenerativeModel(max_num_chars, lstm_hidden_dim).to(device)\n",
    "\n",
    "batch_size = 10\n",
    "num_iterations = 2000\n",
    "\n",
    "pretrain_expression_prior(generative_model, batch_size, num_iterations)"
   ]
  },
  {
   "cell_type": "code",
   "execution_count": 110,
   "metadata": {},
   "outputs": [],
   "source": [
    "import cmws.examples.timeseries.lstm_util as lstm_util"
   ]
  },
  {
   "cell_type": "code",
   "execution_count": 111,
   "metadata": {},
   "outputs": [],
   "source": [
    "def sample_expression(generative_model, num_samples):\n",
    "    x, eos = generative_model.expression_dist.sample([num_samples])\n",
    "    num_timesteps = lstm_util.get_num_timesteps(eos)\n",
    "    expression = []\n",
    "    for i in range(num_samples):\n",
    "        expression.append(timeseries_util.get_expression(x[i, :num_timesteps[i]]))\n",
    "    return expression"
   ]
  },
  {
   "cell_type": "code",
   "execution_count": 120,
   "metadata": {},
   "outputs": [
    {
     "name": "stdout",
     "output_type": "stream",
     "text": [
      "R+E\n",
      "E\n",
      "C*E*E*(W)\n",
      "W\n",
      "(C)\n",
      "W\n",
      "C\n",
      "R+E\n",
      "E\n",
      "E\n",
      "E\n",
      "R\n",
      "W+R\n",
      "R*R*E\n",
      "W+C+C+R\n",
      "R\n",
      "(\n",
      "E\n",
      "(E)\n",
      "E\n",
      "E+E\n",
      "E\n",
      "R\n",
      "R\n",
      "R*E\n",
      "(\n",
      "(\n",
      "C\n",
      "R\n",
      "E*W+(E)*E+E+E\n",
      "E\n",
      "(\n",
      "R\n",
      "E+C*E*R+E\n",
      "C\n",
      "E\n",
      "E*W*E\n",
      "C*C*C\n",
      "(\n",
      "C\n",
      "W\n",
      "W\n",
      "E\n",
      "W\n",
      "C*E\n",
      "E\n",
      "E\n",
      "E\n",
      "C\n",
      "E\n",
      "C\n",
      "W\n",
      "C\n",
      "W*C+(\n",
      "W\n",
      "C+(\n",
      "E\n",
      "C\n",
      "R\n",
      "R\n",
      "R\n",
      "E+(\n",
      "C\n",
      "E\n",
      "E\n",
      "E\n",
      "C+E\n",
      "C\n",
      "E\n",
      "E+W*R\n",
      "E\n",
      "E\n",
      "C*E\n",
      "R*(\n",
      "E\n",
      "R\n",
      "E\n",
      "R\n",
      "W\n",
      "E+(C+\n",
      "(\n",
      "R\n",
      "R*W+E\n",
      "E\n",
      "(\n",
      "R*(\n",
      "W+C*W+W+R*R*E\n",
      "W\n",
      "C\n",
      "C\n",
      "C\n",
      "W\n",
      "R+(R)*R*E\n",
      "(W)\n",
      "E*(\n",
      "E\n",
      "C\n",
      "W\n",
      "(\n",
      "W\n"
     ]
    }
   ],
   "source": [
    "num_samples = 100\n",
    "print(\"\\n\".join(sample_expression(generative_model, num_samples)))"
   ]
  },
  {
   "cell_type": "code",
   "execution_count": null,
   "metadata": {},
   "outputs": [],
   "source": []
  }
 ],
 "metadata": {
  "kernelspec": {
   "display_name": "Python 3",
   "language": "python",
   "name": "python3"
  },
  "language_info": {
   "codemirror_mode": {
    "name": "ipython",
    "version": 3
   },
   "file_extension": ".py",
   "mimetype": "text/x-python",
   "name": "python",
   "nbconvert_exporter": "python",
   "pygments_lexer": "ipython3",
   "version": "3.7.4"
  }
 },
 "nbformat": 4,
 "nbformat_minor": 2
}
