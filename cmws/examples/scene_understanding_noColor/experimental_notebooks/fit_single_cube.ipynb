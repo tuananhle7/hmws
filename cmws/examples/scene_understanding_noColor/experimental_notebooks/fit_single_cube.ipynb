{
 "cells": [
  {
   "cell_type": "code",
   "execution_count": 1,
   "id": "edb34cc8",
   "metadata": {},
   "outputs": [],
   "source": [
    "import random\n",
    "\n",
    "import torch\n",
    "import torch.nn as nn\n",
    "from cmws import util\n",
    "import torch\n",
    "from pytorch3d.renderer import (\n",
    "    look_at_view_transform,\n",
    "    FoVPerspectiveCameras,\n",
    "    PointLights,\n",
    "    DirectionalLights,\n",
    "    Materials,\n",
    "    RasterizationSettings,\n",
    "    MeshRenderer,\n",
    "    MeshRasterizer,\n",
    "    SoftPhongShader,\n",
    "    HardPhongShader,\n",
    "    TexturesUV,\n",
    "    TexturesVertex,\n",
    "    BlendParams,\n",
    "    softmax_rgb_blend\n",
    ")\n",
    "from pytorch3d.structures.meshes import (\n",
    "    Meshes,\n",
    "    join_meshes_as_batch,\n",
    "    join_meshes_as_scene,\n",
    ")\n",
    "import numpy as np\n",
    "from cmws.examples.stacking_3d import data, render\n",
    "from cmws import util\n",
    "import matplotlib.pyplot as plt\n",
    "\n",
    "device = 'cpu'"
   ]
  },
  {
   "cell_type": "code",
   "execution_count": 2,
   "id": "47819de8",
   "metadata": {},
   "outputs": [],
   "source": [
    "def plot(target_img, img, losses, iteration, path):\n",
    "    fig, axs = plt.subplots(1, 3, figsize=(12, 4))\n",
    "    axs[0].imshow(target_img.cpu().detach())\n",
    "    axs[0].set_title(\"Target\")\n",
    "    axs[1].imshow(img.cpu().detach())\n",
    "    axs[1].set_title(f\"Rendered (iter {iteration})\")\n",
    "    axs[2].plot(losses)\n",
    "    axs[2].set_xlabel(\"Iteration\")\n",
    "    axs[2].set_ylabel(\"Loss\")\n",
    "    for ax in axs[:2]:\n",
    "        ax.set_xticks([])\n",
    "        ax.set_yticks([])\n",
    "    util.save_fig(fig, path)\n",
    "\n",
    "\n",
    "def get_position(raw_position, true_position):\n",
    "    if raw_position.ndim == 0:\n",
    "        position = true_position.clone().detach()\n",
    "        # NOTE: change index to only learn x [0], y [1], z [2]\n",
    "        position[0] = raw_position#.sigmoid() * 1.6 - 0.8\n",
    "        return position\n",
    "    else:\n",
    "        pass"
   ]
  },
  {
   "cell_type": "code",
   "execution_count": 3,
   "id": "637cb363",
   "metadata": {},
   "outputs": [
    {
     "name": "stdout",
     "output_type": "stream",
     "text": [
      "16:42:44 | /om/user/katiemc/continuous_mws/cmws/util.py:184 | INFO: Saved to save/cube/0.png\n",
      "Iter. 0 | Loss 3445.971923828125\n",
      "16:42:45 | /om/user/katiemc/continuous_mws/cmws/util.py:184 | INFO: Saved to save/cube/1.png\n",
      "Iter. 1 | Loss 5085.2734375\n",
      "16:42:47 | /om/user/katiemc/continuous_mws/cmws/util.py:184 | INFO: Saved to save/cube/2.png\n",
      "Iter. 2 | Loss 6506.6943359375\n",
      "16:42:49 | /om/user/katiemc/continuous_mws/cmws/util.py:184 | INFO: Saved to save/cube/3.png\n",
      "Iter. 3 | Loss 7722.6533203125\n",
      "16:42:51 | /om/user/katiemc/continuous_mws/cmws/util.py:184 | INFO: Saved to save/cube/4.png\n",
      "Iter. 4 | Loss 8761.4697265625\n",
      "16:42:52 | /om/user/katiemc/continuous_mws/cmws/util.py:184 | INFO: Saved to save/cube/5.png\n",
      "Iter. 5 | Loss 9627.1650390625\n",
      "16:42:54 | /om/user/katiemc/continuous_mws/cmws/util.py:184 | INFO: Saved to save/cube/6.png\n",
      "Iter. 6 | Loss 10428.8291015625\n",
      "16:42:56 | /om/user/katiemc/continuous_mws/cmws/util.py:184 | INFO: Saved to save/cube/7.png\n",
      "Iter. 7 | Loss 11049.3994140625\n",
      "16:42:57 | /om/user/katiemc/continuous_mws/cmws/util.py:184 | INFO: Saved to save/cube/8.png\n",
      "Iter. 8 | Loss 11598.783203125\n",
      "16:42:59 | /om/user/katiemc/continuous_mws/cmws/util.py:184 | INFO: Saved to save/cube/9.png\n",
      "Iter. 9 | Loss 12164.7548828125\n",
      "16:43:01 | /om/user/katiemc/continuous_mws/cmws/util.py:184 | INFO: Saved to save/cube/10.png\n",
      "Iter. 10 | Loss 12465.744140625\n",
      "16:43:02 | /om/user/katiemc/continuous_mws/cmws/util.py:184 | INFO: Saved to save/cube/11.png\n",
      "Iter. 11 | Loss 12718.185546875\n",
      "16:43:04 | /om/user/katiemc/continuous_mws/cmws/util.py:184 | INFO: Saved to save/cube/12.png\n",
      "Iter. 12 | Loss 12994.626953125\n",
      "16:43:06 | /om/user/katiemc/continuous_mws/cmws/util.py:184 | INFO: Saved to save/cube/13.png\n",
      "Iter. 13 | Loss 13184.99609375\n",
      "16:43:09 | /om/user/katiemc/continuous_mws/cmws/util.py:184 | INFO: Saved to save/cube/14.png\n",
      "Iter. 14 | Loss 13380.4453125\n",
      "16:43:11 | /om/user/katiemc/continuous_mws/cmws/util.py:184 | INFO: Saved to save/cube/15.png\n",
      "Iter. 15 | Loss 13598.6328125\n",
      "16:43:12 | /om/user/katiemc/continuous_mws/cmws/util.py:184 | INFO: Saved to save/cube/16.png\n",
      "Iter. 16 | Loss 13714.7978515625\n",
      "16:43:14 | /om/user/katiemc/continuous_mws/cmws/util.py:184 | INFO: Saved to save/cube/17.png\n",
      "Iter. 17 | Loss 13942.3408203125\n",
      "16:43:16 | /om/user/katiemc/continuous_mws/cmws/util.py:184 | INFO: Saved to save/cube/18.png\n",
      "Iter. 18 | Loss 14173.595703125\n",
      "16:43:18 | /om/user/katiemc/continuous_mws/cmws/util.py:184 | INFO: Saved to save/cube/19.png\n",
      "Iter. 19 | Loss 14288.48046875\n",
      "16:43:20 | /om/user/katiemc/continuous_mws/cmws/util.py:184 | INFO: Saved to save/cube/20.png\n",
      "Iter. 20 | Loss 14649.451171875\n",
      "16:43:21 | /om/user/katiemc/continuous_mws/cmws/util.py:184 | INFO: Saved to save/cube/21.png\n",
      "Iter. 21 | Loss 14894.177734375\n",
      "16:43:24 | /om/user/katiemc/continuous_mws/cmws/util.py:184 | INFO: Saved to save/cube/22.png\n",
      "Iter. 22 | Loss 15270.291015625\n",
      "16:43:27 | /om/user/katiemc/continuous_mws/cmws/util.py:184 | INFO: Saved to save/cube/23.png\n",
      "Iter. 23 | Loss 15655.7880859375\n",
      "16:43:29 | /om/user/katiemc/continuous_mws/cmws/util.py:184 | INFO: Saved to save/cube/24.png\n",
      "Iter. 24 | Loss 15915.388671875\n",
      "16:43:31 | /om/user/katiemc/continuous_mws/cmws/util.py:184 | INFO: Saved to save/cube/25.png\n",
      "Iter. 25 | Loss 16316.86328125\n",
      "16:43:33 | /om/user/katiemc/continuous_mws/cmws/util.py:184 | INFO: Saved to save/cube/26.png\n",
      "Iter. 26 | Loss 16726.84375\n",
      "16:43:35 | /om/user/katiemc/continuous_mws/cmws/util.py:184 | INFO: Saved to save/cube/27.png\n",
      "Iter. 27 | Loss 17146.3125\n",
      "16:43:38 | /om/user/katiemc/continuous_mws/cmws/util.py:184 | INFO: Saved to save/cube/28.png\n",
      "Iter. 28 | Loss 17872.666015625\n",
      "16:43:40 | /om/user/katiemc/continuous_mws/cmws/util.py:184 | INFO: Saved to save/cube/29.png\n",
      "Iter. 29 | Loss 18165.416015625\n",
      "16:43:42 | /om/user/katiemc/continuous_mws/cmws/util.py:184 | INFO: Saved to save/cube/30.png\n",
      "Iter. 30 | Loss 18926.248046875\n",
      "16:43:45 | /om/user/katiemc/continuous_mws/cmws/util.py:184 | INFO: Saved to save/cube/31.png\n",
      "Iter. 31 | Loss 19716.056640625\n",
      "16:43:48 | /om/user/katiemc/continuous_mws/cmws/util.py:184 | INFO: Saved to save/cube/32.png\n",
      "Iter. 32 | Loss 20364.193359375\n",
      "16:43:50 | /om/user/katiemc/continuous_mws/cmws/util.py:184 | INFO: Saved to save/cube/33.png\n",
      "Iter. 33 | Loss 21372.83203125\n",
      "16:43:53 | /om/user/katiemc/continuous_mws/cmws/util.py:184 | INFO: Saved to save/cube/34.png\n",
      "Iter. 34 | Loss 22424.07421875\n",
      "16:43:56 | /om/user/katiemc/continuous_mws/cmws/util.py:184 | INFO: Saved to save/cube/35.png\n",
      "Iter. 35 | Loss 23512.2109375\n",
      "16:43:59 | /om/user/katiemc/continuous_mws/cmws/util.py:184 | INFO: Saved to save/cube/36.png\n",
      "Iter. 36 | Loss 24834.109375\n",
      "16:44:03 | /om/user/katiemc/continuous_mws/cmws/util.py:184 | INFO: Saved to save/cube/37.png\n",
      "Iter. 37 | Loss 26211.703125\n",
      "16:44:09 | /om/user/katiemc/continuous_mws/cmws/util.py:184 | INFO: Saved to save/cube/38.png\n",
      "Iter. 38 | Loss 28070.79296875\n",
      "16:44:17 | /om/user/katiemc/continuous_mws/cmws/util.py:184 | INFO: Saved to save/cube/39.png\n",
      "Iter. 39 | Loss 30025.59375\n",
      "16:44:25 | /om/user/katiemc/continuous_mws/cmws/util.py:184 | INFO: Saved to save/cube/40.png\n",
      "Iter. 40 | Loss 32929.90234375\n",
      "16:44:34 | /om/user/katiemc/continuous_mws/cmws/util.py:184 | INFO: Saved to save/cube/41.png\n",
      "Iter. 41 | Loss 35678.2578125\n",
      "16:44:43 | /om/user/katiemc/continuous_mws/cmws/util.py:184 | INFO: Saved to save/cube/42.png\n",
      "Iter. 42 | Loss 35643.98046875\n",
      "16:44:52 | /om/user/katiemc/continuous_mws/cmws/util.py:184 | INFO: Saved to save/cube/43.png\n",
      "Iter. 43 | Loss 35710.0625\n",
      "16:45:01 | /om/user/katiemc/continuous_mws/cmws/util.py:184 | INFO: Saved to save/cube/44.png\n",
      "Iter. 44 | Loss 36506.55859375\n",
      "16:45:10 | /om/user/katiemc/continuous_mws/cmws/util.py:184 | INFO: Saved to save/cube/45.png\n",
      "Iter. 45 | Loss 37572.3203125\n",
      "16:45:20 | /om/user/katiemc/continuous_mws/cmws/util.py:184 | INFO: Saved to save/cube/46.png\n",
      "Iter. 46 | Loss 39089.1015625\n",
      "16:45:30 | /om/user/katiemc/continuous_mws/cmws/util.py:184 | INFO: Saved to save/cube/47.png\n",
      "Iter. 47 | Loss 39921.796875\n",
      "16:45:39 | /om/user/katiemc/continuous_mws/cmws/util.py:184 | INFO: Saved to save/cube/48.png\n",
      "Iter. 48 | Loss 41016.5234375\n",
      "16:45:49 | /om/user/katiemc/continuous_mws/cmws/util.py:184 | INFO: Saved to save/cube/49.png\n",
      "Iter. 49 | Loss 43151.90625\n",
      "16:46:05 | /om/user/katiemc/continuous_mws/cmws/util.py:184 | INFO: Saved to save/cube/50.png\n",
      "Iter. 50 | Loss 45674.61328125\n",
      "16:46:23 | /om/user/katiemc/continuous_mws/cmws/util.py:184 | INFO: Saved to save/cube/51.png\n",
      "Iter. 51 | Loss 48333.375\n",
      "16:46:41 | /om/user/katiemc/continuous_mws/cmws/util.py:184 | INFO: Saved to save/cube/52.png\n",
      "Iter. 52 | Loss 49807.4765625\n",
      "16:46:59 | /om/user/katiemc/continuous_mws/cmws/util.py:184 | INFO: Saved to save/cube/53.png\n",
      "Iter. 53 | Loss 47668.078125\n",
      "16:47:15 | /om/user/katiemc/continuous_mws/cmws/util.py:184 | INFO: Saved to save/cube/54.png\n",
      "Iter. 54 | Loss 42941.16796875\n",
      "16:47:29 | /om/user/katiemc/continuous_mws/cmws/util.py:184 | INFO: Saved to save/cube/55.png\n",
      "Iter. 55 | Loss 39649.46484375\n",
      "16:47:43 | /om/user/katiemc/continuous_mws/cmws/util.py:184 | INFO: Saved to save/cube/56.png\n",
      "Iter. 56 | Loss 38349.875\n",
      "16:47:56 | /om/user/katiemc/continuous_mws/cmws/util.py:184 | INFO: Saved to save/cube/57.png\n",
      "Iter. 57 | Loss 37835.12890625\n",
      "16:48:11 | /om/user/katiemc/continuous_mws/cmws/util.py:184 | INFO: Saved to save/cube/58.png\n",
      "Iter. 58 | Loss 38345.3671875\n",
      "16:48:26 | /om/user/katiemc/continuous_mws/cmws/util.py:184 | INFO: Saved to save/cube/59.png\n",
      "Iter. 59 | Loss 39121.54296875\n",
      "16:48:42 | /om/user/katiemc/continuous_mws/cmws/util.py:184 | INFO: Saved to save/cube/60.png\n",
      "Iter. 60 | Loss 40713.28125\n",
      "16:49:00 | /om/user/katiemc/continuous_mws/cmws/util.py:184 | INFO: Saved to save/cube/61.png\n",
      "Iter. 61 | Loss 42931.9609375\n",
      "16:49:16 | /om/user/katiemc/continuous_mws/cmws/util.py:184 | INFO: Saved to save/cube/62.png\n",
      "Iter. 62 | Loss 44358.65625\n",
      "16:49:34 | /om/user/katiemc/continuous_mws/cmws/util.py:184 | INFO: Saved to save/cube/63.png\n",
      "Iter. 63 | Loss 44621.8828125\n",
      "16:49:52 | /om/user/katiemc/continuous_mws/cmws/util.py:184 | INFO: Saved to save/cube/64.png\n",
      "Iter. 64 | Loss 43726.9296875\n",
      "16:50:09 | /om/user/katiemc/continuous_mws/cmws/util.py:184 | INFO: Saved to save/cube/65.png\n",
      "Iter. 65 | Loss 43420.3203125\n"
     ]
    },
    {
     "name": "stdout",
     "output_type": "stream",
     "text": [
      "16:50:25 | /om/user/katiemc/continuous_mws/cmws/util.py:184 | INFO: Saved to save/cube/66.png\n",
      "Iter. 66 | Loss 42847.58203125\n",
      "16:50:41 | /om/user/katiemc/continuous_mws/cmws/util.py:184 | INFO: Saved to save/cube/67.png\n",
      "Iter. 67 | Loss 42043.34765625\n",
      "16:50:56 | /om/user/katiemc/continuous_mws/cmws/util.py:184 | INFO: Saved to save/cube/68.png\n",
      "Iter. 68 | Loss 41517.2421875\n",
      "16:51:12 | /om/user/katiemc/continuous_mws/cmws/util.py:184 | INFO: Saved to save/cube/69.png\n",
      "Iter. 69 | Loss 41261.31640625\n",
      "16:51:29 | /om/user/katiemc/continuous_mws/cmws/util.py:184 | INFO: Saved to save/cube/70.png\n",
      "Iter. 70 | Loss 42080.59765625\n",
      "16:51:45 | /om/user/katiemc/continuous_mws/cmws/util.py:184 | INFO: Saved to save/cube/71.png\n",
      "Iter. 71 | Loss 42371.3125\n",
      "16:52:01 | /om/user/katiemc/continuous_mws/cmws/util.py:184 | INFO: Saved to save/cube/72.png\n",
      "Iter. 72 | Loss 41785.37890625\n",
      "16:52:14 | /om/user/katiemc/continuous_mws/cmws/util.py:184 | INFO: Saved to save/cube/73.png\n",
      "Iter. 73 | Loss 41242.12109375\n",
      "16:52:27 | /om/user/katiemc/continuous_mws/cmws/util.py:184 | INFO: Saved to save/cube/74.png\n",
      "Iter. 74 | Loss 40979.3671875\n",
      "16:52:41 | /om/user/katiemc/continuous_mws/cmws/util.py:184 | INFO: Saved to save/cube/75.png\n",
      "Iter. 75 | Loss 42647.62890625\n",
      "16:52:57 | /om/user/katiemc/continuous_mws/cmws/util.py:184 | INFO: Saved to save/cube/76.png\n",
      "Iter. 76 | Loss 44057.53125\n",
      "16:53:15 | /om/user/katiemc/continuous_mws/cmws/util.py:184 | INFO: Saved to save/cube/77.png\n",
      "Iter. 77 | Loss 43211.4765625\n",
      "16:53:31 | /om/user/katiemc/continuous_mws/cmws/util.py:184 | INFO: Saved to save/cube/78.png\n",
      "Iter. 78 | Loss 42094.234375\n",
      "16:53:46 | /om/user/katiemc/continuous_mws/cmws/util.py:184 | INFO: Saved to save/cube/79.png\n",
      "Iter. 79 | Loss 40430.0546875\n",
      "16:54:02 | /om/user/katiemc/continuous_mws/cmws/util.py:184 | INFO: Saved to save/cube/80.png\n",
      "Iter. 80 | Loss 39643.0625\n",
      "16:54:17 | /om/user/katiemc/continuous_mws/cmws/util.py:184 | INFO: Saved to save/cube/81.png\n",
      "Iter. 81 | Loss 39103.06640625\n",
      "16:54:32 | /om/user/katiemc/continuous_mws/cmws/util.py:184 | INFO: Saved to save/cube/82.png\n",
      "Iter. 82 | Loss 39358.484375\n",
      "16:54:48 | /om/user/katiemc/continuous_mws/cmws/util.py:184 | INFO: Saved to save/cube/83.png\n",
      "Iter. 83 | Loss 40656.64453125\n",
      "16:55:04 | /om/user/katiemc/continuous_mws/cmws/util.py:184 | INFO: Saved to save/cube/84.png\n",
      "Iter. 84 | Loss 42286.7265625\n",
      "16:55:20 | /om/user/katiemc/continuous_mws/cmws/util.py:184 | INFO: Saved to save/cube/85.png\n",
      "Iter. 85 | Loss 43441.8046875\n",
      "16:55:36 | /om/user/katiemc/continuous_mws/cmws/util.py:184 | INFO: Saved to save/cube/86.png\n",
      "Iter. 86 | Loss 45798.28515625\n",
      "16:55:53 | /om/user/katiemc/continuous_mws/cmws/util.py:184 | INFO: Saved to save/cube/87.png\n",
      "Iter. 87 | Loss 46704.6015625\n",
      "16:56:06 | /om/user/katiemc/continuous_mws/cmws/util.py:184 | INFO: Saved to save/cube/88.png\n",
      "Iter. 88 | Loss 46115.265625\n",
      "16:56:16 | /om/user/katiemc/continuous_mws/cmws/util.py:184 | INFO: Saved to save/cube/89.png\n",
      "Iter. 89 | Loss 44356.375\n",
      "16:56:25 | /om/user/katiemc/continuous_mws/cmws/util.py:184 | INFO: Saved to save/cube/90.png\n",
      "Iter. 90 | Loss 42362.2109375\n",
      "16:56:34 | /om/user/katiemc/continuous_mws/cmws/util.py:184 | INFO: Saved to save/cube/91.png\n",
      "Iter. 91 | Loss 40438.9140625\n",
      "16:56:44 | /om/user/katiemc/continuous_mws/cmws/util.py:184 | INFO: Saved to save/cube/92.png\n",
      "Iter. 92 | Loss 42192.33203125\n",
      "16:56:54 | /om/user/katiemc/continuous_mws/cmws/util.py:184 | INFO: Saved to save/cube/93.png\n",
      "Iter. 93 | Loss 44176.6171875\n",
      "16:57:02 | /om/user/katiemc/continuous_mws/cmws/util.py:184 | INFO: Saved to save/cube/94.png\n",
      "Iter. 94 | Loss 45967.93359375\n",
      "16:57:07 | /om/user/katiemc/continuous_mws/cmws/util.py:184 | INFO: Saved to save/cube/95.png\n",
      "Iter. 95 | Loss 47330.76953125\n",
      "16:57:13 | /om/user/katiemc/continuous_mws/cmws/util.py:184 | INFO: Saved to save/cube/96.png\n",
      "Iter. 96 | Loss 49329.3125\n",
      "16:57:18 | /om/user/katiemc/continuous_mws/cmws/util.py:184 | INFO: Saved to save/cube/97.png\n",
      "Iter. 97 | Loss 50919.46484375\n",
      "16:57:24 | /om/user/katiemc/continuous_mws/cmws/util.py:184 | INFO: Saved to save/cube/98.png\n",
      "Iter. 98 | Loss 52575.84375\n",
      "16:57:30 | /om/user/katiemc/continuous_mws/cmws/util.py:184 | INFO: Saved to save/cube/99.png\n"
     ]
    },
    {
     "name": "stderr",
     "output_type": "stream",
     "text": [
      "  8%|▊         | 8/100 [00:00<00:01, 71.29it/s]"
     ]
    },
    {
     "name": "stdout",
     "output_type": "stream",
     "text": [
      "Iter. 99 | Loss 54003.15234375\n"
     ]
    },
    {
     "name": "stderr",
     "output_type": "stream",
     "text": [
      "100%|██████████| 100/100 [00:01<00:00, 70.83it/s]\n"
     ]
    },
    {
     "name": "stdout",
     "output_type": "stream",
     "text": [
      "16:57:37 | /om/user/katiemc/continuous_mws/cmws/util.py:194 | INFO: Saved to save/cube/reconstruction.gif\n"
     ]
    }
   ],
   "source": [
    "device = \"cuda\" if torch.cuda.is_available() else \"cpu\"\n",
    "\n",
    "flip_loss = True\n",
    "\n",
    "im_size = 256\n",
    "\n",
    "true_size = torch.tensor(0.7, device=device)\n",
    "# true_position = torch.tensor([0.0, 0.0, -1.0], device=device)\n",
    "true_position = torch.tensor([0.0, -1.0, 0.0], device=device)\n",
    "true_color = torch.tensor([1.0, 0, 0], device=device)\n",
    "target_img = render.render_cube(true_size, true_color, true_position, im_size)\n",
    "\n",
    "# fixed size + color \n",
    "raw_size = torch.tensor(0.7, device=device,requires_grad=False)\n",
    "raw_color = torch.tensor([1.0, 0, 0], device=device,requires_grad=False)\n",
    "# learn size + color\n",
    "# raw_size = torch.tensor(0.0, device=device, requires_grad=True)\n",
    "# raw_color = torch.randn(3, device=device, requires_grad=True)\n",
    "\n",
    "# learn only a single dimension (x)\n",
    "raw_x_position = torch.tensor(0.2, device=device,requires_grad=True)\n",
    "# learn from random start\n",
    "#raw_x_position = torch.zeros((), device=device, requires_grad=True)\n",
    "\n",
    "optimizer = torch.optim.Adam([raw_size, raw_x_position, raw_color], lr=5e-2)\n",
    "num_iterations = 100\n",
    "losses = []\n",
    "\n",
    "for i in range(num_iterations):\n",
    "    optimizer.zero_grad()\n",
    "    img = render.render_cube(\n",
    "        raw_size,\n",
    "        raw_color,\n",
    "        get_position(raw_x_position, true_position),\n",
    "        im_size,\n",
    "    )\n",
    "    \n",
    "    # use code block if learning color + size from random init\n",
    "    #     img = render.render_cube(\n",
    "    #         raw_size.exp(),\n",
    "    #         torch.softmax(raw_color, 0),\n",
    "    #         get_position(raw_x_position, true_position),\n",
    "    #         im_size,\n",
    "    #     )\n",
    "    \n",
    "    \n",
    "    if flip_loss: loss = -(img - target_img).pow(2).sum() # hack\n",
    "    else: loss = (img - target_img).pow(2).sum() # use original loss\n",
    "    loss.backward()\n",
    "    optimizer.step()\n",
    "\n",
    "    losses.append(loss.item())\n",
    "    plot(target_img, img, losses, i, f\"save/cube/{i}.png\")\n",
    "\n",
    "    print(f\"Iter. {i} | Loss {losses[-1]}\")\n",
    "\n",
    "util.make_gif(\n",
    "    [f\"save/cube/{i}.png\" for i in range(num_iterations)], \"save/cube/reconstruction.gif\", 10\n",
    ")"
   ]
  },
  {
   "cell_type": "code",
   "execution_count": 4,
   "id": "2420cea3",
   "metadata": {},
   "outputs": [],
   "source": [
    "get_position(raw_x_position, true_position)"
   ]
  },
  {
   "cell_type": "code",
   "execution_count": 5,
   "id": "007ca6e8",
   "metadata": {},
   "outputs": [],
   "source": [
    "get_position(raw_x_position, true_position)"
   ]
  },
  {
   "cell_type": "code",
   "execution_count": 6,
   "id": "21cea49a",
   "metadata": {},
   "outputs": [
    {
     "data": {
      "text/plain": [
       "tensor([0.5761, 0.2119, 0.2119])"
      ]
     },
     "execution_count": 6,
     "metadata": {},
     "output_type": "execute_result"
    }
   ],
   "source": [
    "torch.softmax(raw_color, 0)"
   ]
  },
  {
   "cell_type": "code",
   "execution_count": 7,
   "id": "270fcb30",
   "metadata": {},
   "outputs": [
    {
     "data": {
      "text/plain": [
       "tensor([1., 0., 0.])"
      ]
     },
     "execution_count": 7,
     "metadata": {},
     "output_type": "execute_result"
    }
   ],
   "source": [
    "raw_color"
   ]
  },
  {
   "cell_type": "code",
   "execution_count": 8,
   "id": "54f6b3bf",
   "metadata": {},
   "outputs": [],
   "source": [
    "raw_x_position = torch.zeros((), device=device, requires_grad=True)"
   ]
  },
  {
   "cell_type": "code",
   "execution_count": 9,
   "id": "442af348",
   "metadata": {},
   "outputs": [
    {
     "data": {
      "text/plain": [
       "tensor(0., requires_grad=True)"
      ]
     },
     "execution_count": 9,
     "metadata": {},
     "output_type": "execute_result"
    }
   ],
   "source": [
    "raw_x_position\n"
   ]
  },
  {
   "cell_type": "code",
   "execution_count": 10,
   "id": "8a85c88c",
   "metadata": {},
   "outputs": [
    {
     "data": {
      "text/plain": [
       "tensor(0., grad_fn=<SubBackward0>)"
      ]
     },
     "execution_count": 10,
     "metadata": {},
     "output_type": "execute_result"
    }
   ],
   "source": [
    "raw_x_position = torch.zeros((), device=device, requires_grad=True)\n",
    "raw_x_position.sigmoid() * 1.6 - 0.8"
   ]
  },
  {
   "cell_type": "code",
   "execution_count": 11,
   "id": "60a31e58",
   "metadata": {},
   "outputs": [
    {
     "data": {
      "text/plain": [
       "0"
      ]
     },
     "execution_count": 11,
     "metadata": {},
     "output_type": "execute_result"
    }
   ],
   "source": [
    "raw_x_position.ndim"
   ]
  },
  {
   "cell_type": "code",
   "execution_count": 12,
   "id": "ac48b107",
   "metadata": {},
   "outputs": [],
   "source": [
    "position = true_position.clone().detach()\n",
    "position[0] = raw_x_position.sigmoid() * 1.6 - 0.8"
   ]
  },
  {
   "cell_type": "code",
   "execution_count": 13,
   "id": "281ad4e5",
   "metadata": {},
   "outputs": [
    {
     "data": {
      "text/plain": [
       "tensor([ 0., -1.,  0.], grad_fn=<CopySlices>)"
      ]
     },
     "execution_count": 13,
     "metadata": {},
     "output_type": "execute_result"
    }
   ],
   "source": [
    "position"
   ]
  },
  {
   "cell_type": "code",
   "execution_count": 14,
   "id": "2c5699e9",
   "metadata": {},
   "outputs": [
    {
     "data": {
      "text/plain": [
       "tensor(0., requires_grad=True)"
      ]
     },
     "execution_count": 14,
     "metadata": {},
     "output_type": "execute_result"
    }
   ],
   "source": [
    "raw_x_position"
   ]
  },
  {
   "cell_type": "code",
   "execution_count": null,
   "id": "6629e036",
   "metadata": {},
   "outputs": [],
   "source": []
  }
 ],
 "metadata": {
  "kernelspec": {
   "display_name": "Python 3",
   "language": "python",
   "name": "python3"
  },
  "language_info": {
   "codemirror_mode": {
    "name": "ipython",
    "version": 3
   },
   "file_extension": ".py",
   "mimetype": "text/x-python",
   "name": "python",
   "nbconvert_exporter": "python",
   "pygments_lexer": "ipython3",
   "version": "3.7.4"
  }
 },
 "nbformat": 4,
 "nbformat_minor": 5
}
