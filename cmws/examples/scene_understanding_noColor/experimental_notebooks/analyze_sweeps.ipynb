{
 "cells": [
  {
   "cell_type": "code",
   "execution_count": 2,
   "id": "d5c18b7f",
   "metadata": {},
   "outputs": [],
   "source": [
    "'''\n",
    "Notebook to analyze and compare across sweep runs \n",
    "'''\n",
    "\n",
    "import os\n",
    "\n",
    "import cmws\n",
    "import matplotlib.pyplot as plt\n",
    "import seaborn as sns\n",
    "import torch\n",
    "from cmws import util\n",
    "from cmws.examples.scene_understanding import data, render, run, plot\n",
    "from cmws.examples.scene_understanding import util as scene3d_util "
   ]
  },
  {
   "cell_type": "code",
   "execution_count": 11,
   "id": "6d3fd513",
   "metadata": {},
   "outputs": [],
   "source": [
    "experiment_name = \"cmws_vs_rws\"\n",
    "\n",
    "save_dir = f\"../save/{experiment_name}\"\n",
    "checkpoint_paths = [] \n",
    "for config_name in sorted(os.listdir(save_dir)):\n",
    "    checkpoint_paths.append(util.get_checkpoint_path(experiment_name, config_name, -1)) "
   ]
  },
  {
   "cell_type": "code",
   "execution_count": 12,
   "id": "22a05e6e",
   "metadata": {},
   "outputs": [
    {
     "data": {
      "text/plain": [
       "['save/cmws_vs_rws/cmws_2_2_0/checkpoints/latest.pt',\n",
       " 'save/cmws_vs_rws/cmws_2_2_1/checkpoints/latest.pt',\n",
       " 'save/cmws_vs_rws/cmws_2_2_2/checkpoints/latest.pt',\n",
       " 'save/cmws_vs_rws/cmws_2_2_3/checkpoints/latest.pt',\n",
       " 'save/cmws_vs_rws/cmws_2_2_4/checkpoints/latest.pt',\n",
       " 'save/cmws_vs_rws/cmws_2_3_0/checkpoints/latest.pt',\n",
       " 'save/cmws_vs_rws/cmws_2_3_1/checkpoints/latest.pt',\n",
       " 'save/cmws_vs_rws/cmws_2_3_2/checkpoints/latest.pt',\n",
       " 'save/cmws_vs_rws/cmws_2_3_3/checkpoints/latest.pt',\n",
       " 'save/cmws_vs_rws/cmws_2_3_4/checkpoints/latest.pt',\n",
       " 'save/cmws_vs_rws/rws_2_0/checkpoints/latest.pt',\n",
       " 'save/cmws_vs_rws/rws_2_1/checkpoints/latest.pt',\n",
       " 'save/cmws_vs_rws/rws_2_2/checkpoints/latest.pt',\n",
       " 'save/cmws_vs_rws/rws_2_3/checkpoints/latest.pt',\n",
       " 'save/cmws_vs_rws/rws_2_4/checkpoints/latest.pt',\n",
       " 'save/cmws_vs_rws/rws_3_0/checkpoints/latest.pt',\n",
       " 'save/cmws_vs_rws/rws_3_1/checkpoints/latest.pt',\n",
       " 'save/cmws_vs_rws/rws_3_2/checkpoints/latest.pt',\n",
       " 'save/cmws_vs_rws/rws_3_3/checkpoints/latest.pt',\n",
       " 'save/cmws_vs_rws/rws_3_4/checkpoints/latest.pt']"
      ]
     },
     "execution_count": 12,
     "metadata": {},
     "output_type": "execute_result"
    }
   ],
   "source": [
    "checkpoint_paths"
   ]
  },
  {
   "cell_type": "code",
   "execution_count": 20,
   "id": "8f51976a",
   "metadata": {},
   "outputs": [
    {
     "name": "stdout",
     "output_type": "stream",
     "text": [
      "12:54:40 | /om/user/katiemc/continuous_mws/cmws/examples/scene_understanding/data.py:184 | INFO: Loading dataset (test = False)...\n",
      "12:54:40 | /om/user/katiemc/continuous_mws/cmws/examples/scene_understanding/data.py:188 | INFO: Dataset (test = False) loaded /om/user/katiemc/continuous_mws/cmws/examples/scene_understanding/data/1_1/train.pt\n",
      "12:54:40 | /om/user/katiemc/continuous_mws/cmws/memory.py:20 | INFO: Initializing memory\n"
     ]
    },
    {
     "name": "stderr",
     "output_type": "stream",
     "text": [
      "100%|██████████| 100/100 [00:00<00:00, 1023.94it/s]\n"
     ]
    },
    {
     "name": "stdout",
     "output_type": "stream",
     "text": [
      "12:54:41 | /om/user/katiemc/continuous_mws/cmws/examples/scene_understanding/data.py:184 | INFO: Loading dataset (test = False)...\n",
      "12:54:41 | /om/user/katiemc/continuous_mws/cmws/examples/scene_understanding/data.py:188 | INFO: Dataset (test = False) loaded /om/user/katiemc/continuous_mws/cmws/examples/scene_understanding/data/1_1/train.pt\n",
      "12:54:41 | /om/user/katiemc/continuous_mws/cmws/memory.py:20 | INFO: Initializing memory\n"
     ]
    },
    {
     "name": "stderr",
     "output_type": "stream",
     "text": [
      "100%|██████████| 100/100 [00:00<00:00, 1043.96it/s]"
     ]
    },
    {
     "name": "stdout",
     "output_type": "stream",
     "text": [
      "12:54:41 | /om/user/katiemc/continuous_mws/cmws/examples/scene_understanding/data.py:184 | INFO: Loading dataset (test = False)...\n",
      "12:54:41 | /om/user/katiemc/continuous_mws/cmws/examples/scene_understanding/data.py:188 | INFO: Dataset (test = False) loaded /om/user/katiemc/continuous_mws/cmws/examples/scene_understanding/data/1_1/train.pt\n",
      "12:54:41 | /om/user/katiemc/continuous_mws/cmws/memory.py:20 | INFO: Initializing memory\n"
     ]
    },
    {
     "name": "stderr",
     "output_type": "stream",
     "text": [
      "\n",
      "100%|██████████| 100/100 [00:00<00:00, 1064.18it/s]\n"
     ]
    },
    {
     "name": "stdout",
     "output_type": "stream",
     "text": [
      "12:54:41 | /om/user/katiemc/continuous_mws/cmws/examples/scene_understanding/data.py:184 | INFO: Loading dataset (test = False)...\n",
      "12:54:41 | /om/user/katiemc/continuous_mws/cmws/examples/scene_understanding/data.py:188 | INFO: Dataset (test = False) loaded /om/user/katiemc/continuous_mws/cmws/examples/scene_understanding/data/1_1/train.pt\n",
      "12:54:41 | /om/user/katiemc/continuous_mws/cmws/memory.py:20 | INFO: Initializing memory\n"
     ]
    },
    {
     "name": "stderr",
     "output_type": "stream",
     "text": [
      "100%|██████████| 100/100 [00:00<00:00, 1053.68it/s]\n"
     ]
    },
    {
     "name": "stdout",
     "output_type": "stream",
     "text": [
      "12:54:41 | /om/user/katiemc/continuous_mws/cmws/examples/scene_understanding/data.py:184 | INFO: Loading dataset (test = False)...\n",
      "12:54:41 | /om/user/katiemc/continuous_mws/cmws/examples/scene_understanding/data.py:188 | INFO: Dataset (test = False) loaded /om/user/katiemc/continuous_mws/cmws/examples/scene_understanding/data/1_1/train.pt\n",
      "12:54:41 | /om/user/katiemc/continuous_mws/cmws/memory.py:20 | INFO: Initializing memory\n"
     ]
    },
    {
     "name": "stderr",
     "output_type": "stream",
     "text": [
      "100%|██████████| 100/100 [00:00<00:00, 1054.35it/s]\n"
     ]
    },
    {
     "name": "stdout",
     "output_type": "stream",
     "text": [
      "12:54:41 | /om/user/katiemc/continuous_mws/cmws/examples/scene_understanding/data.py:184 | INFO: Loading dataset (test = False)...\n",
      "12:54:41 | /om/user/katiemc/continuous_mws/cmws/examples/scene_understanding/data.py:188 | INFO: Dataset (test = False) loaded /om/user/katiemc/continuous_mws/cmws/examples/scene_understanding/data/1_1/train.pt\n",
      "12:54:41 | /om/user/katiemc/continuous_mws/cmws/memory.py:20 | INFO: Initializing memory\n"
     ]
    },
    {
     "name": "stderr",
     "output_type": "stream",
     "text": [
      "100%|██████████| 100/100 [00:00<00:00, 1014.83it/s]\n"
     ]
    },
    {
     "name": "stdout",
     "output_type": "stream",
     "text": [
      "12:54:41 | /om/user/katiemc/continuous_mws/cmws/examples/scene_understanding/data.py:184 | INFO: Loading dataset (test = False)...\n",
      "12:54:41 | /om/user/katiemc/continuous_mws/cmws/examples/scene_understanding/data.py:188 | INFO: Dataset (test = False) loaded /om/user/katiemc/continuous_mws/cmws/examples/scene_understanding/data/1_1/train.pt\n",
      "12:54:41 | /om/user/katiemc/continuous_mws/cmws/memory.py:20 | INFO: Initializing memory\n"
     ]
    },
    {
     "name": "stderr",
     "output_type": "stream",
     "text": [
      "100%|██████████| 100/100 [00:00<00:00, 1034.74it/s]\n"
     ]
    },
    {
     "name": "stdout",
     "output_type": "stream",
     "text": [
      "12:54:42 | /om/user/katiemc/continuous_mws/cmws/examples/scene_understanding/data.py:184 | INFO: Loading dataset (test = False)...\n",
      "12:54:42 | /om/user/katiemc/continuous_mws/cmws/examples/scene_understanding/data.py:188 | INFO: Dataset (test = False) loaded /om/user/katiemc/continuous_mws/cmws/examples/scene_understanding/data/1_1/train.pt\n",
      "12:54:42 | /om/user/katiemc/continuous_mws/cmws/memory.py:20 | INFO: Initializing memory\n"
     ]
    },
    {
     "name": "stderr",
     "output_type": "stream",
     "text": [
      "100%|██████████| 100/100 [00:00<00:00, 1063.13it/s]\n"
     ]
    },
    {
     "name": "stdout",
     "output_type": "stream",
     "text": [
      "12:54:42 | /om/user/katiemc/continuous_mws/cmws/examples/scene_understanding/data.py:184 | INFO: Loading dataset (test = False)...\n",
      "12:54:42 | /om/user/katiemc/continuous_mws/cmws/examples/scene_understanding/data.py:188 | INFO: Dataset (test = False) loaded /om/user/katiemc/continuous_mws/cmws/examples/scene_understanding/data/1_1/train.pt\n",
      "12:54:42 | /om/user/katiemc/continuous_mws/cmws/memory.py:20 | INFO: Initializing memory\n"
     ]
    },
    {
     "name": "stderr",
     "output_type": "stream",
     "text": [
      "100%|██████████| 100/100 [00:00<00:00, 1034.40it/s]"
     ]
    },
    {
     "name": "stdout",
     "output_type": "stream",
     "text": [
      "12:54:42 | /om/user/katiemc/continuous_mws/cmws/examples/scene_understanding/data.py:184 | INFO: Loading dataset (test = False)...\n",
      "12:54:42 | /om/user/katiemc/continuous_mws/cmws/examples/scene_understanding/data.py:188 | INFO: Dataset (test = False) loaded /om/user/katiemc/continuous_mws/cmws/examples/scene_understanding/data/1_1/train.pt\n",
      "12:54:42 | /om/user/katiemc/continuous_mws/cmws/memory.py:20 | INFO: Initializing memory\n"
     ]
    },
    {
     "name": "stderr",
     "output_type": "stream",
     "text": [
      "\n",
      "100%|██████████| 100/100 [00:00<00:00, 1036.39it/s]\n"
     ]
    },
    {
     "name": "stdout",
     "output_type": "stream",
     "text": [
      "12:54:43 | /om/user/katiemc/continuous_mws/cmws/util.py:289 | INFO: Saved to ../save/cmws_vs_rws/losses_2.png\n",
      "12:54:43 | /om/user/katiemc/continuous_mws/cmws/examples/scene_understanding/data.py:184 | INFO: Loading dataset (test = False)...\n",
      "12:54:43 | /om/user/katiemc/continuous_mws/cmws/examples/scene_understanding/data.py:188 | INFO: Dataset (test = False) loaded /om/user/katiemc/continuous_mws/cmws/examples/scene_understanding/data/1_1/train.pt\n",
      "12:54:43 | /om/user/katiemc/continuous_mws/cmws/memory.py:20 | INFO: Initializing memory\n"
     ]
    },
    {
     "name": "stderr",
     "output_type": "stream",
     "text": [
      "100%|██████████| 100/100 [00:00<00:00, 1061.19it/s]"
     ]
    },
    {
     "name": "stdout",
     "output_type": "stream",
     "text": [
      "12:54:44 | /om/user/katiemc/continuous_mws/cmws/examples/scene_understanding/data.py:184 | INFO: Loading dataset (test = False)...\n",
      "12:54:44 | /om/user/katiemc/continuous_mws/cmws/examples/scene_understanding/data.py:188 | INFO: Dataset (test = False) loaded /om/user/katiemc/continuous_mws/cmws/examples/scene_understanding/data/1_1/train.pt\n",
      "12:54:44 | /om/user/katiemc/continuous_mws/cmws/memory.py:20 | INFO: Initializing memory\n"
     ]
    },
    {
     "name": "stderr",
     "output_type": "stream",
     "text": [
      "\n",
      "100%|██████████| 100/100 [00:00<00:00, 1057.33it/s]"
     ]
    },
    {
     "name": "stdout",
     "output_type": "stream",
     "text": [
      "12:54:44 | /om/user/katiemc/continuous_mws/cmws/examples/scene_understanding/data.py:184 | INFO: Loading dataset (test = False)...\n",
      "12:54:44 | /om/user/katiemc/continuous_mws/cmws/examples/scene_understanding/data.py:188 | INFO: Dataset (test = False) loaded /om/user/katiemc/continuous_mws/cmws/examples/scene_understanding/data/1_1/train.pt\n",
      "12:54:44 | /om/user/katiemc/continuous_mws/cmws/memory.py:20 | INFO: Initializing memory\n"
     ]
    },
    {
     "name": "stderr",
     "output_type": "stream",
     "text": [
      "\n",
      "100%|██████████| 100/100 [00:00<00:00, 1030.79it/s]"
     ]
    },
    {
     "name": "stdout",
     "output_type": "stream",
     "text": [
      "12:54:44 | /om/user/katiemc/continuous_mws/cmws/examples/scene_understanding/data.py:184 | INFO: Loading dataset (test = False)...\n",
      "12:54:44 | /om/user/katiemc/continuous_mws/cmws/examples/scene_understanding/data.py:188 | INFO: Dataset (test = False) loaded /om/user/katiemc/continuous_mws/cmws/examples/scene_understanding/data/1_1/train.pt\n",
      "12:54:44 | /om/user/katiemc/continuous_mws/cmws/memory.py:20 | INFO: Initializing memory\n"
     ]
    },
    {
     "name": "stderr",
     "output_type": "stream",
     "text": [
      "\n",
      "100%|██████████| 100/100 [00:00<00:00, 1053.62it/s]"
     ]
    },
    {
     "name": "stdout",
     "output_type": "stream",
     "text": [
      "12:54:44 | /om/user/katiemc/continuous_mws/cmws/examples/scene_understanding/data.py:184 | INFO: Loading dataset (test = False)...\n",
      "12:54:44 | /om/user/katiemc/continuous_mws/cmws/examples/scene_understanding/data.py:188 | INFO: Dataset (test = False) loaded /om/user/katiemc/continuous_mws/cmws/examples/scene_understanding/data/1_1/train.pt\n",
      "12:54:44 | /om/user/katiemc/continuous_mws/cmws/memory.py:20 | INFO: Initializing memory\n"
     ]
    },
    {
     "name": "stderr",
     "output_type": "stream",
     "text": [
      "\n",
      "100%|██████████| 100/100 [00:00<00:00, 1046.60it/s]"
     ]
    },
    {
     "name": "stdout",
     "output_type": "stream",
     "text": [
      "12:54:44 | /om/user/katiemc/continuous_mws/cmws/examples/scene_understanding/data.py:184 | INFO: Loading dataset (test = False)...\n",
      "12:54:44 | /om/user/katiemc/continuous_mws/cmws/examples/scene_understanding/data.py:188 | INFO: Dataset (test = False) loaded /om/user/katiemc/continuous_mws/cmws/examples/scene_understanding/data/1_1/train.pt\n",
      "12:54:44 | /om/user/katiemc/continuous_mws/cmws/memory.py:20 | INFO: Initializing memory\n"
     ]
    },
    {
     "name": "stderr",
     "output_type": "stream",
     "text": [
      "\n",
      "100%|██████████| 100/100 [00:00<00:00, 1006.50it/s]"
     ]
    },
    {
     "name": "stdout",
     "output_type": "stream",
     "text": [
      "12:54:44 | /om/user/katiemc/continuous_mws/cmws/examples/scene_understanding/data.py:184 | INFO: Loading dataset (test = False)...\n"
     ]
    },
    {
     "name": "stderr",
     "output_type": "stream",
     "text": [
      "\n"
     ]
    },
    {
     "name": "stdout",
     "output_type": "stream",
     "text": [
      "12:54:44 | /om/user/katiemc/continuous_mws/cmws/examples/scene_understanding/data.py:188 | INFO: Dataset (test = False) loaded /om/user/katiemc/continuous_mws/cmws/examples/scene_understanding/data/1_1/train.pt\n",
      "12:54:44 | /om/user/katiemc/continuous_mws/cmws/memory.py:20 | INFO: Initializing memory\n"
     ]
    },
    {
     "name": "stderr",
     "output_type": "stream",
     "text": [
      "100%|██████████| 100/100 [00:00<00:00, 1025.62it/s]"
     ]
    },
    {
     "name": "stdout",
     "output_type": "stream",
     "text": [
      "12:54:44 | /om/user/katiemc/continuous_mws/cmws/examples/scene_understanding/data.py:184 | INFO: Loading dataset (test = False)...\n"
     ]
    },
    {
     "name": "stderr",
     "output_type": "stream",
     "text": [
      "\n"
     ]
    },
    {
     "name": "stdout",
     "output_type": "stream",
     "text": [
      "12:54:44 | /om/user/katiemc/continuous_mws/cmws/examples/scene_understanding/data.py:188 | INFO: Dataset (test = False) loaded /om/user/katiemc/continuous_mws/cmws/examples/scene_understanding/data/1_1/train.pt\n",
      "12:54:44 | /om/user/katiemc/continuous_mws/cmws/memory.py:20 | INFO: Initializing memory\n"
     ]
    },
    {
     "name": "stderr",
     "output_type": "stream",
     "text": [
      "100%|██████████| 100/100 [00:00<00:00, 996.20it/s]\n"
     ]
    },
    {
     "name": "stdout",
     "output_type": "stream",
     "text": [
      "12:54:45 | /om/user/katiemc/continuous_mws/cmws/examples/scene_understanding/data.py:184 | INFO: Loading dataset (test = False)...\n",
      "12:54:45 | /om/user/katiemc/continuous_mws/cmws/examples/scene_understanding/data.py:188 | INFO: Dataset (test = False) loaded /om/user/katiemc/continuous_mws/cmws/examples/scene_understanding/data/1_1/train.pt\n",
      "12:54:45 | /om/user/katiemc/continuous_mws/cmws/memory.py:20 | INFO: Initializing memory\n"
     ]
    },
    {
     "name": "stderr",
     "output_type": "stream",
     "text": [
      "100%|██████████| 100/100 [00:00<00:00, 1022.00it/s]\n"
     ]
    },
    {
     "name": "stdout",
     "output_type": "stream",
     "text": [
      "12:54:45 | /om/user/katiemc/continuous_mws/cmws/examples/scene_understanding/data.py:184 | INFO: Loading dataset (test = False)...\n",
      "12:54:45 | /om/user/katiemc/continuous_mws/cmws/examples/scene_understanding/data.py:188 | INFO: Dataset (test = False) loaded /om/user/katiemc/continuous_mws/cmws/examples/scene_understanding/data/1_1/train.pt\n",
      "12:54:45 | /om/user/katiemc/continuous_mws/cmws/memory.py:20 | INFO: Initializing memory\n"
     ]
    },
    {
     "name": "stderr",
     "output_type": "stream",
     "text": [
      "100%|██████████| 100/100 [00:00<00:00, 1015.54it/s]\n"
     ]
    },
    {
     "name": "stdout",
     "output_type": "stream",
     "text": [
      "12:54:46 | /om/user/katiemc/continuous_mws/cmws/util.py:289 | INFO: Saved to ../save/cmws_vs_rws/losses_3.png\n"
     ]
    }
   ],
   "source": [
    "for grid_size in [2,3]: # grid size\n",
    "    fig, axs = plt.subplots(1, 2, figsize=(2 * 6, 1 * 4))\n",
    "\n",
    "    colors = {\"cmws_2\": \"C0\", \"rws\": \"C1\"}\n",
    "    for checkpoint_path in checkpoint_paths:\n",
    "        checkpoint_path = f\"../{checkpoint_path}\"\n",
    "        \n",
    "        # Fix seed\n",
    "        util.set_seed(1)\n",
    "\n",
    "        if os.path.exists(checkpoint_path):\n",
    "            # Load checkpoint\n",
    "            model, optimizer, stats, run_args = scene3d_util.load_checkpoint(\n",
    "                checkpoint_path, device=\"cpu\"\n",
    "            )\n",
    "            \n",
    "            if run_args.num_grid_cols != grid_size: continue \n",
    "            \n",
    "            generative_model, guide = model[\"generative_model\"], model[\"guide\"]\n",
    "            num_iterations = len(stats.losses)\n",
    "            if run_args.model_type != model_type:\n",
    "                continue\n",
    "\n",
    "            label = run_args.algorithm if run_args.seed == 0 else None\n",
    "            color = colors[run_args.algorithm]\n",
    "            plot_kwargs = {\"label\": label, \"color\": color, \"alpha\": 0.8, \"linewidth\": 1.5}\n",
    "\n",
    "            # Logp\n",
    "            ax = axs[0]\n",
    "            ax.plot([x[0] for x in stats.log_ps], [x[1] for x in stats.log_ps], **plot_kwargs)\n",
    "\n",
    "            # KL\n",
    "            ax = axs[1]\n",
    "            ax.plot([x[0] for x in stats.kls], [x[1] for x in stats.kls], **plot_kwargs)\n",
    "    ax = axs[0]\n",
    "    ax.set_xlabel(\"Iteration\")\n",
    "    ax.set_ylabel(\"Log p\")\n",
    "\n",
    "    ax = axs[1]\n",
    "    ax.set_xlabel(\"Iteration\")\n",
    "    ax.set_ylabel(\"KL\")\n",
    "    # ax.set_ylim(0, 2000)\n",
    "    ax.legend()\n",
    "    for ax in axs:\n",
    "        # ax.set_xlim(0, 20000)\n",
    "        sns.despine(ax=ax, trim=True)\n",
    "    util.save_fig(fig, f\"{save_dir}/losses_{grid_size}.png\", dpi=200)"
   ]
  },
  {
   "cell_type": "code",
   "execution_count": 19,
   "id": "721026fe",
   "metadata": {},
   "outputs": [
    {
     "data": {
      "text/plain": [
       "3"
      ]
     },
     "execution_count": 19,
     "metadata": {},
     "output_type": "execute_result"
    }
   ],
   "source": [
    "run_args.num_grid_cols"
   ]
  },
  {
   "cell_type": "code",
   "execution_count": null,
   "id": "24f1c099",
   "metadata": {},
   "outputs": [],
   "source": []
  }
 ],
 "metadata": {
  "kernelspec": {
   "display_name": "Python 3",
   "language": "python",
   "name": "python3"
  },
  "language_info": {
   "codemirror_mode": {
    "name": "ipython",
    "version": 3
   },
   "file_extension": ".py",
   "mimetype": "text/x-python",
   "name": "python",
   "nbconvert_exporter": "python",
   "pygments_lexer": "ipython3",
   "version": "3.7.4"
  }
 },
 "nbformat": 4,
 "nbformat_minor": 5
}
