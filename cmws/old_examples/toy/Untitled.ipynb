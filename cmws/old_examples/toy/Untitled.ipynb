{
 "cells": [
  {
   "cell_type": "code",
   "execution_count": 1,
   "metadata": {},
   "outputs": [],
   "source": [
    "import util\n",
    "import sweep\n",
    "import matplotlib.pyplot as plt\n",
    "import torch\n",
    "import losses\n",
    "import seaborn as sns"
   ]
  },
  {
   "cell_type": "code",
   "execution_count": 55,
   "metadata": {},
   "outputs": [],
   "source": [
    "def save_animation_frame(checkpoint_iteration):\n",
    "    sweep_argss = list(sweep.get_sweep_argss())\n",
    "    sweep_args = sweep_argss[0]\n",
    "    device = \"cpu\"\n",
    "    checkpoint_path = util.get_checkpoint_path(sweep_args, checkpoint_iteration)\n",
    "    (generative_model, guide, optimizer, memory, stats, run_args) = util.load_checkpoint(\n",
    "        checkpoint_path, device=device\n",
    "    )\n",
    "\n",
    "    path = f\"./save/animation/{checkpoint_iteration}.png\"\n",
    "\n",
    "    num_rows = 1 + len(sweep_argss)\n",
    "    num_cols = 4\n",
    "    fig, axss = plt.subplots(num_rows, num_cols, figsize=(num_cols * 6, num_rows * 4))\n",
    "\n",
    "    axss[0, 0].set_axis_off()\n",
    "    axss[0, -1].set_axis_off()\n",
    "\n",
    "    axss[0, 1].set_ylabel(\"Ground\\ntruth\", fontsize=36)\n",
    "    generative_model.plot_discrete(axss[0, 1])\n",
    "    axss[0, 1].set_title(\"$p(z_d)$\", fontsize=36)\n",
    "    generative_model.plot_continuous(axss[0, 2])\n",
    "    axss[0, 2].set_title(\"$p(z_c | z_d)$\", fontsize=36)\n",
    "\n",
    "    axss[1, 1].set_title(\"$q(z_d)$\", fontsize=36)\n",
    "    axss[1, 2].set_title(\"$q(z_c | z_d)$\", fontsize=36)\n",
    "\n",
    "    axss[3, 0].set_title(\"$q_{{memory}}(z_d)$\", fontsize=36)\n",
    "    axss[3, -1].set_title(\"$q_{{memory}}(z_c | z_d)$\", fontsize=36)\n",
    "\n",
    "    for i, sweep_args in enumerate(sweep_argss):\n",
    "        checkpoint_path = util.get_checkpoint_path(sweep_args, checkpoint_iteration)\n",
    "        (generative_model, guide, optimizer, memory, stats, run_args) = util.load_checkpoint(\n",
    "            checkpoint_path, device=device\n",
    "        )\n",
    "        if run_args.algorithm == \"mws\":\n",
    "            support_size = generative_model.support_size\n",
    "            axss[i + 1, 0].bar(torch.arange(support_size), util.empirical_discrete_probs(memory[0], support_size).cpu())\n",
    "\n",
    "            ax = axss[i + 1, -1]\n",
    "            for j in range(support_size):\n",
    "                if sum(memory[0] == j) > 0:\n",
    "                    sns.kdeplot(\n",
    "                        memory[1][memory[0] == j].cpu().detach().numpy(),\n",
    "                        ax=ax,\n",
    "                        color=f\"C{j}\",\n",
    "                    )\n",
    "            ax.set_xlim(-support_size, support_size)\n",
    "            axss[i + 1, 0].set_ylabel(run_args.algorithm.upper(), fontsize=36)\n",
    "        elif run_args.algorithm == \"cmws\":\n",
    "            support_size = generative_model.support_size\n",
    "            support = torch.arange(support_size, device=device)\n",
    "            # [memory_size]\n",
    "            memory_log_weight = losses.get_memory_log_weight(generative_model, guide, memory, run_args.num_particles)\n",
    "            memory_prob = torch.zeros(support_size, device=device)\n",
    "            memory_prob[memory] = util.exponentiate_and_normalize(memory_log_weight).detach()\n",
    "            axss[i + 1, 0].bar(support.cpu(), memory_prob.cpu())\n",
    "            axss[i + 1, -1].set_axis_off()\n",
    "            axss[i + 1, 0].set_ylabel(run_args.algorithm.upper(), fontsize=36)\n",
    "        else:\n",
    "            axss[i + 1, 1].set_ylabel(run_args.algorithm.upper(), fontsize=36)\n",
    "            axss[i + 1, 0].set_axis_off()\n",
    "            axss[i + 1, -1].set_axis_off()\n",
    "        guide.plot_discrete(axss[i + 1, 1])\n",
    "        guide.plot_continuous(axss[i + 1, 2])\n",
    "\n",
    "    fig.suptitle(f\"Iteration {checkpoint_iteration}\", fontsize=36)\n",
    "    util.save_fig(fig, path, tight_layout_kwargs={\"rect\": [0, 0.03, 1, 0.95]})"
   ]
  },
  {
   "cell_type": "code",
   "execution_count": 57,
   "metadata": {},
   "outputs": [
    {
     "name": "stdout",
     "output_type": "stream",
     "text": [
      "15:49:45 | /Users/tuananhle/Documents/research/projects/continuous_mws/util.py:95 | INFO: Saved to ./save/animation/0.png\n",
      "15:49:48 | /Users/tuananhle/Documents/research/projects/continuous_mws/util.py:95 | INFO: Saved to ./save/animation/1000.png\n",
      "15:49:51 | /Users/tuananhle/Documents/research/projects/continuous_mws/util.py:95 | INFO: Saved to ./save/animation/2000.png\n",
      "15:49:54 | /Users/tuananhle/Documents/research/projects/continuous_mws/util.py:95 | INFO: Saved to ./save/animation/3000.png\n",
      "15:49:57 | /Users/tuananhle/Documents/research/projects/continuous_mws/util.py:95 | INFO: Saved to ./save/animation/4000.png\n",
      "15:50:00 | /Users/tuananhle/Documents/research/projects/continuous_mws/util.py:95 | INFO: Saved to ./save/animation/5000.png\n",
      "15:50:04 | /Users/tuananhle/Documents/research/projects/continuous_mws/util.py:95 | INFO: Saved to ./save/animation/6000.png\n",
      "15:50:07 | /Users/tuananhle/Documents/research/projects/continuous_mws/util.py:95 | INFO: Saved to ./save/animation/7000.png\n",
      "15:50:10 | /Users/tuananhle/Documents/research/projects/continuous_mws/util.py:95 | INFO: Saved to ./save/animation/8000.png\n",
      "15:50:13 | /Users/tuananhle/Documents/research/projects/continuous_mws/util.py:95 | INFO: Saved to ./save/animation/9000.png\n",
      "15:50:17 | /Users/tuananhle/Documents/research/projects/continuous_mws/util.py:95 | INFO: Saved to ./save/animation/-1.png\n"
     ]
    }
   ],
   "source": [
    "for checkpoint_iteration in [0, 1000, 2000, 3000, 4000, 5000, 6000, 7000, 8000, 9000, -1]:\n",
    "    save_animation_frame(checkpoint_iteration)"
   ]
  },
  {
   "cell_type": "code",
   "execution_count": null,
   "metadata": {},
   "outputs": [],
   "source": []
  }
 ],
 "metadata": {
  "kernelspec": {
   "display_name": "Python 3",
   "language": "python",
   "name": "python3"
  },
  "language_info": {
   "codemirror_mode": {
    "name": "ipython",
    "version": 3
   },
   "file_extension": ".py",
   "mimetype": "text/x-python",
   "name": "python",
   "nbconvert_exporter": "python",
   "pygments_lexer": "ipython3",
   "version": "3.7.3"
  }
 },
 "nbformat": 4,
 "nbformat_minor": 2
}
